{
 "cells": [
  {
   "cell_type": "code",
   "execution_count": 3,
   "id": "c1a10eca",
   "metadata": {},
   "outputs": [],
   "source": [
    "import pyaudio\n",
    "import wave\n",
    "\n",
    "def record_audio(filname):\n",
    "    chunk = 1024  # Record in chunks of 1024 samples\n",
    "    sample_format = pyaudio.paInt16  # 16 bits per sample\n",
    "    channels = 2\n",
    "    fs = 44100  # Record at 44100 samples per second\n",
    "    seconds = 5\n",
    "\n",
    "    p = pyaudio.PyAudio()  # Create an interface to PortAudio\n",
    "\n",
    "    print('Recording')\n",
    "\n",
    "    stream = p.open(format=sample_format,\n",
    "                    channels=channels,\n",
    "                    rate=fs,\n",
    "                    frames_per_buffer=chunk,\n",
    "                    input=True)\n",
    "\n",
    "    frames = []  # Initialize array to store frames\n",
    "\n",
    "    # Store data in chunks for 3 seconds\n",
    "    for i in range(0, int(fs / chunk * seconds)):\n",
    "        data = stream.read(chunk)\n",
    "        frames.append(data)\n",
    "\n",
    "    # Stop and close the stream \n",
    "    stream.stop_stream()\n",
    "    stream.close()\n",
    "    # Terminate the PortAudio interface\n",
    "    p.terminate()\n",
    "\n",
    "    print('Finished recording')\n",
    "    \n",
    "    # Save the recorded data as a WAV file\n",
    "    wf = wave.open(filename, 'wb')\n",
    "    wf.setnchannels(channels)\n",
    "    wf.setsampwidth(p.get_sample_size(sample_format))\n",
    "    wf.setframerate(fs)\n",
    "    wf.writeframes(b''.join(frames))\n",
    "    wf.close()\n",
    "    print('Finsihed writing')"
   ]
  },
  {
   "cell_type": "code",
   "execution_count": 4,
   "id": "bbf8a420",
   "metadata": {},
   "outputs": [
    {
     "name": "stdout",
     "output_type": "stream",
     "text": [
      "Recording\n",
      "Finished recording\n",
      "Finsihed writing\n"
     ]
    }
   ],
   "source": [
    "record_audio()"
   ]
  },
  {
   "cell_type": "code",
   "execution_count": 7,
   "id": "7ab060dd",
   "metadata": {},
   "outputs": [],
   "source": [
    "import dropbox\n",
    "\n",
    "access_token = 'sl.BQgVU1-xbafXxnAFLXB9qXhzLnYsfKpe2AVJtqmokHu31IMBQAD9mzSOofPWbxfSSKbIraz0NYt74mtJQhVGpOyqnTz6HJhkWa56dkgf3lqenOaqtM5E5nOy4cR9Eux-l4zwPa6P7hXv'\n",
    "\n",
    "def send_audio():\n",
    "    file_from = \"C:\\\\Users\\\\pragya\\\\Downloads\\\\Iteration 3\\\\output.wav\"\n",
    "    file_to = '/Recordings/output2.wav'\n",
    "    dbx = dropbox.Dropbox(access_token)\n",
    "    with open(file_from, 'rb') as f:\n",
    "        dbx.files_upload(f.read(), file_to)\n",
    "    return \"Finished Uploading\""
   ]
  },
  {
   "cell_type": "code",
   "execution_count": 8,
   "id": "c1196893",
   "metadata": {},
   "outputs": [
    {
     "data": {
      "text/plain": [
       "'Finished Uploading'"
      ]
     },
     "execution_count": 8,
     "metadata": {},
     "output_type": "execute_result"
    }
   ],
   "source": [
    "send_audio()"
   ]
  }
 ],
 "metadata": {
  "kernelspec": {
   "display_name": "Python 3",
   "language": "python",
   "name": "python3"
  },
  "language_info": {
   "codemirror_mode": {
    "name": "ipython",
    "version": 3
   },
   "file_extension": ".py",
   "mimetype": "text/x-python",
   "name": "python",
   "nbconvert_exporter": "python",
   "pygments_lexer": "ipython3",
   "version": "3.7.4"
  }
 },
 "nbformat": 4,
 "nbformat_minor": 5
}
