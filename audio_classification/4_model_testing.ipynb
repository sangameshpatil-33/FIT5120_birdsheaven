{
 "cells": [
  {
   "cell_type": "code",
   "execution_count": 5,
   "id": "86d53d32",
   "metadata": {},
   "outputs": [
    {
     "name": "stdout",
     "output_type": "stream",
     "text": [
      "Model: \"sequential_1\"\n",
      "_________________________________________________________________\n",
      "Layer (type)                 Output Shape              Param #   \n",
      "=================================================================\n",
      "dense_1 (Dense)              (None, 100)               4100      \n",
      "_________________________________________________________________\n",
      "activation_1 (Activation)    (None, 100)               0         \n",
      "_________________________________________________________________\n",
      "dropout_1 (Dropout)          (None, 100)               0         \n",
      "_________________________________________________________________\n",
      "dense_2 (Dense)              (None, 200)               20200     \n",
      "_________________________________________________________________\n",
      "activation_2 (Activation)    (None, 200)               0         \n",
      "_________________________________________________________________\n",
      "dropout_2 (Dropout)          (None, 200)               0         \n",
      "_________________________________________________________________\n",
      "dense_3 (Dense)              (None, 100)               20100     \n",
      "_________________________________________________________________\n",
      "activation_3 (Activation)    (None, 100)               0         \n",
      "_________________________________________________________________\n",
      "dropout_3 (Dropout)          (None, 100)               0         \n",
      "_________________________________________________________________\n",
      "dense_4 (Dense)              (None, 3)                 303       \n",
      "_________________________________________________________________\n",
      "activation_4 (Activation)    (None, 3)                 0         \n",
      "=================================================================\n",
      "Total params: 44,703\n",
      "Trainable params: 44,703\n",
      "Non-trainable params: 0\n",
      "_________________________________________________________________\n"
     ]
    }
   ],
   "source": [
    "import tensorflow as tf\n",
    "import tensorflow.keras.models\n",
    "\n",
    "model = tf.keras.models.load_model('my_model')\n",
    "model.summary()"
   ]
  },
  {
   "cell_type": "code",
   "execution_count": 33,
   "id": "1636be55",
   "metadata": {},
   "outputs": [],
   "source": [
    "# test_file_path = \"C:\\\\Users\\\\pragya\\\\Downloads\\\\Iteration 2\\\\test\\\\brown_headed_honeyeater_test1.mp3\"\n",
    "test_file_path = \"C:\\\\Users\\\\pragya\\\\Downloads\\\\Iteration 2\\\\test\\\\new_holland_honeyeater_test_1.mp3\"\n",
    "# test_file_path = \"C:\\\\Users\\\\pragya\\\\Downloads\\\\Iteration 2\\\\test\\white_napped_honeyeater_test1.mp3\""
   ]
  },
  {
   "cell_type": "code",
   "execution_count": 34,
   "id": "0a18646b",
   "metadata": {},
   "outputs": [],
   "source": [
    "# REFERENCE: https://campus.datacamp.com/courses/spoken-language-processing-in-python/processing-text-transcribed-from-spoken-language?ex=2\n",
    "\n",
    "from pydub import AudioSegment\n",
    "\n",
    "# Create function to convert audio file to wav\n",
    "def convert_to_wav(filename):\n",
    "    # Takes an audio file of non .wav format and converts to .wav\n",
    "    # Import audio file\n",
    "    audio = AudioSegment.from_file(filename)\n",
    "  \n",
    "    # Create new filename\n",
    "    new_filename = filename.split(\".\")[0] + \".wav\"\n",
    "  \n",
    "    # Export file as .wav\n",
    "    audio.export(new_filename, format=\"wav\")\n",
    "    print(f\"Converting {filename} to {new_filename}...\")"
   ]
  },
  {
   "cell_type": "code",
   "execution_count": 35,
   "id": "62f575e8",
   "metadata": {},
   "outputs": [
    {
     "name": "stdout",
     "output_type": "stream",
     "text": [
      "Converting C:\\Users\\pragya\\Downloads\\Iteration 2\\test\\new_holland_honeyeater_test_1.mp3 to C:\\Users\\pragya\\Downloads\\Iteration 2\\test\\new_holland_honeyeater_test_1.wav...\n"
     ]
    }
   ],
   "source": [
    "convert_to_wav(test_file_path)"
   ]
  },
  {
   "cell_type": "code",
   "execution_count": 36,
   "id": "b0384127",
   "metadata": {},
   "outputs": [],
   "source": [
    "test_file = test_file_path.split(\".\")[0] + \".wav\""
   ]
  },
  {
   "cell_type": "code",
   "execution_count": 37,
   "id": "1370d5ee",
   "metadata": {},
   "outputs": [],
   "source": [
    "def features_extractor(test_file):\n",
    "    audio, sample_rate = librosa.load(test_file, res_type='kaiser_fast') \n",
    "    mfccs_features = librosa.feature.mfcc(y=audio, sr=sample_rate, n_mfcc=40)\n",
    "    mfccs_scaled_features = np.mean(mfccs_features.T,axis=0)\n",
    "    \n",
    "    return mfccs_scaled_features"
   ]
  },
  {
   "cell_type": "code",
   "execution_count": 38,
   "id": "e5534370",
   "metadata": {},
   "outputs": [],
   "source": [
    "import librosa\n",
    "import numpy as np\n",
    "testing_data = features_extractor(test_file)"
   ]
  },
  {
   "cell_type": "code",
   "execution_count": 39,
   "id": "8a0fb9a3",
   "metadata": {},
   "outputs": [
    {
     "data": {
      "text/plain": [
       "array([-3.6233182e+02,  5.0478073e+01,  3.3532548e+00,  3.3738529e+01,\n",
       "       -1.1022516e+01,  1.0301183e+01, -8.5201616e+00,  5.7711020e+00,\n",
       "       -1.0466086e+01,  1.7603453e+00, -1.5285303e+01,  7.4962611e+00,\n",
       "       -1.1153471e+01,  4.9760246e+00, -4.1222725e+00,  5.6499233e+00,\n",
       "       -2.1242912e+00,  6.8405395e+00, -3.8420289e+00,  7.1832323e+00,\n",
       "       -1.2321320e+00,  4.6872749e+00, -7.1480179e-01,  3.5895431e+00,\n",
       "       -2.7713811e-01,  1.7440814e+00, -9.1393542e-01,  8.4843963e-01,\n",
       "       -1.2797954e+00,  5.5030036e-01, -6.7693192e-01,  6.2939149e-01,\n",
       "        4.7959715e-01,  1.6932548e+00,  1.9187402e+00,  2.3968232e+00,\n",
       "        2.7271731e+00,  2.1067812e+00,  2.7962239e+00,  2.2376556e+00],\n",
       "      dtype=float32)"
      ]
     },
     "execution_count": 39,
     "metadata": {},
     "output_type": "execute_result"
    }
   ],
   "source": [
    "testing_data"
   ]
  },
  {
   "cell_type": "code",
   "execution_count": 40,
   "id": "6df55653",
   "metadata": {},
   "outputs": [
    {
     "name": "stdout",
     "output_type": "stream",
     "text": [
      "[-3.6233182e+02  5.0478073e+01  3.3532548e+00  3.3738529e+01\n",
      " -1.1022516e+01  1.0301183e+01 -8.5201616e+00  5.7711020e+00\n",
      " -1.0466086e+01  1.7603453e+00 -1.5285303e+01  7.4962611e+00\n",
      " -1.1153471e+01  4.9760246e+00 -4.1222725e+00  5.6499233e+00\n",
      " -2.1242912e+00  6.8405395e+00 -3.8420289e+00  7.1832323e+00\n",
      " -1.2321320e+00  4.6872749e+00 -7.1480179e-01  3.5895431e+00\n",
      " -2.7713811e-01  1.7440814e+00 -9.1393542e-01  8.4843963e-01\n",
      " -1.2797954e+00  5.5030036e-01 -6.7693192e-01  6.2939149e-01\n",
      "  4.7959715e-01  1.6932548e+00  1.9187402e+00  2.3968232e+00\n",
      "  2.7271731e+00  2.1067812e+00  2.7962239e+00  2.2376556e+00] \n",
      "\n",
      "[[-3.6233182e+02  5.0478073e+01  3.3532548e+00  3.3738529e+01\n",
      "  -1.1022516e+01  1.0301183e+01 -8.5201616e+00  5.7711020e+00\n",
      "  -1.0466086e+01  1.7603453e+00 -1.5285303e+01  7.4962611e+00\n",
      "  -1.1153471e+01  4.9760246e+00 -4.1222725e+00  5.6499233e+00\n",
      "  -2.1242912e+00  6.8405395e+00 -3.8420289e+00  7.1832323e+00\n",
      "  -1.2321320e+00  4.6872749e+00 -7.1480179e-01  3.5895431e+00\n",
      "  -2.7713811e-01  1.7440814e+00 -9.1393542e-01  8.4843963e-01\n",
      "  -1.2797954e+00  5.5030036e-01 -6.7693192e-01  6.2939149e-01\n",
      "   4.7959715e-01  1.6932548e+00  1.9187402e+00  2.3968232e+00\n",
      "   2.7271731e+00  2.1067812e+00  2.7962239e+00  2.2376556e+00]] \n",
      "\n",
      "(1, 40) \n",
      "\n",
      "[[0.24803473 0.40313634 0.34882894]] \n",
      "\n",
      "[1] \n",
      "\n"
     ]
    }
   ],
   "source": [
    "from sklearn.preprocessing import LabelEncoder\n",
    "\n",
    "filename = test_file\n",
    "audio, sample_rate = librosa.load(filename, res_type='kaiser_fast') \n",
    "mfccs_features = librosa.feature.mfcc(y=audio, sr=sample_rate, n_mfcc=40)\n",
    "mfccs_scaled_features = np.mean(mfccs_features.T,axis=0)\n",
    "\n",
    "print(mfccs_scaled_features, '\\n')\n",
    "mfccs_scaled_features=mfccs_scaled_features.reshape(1,-1)\n",
    "print(mfccs_scaled_features, '\\n')\n",
    "print(mfccs_scaled_features.shape, '\\n')\n",
    "predicted_label=model.predict(mfccs_scaled_features)\n",
    "print(predicted_label, '\\n')\n",
    "classes_x=np.argmax(predicted_label,axis=1)\n",
    "print(classes_x, '\\n')"
   ]
  },
  {
   "cell_type": "code",
   "execution_count": 41,
   "id": "837210c3",
   "metadata": {},
   "outputs": [
    {
     "name": "stdout",
     "output_type": "stream",
     "text": [
      "class: New Holland\n"
     ]
    }
   ],
   "source": [
    "if classes_x == [0]:\n",
    "    print('class: Brown Headed')\n",
    "elif classes_x == [1]:\n",
    "    print('class: New Holland')\n",
    "else:\n",
    "    print('class: White Napped')"
   ]
  },
  {
   "cell_type": "code",
   "execution_count": null,
   "id": "84327f8f",
   "metadata": {},
   "outputs": [],
   "source": []
  },
  {
   "cell_type": "code",
   "execution_count": null,
   "id": "08e513cf",
   "metadata": {},
   "outputs": [],
   "source": []
  },
  {
   "cell_type": "code",
   "execution_count": null,
   "id": "5ae1f7e8",
   "metadata": {},
   "outputs": [],
   "source": []
  },
  {
   "cell_type": "code",
   "execution_count": null,
   "id": "dd4edcd3",
   "metadata": {},
   "outputs": [],
   "source": []
  }
 ],
 "metadata": {
  "kernelspec": {
   "display_name": "Python 3",
   "language": "python",
   "name": "python3"
  },
  "language_info": {
   "codemirror_mode": {
    "name": "ipython",
    "version": 3
   },
   "file_extension": ".py",
   "mimetype": "text/x-python",
   "name": "python",
   "nbconvert_exporter": "python",
   "pygments_lexer": "ipython3",
   "version": "3.7.4"
  }
 },
 "nbformat": 4,
 "nbformat_minor": 5
}
