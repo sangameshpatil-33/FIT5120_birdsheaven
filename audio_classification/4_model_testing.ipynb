{
 "cells": [
  {
   "cell_type": "code",
   "execution_count": 2,
   "id": "8e5a9171",
   "metadata": {},
   "outputs": [],
   "source": [
    "import tensorflow as tf\n",
    "import tensorflow.keras.models\n",
    "import librosa\n",
    "import numpy as np\n",
    "from pydub import AudioSegment"
   ]
  },
  {
   "cell_type": "code",
   "execution_count": 3,
   "id": "b1530bc7",
   "metadata": {},
   "outputs": [
    {
     "name": "stdout",
     "output_type": "stream",
     "text": [
      "WARNING:tensorflow:From C:\\ProgramData\\Anaconda3\\lib\\site-packages\\tensorflow_core\\python\\ops\\resource_variable_ops.py:1630: calling BaseResourceVariable.__init__ (from tensorflow.python.ops.resource_variable_ops) with constraint is deprecated and will be removed in a future version.\n",
      "Instructions for updating:\n",
      "If using Keras pass *_constraint arguments to layers.\n",
      "Model: \"sequential_4\"\n",
      "_________________________________________________________________\n",
      "Layer (type)                 Output Shape              Param #   \n",
      "=================================================================\n",
      "dense_10 (Dense)             (None, 100)               4100      \n",
      "_________________________________________________________________\n",
      "activation_10 (Activation)   (None, 100)               0         \n",
      "_________________________________________________________________\n",
      "dropout_7 (Dropout)          (None, 100)               0         \n",
      "_________________________________________________________________\n",
      "dense_11 (Dense)             (None, 4)                 404       \n",
      "_________________________________________________________________\n",
      "activation_11 (Activation)   (None, 4)                 0         \n",
      "=================================================================\n",
      "Total params: 4,504\n",
      "Trainable params: 4,504\n",
      "Non-trainable params: 0\n",
      "_________________________________________________________________\n"
     ]
    }
   ],
   "source": [
    "model = tf.keras.models.load_model('my_model')\n",
    "model.summary()"
   ]
  },
  {
   "cell_type": "code",
   "execution_count": 16,
   "id": "7183b854",
   "metadata": {},
   "outputs": [],
   "source": [
    "# test_file_path = \"C:\\\\Users\\\\pragya\\\\Downloads\\\\Iteration 2\\\\test\\\\brown_headed_honeyeater_test1.mp3\"\n",
    "# test_file_path = \"C:\\\\Users\\\\pragya\\\\Downloads\\\\Iteration 2\\\\test\\\\new_holland_honeyeater_test_1.mp3\"\n",
    "test_file_path = \"C:\\\\Users\\\\pragya\\\\Downloads\\\\Iteration 2\\\\test\\white_napped_honeyeater_test1.mp3\""
   ]
  },
  {
   "cell_type": "code",
   "execution_count": 17,
   "id": "5a620d8c",
   "metadata": {},
   "outputs": [],
   "source": [
    "# REFERENCE: https://campus.datacamp.com/courses/spoken-language-processing-in-python/processing-text-transcribed-from-spoken-language?ex=2\n",
    "\n",
    "# Create function to convert audio file to wav\n",
    "def convert_to_wav(filename):\n",
    "    # Takes an audio file of non .wav format and converts to .wav\n",
    "    # Import audio file\n",
    "    audio = AudioSegment.from_file(filename)\n",
    "  \n",
    "    # Create new filename\n",
    "    new_filename = filename.split(\".\")[0] + \".wav\"\n",
    "  \n",
    "    # Export file as .wav\n",
    "    audio.export(new_filename, format=\"wav\")\n",
    "    print(f\"Converting {filename} to {new_filename}...\")"
   ]
  },
  {
   "cell_type": "code",
   "execution_count": 18,
   "id": "4fad05b2",
   "metadata": {},
   "outputs": [
    {
     "name": "stdout",
     "output_type": "stream",
     "text": [
      "Converting C:\\Users\\pragya\\Downloads\\Iteration 2\\test\\white_napped_honeyeater_test1.mp3 to C:\\Users\\pragya\\Downloads\\Iteration 2\\test\\white_napped_honeyeater_test1.wav...\n"
     ]
    }
   ],
   "source": [
    "convert_to_wav(test_file_path)"
   ]
  },
  {
   "cell_type": "code",
   "execution_count": 19,
   "id": "0940ac5d",
   "metadata": {},
   "outputs": [],
   "source": [
    "test_file = test_file_path.split(\".\")[0] + \".wav\""
   ]
  },
  {
   "cell_type": "code",
   "execution_count": 20,
   "id": "4868cc98",
   "metadata": {},
   "outputs": [
    {
     "name": "stdout",
     "output_type": "stream",
     "text": [
      "[-3.6806442e+02  5.3884384e+01 -4.3781075e+00  3.5945446e+01\n",
      " -1.9287621e+01  3.3587234e+01 -1.6125162e+01  2.7009373e+01\n",
      " -1.2150010e+01  1.6964489e+01 -9.0260010e+00  8.0657787e+00\n",
      " -1.2146749e+00  9.7773333e+00 -6.6141977e+00  5.7240701e+00\n",
      " -6.1301064e+00  2.5386643e+00 -3.5703371e+00  5.8553777e+00\n",
      " -1.1336735e+01  3.6007881e+00 -7.5173421e+00 -2.3712803e-02\n",
      " -3.7527270e+00  1.4763125e+00 -6.3452258e+00 -4.9253135e+00\n",
      " -8.7830381e+00 -2.3058832e+00  1.5025938e-01  3.8383958e-01\n",
      " -3.0631437e+00  1.4270380e+00 -8.0658984e-01 -8.6200380e-01\n",
      " -3.2403619e+00 -2.8385556e+00 -8.7518674e-01 -2.9988208e+00] \n",
      "\n",
      "[[-3.6806442e+02  5.3884384e+01 -4.3781075e+00  3.5945446e+01\n",
      "  -1.9287621e+01  3.3587234e+01 -1.6125162e+01  2.7009373e+01\n",
      "  -1.2150010e+01  1.6964489e+01 -9.0260010e+00  8.0657787e+00\n",
      "  -1.2146749e+00  9.7773333e+00 -6.6141977e+00  5.7240701e+00\n",
      "  -6.1301064e+00  2.5386643e+00 -3.5703371e+00  5.8553777e+00\n",
      "  -1.1336735e+01  3.6007881e+00 -7.5173421e+00 -2.3712803e-02\n",
      "  -3.7527270e+00  1.4763125e+00 -6.3452258e+00 -4.9253135e+00\n",
      "  -8.7830381e+00 -2.3058832e+00  1.5025938e-01  3.8383958e-01\n",
      "  -3.0631437e+00  1.4270380e+00 -8.0658984e-01 -8.6200380e-01\n",
      "  -3.2403619e+00 -2.8385556e+00 -8.7518674e-01 -2.9988208e+00]] \n",
      "\n",
      "(1, 40) \n",
      "\n",
      "[[0.01341742 0.7111175  0.10250742 0.17295769]] \n",
      "\n",
      "[1] \n",
      "\n"
     ]
    }
   ],
   "source": [
    "filename = test_file\n",
    "audio, sample_rate = librosa.load(filename, res_type='kaiser_fast') \n",
    "mfccs_features = librosa.feature.mfcc(y=audio, sr=sample_rate, n_mfcc=40)\n",
    "mfccs_scaled_features = np.mean(mfccs_features.T,axis=0)\n",
    "\n",
    "print(mfccs_scaled_features, '\\n')\n",
    "mfccs_scaled_features=mfccs_scaled_features.reshape(1,-1)\n",
    "print(mfccs_scaled_features, '\\n')\n",
    "print(mfccs_scaled_features.shape, '\\n')\n",
    "predicted_label=model.predict(mfccs_scaled_features)\n",
    "print(predicted_label, '\\n')\n",
    "classes_x=np.argmax(predicted_label,axis=1)\n",
    "print(classes_x, '\\n')"
   ]
  },
  {
   "cell_type": "code",
   "execution_count": 21,
   "id": "b975355f",
   "metadata": {},
   "outputs": [
    {
     "name": "stdout",
     "output_type": "stream",
     "text": [
      "class: New Holland\n"
     ]
    }
   ],
   "source": [
    "if classes_x == [0]:\n",
    "    print('class: Brown Headed')\n",
    "elif classes_x == [1]:\n",
    "    print('class: New Holland')\n",
    "elif classes_x == [2]:\n",
    "    print('class: Not Specified')\n",
    "else:\n",
    "    print('class: White Napped')"
   ]
  },
  {
   "cell_type": "code",
   "execution_count": null,
   "id": "7c299b3d",
   "metadata": {},
   "outputs": [],
   "source": []
  },
  {
   "cell_type": "code",
   "execution_count": null,
   "id": "ef80b330",
   "metadata": {},
   "outputs": [],
   "source": []
  },
  {
   "cell_type": "code",
   "execution_count": null,
   "id": "6ea8b804",
   "metadata": {},
   "outputs": [],
   "source": []
  },
  {
   "cell_type": "code",
   "execution_count": null,
   "id": "6db1c9b1",
   "metadata": {},
   "outputs": [],
   "source": []
  }
 ],
 "metadata": {
  "kernelspec": {
   "display_name": "Python 3",
   "language": "python",
   "name": "python3"
  },
  "language_info": {
   "codemirror_mode": {
    "name": "ipython",
    "version": 3
   },
   "file_extension": ".py",
   "mimetype": "text/x-python",
   "name": "python",
   "nbconvert_exporter": "python",
   "pygments_lexer": "ipython3",
   "version": "3.7.4"
  }
 },
 "nbformat": 4,
 "nbformat_minor": 5
}
