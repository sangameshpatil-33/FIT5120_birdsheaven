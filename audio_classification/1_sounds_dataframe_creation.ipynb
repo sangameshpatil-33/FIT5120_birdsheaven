{
 "cells": [
  {
   "cell_type": "markdown",
   "id": "9317007d",
   "metadata": {},
   "source": [
    "## READ FILENAMES"
   ]
  },
  {
   "cell_type": "code",
   "execution_count": 22,
   "id": "df67ac94",
   "metadata": {},
   "outputs": [],
   "source": [
    "# import OS module\n",
    "import os\n",
    "import pandas as pd\n",
    " \n",
    "# Get the list of all files and directories\n",
    "# path1 = \"C:\\\\Users\\\\pragya\\\\Downloads\\\\Iteration 2\\\\Brown-headed Honeyeaters\\\\sounds\"\n",
    "# brown_headed_filenames = os.listdir(path1)\n",
    "\n",
    "# # Get the list of all files and directories\n",
    "# path2 = \"C:\\\\Users\\\\pragya\\\\Downloads\\\\Iteration 2\\\\New holland honeyeater\\\\sounds\"\n",
    "# new_holland_filenames = os.listdir(path2)\n",
    "\n",
    "# # Get the list of all files and directories\n",
    "# path3 = \"C:\\\\Users\\\\pragya\\\\Downloads\\\\Iteration 2\\\\white napped honeyeater\\\\sounds\"\n",
    "# white_napped_filenames = os.listdir(path3)\n",
    "\n",
    "# # Get the list of all files and directories\n",
    "# path4 = \"C:\\\\Users\\\\pragya\\\\Downloads\\\\Iteration 2\\\\Random Honeyeaters\"\n",
    "# random_filenames = os.listdir(path4)\n",
    "\n",
    "brown_headed_filenames = glob.glob('C:\\\\Users\\\\pragya\\\\Downloads\\\\Iteration 2\\\\Brown-headed Honeyeaters\\\\sounds\\\\*.mp3')\n",
    "new_holland_filenames = glob.glob('C:\\\\Users\\\\pragya\\\\Downloads\\\\Iteration 2\\\\New holland honeyeater\\\\sounds\\\\*.mp3')\n",
    "white_napped_filenames = glob.glob('C:\\\\Users\\\\pragya\\\\Downloads\\\\Iteration 2\\\\white napped honeyeater\\\\sounds*.mp3')\n",
    "random_filenames= glob.glob('C:\\\\Users\\\\pragya\\\\Downloads\\\\Iteration 2\\\\Random Honeyeaters\\\\*.mp3')"
   ]
  },
  {
   "cell_type": "code",
   "execution_count": 23,
   "id": "39a0860f",
   "metadata": {},
   "outputs": [],
   "source": [
    "# brown_headed_files = [i.split(\".\")[0].split(\" \")[0] + \".\" + i.split(\".\")[1] for i in dir_list]"
   ]
  },
  {
   "cell_type": "markdown",
   "id": "c03398c1",
   "metadata": {},
   "source": [
    "_______________________________________________________________________________________________________________________________"
   ]
  },
  {
   "cell_type": "markdown",
   "id": "acad4228",
   "metadata": {},
   "source": [
    "## CONVERT AUDIO FILE TO WAV FORMAT"
   ]
  },
  {
   "cell_type": "code",
   "execution_count": 24,
   "id": "c6c11b0c",
   "metadata": {},
   "outputs": [],
   "source": [
    "# REFERENCE: https://campus.datacamp.com/courses/spoken-language-processing-in-python/processing-text-transcribed-from-spoken-language?ex=2\n",
    "\n",
    "from pydub import AudioSegment\n",
    "\n",
    "# Create function to convert audio file to wav\n",
    "def convert_to_wav(filename):\n",
    "    # Takes an audio file of non .wav format and converts to .wav\n",
    "    # Import audio file\n",
    "    audio = AudioSegment.from_file(filename)\n",
    "  \n",
    "    # Create new filename\n",
    "    new_filename = filename.split(\".\")[0] + \".wav\"\n",
    "  \n",
    "    # Export file as .wav\n",
    "    audio.export(new_filename, format=\"wav\")\n",
    "    print(f\"Converting {filename} to {new_filename}...\")"
   ]
  },
  {
   "cell_type": "code",
   "execution_count": 25,
   "id": "a65d8af0",
   "metadata": {},
   "outputs": [
    {
     "name": "stdout",
     "output_type": "stream",
     "text": [
      "Converting C:\\Users\\pragya\\Downloads\\Iteration 2\\Brown-headed Honeyeaters\\sounds\\XC104883 - Brown-headed Honeyeater - Melithreptus brevirostris brevirostris.mp3 to C:\\Users\\pragya\\Downloads\\Iteration 2\\Brown-headed Honeyeaters\\sounds\\XC104883 - Brown-headed Honeyeater - Melithreptus brevirostris brevirostris.wav...\n",
      "Converting C:\\Users\\pragya\\Downloads\\Iteration 2\\Brown-headed Honeyeaters\\sounds\\XC104884 - Brown-headed Honeyeater - Melithreptus brevirostris brevirostris.mp3 to C:\\Users\\pragya\\Downloads\\Iteration 2\\Brown-headed Honeyeaters\\sounds\\XC104884 - Brown-headed Honeyeater - Melithreptus brevirostris brevirostris.wav...\n",
      "Converting C:\\Users\\pragya\\Downloads\\Iteration 2\\Brown-headed Honeyeaters\\sounds\\XC104885 - Brown-headed Honeyeater - Melithreptus brevirostris brevirostris.mp3 to C:\\Users\\pragya\\Downloads\\Iteration 2\\Brown-headed Honeyeaters\\sounds\\XC104885 - Brown-headed Honeyeater - Melithreptus brevirostris brevirostris.wav...\n",
      "Converting C:\\Users\\pragya\\Downloads\\Iteration 2\\Brown-headed Honeyeaters\\sounds\\XC188237 - Brown-headed Honeyeater - Melithreptus brevirostris brevirostris.mp3 to C:\\Users\\pragya\\Downloads\\Iteration 2\\Brown-headed Honeyeaters\\sounds\\XC188237 - Brown-headed Honeyeater - Melithreptus brevirostris brevirostris.wav...\n",
      "Converting C:\\Users\\pragya\\Downloads\\Iteration 2\\Brown-headed Honeyeaters\\sounds\\XC197377 - Brown-headed Honeyeater - Melithreptus brevirostris.mp3 to C:\\Users\\pragya\\Downloads\\Iteration 2\\Brown-headed Honeyeaters\\sounds\\XC197377 - Brown-headed Honeyeater - Melithreptus brevirostris.wav...\n",
      "Converting C:\\Users\\pragya\\Downloads\\Iteration 2\\Brown-headed Honeyeaters\\sounds\\XC197588 - Brown-headed Honeyeater - Melithreptus brevirostris.mp3 to C:\\Users\\pragya\\Downloads\\Iteration 2\\Brown-headed Honeyeaters\\sounds\\XC197588 - Brown-headed Honeyeater - Melithreptus brevirostris.wav...\n",
      "Converting C:\\Users\\pragya\\Downloads\\Iteration 2\\Brown-headed Honeyeaters\\sounds\\XC200315 - Brown-headed Honeyeater - Melithreptus brevirostris.mp3 to C:\\Users\\pragya\\Downloads\\Iteration 2\\Brown-headed Honeyeaters\\sounds\\XC200315 - Brown-headed Honeyeater - Melithreptus brevirostris.wav...\n",
      "Converting C:\\Users\\pragya\\Downloads\\Iteration 2\\Brown-headed Honeyeaters\\sounds\\XC203154 - Brown-headed Honeyeater - Melithreptus brevirostris pallidiceps.mp3 to C:\\Users\\pragya\\Downloads\\Iteration 2\\Brown-headed Honeyeaters\\sounds\\XC203154 - Brown-headed Honeyeater - Melithreptus brevirostris pallidiceps.wav...\n",
      "Converting C:\\Users\\pragya\\Downloads\\Iteration 2\\Brown-headed Honeyeaters\\sounds\\XC286940 - Brown-headed Honeyeater - Melithreptus brevirostris.mp3 to C:\\Users\\pragya\\Downloads\\Iteration 2\\Brown-headed Honeyeaters\\sounds\\XC286940 - Brown-headed Honeyeater - Melithreptus brevirostris.wav...\n",
      "Converting C:\\Users\\pragya\\Downloads\\Iteration 2\\Brown-headed Honeyeaters\\sounds\\XC328849 - Brown-headed Honeyeater - Melithreptus brevirostris.mp3 to C:\\Users\\pragya\\Downloads\\Iteration 2\\Brown-headed Honeyeaters\\sounds\\XC328849 - Brown-headed Honeyeater - Melithreptus brevirostris.wav...\n",
      "Converting C:\\Users\\pragya\\Downloads\\Iteration 2\\Brown-headed Honeyeaters\\sounds\\XC334423 - Brown-headed Honeyeater - Melithreptus brevirostris.mp3 to C:\\Users\\pragya\\Downloads\\Iteration 2\\Brown-headed Honeyeaters\\sounds\\XC334423 - Brown-headed Honeyeater - Melithreptus brevirostris.wav...\n",
      "Converting C:\\Users\\pragya\\Downloads\\Iteration 2\\Brown-headed Honeyeaters\\sounds\\XC334463 - Brown-headed Honeyeater - Melithreptus brevirostris.mp3 to C:\\Users\\pragya\\Downloads\\Iteration 2\\Brown-headed Honeyeaters\\sounds\\XC334463 - Brown-headed Honeyeater - Melithreptus brevirostris.wav...\n",
      "Converting C:\\Users\\pragya\\Downloads\\Iteration 2\\Brown-headed Honeyeaters\\sounds\\XC383185 - Brown-headed Honeyeater - Melithreptus brevirostris leucogenys.mp3 to C:\\Users\\pragya\\Downloads\\Iteration 2\\Brown-headed Honeyeaters\\sounds\\XC383185 - Brown-headed Honeyeater - Melithreptus brevirostris leucogenys.wav...\n",
      "Converting C:\\Users\\pragya\\Downloads\\Iteration 2\\Brown-headed Honeyeaters\\sounds\\XC393384 - Brown-headed Honeyeater - Melithreptus brevirostris.mp3 to C:\\Users\\pragya\\Downloads\\Iteration 2\\Brown-headed Honeyeaters\\sounds\\XC393384 - Brown-headed Honeyeater - Melithreptus brevirostris.wav...\n",
      "Converting C:\\Users\\pragya\\Downloads\\Iteration 2\\Brown-headed Honeyeaters\\sounds\\XC407727 - Brown-headed Honeyeater - Melithreptus brevirostris pallidiceps_.mp3 to C:\\Users\\pragya\\Downloads\\Iteration 2\\Brown-headed Honeyeaters\\sounds\\XC407727 - Brown-headed Honeyeater - Melithreptus brevirostris pallidiceps_.wav...\n",
      "Converting C:\\Users\\pragya\\Downloads\\Iteration 2\\Brown-headed Honeyeaters\\sounds\\XC407728 - Brown-headed Honeyeater - Melithreptus brevirostris pallidiceps_.mp3 to C:\\Users\\pragya\\Downloads\\Iteration 2\\Brown-headed Honeyeaters\\sounds\\XC407728 - Brown-headed Honeyeater - Melithreptus brevirostris pallidiceps_.wav...\n",
      "Converting C:\\Users\\pragya\\Downloads\\Iteration 2\\Brown-headed Honeyeaters\\sounds\\XC592604 - Brown-headed Honeyeater - Melithreptus brevirostris.mp3 to C:\\Users\\pragya\\Downloads\\Iteration 2\\Brown-headed Honeyeaters\\sounds\\XC592604 - Brown-headed Honeyeater - Melithreptus brevirostris.wav...\n",
      "Converting C:\\Users\\pragya\\Downloads\\Iteration 2\\Brown-headed Honeyeaters\\sounds\\XC729287 - Brown-headed Honeyeater - Melithreptus brevirostris.mp3 to C:\\Users\\pragya\\Downloads\\Iteration 2\\Brown-headed Honeyeaters\\sounds\\XC729287 - Brown-headed Honeyeater - Melithreptus brevirostris.wav...\n"
     ]
    }
   ],
   "source": [
    "for i in brown_headed_filenames:\n",
    "    # Test the function\n",
    "    convert_to_wav(i)"
   ]
  },
  {
   "cell_type": "code",
   "execution_count": 26,
   "id": "eedf8ad5",
   "metadata": {},
   "outputs": [
    {
     "name": "stdout",
     "output_type": "stream",
     "text": [
      "Converting C:\\Users\\pragya\\Downloads\\Iteration 2\\New holland honeyeater\\sounds\\328859.mp3 to C:\\Users\\pragya\\Downloads\\Iteration 2\\New holland honeyeater\\sounds\\328859.wav...\n",
      "Converting C:\\Users\\pragya\\Downloads\\Iteration 2\\New holland honeyeater\\sounds\\354735.mp3 to C:\\Users\\pragya\\Downloads\\Iteration 2\\New holland honeyeater\\sounds\\354735.wav...\n",
      "Converting C:\\Users\\pragya\\Downloads\\Iteration 2\\New holland honeyeater\\sounds\\370620.mp3 to C:\\Users\\pragya\\Downloads\\Iteration 2\\New holland honeyeater\\sounds\\370620.wav...\n",
      "Converting C:\\Users\\pragya\\Downloads\\Iteration 2\\New holland honeyeater\\sounds\\XC104917 - New Holland Honeyeater - Phylidonyris novaehollandiae novaehollandiae.mp3 to C:\\Users\\pragya\\Downloads\\Iteration 2\\New holland honeyeater\\sounds\\XC104917 - New Holland Honeyeater - Phylidonyris novaehollandiae novaehollandiae.wav...\n",
      "Converting C:\\Users\\pragya\\Downloads\\Iteration 2\\New holland honeyeater\\sounds\\XC104918 - New Holland Honeyeater - Phylidonyris novaehollandiae novaehollandiae.mp3 to C:\\Users\\pragya\\Downloads\\Iteration 2\\New holland honeyeater\\sounds\\XC104918 - New Holland Honeyeater - Phylidonyris novaehollandiae novaehollandiae.wav...\n",
      "Converting C:\\Users\\pragya\\Downloads\\Iteration 2\\New holland honeyeater\\sounds\\XC140204 - New Holland Honeyeater - Phylidonyris novaehollandiae.mp3 to C:\\Users\\pragya\\Downloads\\Iteration 2\\New holland honeyeater\\sounds\\XC140204 - New Holland Honeyeater - Phylidonyris novaehollandiae.wav...\n",
      "Converting C:\\Users\\pragya\\Downloads\\Iteration 2\\New holland honeyeater\\sounds\\XC146651 - New Holland Honeyeater - Phylidonyris novaehollandiae.mp3 to C:\\Users\\pragya\\Downloads\\Iteration 2\\New holland honeyeater\\sounds\\XC146651 - New Holland Honeyeater - Phylidonyris novaehollandiae.wav...\n",
      "Converting C:\\Users\\pragya\\Downloads\\Iteration 2\\New holland honeyeater\\sounds\\XC171959 - New Holland Honeyeater - Phylidonyris novaehollandiae.mp3 to C:\\Users\\pragya\\Downloads\\Iteration 2\\New holland honeyeater\\sounds\\XC171959 - New Holland Honeyeater - Phylidonyris novaehollandiae.wav...\n",
      "Converting C:\\Users\\pragya\\Downloads\\Iteration 2\\New holland honeyeater\\sounds\\XC171960 - New Holland Honeyeater - Phylidonyris novaehollandiae.mp3 to C:\\Users\\pragya\\Downloads\\Iteration 2\\New holland honeyeater\\sounds\\XC171960 - New Holland Honeyeater - Phylidonyris novaehollandiae.wav...\n",
      "Converting C:\\Users\\pragya\\Downloads\\Iteration 2\\New holland honeyeater\\sounds\\XC172248 - New Holland Honeyeater - Phylidonyris novaehollandiae.mp3 to C:\\Users\\pragya\\Downloads\\Iteration 2\\New holland honeyeater\\sounds\\XC172248 - New Holland Honeyeater - Phylidonyris novaehollandiae.wav...\n",
      "Converting C:\\Users\\pragya\\Downloads\\Iteration 2\\New holland honeyeater\\sounds\\XC172248-new-holland-mt-wilson-1.mp3 to C:\\Users\\pragya\\Downloads\\Iteration 2\\New holland honeyeater\\sounds\\XC172248-new-holland-mt-wilson-1.wav...\n",
      "Converting C:\\Users\\pragya\\Downloads\\Iteration 2\\New holland honeyeater\\sounds\\XC186225 - New Holland Honeyeater - Phylidonyris novaehollandiae novaehollandiae.mp3 to C:\\Users\\pragya\\Downloads\\Iteration 2\\New holland honeyeater\\sounds\\XC186225 - New Holland Honeyeater - Phylidonyris novaehollandiae novaehollandiae.wav...\n",
      "Converting C:\\Users\\pragya\\Downloads\\Iteration 2\\New holland honeyeater\\sounds\\XC204469 - New Holland Honeyeater - Phylidonyris novaehollandiae.mp3 to C:\\Users\\pragya\\Downloads\\Iteration 2\\New holland honeyeater\\sounds\\XC204469 - New Holland Honeyeater - Phylidonyris novaehollandiae.wav...\n",
      "Converting C:\\Users\\pragya\\Downloads\\Iteration 2\\New holland honeyeater\\sounds\\XC204469-new-holland-heater-tas.mp3 to C:\\Users\\pragya\\Downloads\\Iteration 2\\New holland honeyeater\\sounds\\XC204469-new-holland-heater-tas.wav...\n",
      "Converting C:\\Users\\pragya\\Downloads\\Iteration 2\\New holland honeyeater\\sounds\\XC241027 - New Holland Honeyeater - Phylidonyris novaehollandiae.mp3 to C:\\Users\\pragya\\Downloads\\Iteration 2\\New holland honeyeater\\sounds\\XC241027 - New Holland Honeyeater - Phylidonyris novaehollandiae.wav...\n",
      "Converting C:\\Users\\pragya\\Downloads\\Iteration 2\\New holland honeyeater\\sounds\\XC328854 - New Holland Honeyeater - Phylidonyris novaehollandiae.mp3 to C:\\Users\\pragya\\Downloads\\Iteration 2\\New holland honeyeater\\sounds\\XC328854 - New Holland Honeyeater - Phylidonyris novaehollandiae.wav...\n",
      "Converting C:\\Users\\pragya\\Downloads\\Iteration 2\\New holland honeyeater\\sounds\\XC328854-New Holland Honeyeater2016-1-11-2.mp3 to C:\\Users\\pragya\\Downloads\\Iteration 2\\New holland honeyeater\\sounds\\XC328854-New Holland Honeyeater2016-1-11-2.wav...\n",
      "Converting C:\\Users\\pragya\\Downloads\\Iteration 2\\New holland honeyeater\\sounds\\XC328855 - New Holland Honeyeater - Phylidonyris novaehollandiae.mp3 to C:\\Users\\pragya\\Downloads\\Iteration 2\\New holland honeyeater\\sounds\\XC328855 - New Holland Honeyeater - Phylidonyris novaehollandiae.wav...\n",
      "Converting C:\\Users\\pragya\\Downloads\\Iteration 2\\New holland honeyeater\\sounds\\XC328855-New Holland Honeyeater2016-1-11-3.mp3 to C:\\Users\\pragya\\Downloads\\Iteration 2\\New holland honeyeater\\sounds\\XC328855-New Holland Honeyeater2016-1-11-3.wav...\n",
      "Converting C:\\Users\\pragya\\Downloads\\Iteration 2\\New holland honeyeater\\sounds\\XC328856 - New Holland Honeyeater - Phylidonyris novaehollandiae.mp3 to C:\\Users\\pragya\\Downloads\\Iteration 2\\New holland honeyeater\\sounds\\XC328856 - New Holland Honeyeater - Phylidonyris novaehollandiae.wav...\n",
      "Converting C:\\Users\\pragya\\Downloads\\Iteration 2\\New holland honeyeater\\sounds\\XC328856-New Holland Honeyeater2016-1-11-4.mp3 to C:\\Users\\pragya\\Downloads\\Iteration 2\\New holland honeyeater\\sounds\\XC328856-New Holland Honeyeater2016-1-11-4.wav...\n",
      "Converting C:\\Users\\pragya\\Downloads\\Iteration 2\\New holland honeyeater\\sounds\\XC328857 - New Holland Honeyeater - Phylidonyris novaehollandiae.mp3 to C:\\Users\\pragya\\Downloads\\Iteration 2\\New holland honeyeater\\sounds\\XC328857 - New Holland Honeyeater - Phylidonyris novaehollandiae.wav...\n",
      "Converting C:\\Users\\pragya\\Downloads\\Iteration 2\\New holland honeyeater\\sounds\\XC328857-New Holland Honeyeater2016-1-11-5.mp3 to C:\\Users\\pragya\\Downloads\\Iteration 2\\New holland honeyeater\\sounds\\XC328857-New Holland Honeyeater2016-1-11-5.wav...\n",
      "Converting C:\\Users\\pragya\\Downloads\\Iteration 2\\New holland honeyeater\\sounds\\XC328858 - New Holland Honeyeater - Phylidonyris novaehollandiae.mp3 to C:\\Users\\pragya\\Downloads\\Iteration 2\\New holland honeyeater\\sounds\\XC328858 - New Holland Honeyeater - Phylidonyris novaehollandiae.wav...\n",
      "Converting C:\\Users\\pragya\\Downloads\\Iteration 2\\New holland honeyeater\\sounds\\XC328858-New Holland Honeyeater2016-1-19-1.mp3 to C:\\Users\\pragya\\Downloads\\Iteration 2\\New holland honeyeater\\sounds\\XC328858-New Holland Honeyeater2016-1-19-1.wav...\n",
      "Converting C:\\Users\\pragya\\Downloads\\Iteration 2\\New holland honeyeater\\sounds\\XC328859 - New Holland Honeyeater - Phylidonyris novaehollandiae.mp3 to C:\\Users\\pragya\\Downloads\\Iteration 2\\New holland honeyeater\\sounds\\XC328859 - New Holland Honeyeater - Phylidonyris novaehollandiae.wav...\n",
      "Converting C:\\Users\\pragya\\Downloads\\Iteration 2\\New holland honeyeater\\sounds\\XC354735 - New Holland Honeyeater - Phylidonyris novaehollandiae.mp3 to C:\\Users\\pragya\\Downloads\\Iteration 2\\New holland honeyeater\\sounds\\XC354735 - New Holland Honeyeater - Phylidonyris novaehollandiae.wav...\n",
      "Converting C:\\Users\\pragya\\Downloads\\Iteration 2\\New holland honeyeater\\sounds\\XC362977 - New Holland Honeyeater - Phylidonyris novaehollandiae.mp3 to C:\\Users\\pragya\\Downloads\\Iteration 2\\New holland honeyeater\\sounds\\XC362977 - New Holland Honeyeater - Phylidonyris novaehollandiae.wav...\n",
      "Converting C:\\Users\\pragya\\Downloads\\Iteration 2\\New holland honeyeater\\sounds\\XC370620 - New Holland Honeyeater - Phylidonyris novaehollandiae.mp3 to C:\\Users\\pragya\\Downloads\\Iteration 2\\New holland honeyeater\\sounds\\XC370620 - New Holland Honeyeater - Phylidonyris novaehollandiae.wav...\n",
      "Converting C:\\Users\\pragya\\Downloads\\Iteration 2\\New holland honeyeater\\sounds\\XC380193 - New Holland Honeyeater - Phylidonyris novaehollandiae.mp3 to C:\\Users\\pragya\\Downloads\\Iteration 2\\New holland honeyeater\\sounds\\XC380193 - New Holland Honeyeater - Phylidonyris novaehollandiae.wav...\n",
      "Converting C:\\Users\\pragya\\Downloads\\Iteration 2\\New holland honeyeater\\sounds\\XC382605 - New Holland Honeyeater - Phylidonyris novaehollandiae longirostris.mp3 to C:\\Users\\pragya\\Downloads\\Iteration 2\\New holland honeyeater\\sounds\\XC382605 - New Holland Honeyeater - Phylidonyris novaehollandiae longirostris.wav...\n",
      "Converting C:\\Users\\pragya\\Downloads\\Iteration 2\\New holland honeyeater\\sounds\\XC382676 - New Holland Honeyeater - Phylidonyris novaehollandiae longirostris.mp3 to C:\\Users\\pragya\\Downloads\\Iteration 2\\New holland honeyeater\\sounds\\XC382676 - New Holland Honeyeater - Phylidonyris novaehollandiae longirostris.wav...\n"
     ]
    },
    {
     "name": "stdout",
     "output_type": "stream",
     "text": [
      "Converting C:\\Users\\pragya\\Downloads\\Iteration 2\\New holland honeyeater\\sounds\\XC382703 - New Holland Honeyeater - Phylidonyris novaehollandiae longirostris.mp3 to C:\\Users\\pragya\\Downloads\\Iteration 2\\New holland honeyeater\\sounds\\XC382703 - New Holland Honeyeater - Phylidonyris novaehollandiae longirostris.wav...\n",
      "Converting C:\\Users\\pragya\\Downloads\\Iteration 2\\New holland honeyeater\\sounds\\XC382704 - New Holland Honeyeater - Phylidonyris novaehollandiae longirostris.mp3 to C:\\Users\\pragya\\Downloads\\Iteration 2\\New holland honeyeater\\sounds\\XC382704 - New Holland Honeyeater - Phylidonyris novaehollandiae longirostris.wav...\n",
      "Converting C:\\Users\\pragya\\Downloads\\Iteration 2\\New holland honeyeater\\sounds\\XC382705 - New Holland Honeyeater - Phylidonyris novaehollandiae longirostris.mp3 to C:\\Users\\pragya\\Downloads\\Iteration 2\\New holland honeyeater\\sounds\\XC382705 - New Holland Honeyeater - Phylidonyris novaehollandiae longirostris.wav...\n",
      "Converting C:\\Users\\pragya\\Downloads\\Iteration 2\\New holland honeyeater\\sounds\\XC40645 - New Holland Honeyeater - Phylidonyris novaehollandiae longirostris.mp3 to C:\\Users\\pragya\\Downloads\\Iteration 2\\New holland honeyeater\\sounds\\XC40645 - New Holland Honeyeater - Phylidonyris novaehollandiae longirostris.wav...\n",
      "Converting C:\\Users\\pragya\\Downloads\\Iteration 2\\New holland honeyeater\\sounds\\XC40686 - New Holland Honeyeater - Phylidonyris novaehollandiae longirostris.mp3 to C:\\Users\\pragya\\Downloads\\Iteration 2\\New holland honeyeater\\sounds\\XC40686 - New Holland Honeyeater - Phylidonyris novaehollandiae longirostris.wav...\n",
      "Converting C:\\Users\\pragya\\Downloads\\Iteration 2\\New holland honeyeater\\sounds\\XC40859 - New Holland Honeyeater - Phylidonyris novaehollandiae canescens.mp3 to C:\\Users\\pragya\\Downloads\\Iteration 2\\New holland honeyeater\\sounds\\XC40859 - New Holland Honeyeater - Phylidonyris novaehollandiae canescens.wav...\n",
      "Converting C:\\Users\\pragya\\Downloads\\Iteration 2\\New holland honeyeater\\sounds\\XC411590 - New Holland Honeyeater - Phylidonyris novaehollandiae.mp3 to C:\\Users\\pragya\\Downloads\\Iteration 2\\New holland honeyeater\\sounds\\XC411590 - New Holland Honeyeater - Phylidonyris novaehollandiae.wav...\n",
      "Converting C:\\Users\\pragya\\Downloads\\Iteration 2\\New holland honeyeater\\sounds\\XC501234 - New Holland Honeyeater - Phylidonyris novaehollandiae.mp3 to C:\\Users\\pragya\\Downloads\\Iteration 2\\New holland honeyeater\\sounds\\XC501234 - New Holland Honeyeater - Phylidonyris novaehollandiae.wav...\n",
      "Converting C:\\Users\\pragya\\Downloads\\Iteration 2\\New holland honeyeater\\sounds\\XC502298 - New Holland Honeyeater - Phylidonyris novaehollandiae.mp3 to C:\\Users\\pragya\\Downloads\\Iteration 2\\New holland honeyeater\\sounds\\XC502298 - New Holland Honeyeater - Phylidonyris novaehollandiae.wav...\n",
      "Converting C:\\Users\\pragya\\Downloads\\Iteration 2\\New holland honeyeater\\sounds\\XC503530 - New Holland Honeyeater - Phylidonyris novaehollandiae.mp3 to C:\\Users\\pragya\\Downloads\\Iteration 2\\New holland honeyeater\\sounds\\XC503530 - New Holland Honeyeater - Phylidonyris novaehollandiae.wav...\n",
      "Converting C:\\Users\\pragya\\Downloads\\Iteration 2\\New holland honeyeater\\sounds\\XC552284 - New Holland Honeyeater - Phylidonyris novaehollandiae novaehollandiae.mp3 to C:\\Users\\pragya\\Downloads\\Iteration 2\\New holland honeyeater\\sounds\\XC552284 - New Holland Honeyeater - Phylidonyris novaehollandiae novaehollandiae.wav...\n",
      "Converting C:\\Users\\pragya\\Downloads\\Iteration 2\\New holland honeyeater\\sounds\\XC608476 - New Holland Honeyeater - Phylidonyris novaehollandiae.mp3 to C:\\Users\\pragya\\Downloads\\Iteration 2\\New holland honeyeater\\sounds\\XC608476 - New Holland Honeyeater - Phylidonyris novaehollandiae.wav...\n",
      "Converting C:\\Users\\pragya\\Downloads\\Iteration 2\\New holland honeyeater\\sounds\\XC609040 - New Holland Honeyeater - Phylidonyris novaehollandiae.mp3 to C:\\Users\\pragya\\Downloads\\Iteration 2\\New holland honeyeater\\sounds\\XC609040 - New Holland Honeyeater - Phylidonyris novaehollandiae.wav...\n",
      "Converting C:\\Users\\pragya\\Downloads\\Iteration 2\\New holland honeyeater\\sounds\\XC609041 - New Holland Honeyeater - Phylidonyris novaehollandiae.mp3 to C:\\Users\\pragya\\Downloads\\Iteration 2\\New holland honeyeater\\sounds\\XC609041 - New Holland Honeyeater - Phylidonyris novaehollandiae.wav...\n",
      "Converting C:\\Users\\pragya\\Downloads\\Iteration 2\\New holland honeyeater\\sounds\\XC609076 - New Holland Honeyeater - Phylidonyris novaehollandiae.mp3 to C:\\Users\\pragya\\Downloads\\Iteration 2\\New holland honeyeater\\sounds\\XC609076 - New Holland Honeyeater - Phylidonyris novaehollandiae.wav...\n",
      "Converting C:\\Users\\pragya\\Downloads\\Iteration 2\\New holland honeyeater\\sounds\\XC612436 - New Holland Honeyeater - Phylidonyris novaehollandiae.mp3 to C:\\Users\\pragya\\Downloads\\Iteration 2\\New holland honeyeater\\sounds\\XC612436 - New Holland Honeyeater - Phylidonyris novaehollandiae.wav...\n",
      "Converting C:\\Users\\pragya\\Downloads\\Iteration 2\\New holland honeyeater\\sounds\\XC638396 - New Holland Honeyeater - Phylidonyris novaehollandiae.mp3 to C:\\Users\\pragya\\Downloads\\Iteration 2\\New holland honeyeater\\sounds\\XC638396 - New Holland Honeyeater - Phylidonyris novaehollandiae.wav...\n",
      "Converting C:\\Users\\pragya\\Downloads\\Iteration 2\\New holland honeyeater\\sounds\\XC646299 - New Holland Honeyeater - Phylidonyris novaehollandiae.mp3 to C:\\Users\\pragya\\Downloads\\Iteration 2\\New holland honeyeater\\sounds\\XC646299 - New Holland Honeyeater - Phylidonyris novaehollandiae.wav...\n",
      "Converting C:\\Users\\pragya\\Downloads\\Iteration 2\\New holland honeyeater\\sounds\\XC669701 - New Holland Honeyeater - Phylidonyris novaehollandiae.mp3 to C:\\Users\\pragya\\Downloads\\Iteration 2\\New holland honeyeater\\sounds\\XC669701 - New Holland Honeyeater - Phylidonyris novaehollandiae.wav...\n",
      "Converting C:\\Users\\pragya\\Downloads\\Iteration 2\\New holland honeyeater\\sounds\\XC673203 - New Holland Honeyeater - Phylidonyris novaehollandiae.mp3 to C:\\Users\\pragya\\Downloads\\Iteration 2\\New holland honeyeater\\sounds\\XC673203 - New Holland Honeyeater - Phylidonyris novaehollandiae.wav...\n",
      "Converting C:\\Users\\pragya\\Downloads\\Iteration 2\\New holland honeyeater\\sounds\\XC673204 - New Holland Honeyeater - Phylidonyris novaehollandiae.mp3 to C:\\Users\\pragya\\Downloads\\Iteration 2\\New holland honeyeater\\sounds\\XC673204 - New Holland Honeyeater - Phylidonyris novaehollandiae.wav...\n",
      "Converting C:\\Users\\pragya\\Downloads\\Iteration 2\\New holland honeyeater\\sounds\\XC684056 - New Holland Honeyeater - Phylidonyris novaehollandiae.mp3 to C:\\Users\\pragya\\Downloads\\Iteration 2\\New holland honeyeater\\sounds\\XC684056 - New Holland Honeyeater - Phylidonyris novaehollandiae.wav...\n",
      "Converting C:\\Users\\pragya\\Downloads\\Iteration 2\\New holland honeyeater\\sounds\\XC721720 - New Holland Honeyeater - Phylidonyris novaehollandiae novaehollandiae.mp3 to C:\\Users\\pragya\\Downloads\\Iteration 2\\New holland honeyeater\\sounds\\XC721720 - New Holland Honeyeater - Phylidonyris novaehollandiae novaehollandiae.wav...\n",
      "Converting C:\\Users\\pragya\\Downloads\\Iteration 2\\New holland honeyeater\\sounds\\XC721722 - New Holland Honeyeater - Phylidonyris novaehollandiae novaehollandiae.mp3 to C:\\Users\\pragya\\Downloads\\Iteration 2\\New holland honeyeater\\sounds\\XC721722 - New Holland Honeyeater - Phylidonyris novaehollandiae novaehollandiae.wav...\n",
      "Converting C:\\Users\\pragya\\Downloads\\Iteration 2\\New holland honeyeater\\sounds\\XC729342 - New Holland Honeyeater - Phylidonyris novaehollandiae.mp3 to C:\\Users\\pragya\\Downloads\\Iteration 2\\New holland honeyeater\\sounds\\XC729342 - New Holland Honeyeater - Phylidonyris novaehollandiae.wav...\n",
      "Converting C:\\Users\\pragya\\Downloads\\Iteration 2\\New holland honeyeater\\sounds\\XC98294 - New Holland Honeyeater - Phylidonyris novaehollandiae.mp3 to C:\\Users\\pragya\\Downloads\\Iteration 2\\New holland honeyeater\\sounds\\XC98294 - New Holland Honeyeater - Phylidonyris novaehollandiae.wav...\n",
      "Converting C:\\Users\\pragya\\Downloads\\Iteration 2\\New holland honeyeater\\sounds\\XC98295 - New Holland Honeyeater - Phylidonyris novaehollandiae.mp3 to C:\\Users\\pragya\\Downloads\\Iteration 2\\New holland honeyeater\\sounds\\XC98295 - New Holland Honeyeater - Phylidonyris novaehollandiae.wav...\n"
     ]
    }
   ],
   "source": [
    "for i in new_holland_filenames:\n",
    "    # Test the function\n",
    "    convert_to_wav(i)"
   ]
  },
  {
   "cell_type": "code",
   "execution_count": 27,
   "id": "d16f7fb4",
   "metadata": {},
   "outputs": [],
   "source": [
    "for i in white_napped_filenames:\n",
    "    # Test the function\n",
    "    convert_to_wav(i)"
   ]
  },
  {
   "cell_type": "code",
   "execution_count": 28,
   "id": "2b71df6f",
   "metadata": {},
   "outputs": [
    {
     "name": "stdout",
     "output_type": "stream",
     "text": [
      "Converting C:\\Users\\pragya\\Downloads\\Iteration 2\\Random Honeyeaters\\XC568590 - Scarlet Myzomela - Myzomela sanguinolenta.mp3 to C:\\Users\\pragya\\Downloads\\Iteration 2\\Random Honeyeaters\\XC568590 - Scarlet Myzomela - Myzomela sanguinolenta.wav...\n",
      "Converting C:\\Users\\pragya\\Downloads\\Iteration 2\\Random Honeyeaters\\XC568599 - Scarlet Myzomela - Myzomela sanguinolenta.mp3 to C:\\Users\\pragya\\Downloads\\Iteration 2\\Random Honeyeaters\\XC568599 - Scarlet Myzomela - Myzomela sanguinolenta.wav...\n",
      "Converting C:\\Users\\pragya\\Downloads\\Iteration 2\\Random Honeyeaters\\XC570370 - Scarlet Myzomela - Myzomela sanguinolenta.mp3 to C:\\Users\\pragya\\Downloads\\Iteration 2\\Random Honeyeaters\\XC570370 - Scarlet Myzomela - Myzomela sanguinolenta.wav...\n",
      "Converting C:\\Users\\pragya\\Downloads\\Iteration 2\\Random Honeyeaters\\XC573876 - Scarlet Myzomela - Myzomela sanguinolenta.mp3 to C:\\Users\\pragya\\Downloads\\Iteration 2\\Random Honeyeaters\\XC573876 - Scarlet Myzomela - Myzomela sanguinolenta.wav...\n",
      "Converting C:\\Users\\pragya\\Downloads\\Iteration 2\\Random Honeyeaters\\XC578218 - Scarlet Myzomela - Myzomela sanguinolenta.mp3 to C:\\Users\\pragya\\Downloads\\Iteration 2\\Random Honeyeaters\\XC578218 - Scarlet Myzomela - Myzomela sanguinolenta.wav...\n",
      "Converting C:\\Users\\pragya\\Downloads\\Iteration 2\\Random Honeyeaters\\XC594952 - Scarlet Myzomela - Myzomela sanguinolenta.mp3 to C:\\Users\\pragya\\Downloads\\Iteration 2\\Random Honeyeaters\\XC594952 - Scarlet Myzomela - Myzomela sanguinolenta.wav...\n",
      "Converting C:\\Users\\pragya\\Downloads\\Iteration 2\\Random Honeyeaters\\XC603195 - Scarlet Myzomela - Myzomela sanguinolenta.mp3 to C:\\Users\\pragya\\Downloads\\Iteration 2\\Random Honeyeaters\\XC603195 - Scarlet Myzomela - Myzomela sanguinolenta.wav...\n",
      "Converting C:\\Users\\pragya\\Downloads\\Iteration 2\\Random Honeyeaters\\XC603197 - Scarlet Myzomela - Myzomela sanguinolenta.mp3 to C:\\Users\\pragya\\Downloads\\Iteration 2\\Random Honeyeaters\\XC603197 - Scarlet Myzomela - Myzomela sanguinolenta.wav...\n",
      "Converting C:\\Users\\pragya\\Downloads\\Iteration 2\\Random Honeyeaters\\XC608815 - Crescent Honeyeater - Phylidonyris pyrrhopterus.mp3 to C:\\Users\\pragya\\Downloads\\Iteration 2\\Random Honeyeaters\\XC608815 - Crescent Honeyeater - Phylidonyris pyrrhopterus.wav...\n",
      "Converting C:\\Users\\pragya\\Downloads\\Iteration 2\\Random Honeyeaters\\XC608816 - Crescent Honeyeater - Phylidonyris pyrrhopterus.mp3 to C:\\Users\\pragya\\Downloads\\Iteration 2\\Random Honeyeaters\\XC608816 - Crescent Honeyeater - Phylidonyris pyrrhopterus.wav...\n",
      "Converting C:\\Users\\pragya\\Downloads\\Iteration 2\\Random Honeyeaters\\XC608823 - Crescent Honeyeater - Phylidonyris pyrrhopterus.mp3 to C:\\Users\\pragya\\Downloads\\Iteration 2\\Random Honeyeaters\\XC608823 - Crescent Honeyeater - Phylidonyris pyrrhopterus.wav...\n",
      "Converting C:\\Users\\pragya\\Downloads\\Iteration 2\\Random Honeyeaters\\XC609070 - White-plumed Honeyeater - Ptilotula penicillata.mp3 to C:\\Users\\pragya\\Downloads\\Iteration 2\\Random Honeyeaters\\XC609070 - White-plumed Honeyeater - Ptilotula penicillata.wav...\n",
      "Converting C:\\Users\\pragya\\Downloads\\Iteration 2\\Random Honeyeaters\\XC609071 - White-plumed Honeyeater - Ptilotula penicillata.mp3 to C:\\Users\\pragya\\Downloads\\Iteration 2\\Random Honeyeaters\\XC609071 - White-plumed Honeyeater - Ptilotula penicillata.wav...\n",
      "Converting C:\\Users\\pragya\\Downloads\\Iteration 2\\Random Honeyeaters\\XC609072 - White-plumed Honeyeater - Ptilotula penicillata.mp3 to C:\\Users\\pragya\\Downloads\\Iteration 2\\Random Honeyeaters\\XC609072 - White-plumed Honeyeater - Ptilotula penicillata.wav...\n",
      "Converting C:\\Users\\pragya\\Downloads\\Iteration 2\\Random Honeyeaters\\XC609073 - White-plumed Honeyeater - Ptilotula penicillata.mp3 to C:\\Users\\pragya\\Downloads\\Iteration 2\\Random Honeyeaters\\XC609073 - White-plumed Honeyeater - Ptilotula penicillata.wav...\n",
      "Converting C:\\Users\\pragya\\Downloads\\Iteration 2\\Random Honeyeaters\\XC611305 - White-plumed Honeyeater - Ptilotula penicillata.mp3 to C:\\Users\\pragya\\Downloads\\Iteration 2\\Random Honeyeaters\\XC611305 - White-plumed Honeyeater - Ptilotula penicillata.wav...\n",
      "Converting C:\\Users\\pragya\\Downloads\\Iteration 2\\Random Honeyeaters\\XC621102 - Scarlet Myzomela - Myzomela sanguinolenta.mp3 to C:\\Users\\pragya\\Downloads\\Iteration 2\\Random Honeyeaters\\XC621102 - Scarlet Myzomela - Myzomela sanguinolenta.wav...\n",
      "Converting C:\\Users\\pragya\\Downloads\\Iteration 2\\Random Honeyeaters\\XC641421 - Crescent Honeyeater - Phylidonyris pyrrhopterus.mp3 to C:\\Users\\pragya\\Downloads\\Iteration 2\\Random Honeyeaters\\XC641421 - Crescent Honeyeater - Phylidonyris pyrrhopterus.wav...\n",
      "Converting C:\\Users\\pragya\\Downloads\\Iteration 2\\Random Honeyeaters\\XC647853 - Blue-faced Honeyeater - Entomyzon cyanotis albipennis.mp3 to C:\\Users\\pragya\\Downloads\\Iteration 2\\Random Honeyeaters\\XC647853 - Blue-faced Honeyeater - Entomyzon cyanotis albipennis.wav...\n",
      "Converting C:\\Users\\pragya\\Downloads\\Iteration 2\\Random Honeyeaters\\XC649434 - Blue-faced Honeyeater - Entomyzon cyanotis albipennis.mp3 to C:\\Users\\pragya\\Downloads\\Iteration 2\\Random Honeyeaters\\XC649434 - Blue-faced Honeyeater - Entomyzon cyanotis albipennis.wav...\n",
      "Converting C:\\Users\\pragya\\Downloads\\Iteration 2\\Random Honeyeaters\\XC658923 - Scarlet Myzomela - Myzomela sanguinolenta.mp3 to C:\\Users\\pragya\\Downloads\\Iteration 2\\Random Honeyeaters\\XC658923 - Scarlet Myzomela - Myzomela sanguinolenta.wav...\n",
      "Converting C:\\Users\\pragya\\Downloads\\Iteration 2\\Random Honeyeaters\\XC658935 - Blue-faced Honeyeater - Entomyzon cyanotis albipennis.mp3 to C:\\Users\\pragya\\Downloads\\Iteration 2\\Random Honeyeaters\\XC658935 - Blue-faced Honeyeater - Entomyzon cyanotis albipennis.wav...\n",
      "Converting C:\\Users\\pragya\\Downloads\\Iteration 2\\Random Honeyeaters\\XC660369 - Regent Honeyeater - Anthochaera phrygia.mp3 to C:\\Users\\pragya\\Downloads\\Iteration 2\\Random Honeyeaters\\XC660369 - Regent Honeyeater - Anthochaera phrygia.wav...\n",
      "Converting C:\\Users\\pragya\\Downloads\\Iteration 2\\Random Honeyeaters\\XC660372 - Regent Honeyeater - Anthochaera phrygia.mp3 to C:\\Users\\pragya\\Downloads\\Iteration 2\\Random Honeyeaters\\XC660372 - Regent Honeyeater - Anthochaera phrygia.wav...\n",
      "Converting C:\\Users\\pragya\\Downloads\\Iteration 2\\Random Honeyeaters\\XC660382 - Regent Honeyeater - Anthochaera phrygia.mp3 to C:\\Users\\pragya\\Downloads\\Iteration 2\\Random Honeyeaters\\XC660382 - Regent Honeyeater - Anthochaera phrygia.wav...\n",
      "Converting C:\\Users\\pragya\\Downloads\\Iteration 2\\Random Honeyeaters\\XC660497 - Regent Honeyeater - Anthochaera phrygia.mp3 to C:\\Users\\pragya\\Downloads\\Iteration 2\\Random Honeyeaters\\XC660497 - Regent Honeyeater - Anthochaera phrygia.wav...\n",
      "Converting C:\\Users\\pragya\\Downloads\\Iteration 2\\Random Honeyeaters\\XC660498 - Regent Honeyeater - Anthochaera phrygia.mp3 to C:\\Users\\pragya\\Downloads\\Iteration 2\\Random Honeyeaters\\XC660498 - Regent Honeyeater - Anthochaera phrygia.wav...\n",
      "Converting C:\\Users\\pragya\\Downloads\\Iteration 2\\Random Honeyeaters\\XC660500 - Regent Honeyeater - Anthochaera phrygia.mp3 to C:\\Users\\pragya\\Downloads\\Iteration 2\\Random Honeyeaters\\XC660500 - Regent Honeyeater - Anthochaera phrygia.wav...\n",
      "Converting C:\\Users\\pragya\\Downloads\\Iteration 2\\Random Honeyeaters\\XC660503 - Regent Honeyeater - Anthochaera phrygia.mp3 to C:\\Users\\pragya\\Downloads\\Iteration 2\\Random Honeyeaters\\XC660503 - Regent Honeyeater - Anthochaera phrygia.wav...\n",
      "Converting C:\\Users\\pragya\\Downloads\\Iteration 2\\Random Honeyeaters\\XC661489 - Regent Honeyeater - Anthochaera phrygia.mp3 to C:\\Users\\pragya\\Downloads\\Iteration 2\\Random Honeyeaters\\XC661489 - Regent Honeyeater - Anthochaera phrygia.wav...\n",
      "Converting C:\\Users\\pragya\\Downloads\\Iteration 2\\Random Honeyeaters\\XC661746 - Regent Honeyeater - Anthochaera phrygia.mp3 to C:\\Users\\pragya\\Downloads\\Iteration 2\\Random Honeyeaters\\XC661746 - Regent Honeyeater - Anthochaera phrygia.wav...\n",
      "Converting C:\\Users\\pragya\\Downloads\\Iteration 2\\Random Honeyeaters\\XC661747 - Regent Honeyeater - Anthochaera phrygia.mp3 to C:\\Users\\pragya\\Downloads\\Iteration 2\\Random Honeyeaters\\XC661747 - Regent Honeyeater - Anthochaera phrygia.wav...\n",
      "Converting C:\\Users\\pragya\\Downloads\\Iteration 2\\Random Honeyeaters\\XC664155 - Blue-faced Honeyeater - Entomyzon cyanotis albipennis.mp3 to C:\\Users\\pragya\\Downloads\\Iteration 2\\Random Honeyeaters\\XC664155 - Blue-faced Honeyeater - Entomyzon cyanotis albipennis.wav...\n",
      "Converting C:\\Users\\pragya\\Downloads\\Iteration 2\\Random Honeyeaters\\XC664961 - Blue-faced Honeyeater - Entomyzon cyanotis albipennis.mp3 to C:\\Users\\pragya\\Downloads\\Iteration 2\\Random Honeyeaters\\XC664961 - Blue-faced Honeyeater - Entomyzon cyanotis albipennis.wav...\n"
     ]
    },
    {
     "name": "stdout",
     "output_type": "stream",
     "text": [
      "Converting C:\\Users\\pragya\\Downloads\\Iteration 2\\Random Honeyeaters\\XC666739 - White-plumed Honeyeater - Ptilotula penicillata.mp3 to C:\\Users\\pragya\\Downloads\\Iteration 2\\Random Honeyeaters\\XC666739 - White-plumed Honeyeater - Ptilotula penicillata.wav...\n",
      "Converting C:\\Users\\pragya\\Downloads\\Iteration 2\\Random Honeyeaters\\XC666742 - Crescent Honeyeater - Phylidonyris pyrrhopterus.mp3 to C:\\Users\\pragya\\Downloads\\Iteration 2\\Random Honeyeaters\\XC666742 - Crescent Honeyeater - Phylidonyris pyrrhopterus.wav...\n",
      "Converting C:\\Users\\pragya\\Downloads\\Iteration 2\\Random Honeyeaters\\XC670809 - Blue-faced Honeyeater - Entomyzon cyanotis albipennis.mp3 to C:\\Users\\pragya\\Downloads\\Iteration 2\\Random Honeyeaters\\XC670809 - Blue-faced Honeyeater - Entomyzon cyanotis albipennis.wav...\n",
      "Converting C:\\Users\\pragya\\Downloads\\Iteration 2\\Random Honeyeaters\\XC673019 - Crescent Honeyeater - Phylidonyris pyrrhopterus.mp3 to C:\\Users\\pragya\\Downloads\\Iteration 2\\Random Honeyeaters\\XC673019 - Crescent Honeyeater - Phylidonyris pyrrhopterus.wav...\n",
      "Converting C:\\Users\\pragya\\Downloads\\Iteration 2\\Random Honeyeaters\\XC673863 - Crescent Honeyeater - Phylidonyris pyrrhopterus.mp3 to C:\\Users\\pragya\\Downloads\\Iteration 2\\Random Honeyeaters\\XC673863 - Crescent Honeyeater - Phylidonyris pyrrhopterus.wav...\n",
      "Converting C:\\Users\\pragya\\Downloads\\Iteration 2\\Random Honeyeaters\\XC681667 - Singing Honeyeater - Gavicalis virescens.mp3 to C:\\Users\\pragya\\Downloads\\Iteration 2\\Random Honeyeaters\\XC681667 - Singing Honeyeater - Gavicalis virescens.wav...\n",
      "Converting C:\\Users\\pragya\\Downloads\\Iteration 2\\Random Honeyeaters\\XC681668 - Singing Honeyeater - Gavicalis virescens.mp3 to C:\\Users\\pragya\\Downloads\\Iteration 2\\Random Honeyeaters\\XC681668 - Singing Honeyeater - Gavicalis virescens.wav...\n",
      "Converting C:\\Users\\pragya\\Downloads\\Iteration 2\\Random Honeyeaters\\XC681669 - Singing Honeyeater - Gavicalis virescens.mp3 to C:\\Users\\pragya\\Downloads\\Iteration 2\\Random Honeyeaters\\XC681669 - Singing Honeyeater - Gavicalis virescens.wav...\n",
      "Converting C:\\Users\\pragya\\Downloads\\Iteration 2\\Random Honeyeaters\\XC681670 - Singing Honeyeater - Gavicalis virescens.mp3 to C:\\Users\\pragya\\Downloads\\Iteration 2\\Random Honeyeaters\\XC681670 - Singing Honeyeater - Gavicalis virescens.wav...\n",
      "Converting C:\\Users\\pragya\\Downloads\\Iteration 2\\Random Honeyeaters\\XC689127 - White-plumed Honeyeater - Ptilotula penicillata.mp3 to C:\\Users\\pragya\\Downloads\\Iteration 2\\Random Honeyeaters\\XC689127 - White-plumed Honeyeater - Ptilotula penicillata.wav...\n",
      "Converting C:\\Users\\pragya\\Downloads\\Iteration 2\\Random Honeyeaters\\XC693209 - Singing Honeyeater - Gavicalis virescens.mp3 to C:\\Users\\pragya\\Downloads\\Iteration 2\\Random Honeyeaters\\XC693209 - Singing Honeyeater - Gavicalis virescens.wav...\n",
      "Converting C:\\Users\\pragya\\Downloads\\Iteration 2\\Random Honeyeaters\\XC693210 - Singing Honeyeater - Gavicalis virescens.mp3 to C:\\Users\\pragya\\Downloads\\Iteration 2\\Random Honeyeaters\\XC693210 - Singing Honeyeater - Gavicalis virescens.wav...\n",
      "Converting C:\\Users\\pragya\\Downloads\\Iteration 2\\Random Honeyeaters\\XC693211 - Singing Honeyeater - Gavicalis virescens.mp3 to C:\\Users\\pragya\\Downloads\\Iteration 2\\Random Honeyeaters\\XC693211 - Singing Honeyeater - Gavicalis virescens.wav...\n",
      "Converting C:\\Users\\pragya\\Downloads\\Iteration 2\\Random Honeyeaters\\XC693212 - Singing Honeyeater - Gavicalis virescens.mp3 to C:\\Users\\pragya\\Downloads\\Iteration 2\\Random Honeyeaters\\XC693212 - Singing Honeyeater - Gavicalis virescens.wav...\n",
      "Converting C:\\Users\\pragya\\Downloads\\Iteration 2\\Random Honeyeaters\\XC693213 - Singing Honeyeater - Gavicalis virescens.mp3 to C:\\Users\\pragya\\Downloads\\Iteration 2\\Random Honeyeaters\\XC693213 - Singing Honeyeater - Gavicalis virescens.wav...\n",
      "Converting C:\\Users\\pragya\\Downloads\\Iteration 2\\Random Honeyeaters\\XC693216 - White-plumed Honeyeater - Ptilotula penicillata.mp3 to C:\\Users\\pragya\\Downloads\\Iteration 2\\Random Honeyeaters\\XC693216 - White-plumed Honeyeater - Ptilotula penicillata.wav...\n",
      "Converting C:\\Users\\pragya\\Downloads\\Iteration 2\\Random Honeyeaters\\XC693217 - White-plumed Honeyeater - Ptilotula penicillata.mp3 to C:\\Users\\pragya\\Downloads\\Iteration 2\\Random Honeyeaters\\XC693217 - White-plumed Honeyeater - Ptilotula penicillata.wav...\n",
      "Converting C:\\Users\\pragya\\Downloads\\Iteration 2\\Random Honeyeaters\\XC695185 - Blue-faced Honeyeater - Entomyzon cyanotis.mp3 to C:\\Users\\pragya\\Downloads\\Iteration 2\\Random Honeyeaters\\XC695185 - Blue-faced Honeyeater - Entomyzon cyanotis.wav...\n",
      "Converting C:\\Users\\pragya\\Downloads\\Iteration 2\\Random Honeyeaters\\XC706579 - Blue-faced Honeyeater - Entomyzon cyanotis albipennis.mp3 to C:\\Users\\pragya\\Downloads\\Iteration 2\\Random Honeyeaters\\XC706579 - Blue-faced Honeyeater - Entomyzon cyanotis albipennis.wav...\n",
      "Converting C:\\Users\\pragya\\Downloads\\Iteration 2\\Random Honeyeaters\\XC716186 - Crescent Honeyeater - Phylidonyris pyrrhopterus.mp3 to C:\\Users\\pragya\\Downloads\\Iteration 2\\Random Honeyeaters\\XC716186 - Crescent Honeyeater - Phylidonyris pyrrhopterus.wav...\n",
      "Converting C:\\Users\\pragya\\Downloads\\Iteration 2\\Random Honeyeaters\\XC729324 - White-plumed Honeyeater - Ptilotula penicillata.mp3 to C:\\Users\\pragya\\Downloads\\Iteration 2\\Random Honeyeaters\\XC729324 - White-plumed Honeyeater - Ptilotula penicillata.wav...\n",
      "Converting C:\\Users\\pragya\\Downloads\\Iteration 2\\Random Honeyeaters\\XC736625 - Blue-faced Honeyeater - Entomyzon cyanotis albipennis.mp3 to C:\\Users\\pragya\\Downloads\\Iteration 2\\Random Honeyeaters\\XC736625 - Blue-faced Honeyeater - Entomyzon cyanotis albipennis.wav...\n",
      "Converting C:\\Users\\pragya\\Downloads\\Iteration 2\\Random Honeyeaters\\XC744163 - Crescent Honeyeater - Phylidonyris pyrrhopterus.mp3 to C:\\Users\\pragya\\Downloads\\Iteration 2\\Random Honeyeaters\\XC744163 - Crescent Honeyeater - Phylidonyris pyrrhopterus.wav...\n",
      "Converting C:\\Users\\pragya\\Downloads\\Iteration 2\\Random Honeyeaters\\XC744305 - Blue-faced Honeyeater - Entomyzon cyanotis Entomyzon c griseigularis.mp3 to C:\\Users\\pragya\\Downloads\\Iteration 2\\Random Honeyeaters\\XC744305 - Blue-faced Honeyeater - Entomyzon cyanotis Entomyzon c griseigularis.wav...\n",
      "Converting C:\\Users\\pragya\\Downloads\\Iteration 2\\Random Honeyeaters\\XC747415 - Crescent Honeyeater - Phylidonyris pyrrhopterus.mp3 to C:\\Users\\pragya\\Downloads\\Iteration 2\\Random Honeyeaters\\XC747415 - Crescent Honeyeater - Phylidonyris pyrrhopterus.wav...\n"
     ]
    }
   ],
   "source": [
    "for i in random_filenames:\n",
    "    # Test the function\n",
    "    convert_to_wav(i)"
   ]
  },
  {
   "cell_type": "markdown",
   "id": "feefdeb0",
   "metadata": {},
   "source": [
    "_______________________________________________________________________________________________________________________________"
   ]
  },
  {
   "cell_type": "markdown",
   "id": "71e930ea",
   "metadata": {},
   "source": [
    "## CLEANING AND MERGING DATA"
   ]
  },
  {
   "cell_type": "code",
   "execution_count": 29,
   "id": "99a103d0",
   "metadata": {},
   "outputs": [],
   "source": [
    "import glob\n",
    "new_holland_df = pd.DataFrame()\n",
    "new_holland_df['links'] = glob.glob('C:\\\\Users\\\\pragya\\\\Downloads\\\\Iteration 2\\\\New holland honeyeater\\\\sounds\\\\*.wav')\n",
    "new_holland_df['specie'] = \"New Holland\"\n",
    "\n",
    "brown_headed_df = pd.DataFrame()\n",
    "brown_headed_df['links'] = glob.glob('C:\\\\Users\\\\pragya\\\\Downloads\\\\Iteration 2\\\\Brown-headed Honeyeaters\\\\sounds\\\\*.wav')\n",
    "brown_headed_df['specie'] = \"Brown Headed\"\n",
    "\n",
    "white_napped_df = pd.DataFrame()\n",
    "white_napped_df['links'] = glob.glob('C:\\\\Users\\\\pragya\\\\Downloads\\\\Iteration 2\\\\white napped honeyeater\\\\sounds\\\\*.wav')\n",
    "white_napped_df['specie'] = \"White Napped\"\n",
    "\n",
    "random_df = pd.DataFrame()\n",
    "random_df['links'] = glob.glob('C:\\\\Users\\\\pragya\\\\Downloads\\\\Iteration 2\\\\Random Honeyeaters\\\\*.wav')\n",
    "random_df['specie'] = \"Not Specified\""
   ]
  },
  {
   "cell_type": "code",
   "execution_count": 30,
   "id": "c4327b84",
   "metadata": {},
   "outputs": [],
   "source": [
    "df = pd.concat([new_holland_df, brown_headed_df, white_napped_df, random_df])"
   ]
  },
  {
   "cell_type": "code",
   "execution_count": 31,
   "id": "11444c43",
   "metadata": {},
   "outputs": [
    {
     "data": {
      "text/plain": [
       "(59, 18, 34, 59)"
      ]
     },
     "execution_count": 31,
     "metadata": {},
     "output_type": "execute_result"
    }
   ],
   "source": [
    "len(new_holland_df), len(brown_headed_df), len(white_napped_df), len(random_df)"
   ]
  },
  {
   "cell_type": "code",
   "execution_count": 32,
   "id": "e645b312",
   "metadata": {},
   "outputs": [],
   "source": [
    "df.to_csv('C:\\\\Users\\\\pragya\\\\Downloads\\\\Iteration 2\\\\specie_sound.csv', index = False)"
   ]
  },
  {
   "cell_type": "markdown",
   "id": "7b79abd3",
   "metadata": {},
   "source": [
    "_______________________________________________________________________________________________________________________________"
   ]
  },
  {
   "cell_type": "code",
   "execution_count": 75,
   "id": "18c50207",
   "metadata": {},
   "outputs": [],
   "source": [
    "## NOTES:\n",
    "# 1. ADD API CALL TO GET MORE DATA\n",
    "# 2. ADD DATA FOR RANDOM SPECIES TO IDENTIFY BIRDS NOT BELONGING TO SPECIE 1,2,3"
   ]
  }
 ],
 "metadata": {
  "kernelspec": {
   "display_name": "Python 3",
   "language": "python",
   "name": "python3"
  },
  "language_info": {
   "codemirror_mode": {
    "name": "ipython",
    "version": 3
   },
   "file_extension": ".py",
   "mimetype": "text/x-python",
   "name": "python",
   "nbconvert_exporter": "python",
   "pygments_lexer": "ipython3",
   "version": "3.7.4"
  }
 },
 "nbformat": 4,
 "nbformat_minor": 5
}
