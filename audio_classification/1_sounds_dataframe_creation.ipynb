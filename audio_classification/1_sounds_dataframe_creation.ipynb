{
 "cells": [
  {
   "cell_type": "markdown",
   "id": "8f368c60",
   "metadata": {},
   "source": [
    "## READ FILENAMES"
   ]
  },
  {
   "cell_type": "code",
   "execution_count": 1,
   "id": "1ca7b516",
   "metadata": {},
   "outputs": [],
   "source": [
    "# import OS module\n",
    "import os\n",
    " \n",
    "# Get the list of all files and directories\n",
    "path1 = \"C:\\\\Users\\\\pragya\\\\Downloads\\\\Iteration 2\\\\Brown-headed Honeyeaters\\\\sounds\"\n",
    "brown_headed_filenames = os.listdir(path1)\n",
    "\n",
    "# Get the list of all files and directories\n",
    "path2 = \"C:\\\\Users\\\\pragya\\\\Downloads\\\\Iteration 2\\\\New holland honeyeater\\\\sounds\"\n",
    "new_holland_filenames = os.listdir(path2)\n",
    "\n",
    "# Get the list of all files and directories\n",
    "path3 = \"C:\\\\Users\\\\pragya\\\\Downloads\\\\Iteration 2\\\\white napped honeyeater\\\\sounds\"\n",
    "white_napped_filenames = os.listdir(path3)"
   ]
  },
  {
   "cell_type": "code",
   "execution_count": 3,
   "id": "b9cc6a65",
   "metadata": {},
   "outputs": [],
   "source": [
    "# brown_headed_files = [i.split(\".\")[0].split(\" \")[0] + \".\" + i.split(\".\")[1] for i in dir_list]"
   ]
  },
  {
   "cell_type": "markdown",
   "id": "76f14153",
   "metadata": {},
   "source": [
    "_______________________________________________________________________________________________________________________________"
   ]
  },
  {
   "cell_type": "markdown",
   "id": "5e5ee8df",
   "metadata": {},
   "source": [
    "## CONVERT AUDIO FILE TO WAV FORMAT"
   ]
  },
  {
   "cell_type": "code",
   "execution_count": 4,
   "id": "22206e49",
   "metadata": {},
   "outputs": [],
   "source": [
    "# REFERENCE: https://campus.datacamp.com/courses/spoken-language-processing-in-python/processing-text-transcribed-from-spoken-language?ex=2\n",
    "\n",
    "from pydub import AudioSegment\n",
    "\n",
    "# Create function to convert audio file to wav\n",
    "def convert_to_wav(filename):\n",
    "    # Takes an audio file of non .wav format and converts to .wav\n",
    "    # Import audio file\n",
    "    audio = AudioSegment.from_file(filename)\n",
    "  \n",
    "    # Create new filename\n",
    "    new_filename = filename.split(\".\")[0] + \".wav\"\n",
    "  \n",
    "    # Export file as .wav\n",
    "    audio.export(new_filename, format=\"wav\")\n",
    "    print(f\"Converting {filename} to {new_filename}...\")"
   ]
  },
  {
   "cell_type": "code",
   "execution_count": 5,
   "id": "5c3ec061",
   "metadata": {},
   "outputs": [
    {
     "name": "stdout",
     "output_type": "stream",
     "text": [
      "Converting C:\\Users\\pragya\\Downloads\\Iteration 2\\Brown-headed Honeyeaters\\sounds\\XC104883 - Brown-headed Honeyeater - Melithreptus brevirostris brevirostris.mp3 to C:\\Users\\pragya\\Downloads\\Iteration 2\\Brown-headed Honeyeaters\\sounds\\XC104883 - Brown-headed Honeyeater - Melithreptus brevirostris brevirostris.wav...\n",
      "Converting C:\\Users\\pragya\\Downloads\\Iteration 2\\Brown-headed Honeyeaters\\sounds\\XC104883 - Brown-headed Honeyeater - Melithreptus brevirostris brevirostris.wav to C:\\Users\\pragya\\Downloads\\Iteration 2\\Brown-headed Honeyeaters\\sounds\\XC104883 - Brown-headed Honeyeater - Melithreptus brevirostris brevirostris.wav...\n",
      "Converting C:\\Users\\pragya\\Downloads\\Iteration 2\\Brown-headed Honeyeaters\\sounds\\XC104884 - Brown-headed Honeyeater - Melithreptus brevirostris brevirostris.mp3 to C:\\Users\\pragya\\Downloads\\Iteration 2\\Brown-headed Honeyeaters\\sounds\\XC104884 - Brown-headed Honeyeater - Melithreptus brevirostris brevirostris.wav...\n",
      "Converting C:\\Users\\pragya\\Downloads\\Iteration 2\\Brown-headed Honeyeaters\\sounds\\XC104885 - Brown-headed Honeyeater - Melithreptus brevirostris brevirostris.mp3 to C:\\Users\\pragya\\Downloads\\Iteration 2\\Brown-headed Honeyeaters\\sounds\\XC104885 - Brown-headed Honeyeater - Melithreptus brevirostris brevirostris.wav...\n",
      "Converting C:\\Users\\pragya\\Downloads\\Iteration 2\\Brown-headed Honeyeaters\\sounds\\XC188237 - Brown-headed Honeyeater - Melithreptus brevirostris brevirostris.mp3 to C:\\Users\\pragya\\Downloads\\Iteration 2\\Brown-headed Honeyeaters\\sounds\\XC188237 - Brown-headed Honeyeater - Melithreptus brevirostris brevirostris.wav...\n",
      "Converting C:\\Users\\pragya\\Downloads\\Iteration 2\\Brown-headed Honeyeaters\\sounds\\XC197377 - Brown-headed Honeyeater - Melithreptus brevirostris.mp3 to C:\\Users\\pragya\\Downloads\\Iteration 2\\Brown-headed Honeyeaters\\sounds\\XC197377 - Brown-headed Honeyeater - Melithreptus brevirostris.wav...\n",
      "Converting C:\\Users\\pragya\\Downloads\\Iteration 2\\Brown-headed Honeyeaters\\sounds\\XC197588 - Brown-headed Honeyeater - Melithreptus brevirostris.mp3 to C:\\Users\\pragya\\Downloads\\Iteration 2\\Brown-headed Honeyeaters\\sounds\\XC197588 - Brown-headed Honeyeater - Melithreptus brevirostris.wav...\n",
      "Converting C:\\Users\\pragya\\Downloads\\Iteration 2\\Brown-headed Honeyeaters\\sounds\\XC200315 - Brown-headed Honeyeater - Melithreptus brevirostris.mp3 to C:\\Users\\pragya\\Downloads\\Iteration 2\\Brown-headed Honeyeaters\\sounds\\XC200315 - Brown-headed Honeyeater - Melithreptus brevirostris.wav...\n",
      "Converting C:\\Users\\pragya\\Downloads\\Iteration 2\\Brown-headed Honeyeaters\\sounds\\XC203154 - Brown-headed Honeyeater - Melithreptus brevirostris pallidiceps.mp3 to C:\\Users\\pragya\\Downloads\\Iteration 2\\Brown-headed Honeyeaters\\sounds\\XC203154 - Brown-headed Honeyeater - Melithreptus brevirostris pallidiceps.wav...\n",
      "Converting C:\\Users\\pragya\\Downloads\\Iteration 2\\Brown-headed Honeyeaters\\sounds\\XC286940 - Brown-headed Honeyeater - Melithreptus brevirostris.mp3 to C:\\Users\\pragya\\Downloads\\Iteration 2\\Brown-headed Honeyeaters\\sounds\\XC286940 - Brown-headed Honeyeater - Melithreptus brevirostris.wav...\n",
      "Converting C:\\Users\\pragya\\Downloads\\Iteration 2\\Brown-headed Honeyeaters\\sounds\\XC328849 - Brown-headed Honeyeater - Melithreptus brevirostris.mp3 to C:\\Users\\pragya\\Downloads\\Iteration 2\\Brown-headed Honeyeaters\\sounds\\XC328849 - Brown-headed Honeyeater - Melithreptus brevirostris.wav...\n",
      "Converting C:\\Users\\pragya\\Downloads\\Iteration 2\\Brown-headed Honeyeaters\\sounds\\XC334423 - Brown-headed Honeyeater - Melithreptus brevirostris.mp3 to C:\\Users\\pragya\\Downloads\\Iteration 2\\Brown-headed Honeyeaters\\sounds\\XC334423 - Brown-headed Honeyeater - Melithreptus brevirostris.wav...\n",
      "Converting C:\\Users\\pragya\\Downloads\\Iteration 2\\Brown-headed Honeyeaters\\sounds\\XC334463 - Brown-headed Honeyeater - Melithreptus brevirostris.mp3 to C:\\Users\\pragya\\Downloads\\Iteration 2\\Brown-headed Honeyeaters\\sounds\\XC334463 - Brown-headed Honeyeater - Melithreptus brevirostris.wav...\n",
      "Converting C:\\Users\\pragya\\Downloads\\Iteration 2\\Brown-headed Honeyeaters\\sounds\\XC383185 - Brown-headed Honeyeater - Melithreptus brevirostris leucogenys.mp3 to C:\\Users\\pragya\\Downloads\\Iteration 2\\Brown-headed Honeyeaters\\sounds\\XC383185 - Brown-headed Honeyeater - Melithreptus brevirostris leucogenys.wav...\n",
      "Converting C:\\Users\\pragya\\Downloads\\Iteration 2\\Brown-headed Honeyeaters\\sounds\\XC393384 - Brown-headed Honeyeater - Melithreptus brevirostris.mp3 to C:\\Users\\pragya\\Downloads\\Iteration 2\\Brown-headed Honeyeaters\\sounds\\XC393384 - Brown-headed Honeyeater - Melithreptus brevirostris.wav...\n",
      "Converting C:\\Users\\pragya\\Downloads\\Iteration 2\\Brown-headed Honeyeaters\\sounds\\XC407727 - Brown-headed Honeyeater - Melithreptus brevirostris pallidiceps_.mp3 to C:\\Users\\pragya\\Downloads\\Iteration 2\\Brown-headed Honeyeaters\\sounds\\XC407727 - Brown-headed Honeyeater - Melithreptus brevirostris pallidiceps_.wav...\n",
      "Converting C:\\Users\\pragya\\Downloads\\Iteration 2\\Brown-headed Honeyeaters\\sounds\\XC407728 - Brown-headed Honeyeater - Melithreptus brevirostris pallidiceps_.mp3 to C:\\Users\\pragya\\Downloads\\Iteration 2\\Brown-headed Honeyeaters\\sounds\\XC407728 - Brown-headed Honeyeater - Melithreptus brevirostris pallidiceps_.wav...\n",
      "Converting C:\\Users\\pragya\\Downloads\\Iteration 2\\Brown-headed Honeyeaters\\sounds\\XC592604 - Brown-headed Honeyeater - Melithreptus brevirostris.mp3 to C:\\Users\\pragya\\Downloads\\Iteration 2\\Brown-headed Honeyeaters\\sounds\\XC592604 - Brown-headed Honeyeater - Melithreptus brevirostris.wav...\n",
      "Converting C:\\Users\\pragya\\Downloads\\Iteration 2\\Brown-headed Honeyeaters\\sounds\\XC729287 - Brown-headed Honeyeater - Melithreptus brevirostris.mp3 to C:\\Users\\pragya\\Downloads\\Iteration 2\\Brown-headed Honeyeaters\\sounds\\XC729287 - Brown-headed Honeyeater - Melithreptus brevirostris.wav...\n"
     ]
    }
   ],
   "source": [
    "for i in brown_headed_filenames:\n",
    "    # Test the function\n",
    "    convert_to_wav(path1+\"\\\\\"+i)"
   ]
  },
  {
   "cell_type": "code",
   "execution_count": 6,
   "id": "a755fa97",
   "metadata": {},
   "outputs": [
    {
     "name": "stdout",
     "output_type": "stream",
     "text": [
      "Converting C:\\Users\\pragya\\Downloads\\Iteration 2\\white napped honeyeater\\sounds\\1365173943.mp3 to C:\\Users\\pragya\\Downloads\\Iteration 2\\white napped honeyeater\\sounds\\1365173943.wav...\n",
      "Converting C:\\Users\\pragya\\Downloads\\Iteration 2\\white napped honeyeater\\sounds\\1365183935.mp3 to C:\\Users\\pragya\\Downloads\\Iteration 2\\white napped honeyeater\\sounds\\1365183935.wav...\n",
      "Converting C:\\Users\\pragya\\Downloads\\Iteration 2\\white napped honeyeater\\sounds\\328852.mp3 to C:\\Users\\pragya\\Downloads\\Iteration 2\\white napped honeyeater\\sounds\\328852.wav...\n",
      "Converting C:\\Users\\pragya\\Downloads\\Iteration 2\\white napped honeyeater\\sounds\\328853.mp3 to C:\\Users\\pragya\\Downloads\\Iteration 2\\white napped honeyeater\\sounds\\328853.wav...\n",
      "Converting C:\\Users\\pragya\\Downloads\\Iteration 2\\white napped honeyeater\\sounds\\370067.mp3 to C:\\Users\\pragya\\Downloads\\Iteration 2\\white napped honeyeater\\sounds\\370067.wav...\n",
      "Converting C:\\Users\\pragya\\Downloads\\Iteration 2\\white napped honeyeater\\sounds\\XC140192 - White-naped Honeyeater - Melithreptus lunatus.mp3 to C:\\Users\\pragya\\Downloads\\Iteration 2\\white napped honeyeater\\sounds\\XC140192 - White-naped Honeyeater - Melithreptus lunatus.wav...\n",
      "Converting C:\\Users\\pragya\\Downloads\\Iteration 2\\white napped honeyeater\\sounds\\XC140192-white-naped-honeyeater1.mp3 to C:\\Users\\pragya\\Downloads\\Iteration 2\\white napped honeyeater\\sounds\\XC140192-white-naped-honeyeater1.wav...\n",
      "Converting C:\\Users\\pragya\\Downloads\\Iteration 2\\white napped honeyeater\\sounds\\XC140193 - White-naped Honeyeater - Melithreptus lunatus.mp3 to C:\\Users\\pragya\\Downloads\\Iteration 2\\white napped honeyeater\\sounds\\XC140193 - White-naped Honeyeater - Melithreptus lunatus.wav...\n",
      "Converting C:\\Users\\pragya\\Downloads\\Iteration 2\\white napped honeyeater\\sounds\\XC140193-white-naped-honeyeater2.mp3 to C:\\Users\\pragya\\Downloads\\Iteration 2\\white napped honeyeater\\sounds\\XC140193-white-naped-honeyeater2.wav...\n",
      "Converting C:\\Users\\pragya\\Downloads\\Iteration 2\\white napped honeyeater\\sounds\\XC146139 - White-naped Honeyeater - Melithreptus lunatus.mp3 to C:\\Users\\pragya\\Downloads\\Iteration 2\\white napped honeyeater\\sounds\\XC146139 - White-naped Honeyeater - Melithreptus lunatus.wav...\n",
      "Converting C:\\Users\\pragya\\Downloads\\Iteration 2\\white napped honeyeater\\sounds\\XC146139-white-naped-honeyeater3.mp3 to C:\\Users\\pragya\\Downloads\\Iteration 2\\white napped honeyeater\\sounds\\XC146139-white-naped-honeyeater3.wav...\n",
      "Converting C:\\Users\\pragya\\Downloads\\Iteration 2\\white napped honeyeater\\sounds\\XC172251 - White-naped Honeyeater - Melithreptus lunatus.mp3 to C:\\Users\\pragya\\Downloads\\Iteration 2\\white napped honeyeater\\sounds\\XC172251 - White-naped Honeyeater - Melithreptus lunatus.wav...\n",
      "Converting C:\\Users\\pragya\\Downloads\\Iteration 2\\white napped honeyeater\\sounds\\XC172251-white-naped-honeyeater-2nd-call.mp3 to C:\\Users\\pragya\\Downloads\\Iteration 2\\white napped honeyeater\\sounds\\XC172251-white-naped-honeyeater-2nd-call.wav...\n",
      "Converting C:\\Users\\pragya\\Downloads\\Iteration 2\\white napped honeyeater\\sounds\\XC188051 - White-naped Honeyeater - Melithreptus lunatus.mp3 to C:\\Users\\pragya\\Downloads\\Iteration 2\\white napped honeyeater\\sounds\\XC188051 - White-naped Honeyeater - Melithreptus lunatus.wav...\n",
      "Converting C:\\Users\\pragya\\Downloads\\Iteration 2\\white napped honeyeater\\sounds\\XC188051-White-naped Honeyeater_Kuringai-Chase.mp3 to C:\\Users\\pragya\\Downloads\\Iteration 2\\white napped honeyeater\\sounds\\XC188051-White-naped Honeyeater_Kuringai-Chase.wav...\n",
      "Converting C:\\Users\\pragya\\Downloads\\Iteration 2\\white napped honeyeater\\sounds\\XC188235 - White-naped Honeyeater - Melithreptus lunatus lunatus.mp3 to C:\\Users\\pragya\\Downloads\\Iteration 2\\white napped honeyeater\\sounds\\XC188235 - White-naped Honeyeater - Melithreptus lunatus lunatus.wav...\n",
      "Converting C:\\Users\\pragya\\Downloads\\Iteration 2\\white napped honeyeater\\sounds\\XC188235-2013_01_27 Melithreptus lunatus2.mp3 to C:\\Users\\pragya\\Downloads\\Iteration 2\\white napped honeyeater\\sounds\\XC188235-2013_01_27 Melithreptus lunatus2.wav...\n",
      "Converting C:\\Users\\pragya\\Downloads\\Iteration 2\\white napped honeyeater\\sounds\\XC269932-melithreptus_lunatus_cairns_queensland_11.08.2015_0946.mp3 to C:\\Users\\pragya\\Downloads\\Iteration 2\\white napped honeyeater\\sounds\\XC269932-melithreptus_lunatus_cairns_queensland_11.wav...\n",
      "Converting C:\\Users\\pragya\\Downloads\\Iteration 2\\white napped honeyeater\\sounds\\XC328852 - White-naped Honeyeater - Melithreptus lunatus.mp3 to C:\\Users\\pragya\\Downloads\\Iteration 2\\white napped honeyeater\\sounds\\XC328852 - White-naped Honeyeater - Melithreptus lunatus.wav...\n",
      "Converting C:\\Users\\pragya\\Downloads\\Iteration 2\\white napped honeyeater\\sounds\\XC328853 - White-naped Honeyeater - Melithreptus lunatus.mp3 to C:\\Users\\pragya\\Downloads\\Iteration 2\\white napped honeyeater\\sounds\\XC328853 - White-naped Honeyeater - Melithreptus lunatus.wav...\n",
      "Converting C:\\Users\\pragya\\Downloads\\Iteration 2\\white napped honeyeater\\sounds\\XC370067 - White-naped Honeyeater - Melithreptus lunatus.mp3 to C:\\Users\\pragya\\Downloads\\Iteration 2\\white napped honeyeater\\sounds\\XC370067 - White-naped Honeyeater - Melithreptus lunatus.wav...\n",
      "Converting C:\\Users\\pragya\\Downloads\\Iteration 2\\white napped honeyeater\\sounds\\XC445533 - White-naped Honeyeater - Melithreptus lunatus.mp3 to C:\\Users\\pragya\\Downloads\\Iteration 2\\white napped honeyeater\\sounds\\XC445533 - White-naped Honeyeater - Melithreptus lunatus.wav...\n",
      "Converting C:\\Users\\pragya\\Downloads\\Iteration 2\\white napped honeyeater\\sounds\\XC460626 - White-naped Honeyeater - Melithreptus lunatus.mp3 to C:\\Users\\pragya\\Downloads\\Iteration 2\\white napped honeyeater\\sounds\\XC460626 - White-naped Honeyeater - Melithreptus lunatus.wav...\n",
      "Converting C:\\Users\\pragya\\Downloads\\Iteration 2\\white napped honeyeater\\sounds\\XC460775 - White-naped Honeyeater - Melithreptus lunatus.mp3 to C:\\Users\\pragya\\Downloads\\Iteration 2\\white napped honeyeater\\sounds\\XC460775 - White-naped Honeyeater - Melithreptus lunatus.wav...\n",
      "Converting C:\\Users\\pragya\\Downloads\\Iteration 2\\white napped honeyeater\\sounds\\XC460778 - White-naped Honeyeater - Melithreptus lunatus.mp3 to C:\\Users\\pragya\\Downloads\\Iteration 2\\white napped honeyeater\\sounds\\XC460778 - White-naped Honeyeater - Melithreptus lunatus.wav...\n",
      "Converting C:\\Users\\pragya\\Downloads\\Iteration 2\\white napped honeyeater\\sounds\\XC531661 - White-naped Honeyeater - Melithreptus lunatus.mp3 to C:\\Users\\pragya\\Downloads\\Iteration 2\\white napped honeyeater\\sounds\\XC531661 - White-naped Honeyeater - Melithreptus lunatus.wav...\n",
      "Converting C:\\Users\\pragya\\Downloads\\Iteration 2\\white napped honeyeater\\sounds\\XC531662 - White-naped Honeyeater - Melithreptus lunatus.mp3 to C:\\Users\\pragya\\Downloads\\Iteration 2\\white napped honeyeater\\sounds\\XC531662 - White-naped Honeyeater - Melithreptus lunatus.wav...\n",
      "Converting C:\\Users\\pragya\\Downloads\\Iteration 2\\white napped honeyeater\\sounds\\XC609042 - White-naped Honeyeater - Melithreptus lunatus.mp3 to C:\\Users\\pragya\\Downloads\\Iteration 2\\white napped honeyeater\\sounds\\XC609042 - White-naped Honeyeater - Melithreptus lunatus.wav...\n",
      "Converting C:\\Users\\pragya\\Downloads\\Iteration 2\\white napped honeyeater\\sounds\\XC609077 - White-naped Honeyeater - Melithreptus lunatus.mp3 to C:\\Users\\pragya\\Downloads\\Iteration 2\\white napped honeyeater\\sounds\\XC609077 - White-naped Honeyeater - Melithreptus lunatus.wav...\n",
      "Converting C:\\Users\\pragya\\Downloads\\Iteration 2\\white napped honeyeater\\sounds\\XC609078 - White-naped Honeyeater - Melithreptus lunatus.mp3 to C:\\Users\\pragya\\Downloads\\Iteration 2\\white napped honeyeater\\sounds\\XC609078 - White-naped Honeyeater - Melithreptus lunatus.wav...\n",
      "Converting C:\\Users\\pragya\\Downloads\\Iteration 2\\white napped honeyeater\\sounds\\XC609079 - White-naped Honeyeater - Melithreptus lunatus.mp3 to C:\\Users\\pragya\\Downloads\\Iteration 2\\white napped honeyeater\\sounds\\XC609079 - White-naped Honeyeater - Melithreptus lunatus.wav...\n",
      "Converting C:\\Users\\pragya\\Downloads\\Iteration 2\\white napped honeyeater\\sounds\\XC609080 - White-naped Honeyeater - Melithreptus lunatus.mp3 to C:\\Users\\pragya\\Downloads\\Iteration 2\\white napped honeyeater\\sounds\\XC609080 - White-naped Honeyeater - Melithreptus lunatus.wav...\n",
      "Converting C:\\Users\\pragya\\Downloads\\Iteration 2\\white napped honeyeater\\sounds\\XC676777 - White-naped Honeyeater - Melithreptus lunatus.mp3 to C:\\Users\\pragya\\Downloads\\Iteration 2\\white napped honeyeater\\sounds\\XC676777 - White-naped Honeyeater - Melithreptus lunatus.wav...\n"
     ]
    },
    {
     "name": "stdout",
     "output_type": "stream",
     "text": [
      "Converting C:\\Users\\pragya\\Downloads\\Iteration 2\\white napped honeyeater\\sounds\\XC712609 - White-naped Honeyeater - Melithreptus lunatus.mp3 to C:\\Users\\pragya\\Downloads\\Iteration 2\\white napped honeyeater\\sounds\\XC712609 - White-naped Honeyeater - Melithreptus lunatus.wav...\n"
     ]
    }
   ],
   "source": [
    "for i in white_napped_filenames:\n",
    "    # Test the function\n",
    "    convert_to_wav(path3+\"\\\\\"+i)"
   ]
  },
  {
   "cell_type": "code",
   "execution_count": 7,
   "id": "d7dae91e",
   "metadata": {},
   "outputs": [
    {
     "name": "stdout",
     "output_type": "stream",
     "text": [
      "Converting C:\\Users\\pragya\\Downloads\\Iteration 2\\New holland honeyeater\\sounds\\328859.mp3 to C:\\Users\\pragya\\Downloads\\Iteration 2\\New holland honeyeater\\sounds\\328859.wav...\n",
      "Converting C:\\Users\\pragya\\Downloads\\Iteration 2\\New holland honeyeater\\sounds\\354735.mp3 to C:\\Users\\pragya\\Downloads\\Iteration 2\\New holland honeyeater\\sounds\\354735.wav...\n",
      "Converting C:\\Users\\pragya\\Downloads\\Iteration 2\\New holland honeyeater\\sounds\\370620.mp3 to C:\\Users\\pragya\\Downloads\\Iteration 2\\New holland honeyeater\\sounds\\370620.wav...\n",
      "Converting C:\\Users\\pragya\\Downloads\\Iteration 2\\New holland honeyeater\\sounds\\XC104917 - New Holland Honeyeater - Phylidonyris novaehollandiae novaehollandiae.mp3 to C:\\Users\\pragya\\Downloads\\Iteration 2\\New holland honeyeater\\sounds\\XC104917 - New Holland Honeyeater - Phylidonyris novaehollandiae novaehollandiae.wav...\n",
      "Converting C:\\Users\\pragya\\Downloads\\Iteration 2\\New holland honeyeater\\sounds\\XC104918 - New Holland Honeyeater - Phylidonyris novaehollandiae novaehollandiae.mp3 to C:\\Users\\pragya\\Downloads\\Iteration 2\\New holland honeyeater\\sounds\\XC104918 - New Holland Honeyeater - Phylidonyris novaehollandiae novaehollandiae.wav...\n",
      "Converting C:\\Users\\pragya\\Downloads\\Iteration 2\\New holland honeyeater\\sounds\\XC140204 - New Holland Honeyeater - Phylidonyris novaehollandiae.mp3 to C:\\Users\\pragya\\Downloads\\Iteration 2\\New holland honeyeater\\sounds\\XC140204 - New Holland Honeyeater - Phylidonyris novaehollandiae.wav...\n",
      "Converting C:\\Users\\pragya\\Downloads\\Iteration 2\\New holland honeyeater\\sounds\\XC146651 - New Holland Honeyeater - Phylidonyris novaehollandiae.mp3 to C:\\Users\\pragya\\Downloads\\Iteration 2\\New holland honeyeater\\sounds\\XC146651 - New Holland Honeyeater - Phylidonyris novaehollandiae.wav...\n",
      "Converting C:\\Users\\pragya\\Downloads\\Iteration 2\\New holland honeyeater\\sounds\\XC171959 - New Holland Honeyeater - Phylidonyris novaehollandiae.mp3 to C:\\Users\\pragya\\Downloads\\Iteration 2\\New holland honeyeater\\sounds\\XC171959 - New Holland Honeyeater - Phylidonyris novaehollandiae.wav...\n",
      "Converting C:\\Users\\pragya\\Downloads\\Iteration 2\\New holland honeyeater\\sounds\\XC171960 - New Holland Honeyeater - Phylidonyris novaehollandiae.mp3 to C:\\Users\\pragya\\Downloads\\Iteration 2\\New holland honeyeater\\sounds\\XC171960 - New Holland Honeyeater - Phylidonyris novaehollandiae.wav...\n",
      "Converting C:\\Users\\pragya\\Downloads\\Iteration 2\\New holland honeyeater\\sounds\\XC172248 - New Holland Honeyeater - Phylidonyris novaehollandiae.mp3 to C:\\Users\\pragya\\Downloads\\Iteration 2\\New holland honeyeater\\sounds\\XC172248 - New Holland Honeyeater - Phylidonyris novaehollandiae.wav...\n",
      "Converting C:\\Users\\pragya\\Downloads\\Iteration 2\\New holland honeyeater\\sounds\\XC172248-new-holland-mt-wilson-1.mp3 to C:\\Users\\pragya\\Downloads\\Iteration 2\\New holland honeyeater\\sounds\\XC172248-new-holland-mt-wilson-1.wav...\n",
      "Converting C:\\Users\\pragya\\Downloads\\Iteration 2\\New holland honeyeater\\sounds\\XC186225 - New Holland Honeyeater - Phylidonyris novaehollandiae novaehollandiae.mp3 to C:\\Users\\pragya\\Downloads\\Iteration 2\\New holland honeyeater\\sounds\\XC186225 - New Holland Honeyeater - Phylidonyris novaehollandiae novaehollandiae.wav...\n",
      "Converting C:\\Users\\pragya\\Downloads\\Iteration 2\\New holland honeyeater\\sounds\\XC204469 - New Holland Honeyeater - Phylidonyris novaehollandiae.mp3 to C:\\Users\\pragya\\Downloads\\Iteration 2\\New holland honeyeater\\sounds\\XC204469 - New Holland Honeyeater - Phylidonyris novaehollandiae.wav...\n",
      "Converting C:\\Users\\pragya\\Downloads\\Iteration 2\\New holland honeyeater\\sounds\\XC204469-new-holland-heater-tas.mp3 to C:\\Users\\pragya\\Downloads\\Iteration 2\\New holland honeyeater\\sounds\\XC204469-new-holland-heater-tas.wav...\n",
      "Converting C:\\Users\\pragya\\Downloads\\Iteration 2\\New holland honeyeater\\sounds\\XC241027 - New Holland Honeyeater - Phylidonyris novaehollandiae.mp3 to C:\\Users\\pragya\\Downloads\\Iteration 2\\New holland honeyeater\\sounds\\XC241027 - New Holland Honeyeater - Phylidonyris novaehollandiae.wav...\n",
      "Converting C:\\Users\\pragya\\Downloads\\Iteration 2\\New holland honeyeater\\sounds\\XC328854 - New Holland Honeyeater - Phylidonyris novaehollandiae.mp3 to C:\\Users\\pragya\\Downloads\\Iteration 2\\New holland honeyeater\\sounds\\XC328854 - New Holland Honeyeater - Phylidonyris novaehollandiae.wav...\n",
      "Converting C:\\Users\\pragya\\Downloads\\Iteration 2\\New holland honeyeater\\sounds\\XC328854-New Holland Honeyeater2016-1-11-2.mp3 to C:\\Users\\pragya\\Downloads\\Iteration 2\\New holland honeyeater\\sounds\\XC328854-New Holland Honeyeater2016-1-11-2.wav...\n",
      "Converting C:\\Users\\pragya\\Downloads\\Iteration 2\\New holland honeyeater\\sounds\\XC328855 - New Holland Honeyeater - Phylidonyris novaehollandiae.mp3 to C:\\Users\\pragya\\Downloads\\Iteration 2\\New holland honeyeater\\sounds\\XC328855 - New Holland Honeyeater - Phylidonyris novaehollandiae.wav...\n",
      "Converting C:\\Users\\pragya\\Downloads\\Iteration 2\\New holland honeyeater\\sounds\\XC328855-New Holland Honeyeater2016-1-11-3.mp3 to C:\\Users\\pragya\\Downloads\\Iteration 2\\New holland honeyeater\\sounds\\XC328855-New Holland Honeyeater2016-1-11-3.wav...\n",
      "Converting C:\\Users\\pragya\\Downloads\\Iteration 2\\New holland honeyeater\\sounds\\XC328856 - New Holland Honeyeater - Phylidonyris novaehollandiae.mp3 to C:\\Users\\pragya\\Downloads\\Iteration 2\\New holland honeyeater\\sounds\\XC328856 - New Holland Honeyeater - Phylidonyris novaehollandiae.wav...\n",
      "Converting C:\\Users\\pragya\\Downloads\\Iteration 2\\New holland honeyeater\\sounds\\XC328856-New Holland Honeyeater2016-1-11-4.mp3 to C:\\Users\\pragya\\Downloads\\Iteration 2\\New holland honeyeater\\sounds\\XC328856-New Holland Honeyeater2016-1-11-4.wav...\n",
      "Converting C:\\Users\\pragya\\Downloads\\Iteration 2\\New holland honeyeater\\sounds\\XC328857 - New Holland Honeyeater - Phylidonyris novaehollandiae.mp3 to C:\\Users\\pragya\\Downloads\\Iteration 2\\New holland honeyeater\\sounds\\XC328857 - New Holland Honeyeater - Phylidonyris novaehollandiae.wav...\n",
      "Converting C:\\Users\\pragya\\Downloads\\Iteration 2\\New holland honeyeater\\sounds\\XC328857-New Holland Honeyeater2016-1-11-5.mp3 to C:\\Users\\pragya\\Downloads\\Iteration 2\\New holland honeyeater\\sounds\\XC328857-New Holland Honeyeater2016-1-11-5.wav...\n",
      "Converting C:\\Users\\pragya\\Downloads\\Iteration 2\\New holland honeyeater\\sounds\\XC328858 - New Holland Honeyeater - Phylidonyris novaehollandiae.mp3 to C:\\Users\\pragya\\Downloads\\Iteration 2\\New holland honeyeater\\sounds\\XC328858 - New Holland Honeyeater - Phylidonyris novaehollandiae.wav...\n",
      "Converting C:\\Users\\pragya\\Downloads\\Iteration 2\\New holland honeyeater\\sounds\\XC328858-New Holland Honeyeater2016-1-19-1.mp3 to C:\\Users\\pragya\\Downloads\\Iteration 2\\New holland honeyeater\\sounds\\XC328858-New Holland Honeyeater2016-1-19-1.wav...\n",
      "Converting C:\\Users\\pragya\\Downloads\\Iteration 2\\New holland honeyeater\\sounds\\XC328859 - New Holland Honeyeater - Phylidonyris novaehollandiae.mp3 to C:\\Users\\pragya\\Downloads\\Iteration 2\\New holland honeyeater\\sounds\\XC328859 - New Holland Honeyeater - Phylidonyris novaehollandiae.wav...\n",
      "Converting C:\\Users\\pragya\\Downloads\\Iteration 2\\New holland honeyeater\\sounds\\XC354735 - New Holland Honeyeater - Phylidonyris novaehollandiae.mp3 to C:\\Users\\pragya\\Downloads\\Iteration 2\\New holland honeyeater\\sounds\\XC354735 - New Holland Honeyeater - Phylidonyris novaehollandiae.wav...\n",
      "Converting C:\\Users\\pragya\\Downloads\\Iteration 2\\New holland honeyeater\\sounds\\XC362977 - New Holland Honeyeater - Phylidonyris novaehollandiae.mp3 to C:\\Users\\pragya\\Downloads\\Iteration 2\\New holland honeyeater\\sounds\\XC362977 - New Holland Honeyeater - Phylidonyris novaehollandiae.wav...\n",
      "Converting C:\\Users\\pragya\\Downloads\\Iteration 2\\New holland honeyeater\\sounds\\XC370620 - New Holland Honeyeater - Phylidonyris novaehollandiae.mp3 to C:\\Users\\pragya\\Downloads\\Iteration 2\\New holland honeyeater\\sounds\\XC370620 - New Holland Honeyeater - Phylidonyris novaehollandiae.wav...\n",
      "Converting C:\\Users\\pragya\\Downloads\\Iteration 2\\New holland honeyeater\\sounds\\XC380193 - New Holland Honeyeater - Phylidonyris novaehollandiae.mp3 to C:\\Users\\pragya\\Downloads\\Iteration 2\\New holland honeyeater\\sounds\\XC380193 - New Holland Honeyeater - Phylidonyris novaehollandiae.wav...\n"
     ]
    },
    {
     "name": "stdout",
     "output_type": "stream",
     "text": [
      "Converting C:\\Users\\pragya\\Downloads\\Iteration 2\\New holland honeyeater\\sounds\\XC382605 - New Holland Honeyeater - Phylidonyris novaehollandiae longirostris.mp3 to C:\\Users\\pragya\\Downloads\\Iteration 2\\New holland honeyeater\\sounds\\XC382605 - New Holland Honeyeater - Phylidonyris novaehollandiae longirostris.wav...\n",
      "Converting C:\\Users\\pragya\\Downloads\\Iteration 2\\New holland honeyeater\\sounds\\XC382676 - New Holland Honeyeater - Phylidonyris novaehollandiae longirostris.mp3 to C:\\Users\\pragya\\Downloads\\Iteration 2\\New holland honeyeater\\sounds\\XC382676 - New Holland Honeyeater - Phylidonyris novaehollandiae longirostris.wav...\n",
      "Converting C:\\Users\\pragya\\Downloads\\Iteration 2\\New holland honeyeater\\sounds\\XC382703 - New Holland Honeyeater - Phylidonyris novaehollandiae longirostris.mp3 to C:\\Users\\pragya\\Downloads\\Iteration 2\\New holland honeyeater\\sounds\\XC382703 - New Holland Honeyeater - Phylidonyris novaehollandiae longirostris.wav...\n",
      "Converting C:\\Users\\pragya\\Downloads\\Iteration 2\\New holland honeyeater\\sounds\\XC382704 - New Holland Honeyeater - Phylidonyris novaehollandiae longirostris.mp3 to C:\\Users\\pragya\\Downloads\\Iteration 2\\New holland honeyeater\\sounds\\XC382704 - New Holland Honeyeater - Phylidonyris novaehollandiae longirostris.wav...\n",
      "Converting C:\\Users\\pragya\\Downloads\\Iteration 2\\New holland honeyeater\\sounds\\XC382705 - New Holland Honeyeater - Phylidonyris novaehollandiae longirostris.mp3 to C:\\Users\\pragya\\Downloads\\Iteration 2\\New holland honeyeater\\sounds\\XC382705 - New Holland Honeyeater - Phylidonyris novaehollandiae longirostris.wav...\n",
      "Converting C:\\Users\\pragya\\Downloads\\Iteration 2\\New holland honeyeater\\sounds\\XC40645 - New Holland Honeyeater - Phylidonyris novaehollandiae longirostris.mp3 to C:\\Users\\pragya\\Downloads\\Iteration 2\\New holland honeyeater\\sounds\\XC40645 - New Holland Honeyeater - Phylidonyris novaehollandiae longirostris.wav...\n",
      "Converting C:\\Users\\pragya\\Downloads\\Iteration 2\\New holland honeyeater\\sounds\\XC40686 - New Holland Honeyeater - Phylidonyris novaehollandiae longirostris.mp3 to C:\\Users\\pragya\\Downloads\\Iteration 2\\New holland honeyeater\\sounds\\XC40686 - New Holland Honeyeater - Phylidonyris novaehollandiae longirostris.wav...\n",
      "Converting C:\\Users\\pragya\\Downloads\\Iteration 2\\New holland honeyeater\\sounds\\XC40859 - New Holland Honeyeater - Phylidonyris novaehollandiae canescens.mp3 to C:\\Users\\pragya\\Downloads\\Iteration 2\\New holland honeyeater\\sounds\\XC40859 - New Holland Honeyeater - Phylidonyris novaehollandiae canescens.wav...\n",
      "Converting C:\\Users\\pragya\\Downloads\\Iteration 2\\New holland honeyeater\\sounds\\XC411590 - New Holland Honeyeater - Phylidonyris novaehollandiae.mp3 to C:\\Users\\pragya\\Downloads\\Iteration 2\\New holland honeyeater\\sounds\\XC411590 - New Holland Honeyeater - Phylidonyris novaehollandiae.wav...\n",
      "Converting C:\\Users\\pragya\\Downloads\\Iteration 2\\New holland honeyeater\\sounds\\XC501234 - New Holland Honeyeater - Phylidonyris novaehollandiae.mp3 to C:\\Users\\pragya\\Downloads\\Iteration 2\\New holland honeyeater\\sounds\\XC501234 - New Holland Honeyeater - Phylidonyris novaehollandiae.wav...\n",
      "Converting C:\\Users\\pragya\\Downloads\\Iteration 2\\New holland honeyeater\\sounds\\XC502298 - New Holland Honeyeater - Phylidonyris novaehollandiae.mp3 to C:\\Users\\pragya\\Downloads\\Iteration 2\\New holland honeyeater\\sounds\\XC502298 - New Holland Honeyeater - Phylidonyris novaehollandiae.wav...\n",
      "Converting C:\\Users\\pragya\\Downloads\\Iteration 2\\New holland honeyeater\\sounds\\XC503530 - New Holland Honeyeater - Phylidonyris novaehollandiae.mp3 to C:\\Users\\pragya\\Downloads\\Iteration 2\\New holland honeyeater\\sounds\\XC503530 - New Holland Honeyeater - Phylidonyris novaehollandiae.wav...\n",
      "Converting C:\\Users\\pragya\\Downloads\\Iteration 2\\New holland honeyeater\\sounds\\XC552284 - New Holland Honeyeater - Phylidonyris novaehollandiae novaehollandiae.mp3 to C:\\Users\\pragya\\Downloads\\Iteration 2\\New holland honeyeater\\sounds\\XC552284 - New Holland Honeyeater - Phylidonyris novaehollandiae novaehollandiae.wav...\n",
      "Converting C:\\Users\\pragya\\Downloads\\Iteration 2\\New holland honeyeater\\sounds\\XC608476 - New Holland Honeyeater - Phylidonyris novaehollandiae.mp3 to C:\\Users\\pragya\\Downloads\\Iteration 2\\New holland honeyeater\\sounds\\XC608476 - New Holland Honeyeater - Phylidonyris novaehollandiae.wav...\n",
      "Converting C:\\Users\\pragya\\Downloads\\Iteration 2\\New holland honeyeater\\sounds\\XC609040 - New Holland Honeyeater - Phylidonyris novaehollandiae.mp3 to C:\\Users\\pragya\\Downloads\\Iteration 2\\New holland honeyeater\\sounds\\XC609040 - New Holland Honeyeater - Phylidonyris novaehollandiae.wav...\n",
      "Converting C:\\Users\\pragya\\Downloads\\Iteration 2\\New holland honeyeater\\sounds\\XC609041 - New Holland Honeyeater - Phylidonyris novaehollandiae.mp3 to C:\\Users\\pragya\\Downloads\\Iteration 2\\New holland honeyeater\\sounds\\XC609041 - New Holland Honeyeater - Phylidonyris novaehollandiae.wav...\n",
      "Converting C:\\Users\\pragya\\Downloads\\Iteration 2\\New holland honeyeater\\sounds\\XC609076 - New Holland Honeyeater - Phylidonyris novaehollandiae.mp3 to C:\\Users\\pragya\\Downloads\\Iteration 2\\New holland honeyeater\\sounds\\XC609076 - New Holland Honeyeater - Phylidonyris novaehollandiae.wav...\n",
      "Converting C:\\Users\\pragya\\Downloads\\Iteration 2\\New holland honeyeater\\sounds\\XC612436 - New Holland Honeyeater - Phylidonyris novaehollandiae.mp3 to C:\\Users\\pragya\\Downloads\\Iteration 2\\New holland honeyeater\\sounds\\XC612436 - New Holland Honeyeater - Phylidonyris novaehollandiae.wav...\n",
      "Converting C:\\Users\\pragya\\Downloads\\Iteration 2\\New holland honeyeater\\sounds\\XC638396 - New Holland Honeyeater - Phylidonyris novaehollandiae.mp3 to C:\\Users\\pragya\\Downloads\\Iteration 2\\New holland honeyeater\\sounds\\XC638396 - New Holland Honeyeater - Phylidonyris novaehollandiae.wav...\n",
      "Converting C:\\Users\\pragya\\Downloads\\Iteration 2\\New holland honeyeater\\sounds\\XC646299 - New Holland Honeyeater - Phylidonyris novaehollandiae.mp3 to C:\\Users\\pragya\\Downloads\\Iteration 2\\New holland honeyeater\\sounds\\XC646299 - New Holland Honeyeater - Phylidonyris novaehollandiae.wav...\n",
      "Converting C:\\Users\\pragya\\Downloads\\Iteration 2\\New holland honeyeater\\sounds\\XC669701 - New Holland Honeyeater - Phylidonyris novaehollandiae.mp3 to C:\\Users\\pragya\\Downloads\\Iteration 2\\New holland honeyeater\\sounds\\XC669701 - New Holland Honeyeater - Phylidonyris novaehollandiae.wav...\n",
      "Converting C:\\Users\\pragya\\Downloads\\Iteration 2\\New holland honeyeater\\sounds\\XC673203 - New Holland Honeyeater - Phylidonyris novaehollandiae.mp3 to C:\\Users\\pragya\\Downloads\\Iteration 2\\New holland honeyeater\\sounds\\XC673203 - New Holland Honeyeater - Phylidonyris novaehollandiae.wav...\n",
      "Converting C:\\Users\\pragya\\Downloads\\Iteration 2\\New holland honeyeater\\sounds\\XC673204 - New Holland Honeyeater - Phylidonyris novaehollandiae.mp3 to C:\\Users\\pragya\\Downloads\\Iteration 2\\New holland honeyeater\\sounds\\XC673204 - New Holland Honeyeater - Phylidonyris novaehollandiae.wav...\n",
      "Converting C:\\Users\\pragya\\Downloads\\Iteration 2\\New holland honeyeater\\sounds\\XC684056 - New Holland Honeyeater - Phylidonyris novaehollandiae.mp3 to C:\\Users\\pragya\\Downloads\\Iteration 2\\New holland honeyeater\\sounds\\XC684056 - New Holland Honeyeater - Phylidonyris novaehollandiae.wav...\n",
      "Converting C:\\Users\\pragya\\Downloads\\Iteration 2\\New holland honeyeater\\sounds\\XC721720 - New Holland Honeyeater - Phylidonyris novaehollandiae novaehollandiae.mp3 to C:\\Users\\pragya\\Downloads\\Iteration 2\\New holland honeyeater\\sounds\\XC721720 - New Holland Honeyeater - Phylidonyris novaehollandiae novaehollandiae.wav...\n",
      "Converting C:\\Users\\pragya\\Downloads\\Iteration 2\\New holland honeyeater\\sounds\\XC721722 - New Holland Honeyeater - Phylidonyris novaehollandiae novaehollandiae.mp3 to C:\\Users\\pragya\\Downloads\\Iteration 2\\New holland honeyeater\\sounds\\XC721722 - New Holland Honeyeater - Phylidonyris novaehollandiae novaehollandiae.wav...\n",
      "Converting C:\\Users\\pragya\\Downloads\\Iteration 2\\New holland honeyeater\\sounds\\XC729342 - New Holland Honeyeater - Phylidonyris novaehollandiae.mp3 to C:\\Users\\pragya\\Downloads\\Iteration 2\\New holland honeyeater\\sounds\\XC729342 - New Holland Honeyeater - Phylidonyris novaehollandiae.wav...\n",
      "Converting C:\\Users\\pragya\\Downloads\\Iteration 2\\New holland honeyeater\\sounds\\XC98294 - New Holland Honeyeater - Phylidonyris novaehollandiae.mp3 to C:\\Users\\pragya\\Downloads\\Iteration 2\\New holland honeyeater\\sounds\\XC98294 - New Holland Honeyeater - Phylidonyris novaehollandiae.wav...\n",
      "Converting C:\\Users\\pragya\\Downloads\\Iteration 2\\New holland honeyeater\\sounds\\XC98295 - New Holland Honeyeater - Phylidonyris novaehollandiae.mp3 to C:\\Users\\pragya\\Downloads\\Iteration 2\\New holland honeyeater\\sounds\\XC98295 - New Holland Honeyeater - Phylidonyris novaehollandiae.wav...\n"
     ]
    }
   ],
   "source": [
    "for i in new_holland_filenames:\n",
    "    # Test the function\n",
    "    convert_to_wav(path2+\"\\\\\"+i)"
   ]
  },
  {
   "cell_type": "markdown",
   "id": "e5b05641",
   "metadata": {},
   "source": [
    "_______________________________________________________________________________________________________________________________"
   ]
  },
  {
   "cell_type": "markdown",
   "id": "3e3d31fc",
   "metadata": {},
   "source": [
    "## CLEANING AND MERGING DATA"
   ]
  },
  {
   "cell_type": "code",
   "execution_count": 68,
   "id": "68d61749",
   "metadata": {},
   "outputs": [],
   "source": [
    "import glob\n",
    "new_holland_df = pd.DataFrame()\n",
    "new_holland_df['links'] = glob.glob('C:\\\\Users\\\\pragya\\\\Downloads\\\\Iteration 2\\\\New holland honeyeater\\\\sounds\\\\*.wav')\n",
    "new_holland_df['specie'] = \"New Holland\"\n",
    "\n",
    "brown_headed_df = pd.DataFrame()\n",
    "brown_headed_df['links'] = glob.glob('C:\\\\Users\\\\pragya\\\\Downloads\\\\Iteration 2\\\\Brown-headed Honeyeaters\\\\sounds\\\\*.wav')\n",
    "brown_headed_df['specie'] = \"Brown Headed\"\n",
    "\n",
    "white_napped_df = pd.DataFrame()\n",
    "white_napped_df['links'] = glob.glob('C:\\\\Users\\\\pragya\\\\Downloads\\\\Iteration 2\\\\white napped honeyeater\\\\sounds\\\\*.wav')\n",
    "white_napped_df['specie'] = \"White Napped\""
   ]
  },
  {
   "cell_type": "code",
   "execution_count": 69,
   "id": "37a1ac6b",
   "metadata": {},
   "outputs": [],
   "source": [
    "df = pd.concat([new_holland_df, brown_headed_df, white_napped_df])"
   ]
  },
  {
   "cell_type": "code",
   "execution_count": 72,
   "id": "7e21dbc2",
   "metadata": {},
   "outputs": [
    {
     "data": {
      "text/plain": [
       "(59, 18, 34)"
      ]
     },
     "execution_count": 72,
     "metadata": {},
     "output_type": "execute_result"
    }
   ],
   "source": [
    "len(new_holland_df), len(brown_headed_df), len(white_napped_df)"
   ]
  },
  {
   "cell_type": "code",
   "execution_count": 74,
   "id": "4bbdf80e",
   "metadata": {},
   "outputs": [],
   "source": [
    "df.to_csv('C:\\\\Users\\\\pragya\\\\Downloads\\\\Iteration 2\\\\specie_sound.csv', index = False)"
   ]
  },
  {
   "cell_type": "markdown",
   "id": "21e18b2e",
   "metadata": {},
   "source": [
    "_______________________________________________________________________________________________________________________________"
   ]
  },
  {
   "cell_type": "code",
   "execution_count": 75,
   "id": "4462adab",
   "metadata": {},
   "outputs": [],
   "source": [
    "## NOTES:\n",
    "# 1. ADD API CALL TO GET MORE DATA\n",
    "# 2. ADD DATA FOR RANDOM SPECIES TO IDENTIFY BIRDS NOT BELONGING TO SPECIE 1,2,3"
   ]
  }
 ],
 "metadata": {
  "kernelspec": {
   "display_name": "Python 3",
   "language": "python",
   "name": "python3"
  },
  "language_info": {
   "codemirror_mode": {
    "name": "ipython",
    "version": 3
   },
   "file_extension": ".py",
   "mimetype": "text/x-python",
   "name": "python",
   "nbconvert_exporter": "python",
   "pygments_lexer": "ipython3",
   "version": "3.7.4"
  }
 },
 "nbformat": 4,
 "nbformat_minor": 5
}
