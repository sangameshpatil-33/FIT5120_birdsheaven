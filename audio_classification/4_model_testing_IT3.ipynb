{
 "cells": [
  {
   "cell_type": "markdown",
   "id": "fe581e4e",
   "metadata": {},
   "source": [
    "### IMPORT REQUIRED LIBRARIES"
   ]
  },
  {
   "cell_type": "code",
   "execution_count": null,
   "id": "76d4cda7",
   "metadata": {},
   "outputs": [],
   "source": [
    "import tensorflow as tf\n",
    "import tensorflow.keras.models\n",
    "import librosa\n",
    "import numpy as np\n",
    "from pydub import AudioSegment"
   ]
  },
  {
   "cell_type": "markdown",
   "id": "b45a8a08",
   "metadata": {},
   "source": [
    "### READ TRAINED MODEL (DEEP LEARNING)"
   ]
  },
  {
   "cell_type": "code",
   "execution_count": null,
   "id": "cad21865",
   "metadata": {},
   "outputs": [],
   "source": [
    "# load best performaed model from the training process\n",
    "model = tf.keras.models.load_model('saved_models/weights.best.sequential.hdf5')\n",
    "# define the model\n",
    "model.summary()"
   ]
  },
  {
   "cell_type": "markdown",
   "id": "7ebb3586",
   "metadata": {},
   "source": [
    "### READ TEST DATA"
   ]
  },
  {
   "cell_type": "code",
   "execution_count": null,
   "id": "e1079fcf",
   "metadata": {},
   "outputs": [],
   "source": [
    "# define audio file path\n",
    "filename = \"C:\\\\Users\\\\pragya\\\\Downloads\\\\1334324461.wav\"\n",
    "# read audio file from the given path and extarct its data nd its sample rate\n",
    "audio, sample_rate = librosa.load(filename, res_type='kaiser_fast') "
   ]
  },
  {
   "cell_type": "markdown",
   "id": "db4573dd",
   "metadata": {},
   "source": [
    "### FEATURE EXTRACTION"
   ]
  },
  {
   "cell_type": "code",
   "execution_count": null,
   "id": "80d95ed3",
   "metadata": {},
   "outputs": [],
   "source": [
    "# using the audio data and its sample rate, extract features\n",
    "mfccs_features = librosa.feature.mfcc(y=audio, sr=sample_rate, n_mfcc=40)\n",
    "# transpose the features extracted matrix and find its mean\n",
    "mfccs_scaled_features = np.mean(mfccs_features.T,axis=0)\n",
    "# reshape the features\n",
    "mfccs_scaled_features = mfccs_scaled_features.reshape(1,-1)"
   ]
  },
  {
   "cell_type": "markdown",
   "id": "195043d2",
   "metadata": {},
   "source": [
    "### CLASSIFICATION OF BIRD SOUND"
   ]
  },
  {
   "cell_type": "code",
   "execution_count": null,
   "id": "412fe103",
   "metadata": {},
   "outputs": [],
   "source": [
    "# using the loaded trained model, predict label for the new audio file based on features\n",
    "predicted_label = model.predict(mfccs_scaled_features)\n",
    "# find the class with maximum probability \n",
    "classes_x = np.argmax(predicted_label,axis=1)"
   ]
  },
  {
   "cell_type": "code",
   "execution_count": null,
   "id": "33cd49bc",
   "metadata": {},
   "outputs": [],
   "source": [
    "# as per the label encoder in the 3_model_training_save_IT3 file, transform the encoded label to its original format\n",
    "\n",
    "# check if the class is 0\n",
    "if classes_x == [0]:\n",
    "    # if true, print the label associated\n",
    "    print('class: Brown Headed Honeyeater')\n",
    "# check if the class is 1\n",
    "elif classes_x == [1]:\n",
    "    # if true, print the label associated\n",
    "    print('class: Melbourne Skyline Bird')\n",
    "# check if the class is 2\n",
    "elif classes_x == [2]:\n",
    "    # if true, print the label associated\n",
    "    print('class: New Holland Honeyeater')\n",
    "# check if the class is 3\n",
    "elif classes_x == [3]:\n",
    "    # if true, print the label associated\n",
    "    print('class: Not Bird')\n",
    "# check if the class is 4\n",
    "elif classes_x == [4]:\n",
    "    # if true, print the label associated\n",
    "    print('class: White Napped Honeyeater')\n",
    "else:\n",
    "    pass"
   ]
  }
 ],
 "metadata": {
  "kernelspec": {
   "display_name": "Python 3",
   "language": "python",
   "name": "python3"
  },
  "language_info": {
   "codemirror_mode": {
    "name": "ipython",
    "version": 3
   },
   "file_extension": ".py",
   "mimetype": "text/x-python",
   "name": "python",
   "nbconvert_exporter": "python",
   "pygments_lexer": "ipython3",
   "version": "3.7.4"
  }
 },
 "nbformat": 4,
 "nbformat_minor": 5
}
