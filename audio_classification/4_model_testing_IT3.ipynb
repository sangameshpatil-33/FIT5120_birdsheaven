{
 "cells": [
  {
   "cell_type": "code",
   "execution_count": 1,
   "id": "700a2cf7",
   "metadata": {},
   "outputs": [],
   "source": [
    "import tensorflow as tf\n",
    "import tensorflow.keras.models\n",
    "import librosa\n",
    "import numpy as np\n",
    "from pydub import AudioSegment"
   ]
  },
  {
   "cell_type": "code",
   "execution_count": 2,
   "id": "20d61a6e",
   "metadata": {},
   "outputs": [
    {
     "name": "stdout",
     "output_type": "stream",
     "text": [
      "WARNING:tensorflow:From C:\\ProgramData\\Anaconda3\\lib\\site-packages\\tensorflow_core\\python\\ops\\resource_variable_ops.py:1630: calling BaseResourceVariable.__init__ (from tensorflow.python.ops.resource_variable_ops) with constraint is deprecated and will be removed in a future version.\n",
      "Instructions for updating:\n",
      "If using Keras pass *_constraint arguments to layers.\n",
      "Model: \"sequential_9\"\n",
      "_________________________________________________________________\n",
      "Layer (type)                 Output Shape              Param #   \n",
      "=================================================================\n",
      "dense_20 (Dense)             (None, 100)               4100      \n",
      "_________________________________________________________________\n",
      "activation_20 (Activation)   (None, 100)               0         \n",
      "_________________________________________________________________\n",
      "dropout_11 (Dropout)         (None, 100)               0         \n",
      "_________________________________________________________________\n",
      "dense_21 (Dense)             (None, 13)                1313      \n",
      "_________________________________________________________________\n",
      "activation_21 (Activation)   (None, 13)                0         \n",
      "=================================================================\n",
      "Total params: 5,413\n",
      "Trainable params: 5,413\n",
      "Non-trainable params: 0\n",
      "_________________________________________________________________\n"
     ]
    }
   ],
   "source": [
    "model = tf.keras.models.load_model('my_model')\n",
    "model.summary()"
   ]
  },
  {
   "cell_type": "code",
   "execution_count": 3,
   "id": "9355d791",
   "metadata": {},
   "outputs": [],
   "source": [
    "# test_file_path = \"C:\\\\Users\\\\pragya\\\\Downloads\\\\Iteration 2\\\\test\\\\brown_headed_honeyeater_test1.mp3\"\n",
    "# test_file_path = \"C:\\\\Users\\\\pragya\\\\Downloads\\\\Iteration 2\\\\test\\\\new_holland_honeyeater_test_1.mp3\"\n",
    "test_file_path = \"C:\\\\Users\\\\pragya\\\\Downloads\\\\Iteration 2\\\\test\\white_napped_honeyeater_test1.mp3\""
   ]
  },
  {
   "cell_type": "code",
   "execution_count": 4,
   "id": "e1e8a081",
   "metadata": {},
   "outputs": [],
   "source": [
    "# REFERENCE: https://campus.datacamp.com/courses/spoken-language-processing-in-python/processing-text-transcribed-from-spoken-language?ex=2\n",
    "\n",
    "# Create function to convert audio file to wav\n",
    "def convert_to_wav(filename):\n",
    "    # Takes an audio file of non .wav format and converts to .wav\n",
    "    # Import audio file\n",
    "    audio = AudioSegment.from_file(filename)\n",
    "  \n",
    "    # Create new filename\n",
    "    new_filename = filename.split(\".\")[0] + \".wav\"\n",
    "  \n",
    "    # Export file as .wav\n",
    "    audio.export(new_filename, format=\"wav\")\n",
    "    print(f\"Converting {filename} to {new_filename}...\")"
   ]
  },
  {
   "cell_type": "code",
   "execution_count": 9,
   "id": "0536cdd2",
   "metadata": {},
   "outputs": [],
   "source": [
    "convert_to_wav(test_file_path)"
   ]
  },
  {
   "cell_type": "code",
   "execution_count": null,
   "id": "1d982708",
   "metadata": {},
   "outputs": [],
   "source": [
    "test_file = test_file_path.split(\".\")[0] + \".wav\""
   ]
  },
  {
   "cell_type": "code",
   "execution_count": 10,
   "id": "fae648a3",
   "metadata": {},
   "outputs": [],
   "source": [
    "filename = test_file\n",
    "audio, sample_rate = librosa.load(filename, res_type='kaiser_fast') \n",
    "mfccs_features = librosa.feature.mfcc(y=audio, sr=sample_rate, n_mfcc=40)\n",
    "mfccs_scaled_features = np.mean(mfccs_features.T,axis=0)\n",
    "\n",
    "print(mfccs_scaled_features, '\\n')\n",
    "mfccs_scaled_features=mfccs_scaled_features.reshape(1,-1)\n",
    "print(mfccs_scaled_features, '\\n')\n",
    "print(mfccs_scaled_features.shape, '\\n')\n",
    "predicted_label=model.predict(mfccs_scaled_features)\n",
    "print(predicted_label, '\\n')\n",
    "classes_x=np.argmax(predicted_label,axis=1)\n",
    "print(classes_x, '\\n')"
   ]
  },
  {
   "cell_type": "code",
   "execution_count": 11,
   "id": "cb6c0782",
   "metadata": {},
   "outputs": [],
   "source": [
    "if classes_x == [0]:\n",
    "    print('class: Australian King Parrot')\n",
    "elif classes_x == [1]:\n",
    "    print('class: Australian Magpie')\n",
    "elif classes_x == [2]:\n",
    "    print('class: Australian Raven')\n",
    "elif classes_x == [3]:\n",
    "    print('class: Brown Headed Honeyeater')\n",
    "elif classes_x == [4]:\n",
    "    print('class: Crested Pigeon')\n",
    "elif classes_x == [5]:\n",
    "    print('class: Eastern Spinebill')\n",
    "elif classes_x == [6]:\n",
    "    print('class: Grey Butcherbird')\n",
    "elif classes_x == [7]:\n",
    "    print('class: Grey Fantail')\n",
    "elif classes_x == [8]:\n",
    "    print('class: New Holland Honeyeater')\n",
    "elif classes_x == [9]:\n",
    "    print('class: Noisy Miner')\n",
    "elif classes_x == [10]:\n",
    "    print('class: Silvereye')\n",
    "elif classes_x == [11]:\n",
    "    print('class: Sulphur Crested Cockatoo')\n",
    "elif classes_x == [12]:\n",
    "    print('class: White Napped Honeyeater')\n",
    "else:\n",
    "    pass"
   ]
  },
  {
   "cell_type": "code",
   "execution_count": null,
   "id": "406600d8",
   "metadata": {},
   "outputs": [],
   "source": []
  },
  {
   "cell_type": "code",
   "execution_count": null,
   "id": "dc269ea9",
   "metadata": {},
   "outputs": [],
   "source": []
  },
  {
   "cell_type": "code",
   "execution_count": null,
   "id": "428b8dd3",
   "metadata": {},
   "outputs": [],
   "source": []
  },
  {
   "cell_type": "code",
   "execution_count": null,
   "id": "2d14d6be",
   "metadata": {},
   "outputs": [],
   "source": []
  }
 ],
 "metadata": {
  "kernelspec": {
   "display_name": "Python 3",
   "language": "python",
   "name": "python3"
  },
  "language_info": {
   "codemirror_mode": {
    "name": "ipython",
    "version": 3
   },
   "file_extension": ".py",
   "mimetype": "text/x-python",
   "name": "python",
   "nbconvert_exporter": "python",
   "pygments_lexer": "ipython3",
   "version": "3.7.4"
  }
 },
 "nbformat": 4,
 "nbformat_minor": 5
}
