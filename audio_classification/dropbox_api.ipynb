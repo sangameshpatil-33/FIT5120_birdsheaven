{
 "cells": [
  {
   "cell_type": "code",
   "execution_count": 30,
   "id": "3181a36c",
   "metadata": {},
   "outputs": [],
   "source": [
    "## REFERENCE: https://www.geeksforgeeks.org/how-to-automate-the-storage-using-dropbox-api-in-python/\n",
    "import pathlib\n",
    "import pandas as pd\n",
    "import dropbox\n",
    "from dropbox.exceptions import AuthError"
   ]
  },
  {
   "cell_type": "code",
   "execution_count": 39,
   "id": "3a71586b",
   "metadata": {},
   "outputs": [],
   "source": [
    "TOKEN = '*******'"
   ]
  },
  {
   "cell_type": "code",
   "execution_count": 40,
   "id": "254ff1ce",
   "metadata": {},
   "outputs": [
    {
     "name": "stdout",
     "output_type": "stream",
     "text": [
      "Connected to Dropbox successfully\n"
     ]
    }
   ],
   "source": [
    "# Establish connection\n",
    "def connect_to_dropbox():\n",
    "    \n",
    "    try:\n",
    "        dbx = dropbox.Dropbox(TOKEN)\n",
    "        print('Connected to Dropbox successfully')\n",
    "      \n",
    "    except Exception as e:\n",
    "        print(str(e))\n",
    "      \n",
    "    return dbx\n",
    "  \n",
    "dbx = connect_to_dropbox()"
   ]
  },
  {
   "cell_type": "code",
   "execution_count": 107,
   "id": "dc924256",
   "metadata": {},
   "outputs": [],
   "source": [
    "# explicit function to list files\n",
    "def list_files_in_folder():\n",
    "    \n",
    "    # here dbx is an object which is obtained\n",
    "    # by connecting to dropbox via token\n",
    "    dbx = connect_to_dropbox()\n",
    "      \n",
    "    try:\n",
    "        filenames = []\n",
    "        folder_path = \"/Audio Submit Form\"\n",
    "  \n",
    "        # dbx object contains all functions that \n",
    "        # are required to perform actions with dropbox\n",
    "        files = dbx.files_list_folder(folder_path).entries\n",
    "          \n",
    "        for file in files:\n",
    "              \n",
    "            # listing\n",
    "            filenames.append(file.name)\n",
    "        return filenames\n",
    "              \n",
    "    except Exception as e:\n",
    "        print(str(e))"
   ]
  },
  {
   "cell_type": "code",
   "execution_count": 112,
   "id": "1ba06587",
   "metadata": {},
   "outputs": [
    {
     "name": "stdout",
     "output_type": "stream",
     "text": [
      "Connected to Dropbox successfully\n",
      "------------Listing Files in Folder------------ \n"
     ]
    }
   ],
   "source": [
    "filenames = list_files_in_folder()"
   ]
  },
  {
   "cell_type": "code",
   "execution_count": 125,
   "id": "0aa67262",
   "metadata": {},
   "outputs": [],
   "source": [
    "wav_files = [i for i in filenames if i.endswith('.wav')]\n",
    "file_num = [int(i.split(\" \")[0]) for i in filenames if i.endswith('.wav')]\n",
    "curr_file = max(file_num)\n",
    "user_file = [i for i in wav_files if str(curr_file) in i]\n"
   ]
  },
  {
   "cell_type": "code",
   "execution_count": 131,
   "id": "6a580b65",
   "metadata": {},
   "outputs": [
    {
     "data": {
      "text/plain": [
       "'5390346712512687858 - brown_headed_honeyeater_test1.wav'"
      ]
     },
     "execution_count": 131,
     "metadata": {},
     "output_type": "execute_result"
    }
   ],
   "source": [
    "user_file[0]"
   ]
  },
  {
   "cell_type": "code",
   "execution_count": 79,
   "id": "30862689",
   "metadata": {},
   "outputs": [],
   "source": [
    "import librosa\n",
    "import numpy as np\n",
    "\n",
    "def features_extractor(file_name):\n",
    "    audio, sample_rate = librosa.load(file_name, res_type='kaiser_fast') \n",
    "    mfccs_features = librosa.feature.mfcc(y=audio, sr=sample_rate, n_mfcc=40)\n",
    "    mfccs_scaled_features = np.mean(mfccs_features.T,axis=0)\n",
    "    \n",
    "    return mfccs_scaled_features"
   ]
  },
  {
   "cell_type": "code",
   "execution_count": 132,
   "id": "7aee98bd",
   "metadata": {},
   "outputs": [],
   "source": [
    "## REFERENCE: https://villoro.com/post/dropbox_python\n",
    "import io\n",
    "\n",
    "# explicit function to list files\n",
    "def read_extract_from_file():\n",
    "    \n",
    "    # here dbx is an object which is obtained\n",
    "    # by connecting to dropbox via token\n",
    "    dbx = connect_to_dropbox()\n",
    "      \n",
    "    try:\n",
    "        _, res = dbx.files_download(\"/Audio Submit Form/\"+ user_file[0])\n",
    "\n",
    "        with io.BytesIO(res.content) as stream:\n",
    "            data=features_extractor(stream)\n",
    "        return data\n",
    "            \n",
    "            \n",
    "              \n",
    "    except Exception as e:\n",
    "        print(str(e))"
   ]
  },
  {
   "cell_type": "code",
   "execution_count": 133,
   "id": "1839eb0c",
   "metadata": {},
   "outputs": [
    {
     "name": "stdout",
     "output_type": "stream",
     "text": [
      "Connected to Dropbox successfully\n"
     ]
    },
    {
     "data": {
      "text/plain": [
       "array([-4.9430350e+02,  8.6478668e+01,  3.1200054e+01,  7.0453606e+01,\n",
       "        9.1567373e+00,  1.6103380e+01,  3.2227825e+01, -4.5723195e+00,\n",
       "        2.0926613e+01,  1.6201588e+01, -3.6959353e-01,  2.1262352e+01,\n",
       "        4.0595345e+00,  2.1671052e+00,  1.1584791e+01, -2.1274834e+00,\n",
       "        4.1524744e+00,  4.4186831e+00, -1.0992719e+00,  5.2339435e+00,\n",
       "        5.4499042e-01,  9.7623903e-01,  2.2743044e+00, -1.2211622e+00,\n",
       "        2.4075916e+00, -6.1172299e-02,  1.4788494e-01,  2.5590312e+00,\n",
       "       -5.7883346e-01,  1.0180750e+00,  4.5317072e-01, -7.3931605e-01,\n",
       "        1.0377558e+00, -4.5290187e-01,  8.4746951e-01,  4.6483248e-01,\n",
       "       -5.6448150e-01,  8.7020648e-01, -1.0489001e+00,  1.8393365e-01],\n",
       "      dtype=float32)"
      ]
     },
     "execution_count": 133,
     "metadata": {},
     "output_type": "execute_result"
    }
   ],
   "source": [
    "read_extract_from_file()"
   ]
  },
  {
   "cell_type": "code",
   "execution_count": null,
   "id": "d5f83a4e",
   "metadata": {},
   "outputs": [],
   "source": []
  },
  {
   "cell_type": "code",
   "execution_count": null,
   "id": "6cceafb7",
   "metadata": {},
   "outputs": [],
   "source": []
  },
  {
   "cell_type": "code",
   "execution_count": null,
   "id": "61cb0058",
   "metadata": {},
   "outputs": [],
   "source": []
  },
  {
   "cell_type": "code",
   "execution_count": null,
   "id": "2975e678",
   "metadata": {},
   "outputs": [],
   "source": []
  },
  {
   "cell_type": "code",
   "execution_count": null,
   "id": "82236073",
   "metadata": {},
   "outputs": [],
   "source": []
  }
 ],
 "metadata": {
  "kernelspec": {
   "display_name": "Python 3",
   "language": "python",
   "name": "python3"
  },
  "language_info": {
   "codemirror_mode": {
    "name": "ipython",
    "version": 3
   },
   "file_extension": ".py",
   "mimetype": "text/x-python",
   "name": "python",
   "nbconvert_exporter": "python",
   "pygments_lexer": "ipython3",
   "version": "3.7.4"
  }
 },
 "nbformat": 4,
 "nbformat_minor": 5
}
