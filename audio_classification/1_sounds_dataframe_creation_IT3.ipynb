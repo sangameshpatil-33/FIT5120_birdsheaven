{
 "cells": [
  {
   "cell_type": "code",
   "execution_count": null,
   "id": "da340107",
   "metadata": {},
   "outputs": [],
   "source": [
    "# import all required libraries\n",
    "import os\n",
    "import pandas as pd\n",
    "import glob\n",
    "from pydub import AudioSegment"
   ]
  },
  {
   "cell_type": "markdown",
   "id": "26930874",
   "metadata": {},
   "source": [
    "## READ FILENAMES"
   ]
  },
  {
   "cell_type": "code",
   "execution_count": null,
   "id": "17f1878b",
   "metadata": {},
   "outputs": [],
   "source": [
    "# read files of mp3 format from the folders\n",
    "brown_headed_filenames = glob.glob('C:\\\\Users\\\\pragya\\\\Downloads\\\\Iteration 3\\\\brown headed honeyeater\\\\*.mp3')\n",
    "new_holland_filenames = glob.glob('C:\\\\Users\\\\pragya\\\\Downloads\\\\Iteration 3\\\\new holland honeyeater\\\\*.mp3')\n",
    "white_napped_filenames = glob.glob(\"C:\\\\Users\\\\pragya\\\\Downloads\\\\Iteration 3\\\\white naped honeyeater\\\\*.mp3\")\n",
    "australian_king_parrot_filenames = glob.glob(\"C:\\\\Users\\\\pragya\\\\Downloads\\\\Iteration 3\\\\australian king parrot\\\\*.mp3\")\n",
    "australian_magpie_filenames = glob.glob(\"C:\\\\Users\\\\pragya\\\\Downloads\\\\Iteration 3\\\\australian magpie\\\\*.mp3\")\n",
    "australian_raven_filenames = glob.glob(\"C:\\\\Users\\\\pragya\\\\Downloads\\\\Iteration 3\\\\australian raven\\\\*.mp3\")\n",
    "crested_pigeon_filenames = glob.glob(\"C:\\\\Users\\\\pragya\\\\Downloads\\\\Iteration 3\\\\crested pigeon\\\\*.mp3\")\n",
    "eastern_spinebill_filenames = glob.glob(\"C:\\\\Users\\\\pragya\\\\Downloads\\\\Iteration 3\\\\eastern spinebill\\\\*.mp3\")\n",
    "grey_butcherbird_filenames = glob.glob(\"C:\\\\Users\\\\pragya\\\\Downloads\\\\Iteration 3\\\\grey butcherbird\\\\*.mp3\")\n",
    "grey_fantail_filenames = glob.glob(\"C:\\\\Users\\\\pragya\\\\Downloads\\\\Iteration 3\\\\grey fantail\\\\*.mp3\")\n",
    "noisy_miner_filenames = glob.glob(\"C:\\\\Users\\\\pragya\\\\Downloads\\\\Iteration 3\\\\noisy miner\\\\*.mp3\")\n",
    "silvereye_filenames = glob.glob(\"C:\\\\Users\\\\pragya\\\\Downloads\\\\Iteration 3\\\\silvereye\\\\*.mp3\")\n",
    "sulphur_crested_cockatoo_filenames = glob.glob(\"C:\\\\Users\\\\pragya\\\\Downloads\\\\Iteration 3\\\\sulphur crested cockatoo\\\\*.mp3\")\n",
    "cat_filenames = glob.glob(\"C:\\\\Users\\\\pragya\\\\Downloads\\\\Iteration 3\\\\cats\\\\*.mp3\")\n",
    "dog_filenames = glob.glob(\"C:\\\\Users\\\\pragya\\\\Downloads\\\\Iteration 3\\\\dogs\\\\*.mp3\")"
   ]
  },
  {
   "cell_type": "markdown",
   "id": "0004049f",
   "metadata": {},
   "source": [
    "## CONVERT AUDIO FILE TO WAV FORMAT"
   ]
  },
  {
   "cell_type": "code",
   "execution_count": null,
   "id": "cde0da89",
   "metadata": {},
   "outputs": [],
   "source": [
    "# REFERENCE: https://campus.datacamp.com/courses/spoken-language-processing-in-python/processing-text-transcribed-from-spoken-language?ex=2\n",
    "\n",
    "# Create function to convert audio file to wav\n",
    "def convert_to_wav(filename):\n",
    "    # Takes an audio file of non .wav format and converts to .wav\n",
    "    # Import audio file\n",
    "    audio = AudioSegment.from_file(filename)\n",
    "  \n",
    "    # Create new filename\n",
    "    new_filename = filename.split(\".\")[0] + \".wav\"\n",
    "  \n",
    "    # Export file as .wav\n",
    "    audio.export(new_filename, format=\"wav\")"
   ]
  },
  {
   "cell_type": "code",
   "execution_count": null,
   "id": "4d94d66d",
   "metadata": {},
   "outputs": [],
   "source": [
    "# list of all filenames for each category\n",
    "files = [brown_headed_filenames, new_holland_filenames, white_napped_filenames, australian_king_parrot_filenames, \n",
    "         australian_magpie_filenames, australian_raven_filenames, crested_pigeon_filenames, \n",
    "         eastern_spinebill_filenames, grey_butcherbird_filenames, grey_fantail_filenames, \n",
    "         noisy_miner_filenames, silvereye_filenames, sulphur_crested_cockatoo_filenames, cat_filenames, dog_filenames]\n",
    "\n",
    "# iterating through the list \"files\" stated above\n",
    "for f in files:\n",
    "    # iterating through the filename\n",
    "    for i in f:\n",
    "        # converting every file to wav format\n",
    "        convert_to_wav(i)"
   ]
  },
  {
   "cell_type": "markdown",
   "id": "f40ca511",
   "metadata": {},
   "source": [
    "## CLEANING AND MERGING DATA"
   ]
  },
  {
   "cell_type": "code",
   "execution_count": null,
   "id": "c9dae218",
   "metadata": {},
   "outputs": [],
   "source": [
    "# create an empty dataframe\n",
    "new_holland_df = pd.DataFrame()\n",
    "# fetch all files of wav format\n",
    "new_holland_df['links'] = glob.glob('C:\\\\Users\\\\pragya\\\\Downloads\\\\Iteration 3\\\\new holland honeyeater\\\\*.wav')\n",
    "# state the specie type\n",
    "new_holland_df['specie'] = \"New Holland Honeyeater\"\n",
    "\n",
    "# create an empty dataframe\n",
    "brown_headed_df = pd.DataFrame()\n",
    "# fetch all files of wav format\n",
    "brown_headed_df['links'] = glob.glob('C:\\\\Users\\\\pragya\\\\Downloads\\\\Iteration 3\\\\brown headed honeyeater\\\\*.wav')\n",
    "# state the specie type\n",
    "brown_headed_df['specie'] = \"Brown Headed Honeyeater\"\n",
    "\n",
    "# create an empty dataframe\n",
    "white_napped_df = pd.DataFrame()\n",
    "# fetch all files of wav format\n",
    "white_napped_df['links'] = glob.glob('C:\\\\Users\\\\pragya\\\\Downloads\\\\Iteration 3\\\\white naped honeyeater\\\\*.wav')\n",
    "# state the specie type\n",
    "white_napped_df['specie'] = \"White Napped Honeyeater\"\n",
    "\n",
    "# create an empty dataframe\n",
    "australian_king_parrot_df = pd.DataFrame()\n",
    "# fetch all files of wav format\n",
    "australian_king_parrot_df['links'] = glob.glob(\"C:\\\\Users\\\\pragya\\\\Downloads\\\\Iteration 3\\\\australian king parrot\\\\*.wav\")\n",
    "# state the specie type\n",
    "australian_king_parrot_df['specie'] = \"Australian King Parrot\"\n",
    "\n",
    "# create an empty dataframe\n",
    "australian_magpie_df = pd.DataFrame()\n",
    "# fetch all files of wav format\n",
    "australian_magpie_df['links'] = glob.glob(\"C:\\\\Users\\\\pragya\\\\Downloads\\\\Iteration 3\\\\australian magpie\\\\*.wav\")\n",
    "# state the specie type\n",
    "australian_magpie_df['specie'] = \"Australian Magpie\"\n",
    "\n",
    "# create an empty dataframe\n",
    "australian_raven_df = pd.DataFrame()\n",
    "# fetch all files of wav format\n",
    "australian_raven_df['links'] = glob.glob(\"C:\\\\Users\\\\pragya\\\\Downloads\\\\Iteration 3\\\\australian raven\\\\*.wav\")\n",
    "# state the specie type\n",
    "australian_raven_df['specie'] = \"Australian Raven\"\n",
    "\n",
    "# create an empty dataframe\n",
    "crested_pigeon_df = pd.DataFrame()\n",
    "# fetch all files of wav format\n",
    "crested_pigeon_df['links'] = glob.glob(\"C:\\\\Users\\\\pragya\\\\Downloads\\\\Iteration 3\\\\crested pigeon\\\\*.wav\")\n",
    "# state the specie type\n",
    "crested_pigeon_df['specie'] = \"Crested Pigeon\"\n",
    "\n",
    "# create an empty dataframe\n",
    "eastern_spinebill_df = pd.DataFrame()\n",
    "# fetch all files of wav format\n",
    "eastern_spinebill_df['links'] = glob.glob(\"C:\\\\Users\\\\pragya\\\\Downloads\\\\Iteration 3\\\\eastern spinebill\\\\*.wav\")\n",
    "# state the specie type\n",
    "eastern_spinebill_df['specie'] = \"Eastern Spinebill\"\n",
    "\n",
    "# create an empty dataframe\n",
    "grey_butcherbird_df = pd.DataFrame()\n",
    "# fetch all files of wav format\n",
    "grey_butcherbird_df['links'] = glob.glob(\"C:\\\\Users\\\\pragya\\\\Downloads\\\\Iteration 3\\\\grey butcherbird\\\\*.wav\")\n",
    "# state the specie type\n",
    "grey_butcherbird_df['specie'] = \"Grey Butcherbird\"\n",
    "\n",
    "# create an empty dataframe\n",
    "grey_fantail_df = pd.DataFrame()\n",
    "# fetch all files of wav format\n",
    "grey_fantail_df['links'] = glob.glob(\"C:\\\\Users\\\\pragya\\\\Downloads\\\\Iteration 3\\\\grey fantail\\\\*.wav\")\n",
    "# state the specie type\n",
    "grey_fantail_df['specie'] = \"Grey Fantail\"\n",
    "\n",
    "# create an empty dataframe\n",
    "noisy_miner_df = pd.DataFrame()\n",
    "# fetch all files of wav format\n",
    "noisy_miner_df['links'] = glob.glob(\"C:\\\\Users\\\\pragya\\\\Downloads\\\\Iteration 3\\\\noisy miner\\\\*.wav\")\n",
    "# state the specie type\n",
    "noisy_miner_df['specie'] = \"Noisy Miner\"\n",
    "\n",
    "# create an empty dataframe\n",
    "silvereye_df = pd.DataFrame()\n",
    "# fetch all files of wav format\n",
    "silvereye_df['links'] = glob.glob(\"C:\\\\Users\\\\pragya\\\\Downloads\\\\Iteration 3\\\\silvereye\\\\*.wav\")\n",
    "# state the specie type\n",
    "silvereye_df['specie'] = \"Silvereye\"\n",
    "\n",
    "# create an empty dataframe\n",
    "sulphur_crested_cockatoo_df = pd.DataFrame()\n",
    "# fetch all files of wav format\n",
    "sulphur_crested_cockatoo_df['links'] = glob.glob(\"C:\\\\Users\\\\pragya\\\\Downloads\\\\Iteration 3\\\\sulphur crested cockatoo\\\\*.wav\")\n",
    "# state the specie type\n",
    "sulphur_crested_cockatoo_df['specie'] = \"Sulphur Crested Cockatoo\"\n",
    "\n",
    "# create an empty dataframe\n",
    "cat_df = pd.DataFrame()\n",
    "# fetch all files of wav format\n",
    "cat_df['links'] = glob.glob(\"C:\\\\Users\\\\pragya\\\\Downloads\\\\Iteration 3\\\\cats\\\\*.wav\")\n",
    "# state the specie type\n",
    "cat_df['specie'] = \"Cats\"\n",
    "\n",
    "# create an empty dataframe\n",
    "dog_df = pd.DataFrame()\n",
    "# fetch all files of wav format\n",
    "dog_df['links'] = glob.glob(\"C:\\\\Users\\\\pragya\\\\Downloads\\\\Iteration 3\\\\dogs\\\\*.wav\")\n",
    "# state the specie type\n",
    "dog_df['specie'] = \"Dogs\""
   ]
  },
  {
   "cell_type": "code",
   "execution_count": null,
   "id": "b5a50ab9",
   "metadata": {},
   "outputs": [],
   "source": [
    "# add all wav files and their species to one dataframe\n",
    "df = pd.concat([new_holland_df, brown_headed_df, white_napped_df, australian_king_parrot_df, australian_magpie_df, australian_raven_df, \n",
    "                crested_pigeon_df, eastern_spinebill_df, grey_butcherbird_df, grey_fantail_df, noisy_miner_df, silvereye_df, \n",
    "                sulphur_crested_cockatoo_df, cat_df, dog_df])"
   ]
  },
  {
   "cell_type": "code",
   "execution_count": null,
   "id": "340d09db",
   "metadata": {},
   "outputs": [],
   "source": [
    "# check the count of every specie in the dataframe created\n",
    "df.specie.value_counts()"
   ]
  },
  {
   "cell_type": "code",
   "execution_count": null,
   "id": "2b708e95",
   "metadata": {},
   "outputs": [],
   "source": [
    "# export the dataframe to a csv format\n",
    "df.to_csv('specie_sound.csv', index = False)"
   ]
  },
  {
   "cell_type": "markdown",
   "id": "2a47d0d9",
   "metadata": {},
   "source": [
    "_______________________________________________________________________________________________________________________________"
   ]
  }
 ],
 "metadata": {
  "kernelspec": {
   "display_name": "Python 3",
   "language": "python",
   "name": "python3"
  },
  "language_info": {
   "codemirror_mode": {
    "name": "ipython",
    "version": 3
   },
   "file_extension": ".py",
   "mimetype": "text/x-python",
   "name": "python",
   "nbconvert_exporter": "python",
   "pygments_lexer": "ipython3",
   "version": "3.7.4"
  }
 },
 "nbformat": 4,
 "nbformat_minor": 5
}
