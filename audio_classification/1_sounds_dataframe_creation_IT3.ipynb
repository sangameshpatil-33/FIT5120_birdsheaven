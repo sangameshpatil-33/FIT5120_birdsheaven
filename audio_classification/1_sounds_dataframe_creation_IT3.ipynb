{
 "cells": [
  {
   "cell_type": "markdown",
   "id": "c3275c93",
   "metadata": {},
   "source": [
    "## READ FILENAMES"
   ]
  },
  {
   "cell_type": "code",
   "execution_count": 1,
   "id": "f6c90574",
   "metadata": {},
   "outputs": [],
   "source": [
    "# import OS module\n",
    "import os\n",
    "import pandas as pd\n",
    "import glob\n",
    "\n",
    "\n",
    "brown_headed_filenames = glob.glob('C:\\\\Users\\\\pragya\\\\Downloads\\\\Iteration 3\\\\brown headed honeyeater\\\\*.mp3')\n",
    "new_holland_filenames = glob.glob('C:\\\\Users\\\\pragya\\\\Downloads\\\\Iteration 3\\\\new holland honeyeater\\\\*.mp3')\n",
    "white_napped_filenames = glob.glob(\"C:\\\\Users\\\\pragya\\\\Downloads\\\\Iteration 3\\\\white naped honeyeater\\\\*.mp3\")"
   ]
  },
  {
   "cell_type": "code",
   "execution_count": 2,
   "id": "b024a3f2",
   "metadata": {},
   "outputs": [],
   "source": [
    "australian_king_parrot_filenames = glob.glob(\"C:\\\\Users\\\\pragya\\\\Downloads\\\\Iteration 3\\\\australian king parrot\\\\*.mp3\")\n",
    "australian_magpie_filenames = glob.glob(\"C:\\\\Users\\\\pragya\\\\Downloads\\\\Iteration 3\\\\australian magpie\\\\*.mp3\")\n",
    "australian_raven_filenames = glob.glob(\"C:\\\\Users\\\\pragya\\\\Downloads\\\\Iteration 3\\\\australian raven\\\\*.mp3\")\n",
    "crested_pigeon_filenames = glob.glob(\"C:\\\\Users\\\\pragya\\\\Downloads\\\\Iteration 3\\\\crested pigeon\\\\*.mp3\")\n",
    "eastern_spinebill_filenames = glob.glob(\"C:\\\\Users\\\\pragya\\\\Downloads\\\\Iteration 3\\\\eastern spinebill\\\\*.mp3\")\n",
    "grey_butcherbird_filenames = glob.glob(\"C:\\\\Users\\\\pragya\\\\Downloads\\\\Iteration 3\\\\grey butcherbird\\\\*.mp3\")\n",
    "grey_fantail_filenames = glob.glob(\"C:\\\\Users\\\\pragya\\\\Downloads\\\\Iteration 3\\\\grey fantail\\\\*.mp3\")\n",
    "noisy_miner_filenames = glob.glob(\"C:\\\\Users\\\\pragya\\\\Downloads\\\\Iteration 3\\\\noisy miner\\\\*.mp3\")\n",
    "silvereye_filenames = glob.glob(\"C:\\\\Users\\\\pragya\\\\Downloads\\\\Iteration 3\\\\silvereye\\\\*.mp3\")\n",
    "sulphur_crested_cockatoo_filenames = glob.glob(\"C:\\\\Users\\\\pragya\\\\Downloads\\\\Iteration 3\\\\sulphur crested cockatoo\\\\*.mp3\")"
   ]
  },
  {
   "cell_type": "markdown",
   "id": "c3aa0921",
   "metadata": {},
   "source": [
    "_______________________________________________________________________________________________________________________________"
   ]
  },
  {
   "cell_type": "markdown",
   "id": "f5d5f7dd",
   "metadata": {},
   "source": [
    "## CONVERT AUDIO FILE TO WAV FORMAT"
   ]
  },
  {
   "cell_type": "code",
   "execution_count": 3,
   "id": "f686eb95",
   "metadata": {},
   "outputs": [],
   "source": [
    "# REFERENCE: https://campus.datacamp.com/courses/spoken-language-processing-in-python/processing-text-transcribed-from-spoken-language?ex=2\n",
    "\n",
    "from pydub import AudioSegment\n",
    "\n",
    "# Create function to convert audio file to wav\n",
    "def convert_to_wav(filename):\n",
    "    # Takes an audio file of non .wav format and converts to .wav\n",
    "    # Import audio file\n",
    "    audio = AudioSegment.from_file(filename)\n",
    "  \n",
    "    # Create new filename\n",
    "    new_filename = filename.split(\".\")[0] + \".wav\"\n",
    "  \n",
    "    # Export file as .wav\n",
    "    audio.export(new_filename, format=\"wav\")\n",
    "    print(f\"Converting {filename} to {new_filename}...\")"
   ]
  },
  {
   "cell_type": "code",
   "execution_count": 4,
   "id": "1fa47268",
   "metadata": {},
   "outputs": [
    {
     "name": "stdout",
     "output_type": "stream",
     "text": [
      "Converting C:\\Users\\pragya\\Downloads\\Iteration 3\\brown headed honeyeater\\XC104883 - Brown-headed Honeyeater - Melithreptus brevirostris brevirostris.mp3 to C:\\Users\\pragya\\Downloads\\Iteration 3\\brown headed honeyeater\\XC104883 - Brown-headed Honeyeater - Melithreptus brevirostris brevirostris.wav...\n",
      "Converting C:\\Users\\pragya\\Downloads\\Iteration 3\\brown headed honeyeater\\XC104884 - Brown-headed Honeyeater - Melithreptus brevirostris brevirostris.mp3 to C:\\Users\\pragya\\Downloads\\Iteration 3\\brown headed honeyeater\\XC104884 - Brown-headed Honeyeater - Melithreptus brevirostris brevirostris.wav...\n",
      "Converting C:\\Users\\pragya\\Downloads\\Iteration 3\\brown headed honeyeater\\XC104885 - Brown-headed Honeyeater - Melithreptus brevirostris brevirostris.mp3 to C:\\Users\\pragya\\Downloads\\Iteration 3\\brown headed honeyeater\\XC104885 - Brown-headed Honeyeater - Melithreptus brevirostris brevirostris.wav...\n",
      "Converting C:\\Users\\pragya\\Downloads\\Iteration 3\\brown headed honeyeater\\XC188237 - Brown-headed Honeyeater - Melithreptus brevirostris brevirostris.mp3 to C:\\Users\\pragya\\Downloads\\Iteration 3\\brown headed honeyeater\\XC188237 - Brown-headed Honeyeater - Melithreptus brevirostris brevirostris.wav...\n",
      "Converting C:\\Users\\pragya\\Downloads\\Iteration 3\\brown headed honeyeater\\XC197377 - Brown-headed Honeyeater - Melithreptus brevirostris.mp3 to C:\\Users\\pragya\\Downloads\\Iteration 3\\brown headed honeyeater\\XC197377 - Brown-headed Honeyeater - Melithreptus brevirostris.wav...\n",
      "Converting C:\\Users\\pragya\\Downloads\\Iteration 3\\brown headed honeyeater\\XC197588 - Brown-headed Honeyeater - Melithreptus brevirostris.mp3 to C:\\Users\\pragya\\Downloads\\Iteration 3\\brown headed honeyeater\\XC197588 - Brown-headed Honeyeater - Melithreptus brevirostris.wav...\n",
      "Converting C:\\Users\\pragya\\Downloads\\Iteration 3\\brown headed honeyeater\\XC200315 - Brown-headed Honeyeater - Melithreptus brevirostris.mp3 to C:\\Users\\pragya\\Downloads\\Iteration 3\\brown headed honeyeater\\XC200315 - Brown-headed Honeyeater - Melithreptus brevirostris.wav...\n",
      "Converting C:\\Users\\pragya\\Downloads\\Iteration 3\\brown headed honeyeater\\XC203154 - Brown-headed Honeyeater - Melithreptus brevirostris pallidiceps.mp3 to C:\\Users\\pragya\\Downloads\\Iteration 3\\brown headed honeyeater\\XC203154 - Brown-headed Honeyeater - Melithreptus brevirostris pallidiceps.wav...\n",
      "Converting C:\\Users\\pragya\\Downloads\\Iteration 3\\brown headed honeyeater\\XC286940 - Brown-headed Honeyeater - Melithreptus brevirostris.mp3 to C:\\Users\\pragya\\Downloads\\Iteration 3\\brown headed honeyeater\\XC286940 - Brown-headed Honeyeater - Melithreptus brevirostris.wav...\n",
      "Converting C:\\Users\\pragya\\Downloads\\Iteration 3\\brown headed honeyeater\\XC328849 - Brown-headed Honeyeater - Melithreptus brevirostris.mp3 to C:\\Users\\pragya\\Downloads\\Iteration 3\\brown headed honeyeater\\XC328849 - Brown-headed Honeyeater - Melithreptus brevirostris.wav...\n",
      "Converting C:\\Users\\pragya\\Downloads\\Iteration 3\\brown headed honeyeater\\XC334423 - Brown-headed Honeyeater - Melithreptus brevirostris.mp3 to C:\\Users\\pragya\\Downloads\\Iteration 3\\brown headed honeyeater\\XC334423 - Brown-headed Honeyeater - Melithreptus brevirostris.wav...\n",
      "Converting C:\\Users\\pragya\\Downloads\\Iteration 3\\brown headed honeyeater\\XC334463 - Brown-headed Honeyeater - Melithreptus brevirostris.mp3 to C:\\Users\\pragya\\Downloads\\Iteration 3\\brown headed honeyeater\\XC334463 - Brown-headed Honeyeater - Melithreptus brevirostris.wav...\n",
      "Converting C:\\Users\\pragya\\Downloads\\Iteration 3\\brown headed honeyeater\\XC383185 - Brown-headed Honeyeater - Melithreptus brevirostris leucogenys.mp3 to C:\\Users\\pragya\\Downloads\\Iteration 3\\brown headed honeyeater\\XC383185 - Brown-headed Honeyeater - Melithreptus brevirostris leucogenys.wav...\n",
      "Converting C:\\Users\\pragya\\Downloads\\Iteration 3\\brown headed honeyeater\\XC393384 - Brown-headed Honeyeater - Melithreptus brevirostris.mp3 to C:\\Users\\pragya\\Downloads\\Iteration 3\\brown headed honeyeater\\XC393384 - Brown-headed Honeyeater - Melithreptus brevirostris.wav...\n",
      "Converting C:\\Users\\pragya\\Downloads\\Iteration 3\\brown headed honeyeater\\XC407727 - Brown-headed Honeyeater - Melithreptus brevirostris pallidiceps_.mp3 to C:\\Users\\pragya\\Downloads\\Iteration 3\\brown headed honeyeater\\XC407727 - Brown-headed Honeyeater - Melithreptus brevirostris pallidiceps_.wav...\n",
      "Converting C:\\Users\\pragya\\Downloads\\Iteration 3\\brown headed honeyeater\\XC407728 - Brown-headed Honeyeater - Melithreptus brevirostris pallidiceps_.mp3 to C:\\Users\\pragya\\Downloads\\Iteration 3\\brown headed honeyeater\\XC407728 - Brown-headed Honeyeater - Melithreptus brevirostris pallidiceps_.wav...\n",
      "Converting C:\\Users\\pragya\\Downloads\\Iteration 3\\brown headed honeyeater\\XC592604 - Brown-headed Honeyeater - Melithreptus brevirostris.mp3 to C:\\Users\\pragya\\Downloads\\Iteration 3\\brown headed honeyeater\\XC592604 - Brown-headed Honeyeater - Melithreptus brevirostris.wav...\n",
      "Converting C:\\Users\\pragya\\Downloads\\Iteration 3\\brown headed honeyeater\\XC729287 - Brown-headed Honeyeater - Melithreptus brevirostris.mp3 to C:\\Users\\pragya\\Downloads\\Iteration 3\\brown headed honeyeater\\XC729287 - Brown-headed Honeyeater - Melithreptus brevirostris.wav...\n"
     ]
    }
   ],
   "source": [
    "for i in brown_headed_filenames:\n",
    "    # Test the function\n",
    "    convert_to_wav(i)"
   ]
  },
  {
   "cell_type": "code",
   "execution_count": 5,
   "id": "a7ef6b07",
   "metadata": {},
   "outputs": [
    {
     "name": "stdout",
     "output_type": "stream",
     "text": [
      "Converting C:\\Users\\pragya\\Downloads\\Iteration 3\\new holland honeyeater\\328859.mp3 to C:\\Users\\pragya\\Downloads\\Iteration 3\\new holland honeyeater\\328859.wav...\n",
      "Converting C:\\Users\\pragya\\Downloads\\Iteration 3\\new holland honeyeater\\354735.mp3 to C:\\Users\\pragya\\Downloads\\Iteration 3\\new holland honeyeater\\354735.wav...\n",
      "Converting C:\\Users\\pragya\\Downloads\\Iteration 3\\new holland honeyeater\\370620.mp3 to C:\\Users\\pragya\\Downloads\\Iteration 3\\new holland honeyeater\\370620.wav...\n",
      "Converting C:\\Users\\pragya\\Downloads\\Iteration 3\\new holland honeyeater\\XC104917 - New Holland Honeyeater - Phylidonyris novaehollandiae novaehollandiae.mp3 to C:\\Users\\pragya\\Downloads\\Iteration 3\\new holland honeyeater\\XC104917 - New Holland Honeyeater - Phylidonyris novaehollandiae novaehollandiae.wav...\n",
      "Converting C:\\Users\\pragya\\Downloads\\Iteration 3\\new holland honeyeater\\XC104918 - New Holland Honeyeater - Phylidonyris novaehollandiae novaehollandiae.mp3 to C:\\Users\\pragya\\Downloads\\Iteration 3\\new holland honeyeater\\XC104918 - New Holland Honeyeater - Phylidonyris novaehollandiae novaehollandiae.wav...\n",
      "Converting C:\\Users\\pragya\\Downloads\\Iteration 3\\new holland honeyeater\\XC140204 - New Holland Honeyeater - Phylidonyris novaehollandiae.mp3 to C:\\Users\\pragya\\Downloads\\Iteration 3\\new holland honeyeater\\XC140204 - New Holland Honeyeater - Phylidonyris novaehollandiae.wav...\n",
      "Converting C:\\Users\\pragya\\Downloads\\Iteration 3\\new holland honeyeater\\XC146651 - New Holland Honeyeater - Phylidonyris novaehollandiae.mp3 to C:\\Users\\pragya\\Downloads\\Iteration 3\\new holland honeyeater\\XC146651 - New Holland Honeyeater - Phylidonyris novaehollandiae.wav...\n",
      "Converting C:\\Users\\pragya\\Downloads\\Iteration 3\\new holland honeyeater\\XC171959 - New Holland Honeyeater - Phylidonyris novaehollandiae.mp3 to C:\\Users\\pragya\\Downloads\\Iteration 3\\new holland honeyeater\\XC171959 - New Holland Honeyeater - Phylidonyris novaehollandiae.wav...\n",
      "Converting C:\\Users\\pragya\\Downloads\\Iteration 3\\new holland honeyeater\\XC171960 - New Holland Honeyeater - Phylidonyris novaehollandiae.mp3 to C:\\Users\\pragya\\Downloads\\Iteration 3\\new holland honeyeater\\XC171960 - New Holland Honeyeater - Phylidonyris novaehollandiae.wav...\n",
      "Converting C:\\Users\\pragya\\Downloads\\Iteration 3\\new holland honeyeater\\XC172248 - New Holland Honeyeater - Phylidonyris novaehollandiae.mp3 to C:\\Users\\pragya\\Downloads\\Iteration 3\\new holland honeyeater\\XC172248 - New Holland Honeyeater - Phylidonyris novaehollandiae.wav...\n",
      "Converting C:\\Users\\pragya\\Downloads\\Iteration 3\\new holland honeyeater\\XC172248-new-holland-mt-wilson-1.mp3 to C:\\Users\\pragya\\Downloads\\Iteration 3\\new holland honeyeater\\XC172248-new-holland-mt-wilson-1.wav...\n",
      "Converting C:\\Users\\pragya\\Downloads\\Iteration 3\\new holland honeyeater\\XC186225 - New Holland Honeyeater - Phylidonyris novaehollandiae novaehollandiae.mp3 to C:\\Users\\pragya\\Downloads\\Iteration 3\\new holland honeyeater\\XC186225 - New Holland Honeyeater - Phylidonyris novaehollandiae novaehollandiae.wav...\n",
      "Converting C:\\Users\\pragya\\Downloads\\Iteration 3\\new holland honeyeater\\XC204469 - New Holland Honeyeater - Phylidonyris novaehollandiae.mp3 to C:\\Users\\pragya\\Downloads\\Iteration 3\\new holland honeyeater\\XC204469 - New Holland Honeyeater - Phylidonyris novaehollandiae.wav...\n",
      "Converting C:\\Users\\pragya\\Downloads\\Iteration 3\\new holland honeyeater\\XC204469-new-holland-heater-tas.mp3 to C:\\Users\\pragya\\Downloads\\Iteration 3\\new holland honeyeater\\XC204469-new-holland-heater-tas.wav...\n",
      "Converting C:\\Users\\pragya\\Downloads\\Iteration 3\\new holland honeyeater\\XC241027 - New Holland Honeyeater - Phylidonyris novaehollandiae.mp3 to C:\\Users\\pragya\\Downloads\\Iteration 3\\new holland honeyeater\\XC241027 - New Holland Honeyeater - Phylidonyris novaehollandiae.wav...\n",
      "Converting C:\\Users\\pragya\\Downloads\\Iteration 3\\new holland honeyeater\\XC328854 - New Holland Honeyeater - Phylidonyris novaehollandiae.mp3 to C:\\Users\\pragya\\Downloads\\Iteration 3\\new holland honeyeater\\XC328854 - New Holland Honeyeater - Phylidonyris novaehollandiae.wav...\n",
      "Converting C:\\Users\\pragya\\Downloads\\Iteration 3\\new holland honeyeater\\XC328854-New Holland Honeyeater2016-1-11-2.mp3 to C:\\Users\\pragya\\Downloads\\Iteration 3\\new holland honeyeater\\XC328854-New Holland Honeyeater2016-1-11-2.wav...\n",
      "Converting C:\\Users\\pragya\\Downloads\\Iteration 3\\new holland honeyeater\\XC328855 - New Holland Honeyeater - Phylidonyris novaehollandiae.mp3 to C:\\Users\\pragya\\Downloads\\Iteration 3\\new holland honeyeater\\XC328855 - New Holland Honeyeater - Phylidonyris novaehollandiae.wav...\n",
      "Converting C:\\Users\\pragya\\Downloads\\Iteration 3\\new holland honeyeater\\XC328855-New Holland Honeyeater2016-1-11-3.mp3 to C:\\Users\\pragya\\Downloads\\Iteration 3\\new holland honeyeater\\XC328855-New Holland Honeyeater2016-1-11-3.wav...\n",
      "Converting C:\\Users\\pragya\\Downloads\\Iteration 3\\new holland honeyeater\\XC328856 - New Holland Honeyeater - Phylidonyris novaehollandiae.mp3 to C:\\Users\\pragya\\Downloads\\Iteration 3\\new holland honeyeater\\XC328856 - New Holland Honeyeater - Phylidonyris novaehollandiae.wav...\n",
      "Converting C:\\Users\\pragya\\Downloads\\Iteration 3\\new holland honeyeater\\XC328856-New Holland Honeyeater2016-1-11-4.mp3 to C:\\Users\\pragya\\Downloads\\Iteration 3\\new holland honeyeater\\XC328856-New Holland Honeyeater2016-1-11-4.wav...\n",
      "Converting C:\\Users\\pragya\\Downloads\\Iteration 3\\new holland honeyeater\\XC328857 - New Holland Honeyeater - Phylidonyris novaehollandiae.mp3 to C:\\Users\\pragya\\Downloads\\Iteration 3\\new holland honeyeater\\XC328857 - New Holland Honeyeater - Phylidonyris novaehollandiae.wav...\n",
      "Converting C:\\Users\\pragya\\Downloads\\Iteration 3\\new holland honeyeater\\XC328857-New Holland Honeyeater2016-1-11-5.mp3 to C:\\Users\\pragya\\Downloads\\Iteration 3\\new holland honeyeater\\XC328857-New Holland Honeyeater2016-1-11-5.wav...\n",
      "Converting C:\\Users\\pragya\\Downloads\\Iteration 3\\new holland honeyeater\\XC328858 - New Holland Honeyeater - Phylidonyris novaehollandiae.mp3 to C:\\Users\\pragya\\Downloads\\Iteration 3\\new holland honeyeater\\XC328858 - New Holland Honeyeater - Phylidonyris novaehollandiae.wav...\n",
      "Converting C:\\Users\\pragya\\Downloads\\Iteration 3\\new holland honeyeater\\XC328858-New Holland Honeyeater2016-1-19-1.mp3 to C:\\Users\\pragya\\Downloads\\Iteration 3\\new holland honeyeater\\XC328858-New Holland Honeyeater2016-1-19-1.wav...\n",
      "Converting C:\\Users\\pragya\\Downloads\\Iteration 3\\new holland honeyeater\\XC328859 - New Holland Honeyeater - Phylidonyris novaehollandiae.mp3 to C:\\Users\\pragya\\Downloads\\Iteration 3\\new holland honeyeater\\XC328859 - New Holland Honeyeater - Phylidonyris novaehollandiae.wav...\n",
      "Converting C:\\Users\\pragya\\Downloads\\Iteration 3\\new holland honeyeater\\XC354735 - New Holland Honeyeater - Phylidonyris novaehollandiae.mp3 to C:\\Users\\pragya\\Downloads\\Iteration 3\\new holland honeyeater\\XC354735 - New Holland Honeyeater - Phylidonyris novaehollandiae.wav...\n",
      "Converting C:\\Users\\pragya\\Downloads\\Iteration 3\\new holland honeyeater\\XC362977 - New Holland Honeyeater - Phylidonyris novaehollandiae.mp3 to C:\\Users\\pragya\\Downloads\\Iteration 3\\new holland honeyeater\\XC362977 - New Holland Honeyeater - Phylidonyris novaehollandiae.wav...\n",
      "Converting C:\\Users\\pragya\\Downloads\\Iteration 3\\new holland honeyeater\\XC370620 - New Holland Honeyeater - Phylidonyris novaehollandiae.mp3 to C:\\Users\\pragya\\Downloads\\Iteration 3\\new holland honeyeater\\XC370620 - New Holland Honeyeater - Phylidonyris novaehollandiae.wav...\n",
      "Converting C:\\Users\\pragya\\Downloads\\Iteration 3\\new holland honeyeater\\XC380193 - New Holland Honeyeater - Phylidonyris novaehollandiae.mp3 to C:\\Users\\pragya\\Downloads\\Iteration 3\\new holland honeyeater\\XC380193 - New Holland Honeyeater - Phylidonyris novaehollandiae.wav...\n",
      "Converting C:\\Users\\pragya\\Downloads\\Iteration 3\\new holland honeyeater\\XC382605 - New Holland Honeyeater - Phylidonyris novaehollandiae longirostris.mp3 to C:\\Users\\pragya\\Downloads\\Iteration 3\\new holland honeyeater\\XC382605 - New Holland Honeyeater - Phylidonyris novaehollandiae longirostris.wav...\n",
      "Converting C:\\Users\\pragya\\Downloads\\Iteration 3\\new holland honeyeater\\XC382676 - New Holland Honeyeater - Phylidonyris novaehollandiae longirostris.mp3 to C:\\Users\\pragya\\Downloads\\Iteration 3\\new holland honeyeater\\XC382676 - New Holland Honeyeater - Phylidonyris novaehollandiae longirostris.wav...\n"
     ]
    },
    {
     "name": "stdout",
     "output_type": "stream",
     "text": [
      "Converting C:\\Users\\pragya\\Downloads\\Iteration 3\\new holland honeyeater\\XC382703 - New Holland Honeyeater - Phylidonyris novaehollandiae longirostris.mp3 to C:\\Users\\pragya\\Downloads\\Iteration 3\\new holland honeyeater\\XC382703 - New Holland Honeyeater - Phylidonyris novaehollandiae longirostris.wav...\n",
      "Converting C:\\Users\\pragya\\Downloads\\Iteration 3\\new holland honeyeater\\XC382704 - New Holland Honeyeater - Phylidonyris novaehollandiae longirostris.mp3 to C:\\Users\\pragya\\Downloads\\Iteration 3\\new holland honeyeater\\XC382704 - New Holland Honeyeater - Phylidonyris novaehollandiae longirostris.wav...\n",
      "Converting C:\\Users\\pragya\\Downloads\\Iteration 3\\new holland honeyeater\\XC382705 - New Holland Honeyeater - Phylidonyris novaehollandiae longirostris.mp3 to C:\\Users\\pragya\\Downloads\\Iteration 3\\new holland honeyeater\\XC382705 - New Holland Honeyeater - Phylidonyris novaehollandiae longirostris.wav...\n",
      "Converting C:\\Users\\pragya\\Downloads\\Iteration 3\\new holland honeyeater\\XC40645 - New Holland Honeyeater - Phylidonyris novaehollandiae longirostris.mp3 to C:\\Users\\pragya\\Downloads\\Iteration 3\\new holland honeyeater\\XC40645 - New Holland Honeyeater - Phylidonyris novaehollandiae longirostris.wav...\n",
      "Converting C:\\Users\\pragya\\Downloads\\Iteration 3\\new holland honeyeater\\XC40686 - New Holland Honeyeater - Phylidonyris novaehollandiae longirostris.mp3 to C:\\Users\\pragya\\Downloads\\Iteration 3\\new holland honeyeater\\XC40686 - New Holland Honeyeater - Phylidonyris novaehollandiae longirostris.wav...\n",
      "Converting C:\\Users\\pragya\\Downloads\\Iteration 3\\new holland honeyeater\\XC40859 - New Holland Honeyeater - Phylidonyris novaehollandiae canescens.mp3 to C:\\Users\\pragya\\Downloads\\Iteration 3\\new holland honeyeater\\XC40859 - New Holland Honeyeater - Phylidonyris novaehollandiae canescens.wav...\n",
      "Converting C:\\Users\\pragya\\Downloads\\Iteration 3\\new holland honeyeater\\XC411590 - New Holland Honeyeater - Phylidonyris novaehollandiae.mp3 to C:\\Users\\pragya\\Downloads\\Iteration 3\\new holland honeyeater\\XC411590 - New Holland Honeyeater - Phylidonyris novaehollandiae.wav...\n",
      "Converting C:\\Users\\pragya\\Downloads\\Iteration 3\\new holland honeyeater\\XC501234 - New Holland Honeyeater - Phylidonyris novaehollandiae.mp3 to C:\\Users\\pragya\\Downloads\\Iteration 3\\new holland honeyeater\\XC501234 - New Holland Honeyeater - Phylidonyris novaehollandiae.wav...\n",
      "Converting C:\\Users\\pragya\\Downloads\\Iteration 3\\new holland honeyeater\\XC502298 - New Holland Honeyeater - Phylidonyris novaehollandiae.mp3 to C:\\Users\\pragya\\Downloads\\Iteration 3\\new holland honeyeater\\XC502298 - New Holland Honeyeater - Phylidonyris novaehollandiae.wav...\n",
      "Converting C:\\Users\\pragya\\Downloads\\Iteration 3\\new holland honeyeater\\XC503530 - New Holland Honeyeater - Phylidonyris novaehollandiae.mp3 to C:\\Users\\pragya\\Downloads\\Iteration 3\\new holland honeyeater\\XC503530 - New Holland Honeyeater - Phylidonyris novaehollandiae.wav...\n",
      "Converting C:\\Users\\pragya\\Downloads\\Iteration 3\\new holland honeyeater\\XC552284 - New Holland Honeyeater - Phylidonyris novaehollandiae novaehollandiae.mp3 to C:\\Users\\pragya\\Downloads\\Iteration 3\\new holland honeyeater\\XC552284 - New Holland Honeyeater - Phylidonyris novaehollandiae novaehollandiae.wav...\n",
      "Converting C:\\Users\\pragya\\Downloads\\Iteration 3\\new holland honeyeater\\XC608476 - New Holland Honeyeater - Phylidonyris novaehollandiae.mp3 to C:\\Users\\pragya\\Downloads\\Iteration 3\\new holland honeyeater\\XC608476 - New Holland Honeyeater - Phylidonyris novaehollandiae.wav...\n",
      "Converting C:\\Users\\pragya\\Downloads\\Iteration 3\\new holland honeyeater\\XC609040 - New Holland Honeyeater - Phylidonyris novaehollandiae.mp3 to C:\\Users\\pragya\\Downloads\\Iteration 3\\new holland honeyeater\\XC609040 - New Holland Honeyeater - Phylidonyris novaehollandiae.wav...\n",
      "Converting C:\\Users\\pragya\\Downloads\\Iteration 3\\new holland honeyeater\\XC609041 - New Holland Honeyeater - Phylidonyris novaehollandiae.mp3 to C:\\Users\\pragya\\Downloads\\Iteration 3\\new holland honeyeater\\XC609041 - New Holland Honeyeater - Phylidonyris novaehollandiae.wav...\n",
      "Converting C:\\Users\\pragya\\Downloads\\Iteration 3\\new holland honeyeater\\XC609076 - New Holland Honeyeater - Phylidonyris novaehollandiae.mp3 to C:\\Users\\pragya\\Downloads\\Iteration 3\\new holland honeyeater\\XC609076 - New Holland Honeyeater - Phylidonyris novaehollandiae.wav...\n",
      "Converting C:\\Users\\pragya\\Downloads\\Iteration 3\\new holland honeyeater\\XC612436 - New Holland Honeyeater - Phylidonyris novaehollandiae.mp3 to C:\\Users\\pragya\\Downloads\\Iteration 3\\new holland honeyeater\\XC612436 - New Holland Honeyeater - Phylidonyris novaehollandiae.wav...\n",
      "Converting C:\\Users\\pragya\\Downloads\\Iteration 3\\new holland honeyeater\\XC638396 - New Holland Honeyeater - Phylidonyris novaehollandiae.mp3 to C:\\Users\\pragya\\Downloads\\Iteration 3\\new holland honeyeater\\XC638396 - New Holland Honeyeater - Phylidonyris novaehollandiae.wav...\n",
      "Converting C:\\Users\\pragya\\Downloads\\Iteration 3\\new holland honeyeater\\XC646299 - New Holland Honeyeater - Phylidonyris novaehollandiae.mp3 to C:\\Users\\pragya\\Downloads\\Iteration 3\\new holland honeyeater\\XC646299 - New Holland Honeyeater - Phylidonyris novaehollandiae.wav...\n",
      "Converting C:\\Users\\pragya\\Downloads\\Iteration 3\\new holland honeyeater\\XC669701 - New Holland Honeyeater - Phylidonyris novaehollandiae.mp3 to C:\\Users\\pragya\\Downloads\\Iteration 3\\new holland honeyeater\\XC669701 - New Holland Honeyeater - Phylidonyris novaehollandiae.wav...\n",
      "Converting C:\\Users\\pragya\\Downloads\\Iteration 3\\new holland honeyeater\\XC673203 - New Holland Honeyeater - Phylidonyris novaehollandiae.mp3 to C:\\Users\\pragya\\Downloads\\Iteration 3\\new holland honeyeater\\XC673203 - New Holland Honeyeater - Phylidonyris novaehollandiae.wav...\n",
      "Converting C:\\Users\\pragya\\Downloads\\Iteration 3\\new holland honeyeater\\XC673204 - New Holland Honeyeater - Phylidonyris novaehollandiae.mp3 to C:\\Users\\pragya\\Downloads\\Iteration 3\\new holland honeyeater\\XC673204 - New Holland Honeyeater - Phylidonyris novaehollandiae.wav...\n",
      "Converting C:\\Users\\pragya\\Downloads\\Iteration 3\\new holland honeyeater\\XC684056 - New Holland Honeyeater - Phylidonyris novaehollandiae.mp3 to C:\\Users\\pragya\\Downloads\\Iteration 3\\new holland honeyeater\\XC684056 - New Holland Honeyeater - Phylidonyris novaehollandiae.wav...\n",
      "Converting C:\\Users\\pragya\\Downloads\\Iteration 3\\new holland honeyeater\\XC721720 - New Holland Honeyeater - Phylidonyris novaehollandiae novaehollandiae.mp3 to C:\\Users\\pragya\\Downloads\\Iteration 3\\new holland honeyeater\\XC721720 - New Holland Honeyeater - Phylidonyris novaehollandiae novaehollandiae.wav...\n",
      "Converting C:\\Users\\pragya\\Downloads\\Iteration 3\\new holland honeyeater\\XC721722 - New Holland Honeyeater - Phylidonyris novaehollandiae novaehollandiae.mp3 to C:\\Users\\pragya\\Downloads\\Iteration 3\\new holland honeyeater\\XC721722 - New Holland Honeyeater - Phylidonyris novaehollandiae novaehollandiae.wav...\n",
      "Converting C:\\Users\\pragya\\Downloads\\Iteration 3\\new holland honeyeater\\XC729342 - New Holland Honeyeater - Phylidonyris novaehollandiae.mp3 to C:\\Users\\pragya\\Downloads\\Iteration 3\\new holland honeyeater\\XC729342 - New Holland Honeyeater - Phylidonyris novaehollandiae.wav...\n",
      "Converting C:\\Users\\pragya\\Downloads\\Iteration 3\\new holland honeyeater\\XC98294 - New Holland Honeyeater - Phylidonyris novaehollandiae.mp3 to C:\\Users\\pragya\\Downloads\\Iteration 3\\new holland honeyeater\\XC98294 - New Holland Honeyeater - Phylidonyris novaehollandiae.wav...\n",
      "Converting C:\\Users\\pragya\\Downloads\\Iteration 3\\new holland honeyeater\\XC98295 - New Holland Honeyeater - Phylidonyris novaehollandiae.mp3 to C:\\Users\\pragya\\Downloads\\Iteration 3\\new holland honeyeater\\XC98295 - New Holland Honeyeater - Phylidonyris novaehollandiae.wav...\n"
     ]
    }
   ],
   "source": [
    "for i in new_holland_filenames:\n",
    "    # Test the function\n",
    "    convert_to_wav(i)"
   ]
  },
  {
   "cell_type": "code",
   "execution_count": 6,
   "id": "c5a8b818",
   "metadata": {},
   "outputs": [
    {
     "name": "stdout",
     "output_type": "stream",
     "text": [
      "Converting C:\\Users\\pragya\\Downloads\\Iteration 3\\white naped honeyeater\\1365173943.mp3 to C:\\Users\\pragya\\Downloads\\Iteration 3\\white naped honeyeater\\1365173943.wav...\n",
      "Converting C:\\Users\\pragya\\Downloads\\Iteration 3\\white naped honeyeater\\1365183935.mp3 to C:\\Users\\pragya\\Downloads\\Iteration 3\\white naped honeyeater\\1365183935.wav...\n",
      "Converting C:\\Users\\pragya\\Downloads\\Iteration 3\\white naped honeyeater\\328852.mp3 to C:\\Users\\pragya\\Downloads\\Iteration 3\\white naped honeyeater\\328852.wav...\n",
      "Converting C:\\Users\\pragya\\Downloads\\Iteration 3\\white naped honeyeater\\328853.mp3 to C:\\Users\\pragya\\Downloads\\Iteration 3\\white naped honeyeater\\328853.wav...\n",
      "Converting C:\\Users\\pragya\\Downloads\\Iteration 3\\white naped honeyeater\\370067.mp3 to C:\\Users\\pragya\\Downloads\\Iteration 3\\white naped honeyeater\\370067.wav...\n",
      "Converting C:\\Users\\pragya\\Downloads\\Iteration 3\\white naped honeyeater\\XC140192 - White-naped Honeyeater - Melithreptus lunatus.mp3 to C:\\Users\\pragya\\Downloads\\Iteration 3\\white naped honeyeater\\XC140192 - White-naped Honeyeater - Melithreptus lunatus.wav...\n",
      "Converting C:\\Users\\pragya\\Downloads\\Iteration 3\\white naped honeyeater\\XC140192-white-naped-honeyeater1.mp3 to C:\\Users\\pragya\\Downloads\\Iteration 3\\white naped honeyeater\\XC140192-white-naped-honeyeater1.wav...\n",
      "Converting C:\\Users\\pragya\\Downloads\\Iteration 3\\white naped honeyeater\\XC140193 - White-naped Honeyeater - Melithreptus lunatus.mp3 to C:\\Users\\pragya\\Downloads\\Iteration 3\\white naped honeyeater\\XC140193 - White-naped Honeyeater - Melithreptus lunatus.wav...\n",
      "Converting C:\\Users\\pragya\\Downloads\\Iteration 3\\white naped honeyeater\\XC140193-white-naped-honeyeater2.mp3 to C:\\Users\\pragya\\Downloads\\Iteration 3\\white naped honeyeater\\XC140193-white-naped-honeyeater2.wav...\n",
      "Converting C:\\Users\\pragya\\Downloads\\Iteration 3\\white naped honeyeater\\XC146139 - White-naped Honeyeater - Melithreptus lunatus.mp3 to C:\\Users\\pragya\\Downloads\\Iteration 3\\white naped honeyeater\\XC146139 - White-naped Honeyeater - Melithreptus lunatus.wav...\n",
      "Converting C:\\Users\\pragya\\Downloads\\Iteration 3\\white naped honeyeater\\XC146139-white-naped-honeyeater3.mp3 to C:\\Users\\pragya\\Downloads\\Iteration 3\\white naped honeyeater\\XC146139-white-naped-honeyeater3.wav...\n",
      "Converting C:\\Users\\pragya\\Downloads\\Iteration 3\\white naped honeyeater\\XC172251 - White-naped Honeyeater - Melithreptus lunatus.mp3 to C:\\Users\\pragya\\Downloads\\Iteration 3\\white naped honeyeater\\XC172251 - White-naped Honeyeater - Melithreptus lunatus.wav...\n",
      "Converting C:\\Users\\pragya\\Downloads\\Iteration 3\\white naped honeyeater\\XC172251-white-naped-honeyeater-2nd-call.mp3 to C:\\Users\\pragya\\Downloads\\Iteration 3\\white naped honeyeater\\XC172251-white-naped-honeyeater-2nd-call.wav...\n",
      "Converting C:\\Users\\pragya\\Downloads\\Iteration 3\\white naped honeyeater\\XC188051 - White-naped Honeyeater - Melithreptus lunatus.mp3 to C:\\Users\\pragya\\Downloads\\Iteration 3\\white naped honeyeater\\XC188051 - White-naped Honeyeater - Melithreptus lunatus.wav...\n",
      "Converting C:\\Users\\pragya\\Downloads\\Iteration 3\\white naped honeyeater\\XC188051-White-naped Honeyeater_Kuringai-Chase.mp3 to C:\\Users\\pragya\\Downloads\\Iteration 3\\white naped honeyeater\\XC188051-White-naped Honeyeater_Kuringai-Chase.wav...\n",
      "Converting C:\\Users\\pragya\\Downloads\\Iteration 3\\white naped honeyeater\\XC188235 - White-naped Honeyeater - Melithreptus lunatus lunatus.mp3 to C:\\Users\\pragya\\Downloads\\Iteration 3\\white naped honeyeater\\XC188235 - White-naped Honeyeater - Melithreptus lunatus lunatus.wav...\n",
      "Converting C:\\Users\\pragya\\Downloads\\Iteration 3\\white naped honeyeater\\XC188235-2013_01_27 Melithreptus lunatus2.mp3 to C:\\Users\\pragya\\Downloads\\Iteration 3\\white naped honeyeater\\XC188235-2013_01_27 Melithreptus lunatus2.wav...\n",
      "Converting C:\\Users\\pragya\\Downloads\\Iteration 3\\white naped honeyeater\\XC269932-melithreptus_lunatus_cairns_queensland_11.08.2015_0946.mp3 to C:\\Users\\pragya\\Downloads\\Iteration 3\\white naped honeyeater\\XC269932-melithreptus_lunatus_cairns_queensland_11.wav...\n",
      "Converting C:\\Users\\pragya\\Downloads\\Iteration 3\\white naped honeyeater\\XC328852 - White-naped Honeyeater - Melithreptus lunatus.mp3 to C:\\Users\\pragya\\Downloads\\Iteration 3\\white naped honeyeater\\XC328852 - White-naped Honeyeater - Melithreptus lunatus.wav...\n",
      "Converting C:\\Users\\pragya\\Downloads\\Iteration 3\\white naped honeyeater\\XC328853 - White-naped Honeyeater - Melithreptus lunatus.mp3 to C:\\Users\\pragya\\Downloads\\Iteration 3\\white naped honeyeater\\XC328853 - White-naped Honeyeater - Melithreptus lunatus.wav...\n",
      "Converting C:\\Users\\pragya\\Downloads\\Iteration 3\\white naped honeyeater\\XC370067 - White-naped Honeyeater - Melithreptus lunatus.mp3 to C:\\Users\\pragya\\Downloads\\Iteration 3\\white naped honeyeater\\XC370067 - White-naped Honeyeater - Melithreptus lunatus.wav...\n",
      "Converting C:\\Users\\pragya\\Downloads\\Iteration 3\\white naped honeyeater\\XC445533 - White-naped Honeyeater - Melithreptus lunatus.mp3 to C:\\Users\\pragya\\Downloads\\Iteration 3\\white naped honeyeater\\XC445533 - White-naped Honeyeater - Melithreptus lunatus.wav...\n",
      "Converting C:\\Users\\pragya\\Downloads\\Iteration 3\\white naped honeyeater\\XC460626 - White-naped Honeyeater - Melithreptus lunatus.mp3 to C:\\Users\\pragya\\Downloads\\Iteration 3\\white naped honeyeater\\XC460626 - White-naped Honeyeater - Melithreptus lunatus.wav...\n",
      "Converting C:\\Users\\pragya\\Downloads\\Iteration 3\\white naped honeyeater\\XC460775 - White-naped Honeyeater - Melithreptus lunatus.mp3 to C:\\Users\\pragya\\Downloads\\Iteration 3\\white naped honeyeater\\XC460775 - White-naped Honeyeater - Melithreptus lunatus.wav...\n",
      "Converting C:\\Users\\pragya\\Downloads\\Iteration 3\\white naped honeyeater\\XC460778 - White-naped Honeyeater - Melithreptus lunatus.mp3 to C:\\Users\\pragya\\Downloads\\Iteration 3\\white naped honeyeater\\XC460778 - White-naped Honeyeater - Melithreptus lunatus.wav...\n",
      "Converting C:\\Users\\pragya\\Downloads\\Iteration 3\\white naped honeyeater\\XC531661 - White-naped Honeyeater - Melithreptus lunatus.mp3 to C:\\Users\\pragya\\Downloads\\Iteration 3\\white naped honeyeater\\XC531661 - White-naped Honeyeater - Melithreptus lunatus.wav...\n",
      "Converting C:\\Users\\pragya\\Downloads\\Iteration 3\\white naped honeyeater\\XC531662 - White-naped Honeyeater - Melithreptus lunatus.mp3 to C:\\Users\\pragya\\Downloads\\Iteration 3\\white naped honeyeater\\XC531662 - White-naped Honeyeater - Melithreptus lunatus.wav...\n",
      "Converting C:\\Users\\pragya\\Downloads\\Iteration 3\\white naped honeyeater\\XC609042 - White-naped Honeyeater - Melithreptus lunatus.mp3 to C:\\Users\\pragya\\Downloads\\Iteration 3\\white naped honeyeater\\XC609042 - White-naped Honeyeater - Melithreptus lunatus.wav...\n",
      "Converting C:\\Users\\pragya\\Downloads\\Iteration 3\\white naped honeyeater\\XC609077 - White-naped Honeyeater - Melithreptus lunatus.mp3 to C:\\Users\\pragya\\Downloads\\Iteration 3\\white naped honeyeater\\XC609077 - White-naped Honeyeater - Melithreptus lunatus.wav...\n",
      "Converting C:\\Users\\pragya\\Downloads\\Iteration 3\\white naped honeyeater\\XC609078 - White-naped Honeyeater - Melithreptus lunatus.mp3 to C:\\Users\\pragya\\Downloads\\Iteration 3\\white naped honeyeater\\XC609078 - White-naped Honeyeater - Melithreptus lunatus.wav...\n",
      "Converting C:\\Users\\pragya\\Downloads\\Iteration 3\\white naped honeyeater\\XC609079 - White-naped Honeyeater - Melithreptus lunatus.mp3 to C:\\Users\\pragya\\Downloads\\Iteration 3\\white naped honeyeater\\XC609079 - White-naped Honeyeater - Melithreptus lunatus.wav...\n",
      "Converting C:\\Users\\pragya\\Downloads\\Iteration 3\\white naped honeyeater\\XC609080 - White-naped Honeyeater - Melithreptus lunatus.mp3 to C:\\Users\\pragya\\Downloads\\Iteration 3\\white naped honeyeater\\XC609080 - White-naped Honeyeater - Melithreptus lunatus.wav...\n",
      "Converting C:\\Users\\pragya\\Downloads\\Iteration 3\\white naped honeyeater\\XC676777 - White-naped Honeyeater - Melithreptus lunatus.mp3 to C:\\Users\\pragya\\Downloads\\Iteration 3\\white naped honeyeater\\XC676777 - White-naped Honeyeater - Melithreptus lunatus.wav...\n",
      "Converting C:\\Users\\pragya\\Downloads\\Iteration 3\\white naped honeyeater\\XC712609 - White-naped Honeyeater - Melithreptus lunatus.mp3 to C:\\Users\\pragya\\Downloads\\Iteration 3\\white naped honeyeater\\XC712609 - White-naped Honeyeater - Melithreptus lunatus.wav...\n"
     ]
    }
   ],
   "source": [
    "for i in white_napped_filenames:\n",
    "    # Test the function\n",
    "    convert_to_wav(i)"
   ]
  },
  {
   "cell_type": "code",
   "execution_count": 7,
   "id": "e7d4b466",
   "metadata": {},
   "outputs": [],
   "source": [
    "# for i in random_filenames:\n",
    "#     # Test the function\n",
    "#     convert_to_wav(i)"
   ]
  },
  {
   "cell_type": "code",
   "execution_count": 8,
   "id": "e51a17f2",
   "metadata": {},
   "outputs": [
    {
     "name": "stdout",
     "output_type": "stream",
     "text": [
      "Converting C:\\Users\\pragya\\Downloads\\Iteration 3\\australian king parrot\\Alisterus scapularis - Australian King-Parrot - Mt Lewis - Nov 2010.mp3 to C:\\Users\\pragya\\Downloads\\Iteration 3\\australian king parrot\\Alisterus scapularis - Australian King-Parrot - Mt Lewis - Nov 2010.wav...\n",
      "Converting C:\\Users\\pragya\\Downloads\\Iteration 3\\australian king parrot\\King Parrot.mp3 to C:\\Users\\pragya\\Downloads\\Iteration 3\\australian king parrot\\King Parrot.wav...\n",
      "Converting C:\\Users\\pragya\\Downloads\\Iteration 3\\australian king parrot\\King-Parrot.mp3 to C:\\Users\\pragya\\Downloads\\Iteration 3\\australian king parrot\\King-Parrot.wav...\n",
      "Converting C:\\Users\\pragya\\Downloads\\Iteration 3\\australian king parrot\\XC140226-australian-king-parrot.mp3 to C:\\Users\\pragya\\Downloads\\Iteration 3\\australian king parrot\\XC140226-australian-king-parrot.wav...\n",
      "Converting C:\\Users\\pragya\\Downloads\\Iteration 3\\australian king parrot\\XC146124-king-parrot-flight.mp3 to C:\\Users\\pragya\\Downloads\\Iteration 3\\australian king parrot\\XC146124-king-parrot-flight.wav...\n",
      "Converting C:\\Users\\pragya\\Downloads\\Iteration 3\\australian king parrot\\XC171954-king-parrot5.mp3 to C:\\Users\\pragya\\Downloads\\Iteration 3\\australian king parrot\\XC171954-king-parrot5.wav...\n",
      "Converting C:\\Users\\pragya\\Downloads\\Iteration 3\\australian king parrot\\XC172017-aust-king-parrot-flight.mp3 to C:\\Users\\pragya\\Downloads\\Iteration 3\\australian king parrot\\XC172017-aust-king-parrot-flight.wav...\n",
      "Converting C:\\Users\\pragya\\Downloads\\Iteration 3\\australian king parrot\\XC234966-9-4-2015 King Parrot UNE.mp3 to C:\\Users\\pragya\\Downloads\\Iteration 3\\australian king parrot\\XC234966-9-4-2015 King Parrot UNE.wav...\n",
      "Converting C:\\Users\\pragya\\Downloads\\Iteration 3\\australian king parrot\\XC247356-king-parrot-nightcap.mp3 to C:\\Users\\pragya\\Downloads\\Iteration 3\\australian king parrot\\XC247356-king-parrot-nightcap.wav...\n",
      "Converting C:\\Users\\pragya\\Downloads\\Iteration 3\\australian king parrot\\XC287387-king-parrot-flight-call-ygr1.mp3 to C:\\Users\\pragya\\Downloads\\Iteration 3\\australian king parrot\\XC287387-king-parrot-flight-call-ygr1.wav...\n",
      "Converting C:\\Users\\pragya\\Downloads\\Iteration 3\\australian king parrot\\XC327334-2016_06_29 Alisterus scapularis.mp3 to C:\\Users\\pragya\\Downloads\\Iteration 3\\australian king parrot\\XC327334-2016_06_29 Alisterus scapularis.wav...\n",
      "Converting C:\\Users\\pragya\\Downloads\\Iteration 3\\australian king parrot\\XC329740-Australian King-Parrot2016-1-4-1.mp3 to C:\\Users\\pragya\\Downloads\\Iteration 3\\australian king parrot\\XC329740-Australian King-Parrot2016-1-4-1.wav...\n",
      "Converting C:\\Users\\pragya\\Downloads\\Iteration 3\\australian king parrot\\XC329741-Australian King-Parrot2016-1-5-1.mp3 to C:\\Users\\pragya\\Downloads\\Iteration 3\\australian king parrot\\XC329741-Australian King-Parrot2016-1-5-1.wav...\n",
      "Converting C:\\Users\\pragya\\Downloads\\Iteration 3\\australian king parrot\\XC340991-aust-king-parrot-ds2.mp3 to C:\\Users\\pragya\\Downloads\\Iteration 3\\australian king parrot\\XC340991-aust-king-parrot-ds2.wav...\n",
      "Converting C:\\Users\\pragya\\Downloads\\Iteration 3\\australian king parrot\\XC351198-GMCLAC_3428-AKParrot.mp3 to C:\\Users\\pragya\\Downloads\\Iteration 3\\australian king parrot\\XC351198-GMCLAC_3428-AKParrot.wav...\n",
      "Converting C:\\Users\\pragya\\Downloads\\Iteration 3\\australian king parrot\\XC353386-aust-king-parrot-tfnp1.mp3 to C:\\Users\\pragya\\Downloads\\Iteration 3\\australian king parrot\\XC353386-aust-king-parrot-tfnp1.wav...\n",
      "Converting C:\\Users\\pragya\\Downloads\\Iteration 3\\australian king parrot\\XC434416-Parrot_Australian_King_MX348_Benarkin_DuskA_11thSep18.mp3 to C:\\Users\\pragya\\Downloads\\Iteration 3\\australian king parrot\\XC434416-Parrot_Australian_King_MX348_Benarkin_DuskA_11thSep18.wav...\n",
      "Converting C:\\Users\\pragya\\Downloads\\Iteration 3\\australian king parrot\\XC445527-Parrot_Australian_King_SD592a_Kings_Plains_Top_Dam_AM_12thSep18.mp3 to C:\\Users\\pragya\\Downloads\\Iteration 3\\australian king parrot\\XC445527-Parrot_Australian_King_SD592a_Kings_Plains_Top_Dam_AM_12thSep18.wav...\n",
      "Converting C:\\Users\\pragya\\Downloads\\Iteration 3\\australian king parrot\\XC564263-King Parrot 10_37_08.mp3 to C:\\Users\\pragya\\Downloads\\Iteration 3\\australian king parrot\\XC564263-King Parrot 10_37_08.wav...\n",
      "Converting C:\\Users\\pragya\\Downloads\\Iteration 3\\australian king parrot\\XC580374-King Parrot 08_19_04.mp3 to C:\\Users\\pragya\\Downloads\\Iteration 3\\australian king parrot\\XC580374-King Parrot 08_19_04.wav...\n",
      "Converting C:\\Users\\pragya\\Downloads\\Iteration 3\\australian king parrot\\XC580376-King Parrot 08_23_19.mp3 to C:\\Users\\pragya\\Downloads\\Iteration 3\\australian king parrot\\XC580376-King Parrot 08_23_19.wav...\n",
      "Converting C:\\Users\\pragya\\Downloads\\Iteration 3\\australian king parrot\\XC593413-AKP-4206D01.mp3 to C:\\Users\\pragya\\Downloads\\Iteration 3\\australian king parrot\\XC593413-AKP-4206D01.wav...\n",
      "Converting C:\\Users\\pragya\\Downloads\\Iteration 3\\australian king parrot\\XC593414-AKP-4206D05.mp3 to C:\\Users\\pragya\\Downloads\\Iteration 3\\australian king parrot\\XC593414-AKP-4206D05.wav...\n",
      "Converting C:\\Users\\pragya\\Downloads\\Iteration 3\\australian king parrot\\XC609085-Parrot_Australian_King2_TELM3AK-555_070720_Mummel_Gulf.mp3 to C:\\Users\\pragya\\Downloads\\Iteration 3\\australian king parrot\\XC609085-Parrot_Australian_King2_TELM3AK-555_070720_Mummel_Gulf.wav...\n",
      "Converting C:\\Users\\pragya\\Downloads\\Iteration 3\\australian king parrot\\XC609086-Parrot_Australian_King1_TELM3AK-555_070720_Mummel_Gulf.mp3 to C:\\Users\\pragya\\Downloads\\Iteration 3\\australian king parrot\\XC609086-Parrot_Australian_King1_TELM3AK-555_070720_Mummel_Gulf.wav...\n",
      "Converting C:\\Users\\pragya\\Downloads\\Iteration 3\\australian king parrot\\XC609087-Parrot_Australian_King1_TELM3AK-554_070720_Mummel_Gulf.mp3 to C:\\Users\\pragya\\Downloads\\Iteration 3\\australian king parrot\\XC609087-Parrot_Australian_King1_TELM3AK-554_070720_Mummel_Gulf.wav...\n",
      "Converting C:\\Users\\pragya\\Downloads\\Iteration 3\\australian king parrot\\XC609088-Parrot_Australian_King1_TELM3AK-553_070720_Mummel_Gulf.mp3 to C:\\Users\\pragya\\Downloads\\Iteration 3\\australian king parrot\\XC609088-Parrot_Australian_King1_TELM3AK-553_070720_Mummel_Gulf.wav...\n",
      "Converting C:\\Users\\pragya\\Downloads\\Iteration 3\\australian king parrot\\XC609309-Parrot_Australian_King1_Dunns_Swamp_TELM3AK-606_070120.mp3 to C:\\Users\\pragya\\Downloads\\Iteration 3\\australian king parrot\\XC609309-Parrot_Australian_King1_Dunns_Swamp_TELM3AK-606_070120.wav...\n",
      "Converting C:\\Users\\pragya\\Downloads\\Iteration 3\\australian king parrot\\XC671477-2021_08_25 Alisterus scapularis1.mp3 to C:\\Users\\pragya\\Downloads\\Iteration 3\\australian king parrot\\XC671477-2021_08_25 Alisterus scapularis1.wav...\n",
      "Converting C:\\Users\\pragya\\Downloads\\Iteration 3\\australian king parrot\\XC726663-2022_05_22 Alisterus scapularis1.mp3 to C:\\Users\\pragya\\Downloads\\Iteration 3\\australian king parrot\\XC726663-2022_05_22 Alisterus scapularis1.wav...\n"
     ]
    }
   ],
   "source": [
    "for i in australian_king_parrot_filenames:\n",
    "    # Test the function\n",
    "    convert_to_wav(i)"
   ]
  },
  {
   "cell_type": "code",
   "execution_count": 9,
   "id": "b5752094",
   "metadata": {},
   "outputs": [
    {
     "name": "stdout",
     "output_type": "stream",
     "text": [
      "Converting C:\\Users\\pragya\\Downloads\\Iteration 3\\australian magpie\\XC327864-australian-magpie-calls-grnp1.mp3 to C:\\Users\\pragya\\Downloads\\Iteration 3\\australian magpie\\XC327864-australian-magpie-calls-grnp1.wav...\n",
      "Converting C:\\Users\\pragya\\Downloads\\Iteration 3\\australian magpie\\XC335533-aust-magpie-flight-calls-mnp1.mp3 to C:\\Users\\pragya\\Downloads\\Iteration 3\\australian magpie\\XC335533-aust-magpie-flight-calls-mnp1.wav...\n",
      "Converting C:\\Users\\pragya\\Downloads\\Iteration 3\\australian magpie\\XC357317-GMCLAC_3891-AMagpie.mp3 to C:\\Users\\pragya\\Downloads\\Iteration 3\\australian magpie\\XC357317-GMCLAC_3891-AMagpie.wav...\n",
      "Converting C:\\Users\\pragya\\Downloads\\Iteration 3\\australian magpie\\XC365136-Australian Magpie carolling.mp3 to C:\\Users\\pragya\\Downloads\\Iteration 3\\australian magpie\\XC365136-Australian Magpie carolling.wav...\n",
      "Converting C:\\Users\\pragya\\Downloads\\Iteration 3\\australian magpie\\XC365138-Australian Magpie call.mp3 to C:\\Users\\pragya\\Downloads\\Iteration 3\\australian magpie\\XC365138-Australian Magpie call.wav...\n",
      "Converting C:\\Users\\pragya\\Downloads\\Iteration 3\\australian magpie\\XC382720-Magpie_Australian_DW3_MIXPRE-073.mp3 to C:\\Users\\pragya\\Downloads\\Iteration 3\\australian magpie\\XC382720-Magpie_Australian_DW3_MIXPRE-073.wav...\n",
      "Converting C:\\Users\\pragya\\Downloads\\Iteration 3\\australian magpie\\XC382769-Magpie_Australian_DW1_MIXPRE-039.mp3 to C:\\Users\\pragya\\Downloads\\Iteration 3\\australian magpie\\XC382769-Magpie_Australian_DW1_MIXPRE-039.wav...\n",
      "Converting C:\\Users\\pragya\\Downloads\\Iteration 3\\australian magpie\\XC383930-GMCLAC_6036-AMagpie.mp3 to C:\\Users\\pragya\\Downloads\\Iteration 3\\australian magpie\\XC383930-GMCLAC_6036-AMagpie.wav...\n",
      "Converting C:\\Users\\pragya\\Downloads\\Iteration 3\\australian magpie\\XC488921-2019.07.21 Magpies Singing Before Dawn (Excerpt).mp3 to C:\\Users\\pragya\\Downloads\\Iteration 3\\australian magpie\\XC488921-2019.wav...\n",
      "Converting C:\\Users\\pragya\\Downloads\\Iteration 3\\australian magpie\\XC500508-Aust Magpie imm begging 10_35_44.mp3 to C:\\Users\\pragya\\Downloads\\Iteration 3\\australian magpie\\XC500508-Aust Magpie imm begging 10_35_44.wav...\n",
      "Converting C:\\Users\\pragya\\Downloads\\Iteration 3\\australian magpie\\XC554840-Australian Magpie 07_17_40.mp3 to C:\\Users\\pragya\\Downloads\\Iteration 3\\australian magpie\\XC554840-Australian Magpie 07_17_40.wav...\n",
      "Converting C:\\Users\\pragya\\Downloads\\Iteration 3\\australian magpie\\XC554841-Australian Magpie 07_19_22.mp3 to C:\\Users\\pragya\\Downloads\\Iteration 3\\australian magpie\\XC554841-Australian Magpie 07_19_22.wav...\n",
      "Converting C:\\Users\\pragya\\Downloads\\Iteration 3\\australian magpie\\XC564335-0_MIXPRE-2570_Australian Magpie_20200531_Gowrie Park.mp3 to C:\\Users\\pragya\\Downloads\\Iteration 3\\australian magpie\\XC564335-0_MIXPRE-2570_Australian Magpie_20200531_Gowrie Park.wav...\n",
      "Converting C:\\Users\\pragya\\Downloads\\Iteration 3\\australian magpie\\XC565890-Magpie_Australia_atypical_Helen_Johnston_video-1590203592.mp3 to C:\\Users\\pragya\\Downloads\\Iteration 3\\australian magpie\\XC565890-Magpie_Australia_atypical_Helen_Johnston_video-1590203592.wav...\n",
      "Converting C:\\Users\\pragya\\Downloads\\Iteration 3\\australian magpie\\XC570371-Australian Magpie 07_07_41.mp3 to C:\\Users\\pragya\\Downloads\\Iteration 3\\australian magpie\\XC570371-Australian Magpie 07_07_41.wav...\n",
      "Converting C:\\Users\\pragya\\Downloads\\Iteration 3\\australian magpie\\XC570404-Australian Magpie 08_39_20.mp3 to C:\\Users\\pragya\\Downloads\\Iteration 3\\australian magpie\\XC570404-Australian Magpie 08_39_20.wav...\n",
      "Converting C:\\Users\\pragya\\Downloads\\Iteration 3\\australian magpie\\XC570697-Australian Magpie 07_49_52.mp3 to C:\\Users\\pragya\\Downloads\\Iteration 3\\australian magpie\\XC570697-Australian Magpie 07_49_52.wav...\n",
      "Converting C:\\Users\\pragya\\Downloads\\Iteration 3\\australian magpie\\XC589240-AMagpie3.mp3 to C:\\Users\\pragya\\Downloads\\Iteration 3\\australian magpie\\XC589240-AMagpie3.wav...\n",
      "Converting C:\\Users\\pragya\\Downloads\\Iteration 3\\australian magpie\\XC589241-AMagpie2.mp3 to C:\\Users\\pragya\\Downloads\\Iteration 3\\australian magpie\\XC589241-AMagpie2.wav...\n",
      "Converting C:\\Users\\pragya\\Downloads\\Iteration 3\\australian magpie\\XC591209-MagpieWarbleMLagoon_01.mp3 to C:\\Users\\pragya\\Downloads\\Iteration 3\\australian magpie\\XC591209-MagpieWarbleMLagoon_01.wav...\n",
      "Converting C:\\Users\\pragya\\Downloads\\Iteration 3\\australian magpie\\XC594050-Magpie_Australian1_M3TL-664_Sturt-Mt-Wood_02092020.mp3 to C:\\Users\\pragya\\Downloads\\Iteration 3\\australian magpie\\XC594050-Magpie_Australian1_M3TL-664_Sturt-Mt-Wood_02092020.wav...\n",
      "Converting C:\\Users\\pragya\\Downloads\\Iteration 3\\australian magpie\\XC597149-Magpie_Australian2_M6AK-446_Paroo_Darling_Open_Slope_Night1_30thAug20.mp3 to C:\\Users\\pragya\\Downloads\\Iteration 3\\australian magpie\\XC597149-Magpie_Australian2_M6AK-446_Paroo_Darling_Open_Slope_Night1_30thAug20.wav...\n",
      "Converting C:\\Users\\pragya\\Downloads\\Iteration 3\\australian magpie\\XC603194-Gymnorhina tibicen tibicen_iw_Akura_mp041_20200917.mp3 to C:\\Users\\pragya\\Downloads\\Iteration 3\\australian magpie\\XC603194-Gymnorhina tibicen tibicen_iw_Akura_mp041_20200917.wav...\n",
      "Converting C:\\Users\\pragya\\Downloads\\Iteration 3\\australian magpie\\XC603298-Gymnorhina tibicen tibicen_m_iw_Cape Woolamai_mp087_20201102.mp3 to C:\\Users\\pragya\\Downloads\\Iteration 3\\australian magpie\\XC603298-Gymnorhina tibicen tibicen_m_iw_Cape Woolamai_mp087_20201102.wav...\n",
      "Converting C:\\Users\\pragya\\Downloads\\Iteration 3\\australian magpie\\XC609051-Magpie_Australian1_M6AK-437_Mount_Wood_Homestead_West_Night2_28thAug20.mp3 to C:\\Users\\pragya\\Downloads\\Iteration 3\\australian magpie\\XC609051-Magpie_Australian1_M6AK-437_Mount_Wood_Homestead_West_Night2_28thAug20.wav...\n",
      "Converting C:\\Users\\pragya\\Downloads\\Iteration 3\\australian magpie\\XC638372-Australian Magpies.mp3 to C:\\Users\\pragya\\Downloads\\Iteration 3\\australian magpie\\XC638372-Australian Magpies.wav...\n",
      "Converting C:\\Users\\pragya\\Downloads\\Iteration 3\\australian magpie\\XC663449-Australian Magpie - 14Jul2021.mp3 to C:\\Users\\pragya\\Downloads\\Iteration 3\\australian magpie\\XC663449-Australian Magpie - 14Jul2021.wav...\n",
      "Converting C:\\Users\\pragya\\Downloads\\Iteration 3\\australian magpie\\XC689343-Magpie_Australian1b_M6AK397_Paroo_Darling_Stony_Ridge_AM1_3rdOct21.mp3 to C:\\Users\\pragya\\Downloads\\Iteration 3\\australian magpie\\XC689343-Magpie_Australian1b_M6AK397_Paroo_Darling_Stony_Ridge_AM1_3rdOct21.wav...\n",
      "Converting C:\\Users\\pragya\\Downloads\\Iteration 3\\australian magpie\\XC692694-Magpie_Australian1_alarm_SDEM197_Yathong_Shrubland_Far_South_AM1_6thOct21.mp3 to C:\\Users\\pragya\\Downloads\\Iteration 3\\australian magpie\\XC692694-Magpie_Australian1_alarm_SDEM197_Yathong_Shrubland_Far_South_AM1_6thOct21.wav...\n",
      "Converting C:\\Users\\pragya\\Downloads\\Iteration 3\\australian magpie\\XC692695-Magpie_Australian1_M6AK397_Paroo_Darling_Stony_Ridge_AM1_3rdOct21.mp3 to C:\\Users\\pragya\\Downloads\\Iteration 3\\australian magpie\\XC692695-Magpie_Australian1_M6AK397_Paroo_Darling_Stony_Ridge_AM1_3rdOct21.wav...\n",
      "Converting C:\\Users\\pragya\\Downloads\\Iteration 3\\australian magpie\\XC726066-03-UNK-DOWNSLUR MAGPIE LIKE.mp3 to C:\\Users\\pragya\\Downloads\\Iteration 3\\australian magpie\\XC726066-03-UNK-DOWNSLUR MAGPIE LIKE.wav...\n",
      "Converting C:\\Users\\pragya\\Downloads\\Iteration 3\\australian magpie\\XC729284-AustralianMagpie_90PrincesHwy_Littlehampton_SouthAustralia_20200704_101825.mp3 to C:\\Users\\pragya\\Downloads\\Iteration 3\\australian magpie\\XC729284-AustralianMagpie_90PrincesHwy_Littlehampton_SouthAustralia_20200704_101825.wav...\n",
      "Converting C:\\Users\\pragya\\Downloads\\Iteration 3\\australian magpie\\XC729285-AustralianMagpie_90PrincesHwy_Littlehampton_SouthAustralia_20200709_061532.mp3 to C:\\Users\\pragya\\Downloads\\Iteration 3\\australian magpie\\XC729285-AustralianMagpie_90PrincesHwy_Littlehampton_SouthAustralia_20200709_061532.wav...\n",
      "Converting C:\\Users\\pragya\\Downloads\\Iteration 3\\australian magpie\\XC729286-AustralianMagpie_Littlehampton_SouthAustralia_210406_061612.mp3 to C:\\Users\\pragya\\Downloads\\Iteration 3\\australian magpie\\XC729286-AustralianMagpie_Littlehampton_SouthAustralia_210406_061612.wav...\n",
      "Converting C:\\Users\\pragya\\Downloads\\Iteration 3\\australian magpie\\XC747690-Australian Magpie.mp3 to C:\\Users\\pragya\\Downloads\\Iteration 3\\australian magpie\\XC747690-Australian Magpie.wav...\n"
     ]
    }
   ],
   "source": [
    "for i in australian_magpie_filenames:\n",
    "    # Test the function\n",
    "    convert_to_wav(i)"
   ]
  },
  {
   "cell_type": "code",
   "execution_count": 10,
   "id": "99411f8e",
   "metadata": {},
   "outputs": [
    {
     "name": "stdout",
     "output_type": "stream",
     "text": [
      "Converting C:\\Users\\pragya\\Downloads\\Iteration 3\\australian raven\\2012-05-05_T093_Australian-Raven-Campground--Rottnest Island-09Uhr10.mp3 to C:\\Users\\pragya\\Downloads\\Iteration 3\\australian raven\\2012-05-05_T093_Australian-Raven-Campground--Rottnest Island-09Uhr10.wav...\n",
      "Converting C:\\Users\\pragya\\Downloads\\Iteration 3\\australian raven\\2012-05-05_T107_Australian-Raven-immature-Golfcourse--Rottnest Island-15Uhr45.mp3 to C:\\Users\\pragya\\Downloads\\Iteration 3\\australian raven\\2012-05-05_T107_Australian-Raven-immature-Golfcourse--Rottnest Island-15Uhr45.wav...\n",
      "Converting C:\\Users\\pragya\\Downloads\\Iteration 3\\australian raven\\AusRav-20090625_073158.mp3 to C:\\Users\\pragya\\Downloads\\Iteration 3\\australian raven\\AusRav-20090625_073158.wav...\n",
      "Converting C:\\Users\\pragya\\Downloads\\Iteration 3\\australian raven\\AustralianRaven.mp3 to C:\\Users\\pragya\\Downloads\\Iteration 3\\australian raven\\AustralianRaven.wav...\n",
      "Converting C:\\Users\\pragya\\Downloads\\Iteration 3\\australian raven\\XC146100-australian-raven3.mp3 to C:\\Users\\pragya\\Downloads\\Iteration 3\\australian raven\\XC146100-australian-raven3.wav...\n",
      "Converting C:\\Users\\pragya\\Downloads\\Iteration 3\\australian raven\\XC151591-australian-raven-funny-end.mp3 to C:\\Users\\pragya\\Downloads\\Iteration 3\\australian raven\\XC151591-australian-raven-funny-end.wav...\n",
      "Converting C:\\Users\\pragya\\Downloads\\Iteration 3\\australian raven\\XC169996-australian raven.mp3 to C:\\Users\\pragya\\Downloads\\Iteration 3\\australian raven\\XC169996-australian raven.wav...\n",
      "Converting C:\\Users\\pragya\\Downloads\\Iteration 3\\australian raven\\XC172205-australian-raven55.mp3 to C:\\Users\\pragya\\Downloads\\Iteration 3\\australian raven\\XC172205-australian-raven55.wav...\n",
      "Converting C:\\Users\\pragya\\Downloads\\Iteration 3\\australian raven\\XC183570-australian-raven-grooup-flying.mp3 to C:\\Users\\pragya\\Downloads\\Iteration 3\\australian raven\\XC183570-australian-raven-grooup-flying.wav...\n",
      "Converting C:\\Users\\pragya\\Downloads\\Iteration 3\\australian raven\\XC233852-aussie-raven-wb1.mp3 to C:\\Users\\pragya\\Downloads\\Iteration 3\\australian raven\\XC233852-aussie-raven-wb1.wav...\n",
      "Converting C:\\Users\\pragya\\Downloads\\Iteration 3\\australian raven\\XC241025-LS_50053_AustRaven.mp3 to C:\\Users\\pragya\\Downloads\\Iteration 3\\australian raven\\XC241025-LS_50053_AustRaven.wav...\n",
      "Converting C:\\Users\\pragya\\Downloads\\Iteration 3\\australian raven\\XC244307-aust-raven-ydr1.mp3 to C:\\Users\\pragya\\Downloads\\Iteration 3\\australian raven\\XC244307-aust-raven-ydr1.wav...\n",
      "Converting C:\\Users\\pragya\\Downloads\\Iteration 3\\australian raven\\XC286937-australian-raven-bowra2.mp3 to C:\\Users\\pragya\\Downloads\\Iteration 3\\australian raven\\XC286937-australian-raven-bowra2.wav...\n",
      "Converting C:\\Users\\pragya\\Downloads\\Iteration 3\\australian raven\\XC327340-2016_06_29 Corvus coronoides2.mp3 to C:\\Users\\pragya\\Downloads\\Iteration 3\\australian raven\\XC327340-2016_06_29 Corvus coronoides2.wav...\n",
      "Converting C:\\Users\\pragya\\Downloads\\Iteration 3\\australian raven\\XC334664-australian-raven-fr1.mp3 to C:\\Users\\pragya\\Downloads\\Iteration 3\\australian raven\\XC334664-australian-raven-fr1.wav...\n",
      "Converting C:\\Users\\pragya\\Downloads\\Iteration 3\\australian raven\\XC356314-GMCLAC_3787-ARaven.mp3 to C:\\Users\\pragya\\Downloads\\Iteration 3\\australian raven\\XC356314-GMCLAC_3787-ARaven.wav...\n",
      "Converting C:\\Users\\pragya\\Downloads\\Iteration 3\\australian raven\\XC368544-GMCLAC_4407-ARaven.mp3 to C:\\Users\\pragya\\Downloads\\Iteration 3\\australian raven\\XC368544-GMCLAC_4407-ARaven.wav...\n",
      "Converting C:\\Users\\pragya\\Downloads\\Iteration 3\\australian raven\\XC383175-Raven_Australian_DW1_Tomingley_RD_WW.mp3 to C:\\Users\\pragya\\Downloads\\Iteration 3\\australian raven\\XC383175-Raven_Australian_DW1_Tomingley_RD_WW.wav...\n",
      "Converting C:\\Users\\pragya\\Downloads\\Iteration 3\\australian raven\\XC383691-Raven_Australian_MGS2_Mt_Gibson_Homestead_Rd_Dawn.mp3 to C:\\Users\\pragya\\Downloads\\Iteration 3\\australian raven\\XC383691-Raven_Australian_MGS2_Mt_Gibson_Homestead_Rd_Dawn.wav...\n",
      "Converting C:\\Users\\pragya\\Downloads\\Iteration 3\\australian raven\\XC521306-Raven_Australian_S7LOM_236_Ravenshoe_DryForest_AM2_19thJan20.mp3 to C:\\Users\\pragya\\Downloads\\Iteration 3\\australian raven\\XC521306-Raven_Australian_S7LOM_236_Ravenshoe_DryForest_AM2_19thJan20.wav...\n",
      "Converting C:\\Users\\pragya\\Downloads\\Iteration 3\\australian raven\\XC521641-AustralianRaven_BackYamma12_Edwards.mp3 to C:\\Users\\pragya\\Downloads\\Iteration 3\\australian raven\\XC521641-AustralianRaven_BackYamma12_Edwards.wav...\n",
      "Converting C:\\Users\\pragya\\Downloads\\Iteration 3\\australian raven\\XC578180-Raven_Australian1_M6AK-383_Aloes_River_AM1_27thJun20.mp3 to C:\\Users\\pragya\\Downloads\\Iteration 3\\australian raven\\XC578180-Raven_Australian1_M6AK-383_Aloes_River_AM1_27thJun20.wav...\n",
      "Converting C:\\Users\\pragya\\Downloads\\Iteration 3\\australian raven\\XC578181-Raven_Australian1a_M6AK-382_Aloes_Clearing_Dawn_27thJun20.mp3 to C:\\Users\\pragya\\Downloads\\Iteration 3\\australian raven\\XC578181-Raven_Australian1a_M6AK-382_Aloes_Clearing_Dawn_27thJun20.wav...\n",
      "Converting C:\\Users\\pragya\\Downloads\\Iteration 3\\australian raven\\XC578182-Raven_Australian2_M6AK-383_Aloes_River_AM1_27thJun20.mp3 to C:\\Users\\pragya\\Downloads\\Iteration 3\\australian raven\\XC578182-Raven_Australian2_M6AK-383_Aloes_River_AM1_27thJun20.wav...\n",
      "Converting C:\\Users\\pragya\\Downloads\\Iteration 3\\australian raven\\XC595979-Raven_Australian1_M6AK-420_Olive_Downs_6kmCreek_AM1_Wind_26thAug20.mp3 to C:\\Users\\pragya\\Downloads\\Iteration 3\\australian raven\\XC595979-Raven_Australian1_M6AK-420_Olive_Downs_6kmCreek_AM1_Wind_26thAug20.wav...\n",
      "Converting C:\\Users\\pragya\\Downloads\\Iteration 3\\australian raven\\XC597639-Raven_Australian1_M6MKH-228_Paroo_Darling_Creek_Gully_AM1_30thAug20.mp3 to C:\\Users\\pragya\\Downloads\\Iteration 3\\australian raven\\XC597639-Raven_Australian1_M6MKH-228_Paroo_Darling_Creek_Gully_AM1_30thAug20.wav...\n",
      "Converting C:\\Users\\pragya\\Downloads\\Iteration 3\\australian raven\\XC597640-Raven_Australian1_M6MKH-236_Paroo_Darling_Creek_Gully_West_AM_31stAug20-tp.mp3 to C:\\Users\\pragya\\Downloads\\Iteration 3\\australian raven\\XC597640-Raven_Australian1_M6MKH-236_Paroo_Darling_Creek_Gully_West_AM_31stAug20-tp.wav...\n",
      "Converting C:\\Users\\pragya\\Downloads\\Iteration 3\\australian raven\\XC620107-2021_01_17 Corvus coronoides2.mp3 to C:\\Users\\pragya\\Downloads\\Iteration 3\\australian raven\\XC620107-2021_01_17 Corvus coronoides2.wav...\n",
      "Converting C:\\Users\\pragya\\Downloads\\Iteration 3\\australian raven\\XC637286-Australian Ravens.mp3 to C:\\Users\\pragya\\Downloads\\Iteration 3\\australian raven\\XC637286-Australian Ravens.wav...\n",
      "Converting C:\\Users\\pragya\\Downloads\\Iteration 3\\australian raven\\XC689342-Raven_Australian1_M6AK388_Paroo_Darling_Stony_Gully_AM_2ndOct21.mp3 to C:\\Users\\pragya\\Downloads\\Iteration 3\\australian raven\\XC689342-Raven_Australian1_M6AK388_Paroo_Darling_Stony_Gully_AM_2ndOct21.wav...\n",
      "Converting C:\\Users\\pragya\\Downloads\\Iteration 3\\australian raven\\XC696209-2020.09.12 MixPre-759 Raven Bark Excerpt.mp3 to C:\\Users\\pragya\\Downloads\\Iteration 3\\australian raven\\XC696209-2020.wav...\n",
      "Converting C:\\Users\\pragya\\Downloads\\Iteration 3\\australian raven\\XC696210-2020.09.12 MixPre-759 Raven Bark Excerpt.mp3 to C:\\Users\\pragya\\Downloads\\Iteration 3\\australian raven\\XC696210-2020.wav...\n",
      "Converting C:\\Users\\pragya\\Downloads\\Iteration 3\\australian raven\\XC696211-2021.08.08 MixPre-1436 Raven Calls Excerpt.mp3 to C:\\Users\\pragya\\Downloads\\Iteration 3\\australian raven\\XC696211-2021.wav...\n",
      "Converting C:\\Users\\pragya\\Downloads\\Iteration 3\\australian raven\\XC721718-Australian Raven 10_41_32.mp3 to C:\\Users\\pragya\\Downloads\\Iteration 3\\australian raven\\XC721718-Australian Raven 10_41_32.wav...\n",
      "Converting C:\\Users\\pragya\\Downloads\\Iteration 3\\australian raven\\XC733297-Raven_Australian1_M6AK413_Nombinnie_Railway_Corner_Dusk2_6thOct21.mp3 to C:\\Users\\pragya\\Downloads\\Iteration 3\\australian raven\\XC733297-Raven_Australian1_M6AK413_Nombinnie_Railway_Corner_Dusk2_6thOct21.wav...\n"
     ]
    }
   ],
   "source": [
    "for i in australian_raven_filenames:\n",
    "    # Test the function\n",
    "    convert_to_wav(i)"
   ]
  },
  {
   "cell_type": "code",
   "execution_count": 11,
   "id": "6ad78de7",
   "metadata": {},
   "outputs": [
    {
     "name": "stdout",
     "output_type": "stream",
     "text": [
      "Converting C:\\Users\\pragya\\Downloads\\Iteration 3\\crested pigeon\\CrePig-20100605_072516.mp3 to C:\\Users\\pragya\\Downloads\\Iteration 3\\crested pigeon\\CrePig-20100605_072516.wav...\n",
      "Converting C:\\Users\\pragya\\Downloads\\Iteration 3\\crested pigeon\\XC121537-sppi_wnsw1.mp3 to C:\\Users\\pragya\\Downloads\\Iteration 3\\crested pigeon\\XC121537-sppi_wnsw1.wav...\n",
      "Converting C:\\Users\\pragya\\Downloads\\Iteration 3\\crested pigeon\\XC141397-crested-pigeon.mp3 to C:\\Users\\pragya\\Downloads\\Iteration 3\\crested pigeon\\XC141397-crested-pigeon.wav...\n",
      "Converting C:\\Users\\pragya\\Downloads\\Iteration 3\\crested pigeon\\XC172270-crested-pigeon1.mp3 to C:\\Users\\pragya\\Downloads\\Iteration 3\\crested pigeon\\XC172270-crested-pigeon1.wav...\n",
      "Converting C:\\Users\\pragya\\Downloads\\Iteration 3\\crested pigeon\\XC186556-2014_01_21 Ocyphaps lophotes1.mp3 to C:\\Users\\pragya\\Downloads\\Iteration 3\\crested pigeon\\XC186556-2014_01_21 Ocyphaps lophotes1.wav...\n",
      "Converting C:\\Users\\pragya\\Downloads\\Iteration 3\\crested pigeon\\XC236374-DSCN2467- Crested Pigeon @ Home.mp3 to C:\\Users\\pragya\\Downloads\\Iteration 3\\crested pigeon\\XC236374-DSCN2467- Crested Pigeon @ Home.wav...\n",
      "Converting C:\\Users\\pragya\\Downloads\\Iteration 3\\crested pigeon\\XC281884-2015_09_18 Ocyphaps lophotes.mp3 to C:\\Users\\pragya\\Downloads\\Iteration 3\\crested pigeon\\XC281884-2015_09_18 Ocyphaps lophotes.wav...\n",
      "Converting C:\\Users\\pragya\\Downloads\\Iteration 3\\crested pigeon\\XC334906-crested-pigeon-snp1.mp3 to C:\\Users\\pragya\\Downloads\\Iteration 3\\crested pigeon\\XC334906-crested-pigeon-snp1.wav...\n",
      "Converting C:\\Users\\pragya\\Downloads\\Iteration 3\\crested pigeon\\XC334907-crested-pigeon-display-snp2.mp3 to C:\\Users\\pragya\\Downloads\\Iteration 3\\crested pigeon\\XC334907-crested-pigeon-display-snp2.wav...\n",
      "Converting C:\\Users\\pragya\\Downloads\\Iteration 3\\crested pigeon\\XC354626-GMCLAC_1663-CrestedPigeon.mp3 to C:\\Users\\pragya\\Downloads\\Iteration 3\\crested pigeon\\XC354626-GMCLAC_1663-CrestedPigeon.wav...\n",
      "Converting C:\\Users\\pragya\\Downloads\\Iteration 3\\crested pigeon\\XC443064-crested_p_2018-11-16_145253534.mp3 to C:\\Users\\pragya\\Downloads\\Iteration 3\\crested pigeon\\XC443064-crested_p_2018-11-16_145253534.wav...\n",
      "Converting C:\\Users\\pragya\\Downloads\\Iteration 3\\crested pigeon\\XC496697-Crested Pigeon 1.mp3 to C:\\Users\\pragya\\Downloads\\Iteration 3\\crested pigeon\\XC496697-Crested Pigeon 1.wav...\n",
      "Converting C:\\Users\\pragya\\Downloads\\Iteration 3\\crested pigeon\\XC578177-Pigeon_Crested1_M6AK-396_Aloes_River_Dawn_29thJun20.mp3 to C:\\Users\\pragya\\Downloads\\Iteration 3\\crested pigeon\\XC578177-Pigeon_Crested1_M6AK-396_Aloes_River_Dawn_29thJun20.wav...\n",
      "Converting C:\\Users\\pragya\\Downloads\\Iteration 3\\crested pigeon\\XC578178-Pigeon_Crested2_M6AK-396_Aloes_River_Dawn_29thJun20.mp3 to C:\\Users\\pragya\\Downloads\\Iteration 3\\crested pigeon\\XC578178-Pigeon_Crested2_M6AK-396_Aloes_River_Dawn_29thJun20.wav...\n",
      "Converting C:\\Users\\pragya\\Downloads\\Iteration 3\\crested pigeon\\XC593952-Crested Pigeon 07_07_53.mp3 to C:\\Users\\pragya\\Downloads\\Iteration 3\\crested pigeon\\XC593952-Crested Pigeon 07_07_53.wav...\n",
      "Converting C:\\Users\\pragya\\Downloads\\Iteration 3\\crested pigeon\\XC595115-Pigeon_Crested2_M6AK-410_ReolaRd_Small_Waterhole_PM_24thAug20.mp3 to C:\\Users\\pragya\\Downloads\\Iteration 3\\crested pigeon\\XC595115-Pigeon_Crested2_M6AK-410_ReolaRd_Small_Waterhole_PM_24thAug20.wav...\n",
      "Converting C:\\Users\\pragya\\Downloads\\Iteration 3\\crested pigeon\\XC596011-Pigeon_Crested2_M6AK-418_ReolaRd_ThreeTrees_AM1_25thAug20.mp3 to C:\\Users\\pragya\\Downloads\\Iteration 3\\crested pigeon\\XC596011-Pigeon_Crested2_M6AK-418_ReolaRd_ThreeTrees_AM1_25thAug20.wav...\n",
      "Converting C:\\Users\\pragya\\Downloads\\Iteration 3\\crested pigeon\\XC600056-Pigeon_Crested1_M3TL-625_GlenHopeStn_02092020.mp3 to C:\\Users\\pragya\\Downloads\\Iteration 3\\crested pigeon\\XC600056-Pigeon_Crested1_M3TL-625_GlenHopeStn_02092020.wav...\n",
      "Converting C:\\Users\\pragya\\Downloads\\Iteration 3\\crested pigeon\\XC600057-Pigeon_Crested1_M6AK-410_ReolaRd_Small_Waterhole_PM_24thAug20 (1).mp3 to C:\\Users\\pragya\\Downloads\\Iteration 3\\crested pigeon\\XC600057-Pigeon_Crested1_M6AK-410_ReolaRd_Small_Waterhole_PM_24thAug20 (1).wav...\n",
      "Converting C:\\Users\\pragya\\Downloads\\Iteration 3\\crested pigeon\\XC600057-Pigeon_Crested1_M6AK-410_ReolaRd_Small_Waterhole_PM_24thAug20.mp3 to C:\\Users\\pragya\\Downloads\\Iteration 3\\crested pigeon\\XC600057-Pigeon_Crested1_M6AK-410_ReolaRd_Small_Waterhole_PM_24thAug20.wav...\n",
      "Converting C:\\Users\\pragya\\Downloads\\Iteration 3\\crested pigeon\\XC600059-Pigeon_Crested1_M6AK-418_ReolaRd_ThreeTrees_AM1_25thAug20.mp3 to C:\\Users\\pragya\\Downloads\\Iteration 3\\crested pigeon\\XC600059-Pigeon_Crested1_M6AK-418_ReolaRd_ThreeTrees_AM1_25thAug20.wav...\n",
      "Converting C:\\Users\\pragya\\Downloads\\Iteration 3\\crested pigeon\\XC600061-Pigeon_Crested2_SDLOM_100_Paroo_Darling_River_Woodland_AM1_30thAug20-tp.mp3 to C:\\Users\\pragya\\Downloads\\Iteration 3\\crested pigeon\\XC600061-Pigeon_Crested2_SDLOM_100_Paroo_Darling_River_Woodland_AM1_30thAug20-tp.wav...\n",
      "Converting C:\\Users\\pragya\\Downloads\\Iteration 3\\crested pigeon\\XC604351-Crested Pigeon 06_16_06.mp3 to C:\\Users\\pragya\\Downloads\\Iteration 3\\crested pigeon\\XC604351-Crested Pigeon 06_16_06.wav...\n",
      "Converting C:\\Users\\pragya\\Downloads\\Iteration 3\\crested pigeon\\XC609283-Pigeon_Crested1_M6AK-425_Mount_Wood_Stud_Creek_Sth_Dusk_27thAug20.mp3 to C:\\Users\\pragya\\Downloads\\Iteration 3\\crested pigeon\\XC609283-Pigeon_Crested1_M6AK-425_Mount_Wood_Stud_Creek_Sth_Dusk_27thAug20.wav...\n",
      "Converting C:\\Users\\pragya\\Downloads\\Iteration 3\\crested pigeon\\XC609348-Pigeon_Crested1_M6AK-433_Mount_Wood_Campground_AM1_28thAug20.mp3 to C:\\Users\\pragya\\Downloads\\Iteration 3\\crested pigeon\\XC609348-Pigeon_Crested1_M6AK-433_Mount_Wood_Campground_AM1_28thAug20.wav...\n",
      "Converting C:\\Users\\pragya\\Downloads\\Iteration 3\\crested pigeon\\XC641425-Ocylop_HannRg_16-5-2017-0812.mp3 to C:\\Users\\pragya\\Downloads\\Iteration 3\\crested pigeon\\XC641425-Ocylop_HannRg_16-5-2017-0812.wav...\n",
      "Converting C:\\Users\\pragya\\Downloads\\Iteration 3\\crested pigeon\\XC666740-CrestedPigeonAlarmFlight_Littlehampton_20210723_134638.mp3 to C:\\Users\\pragya\\Downloads\\Iteration 3\\crested pigeon\\XC666740-CrestedPigeonAlarmFlight_Littlehampton_20210723_134638.wav...\n",
      "Converting C:\\Users\\pragya\\Downloads\\Iteration 3\\crested pigeon\\XC673037-Pigeon_Crested1_M6MKH-244_Nyngan_Duck_Creek_AM2_31stAug20.mp3 to C:\\Users\\pragya\\Downloads\\Iteration 3\\crested pigeon\\XC673037-Pigeon_Crested1_M6MKH-244_Nyngan_Duck_Creek_AM2_31stAug20.wav...\n",
      "Converting C:\\Users\\pragya\\Downloads\\Iteration 3\\crested pigeon\\XC692682-Pigeon_Crested1_flight_SDEM178_Paroo_Darling_Top_Road_Dawn2_2ndOct21.mp3 to C:\\Users\\pragya\\Downloads\\Iteration 3\\crested pigeon\\XC692682-Pigeon_Crested1_flight_SDEM178_Paroo_Darling_Top_Road_Dawn2_2ndOct21.wav...\n",
      "Converting C:\\Users\\pragya\\Downloads\\Iteration 3\\crested pigeon\\XC692683-Pigeon_Crested1_M6MKH638_Paroo_Darling_Shrubby_Creek_AM1_3rdOct21.mp3 to C:\\Users\\pragya\\Downloads\\Iteration 3\\crested pigeon\\XC692683-Pigeon_Crested1_M6MKH638_Paroo_Darling_Shrubby_Creek_AM1_3rdOct21.wav...\n",
      "Converting C:\\Users\\pragya\\Downloads\\Iteration 3\\crested pigeon\\XC87426-Crested Pigeon.mp3 to C:\\Users\\pragya\\Downloads\\Iteration 3\\crested pigeon\\XC87426-Crested Pigeon.wav...\n"
     ]
    }
   ],
   "source": [
    "for i in crested_pigeon_filenames:\n",
    "    # Test the function\n",
    "    convert_to_wav(i)"
   ]
  },
  {
   "cell_type": "code",
   "execution_count": null,
   "id": "26b219d0",
   "metadata": {},
   "outputs": [
    {
     "name": "stdout",
     "output_type": "stream",
     "text": [
      "Converting C:\\Users\\pragya\\Downloads\\Iteration 3\\eastern spinebill\\XC146133-eastern-spinebill-long-flight-song.mp3 to C:\\Users\\pragya\\Downloads\\Iteration 3\\eastern spinebill\\XC146133-eastern-spinebill-long-flight-song.wav...\n",
      "Converting C:\\Users\\pragya\\Downloads\\Iteration 3\\eastern spinebill\\XC146633-eastern-spinebill3.mp3 to C:\\Users\\pragya\\Downloads\\Iteration 3\\eastern spinebill\\XC146633-eastern-spinebill3.wav...\n",
      "Converting C:\\Users\\pragya\\Downloads\\Iteration 3\\eastern spinebill\\XC171970-spinebill-short-call.mp3 to C:\\Users\\pragya\\Downloads\\Iteration 3\\eastern spinebill\\XC171970-spinebill-short-call.wav...\n",
      "Converting C:\\Users\\pragya\\Downloads\\Iteration 3\\eastern spinebill\\XC171971-spinebill-song.mp3 to C:\\Users\\pragya\\Downloads\\Iteration 3\\eastern spinebill\\XC171971-spinebill-song.wav...\n",
      "Converting C:\\Users\\pragya\\Downloads\\Iteration 3\\eastern spinebill\\XC171972-spinebill-song2.mp3 to C:\\Users\\pragya\\Downloads\\Iteration 3\\eastern spinebill\\XC171972-spinebill-song2.wav...\n",
      "Converting C:\\Users\\pragya\\Downloads\\Iteration 3\\eastern spinebill\\XC172033-spinebill-fast-piping.mp3 to C:\\Users\\pragya\\Downloads\\Iteration 3\\eastern spinebill\\XC172033-spinebill-fast-piping.wav...\n",
      "Converting C:\\Users\\pragya\\Downloads\\Iteration 3\\eastern spinebill\\XC172264-spinebill-dispaly-flight.mp3 to C:\\Users\\pragya\\Downloads\\Iteration 3\\eastern spinebill\\XC172264-spinebill-dispaly-flight.wav...\n",
      "Converting C:\\Users\\pragya\\Downloads\\Iteration 3\\eastern spinebill\\XC269691-eastern-spinebill-song-cnp1.mp3 to C:\\Users\\pragya\\Downloads\\Iteration 3\\eastern spinebill\\XC269691-eastern-spinebill-song-cnp1.wav...\n",
      "Converting C:\\Users\\pragya\\Downloads\\Iteration 3\\eastern spinebill\\XC305909-Gympie National Park20150926_641.mp3 to C:\\Users\\pragya\\Downloads\\Iteration 3\\eastern spinebill\\XC305909-Gympie National Park20150926_641.wav...\n",
      "Converting C:\\Users\\pragya\\Downloads\\Iteration 3\\eastern spinebill\\XC340220-eastern-spinebill-ds1.mp3 to C:\\Users\\pragya\\Downloads\\Iteration 3\\eastern spinebill\\XC340220-eastern-spinebill-ds1.wav...\n",
      "Converting C:\\Users\\pragya\\Downloads\\Iteration 3\\eastern spinebill\\XC340221-eastern-spinebill-ds2.mp3 to C:\\Users\\pragya\\Downloads\\Iteration 3\\eastern spinebill\\XC340221-eastern-spinebill-ds2.wav...\n",
      "Converting C:\\Users\\pragya\\Downloads\\Iteration 3\\eastern spinebill\\XC357302-GMCLAC_3876-ESpinebill.mp3 to C:\\Users\\pragya\\Downloads\\Iteration 3\\eastern spinebill\\XC357302-GMCLAC_3876-ESpinebill.wav...\n",
      "Converting C:\\Users\\pragya\\Downloads\\Iteration 3\\eastern spinebill\\XC375294-GMCLAC_5015-ESpinebill.mp3 to C:\\Users\\pragya\\Downloads\\Iteration 3\\eastern spinebill\\XC375294-GMCLAC_5015-ESpinebill.wav...\n",
      "Converting C:\\Users\\pragya\\Downloads\\Iteration 3\\eastern spinebill\\XC380191-eastern-spinebill-sopng-bgnr1.mp3 to C:\\Users\\pragya\\Downloads\\Iteration 3\\eastern spinebill\\XC380191-eastern-spinebill-sopng-bgnr1.wav...\n",
      "Converting C:\\Users\\pragya\\Downloads\\Iteration 3\\eastern spinebill\\XC390576-Spinebill_Eastern_BurralowNth_Forest1.mp3 to C:\\Users\\pragya\\Downloads\\Iteration 3\\eastern spinebill\\XC390576-Spinebill_Eastern_BurralowNth_Forest1.wav...\n"
     ]
    }
   ],
   "source": [
    "for i in eastern_spinebill_filenames:\n",
    "    # Test the function\n",
    "    convert_to_wav(i)"
   ]
  },
  {
   "cell_type": "code",
   "execution_count": null,
   "id": "4ed84429",
   "metadata": {},
   "outputs": [],
   "source": [
    "for i in grey_butcherbird_filenames:\n",
    "    # Test the function\n",
    "    convert_to_wav(i)"
   ]
  },
  {
   "cell_type": "code",
   "execution_count": null,
   "id": "b409ea5a",
   "metadata": {},
   "outputs": [],
   "source": [
    "for i in grey_fantail_filenames:\n",
    "    # Test the function\n",
    "    convert_to_wav(i)"
   ]
  },
  {
   "cell_type": "code",
   "execution_count": null,
   "id": "4b7d311f",
   "metadata": {},
   "outputs": [],
   "source": [
    "for i in noisy_miner_filenames:\n",
    "    # Test the function\n",
    "    convert_to_wav(i)"
   ]
  },
  {
   "cell_type": "code",
   "execution_count": null,
   "id": "0eb0b95f",
   "metadata": {},
   "outputs": [],
   "source": [
    "for i in silvereye_filenames:\n",
    "    # Test the function\n",
    "    convert_to_wav(i)"
   ]
  },
  {
   "cell_type": "code",
   "execution_count": null,
   "id": "5507f300",
   "metadata": {},
   "outputs": [],
   "source": [
    "for i in sulphur_crested_cockatoo_filenames:\n",
    "    # Test the function\n",
    "    convert_to_wav(i)"
   ]
  },
  {
   "cell_type": "markdown",
   "id": "2405974c",
   "metadata": {},
   "source": [
    "_______________________________________________________________________________________________________________________________"
   ]
  },
  {
   "cell_type": "markdown",
   "id": "2f22151a",
   "metadata": {},
   "source": [
    "## CLEANING AND MERGING DATA"
   ]
  },
  {
   "cell_type": "code",
   "execution_count": null,
   "id": "1d6af484",
   "metadata": {},
   "outputs": [],
   "source": [
    "import glob\n",
    "new_holland_df = pd.DataFrame()\n",
    "new_holland_df['links'] = glob.glob('C:\\\\Users\\\\pragya\\\\Downloads\\\\Iteration 3\\\\new holland honeyeater\\\\*.wav')\n",
    "new_holland_df['specie'] = \"New Holland Honeyeater\"\n",
    "\n",
    "brown_headed_df = pd.DataFrame()\n",
    "brown_headed_df['links'] = glob.glob('C:\\\\Users\\\\pragya\\\\Downloads\\\\Iteration 3\\\\brown headed honeyeater\\\\*.wav')\n",
    "brown_headed_df['specie'] = \"Brown Headed Honeyeater\"\n",
    "\n",
    "white_napped_df = pd.DataFrame()\n",
    "white_napped_df['links'] = glob.glob('C:\\\\Users\\\\pragya\\\\Downloads\\\\Iteration 3\\\\white naped honeyeater\\\\*.wav')\n",
    "white_napped_df['specie'] = \"White Napped Honeyeater\"\n",
    "\n",
    "# random_df = pd.DataFrame()\n",
    "# random_df['links'] = glob.glob('C:\\\\Users\\\\pragya\\\\Downloads\\\\Iteration 2\\\\Random Honeyeaters\\\\*.wav')\n",
    "# random_df['specie'] = \"Not Specified\"\n",
    "\n",
    "australian_king_parrot_df = pd.DataFrame()\n",
    "australian_king_parrot_df['links'] = glob.glob(\"C:\\\\Users\\\\pragya\\\\Downloads\\\\Iteration 3\\\\australian king parrot\\\\*.wav\")\n",
    "australian_king_parrot_df['specie'] = \"Australian King Parrot\"\n",
    "\n",
    "australian_magpie_df = pd.DataFrame()\n",
    "australian_magpie_df['links'] = glob.glob(\"C:\\\\Users\\\\pragya\\\\Downloads\\\\Iteration 3\\\\australian magpie\\\\*.wav\")\n",
    "australian_magpie_df['specie'] = \"Australian Magpie\"\n",
    "\n",
    "australian_raven_df = pd.DataFrame()\n",
    "australian_raven_df['links'] = glob.glob(\"C:\\\\Users\\\\pragya\\\\Downloads\\\\Iteration 3\\\\australian raven\\\\*.wav\")\n",
    "australian_raven_df['specie'] = \"Australian Raven\"\n",
    "\n",
    "crested_pigeon_df = pd.DataFrame()\n",
    "crested_pigeon_df['links'] = glob.glob(\"C:\\\\Users\\\\pragya\\\\Downloads\\\\Iteration 3\\\\crested pigeon\\\\*.wav\")\n",
    "crested_pigeon_df['specie'] = \"Crested Pigeon\"\n",
    "\n",
    "eastern_spinebill_df = pd.DataFrame()\n",
    "eastern_spinebill_df['links'] = glob.glob(\"C:\\\\Users\\\\pragya\\\\Downloads\\\\Iteration 3\\\\eastern spinebill\\\\*.wav\")\n",
    "eastern_spinebill_df['specie'] = \"Eastern Spinebill\"\n",
    "\n",
    "grey_butcherbird_df = pd.DataFrame()\n",
    "grey_butcherbird_df['links'] = glob.glob(\"C:\\\\Users\\\\pragya\\\\Downloads\\\\Iteration 3\\\\grey butcherbird\\\\*.wav\")\n",
    "grey_butcherbird_df['specie'] = \"Grey Butcherbird\"\n",
    "\n",
    "grey_fantail_df = pd.DataFrame()\n",
    "grey_fantail_df['links'] = glob.glob(\"C:\\\\Users\\\\pragya\\\\Downloads\\\\Iteration 3\\\\grey fantail\\\\*.wav\")\n",
    "grey_fantail_df['specie'] = \"Grey Fantail\"\n",
    "\n",
    "noisy_miner_df = pd.DataFrame()\n",
    "noisy_miner_df['links'] = glob.glob(\"C:\\\\Users\\\\pragya\\\\Downloads\\\\Iteration 3\\\\noisy miner\\\\*.wav\")\n",
    "noisy_miner_df['specie'] = \"Noisy Miner\"\n",
    "\n",
    "silvereye_df = pd.DataFrame()\n",
    "silvereye_df['links'] = glob.glob(\"C:\\\\Users\\\\pragya\\\\Downloads\\\\Iteration 3\\\\silvereye\\\\*.wav\")\n",
    "silvereye_df['specie'] = \"Silvereye\"\n",
    "\n",
    "sulphur_crested_cockatoo_df = pd.DataFrame()\n",
    "sulphur_crested_cockatoo_df['links'] = glob.glob(\"C:\\\\Users\\\\pragya\\\\Downloads\\\\Iteration 3\\\\sulphur crested cockatoo\\\\*.wav\")\n",
    "sulphur_crested_cockatoo_df['specie'] = \"Sulphur Crested Cockatoo\""
   ]
  },
  {
   "cell_type": "code",
   "execution_count": null,
   "id": "b16adb47",
   "metadata": {},
   "outputs": [],
   "source": [
    "df = pd.concat([new_holland_df, brown_headed_df, white_napped_df, australian_king_parrot_df, australian_magpie_df, australian_raven_df, \n",
    "                crested_pigeon_df, eastern_spinebill_df, grey_butcherbird_df, grey_fantail_df, noisy_miner_df, silvereye_df, sulphur_crested_cockatoo_df])"
   ]
  },
  {
   "cell_type": "code",
   "execution_count": null,
   "id": "eda95abb",
   "metadata": {},
   "outputs": [],
   "source": [
    "len(new_holland_df), len(brown_headed_df), len(white_napped_df)"
   ]
  },
  {
   "cell_type": "code",
   "execution_count": null,
   "id": "d75b1f51",
   "metadata": {},
   "outputs": [],
   "source": [
    "df.to_csv('C:\\\\Users\\\\pragya\\\\Downloads\\\\Iteration 3\\\\specie_sound.csv', index = False)"
   ]
  },
  {
   "cell_type": "markdown",
   "id": "8d1ea949",
   "metadata": {},
   "source": [
    "_______________________________________________________________________________________________________________________________"
   ]
  }
 ],
 "metadata": {
  "kernelspec": {
   "display_name": "Python 3",
   "language": "python",
   "name": "python3"
  },
  "language_info": {
   "codemirror_mode": {
    "name": "ipython",
    "version": 3
   },
   "file_extension": ".py",
   "mimetype": "text/x-python",
   "name": "python",
   "nbconvert_exporter": "python",
   "pygments_lexer": "ipython3",
   "version": "3.7.4"
  }
 },
 "nbformat": 4,
 "nbformat_minor": 5
}
