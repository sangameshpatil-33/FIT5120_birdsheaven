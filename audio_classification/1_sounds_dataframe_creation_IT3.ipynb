{
 "cells": [
  {
   "cell_type": "markdown",
   "id": "e513c777",
   "metadata": {},
   "source": [
    "## READ FILENAMES"
   ]
  },
  {
   "cell_type": "code",
   "execution_count": 23,
   "id": "f8d2d6fd",
   "metadata": {},
   "outputs": [],
   "source": [
    "# import OS module\n",
    "import os\n",
    "import pandas as pd\n",
    "import glob"
   ]
  },
  {
   "cell_type": "code",
   "execution_count": 24,
   "id": "6fd71616",
   "metadata": {},
   "outputs": [],
   "source": [
    "brown_headed_filenames = glob.glob('C:\\\\Users\\\\pragya\\\\Downloads\\\\Iteration 3\\\\brown headed honeyeater\\\\*.mp3')\n",
    "new_holland_filenames = glob.glob('C:\\\\Users\\\\pragya\\\\Downloads\\\\Iteration 3\\\\new holland honeyeater\\\\*.mp3')\n",
    "white_napped_filenames = glob.glob(\"C:\\\\Users\\\\pragya\\\\Downloads\\\\Iteration 3\\\\white naped honeyeater\\\\*.mp3\")"
   ]
  },
  {
   "cell_type": "code",
   "execution_count": 25,
   "id": "e0b3dfc5",
   "metadata": {},
   "outputs": [],
   "source": [
    "australian_king_parrot_filenames = glob.glob(\"C:\\\\Users\\\\pragya\\\\Downloads\\\\Iteration 3\\\\australian king parrot\\\\*.mp3\")\n",
    "australian_magpie_filenames = glob.glob(\"C:\\\\Users\\\\pragya\\\\Downloads\\\\Iteration 3\\\\australian magpie\\\\*.mp3\")\n",
    "australian_raven_filenames = glob.glob(\"C:\\\\Users\\\\pragya\\\\Downloads\\\\Iteration 3\\\\australian raven\\\\*.mp3\")\n",
    "crested_pigeon_filenames = glob.glob(\"C:\\\\Users\\\\pragya\\\\Downloads\\\\Iteration 3\\\\crested pigeon\\\\*.mp3\")\n",
    "eastern_spinebill_filenames = glob.glob(\"C:\\\\Users\\\\pragya\\\\Downloads\\\\Iteration 3\\\\eastern spinebill\\\\*.mp3\")\n",
    "grey_butcherbird_filenames = glob.glob(\"C:\\\\Users\\\\pragya\\\\Downloads\\\\Iteration 3\\\\grey butcherbird\\\\*.mp3\")\n",
    "grey_fantail_filenames = glob.glob(\"C:\\\\Users\\\\pragya\\\\Downloads\\\\Iteration 3\\\\grey fantail\\\\*.mp3\")\n",
    "noisy_miner_filenames = glob.glob(\"C:\\\\Users\\\\pragya\\\\Downloads\\\\Iteration 3\\\\noisy miner\\\\*.mp3\")\n",
    "silvereye_filenames = glob.glob(\"C:\\\\Users\\\\pragya\\\\Downloads\\\\Iteration 3\\\\silvereye\\\\*.mp3\")\n",
    "sulphur_crested_cockatoo_filenames = glob.glob(\"C:\\\\Users\\\\pragya\\\\Downloads\\\\Iteration 3\\\\sulphur crested cockatoo\\\\*.mp3\")"
   ]
  },
  {
   "cell_type": "code",
   "execution_count": 26,
   "id": "f9cad7ff",
   "metadata": {},
   "outputs": [],
   "source": [
    "cat_filenames = glob.glob(\"C:\\\\Users\\\\pragya\\\\Downloads\\\\Iteration 3\\\\cats\\\\*.mp3\")\n",
    "dog_filenames = glob.glob(\"C:\\\\Users\\\\pragya\\\\Downloads\\\\Iteration 3\\\\dogs\\\\*.mp3\")"
   ]
  },
  {
   "cell_type": "markdown",
   "id": "bea852f5",
   "metadata": {},
   "source": [
    "_______________________________________________________________________________________________________________________________"
   ]
  },
  {
   "cell_type": "markdown",
   "id": "410283ee",
   "metadata": {},
   "source": [
    "## CONVERT AUDIO FILE TO WAV FORMAT"
   ]
  },
  {
   "cell_type": "code",
   "execution_count": 27,
   "id": "a250f4a5",
   "metadata": {},
   "outputs": [],
   "source": [
    "# REFERENCE: https://campus.datacamp.com/courses/spoken-language-processing-in-python/processing-text-transcribed-from-spoken-language?ex=2\n",
    "\n",
    "from pydub import AudioSegment\n",
    "\n",
    "# Create function to convert audio file to wav\n",
    "def convert_to_wav(filename):\n",
    "    # Takes an audio file of non .wav format and converts to .wav\n",
    "    # Import audio file\n",
    "    audio = AudioSegment.from_file(filename)\n",
    "  \n",
    "    # Create new filename\n",
    "    new_filename = filename.split(\".\")[0] + \".wav\"\n",
    "  \n",
    "    # Export file as .wav\n",
    "    audio.export(new_filename, format=\"wav\")\n",
    "    print(f\"Converting {filename} to {new_filename}...\")"
   ]
  },
  {
   "cell_type": "code",
   "execution_count": 28,
   "id": "a0b76adf",
   "metadata": {},
   "outputs": [
    {
     "name": "stdout",
     "output_type": "stream",
     "text": [
      "Converting C:\\Users\\pragya\\Downloads\\Iteration 3\\brown headed honeyeater\\XC104883 - Brown-headed Honeyeater - Melithreptus brevirostris brevirostris.mp3 to C:\\Users\\pragya\\Downloads\\Iteration 3\\brown headed honeyeater\\XC104883 - Brown-headed Honeyeater - Melithreptus brevirostris brevirostris.wav...\n",
      "Converting C:\\Users\\pragya\\Downloads\\Iteration 3\\brown headed honeyeater\\XC104884 - Brown-headed Honeyeater - Melithreptus brevirostris brevirostris.mp3 to C:\\Users\\pragya\\Downloads\\Iteration 3\\brown headed honeyeater\\XC104884 - Brown-headed Honeyeater - Melithreptus brevirostris brevirostris.wav...\n",
      "Converting C:\\Users\\pragya\\Downloads\\Iteration 3\\brown headed honeyeater\\XC104885 - Brown-headed Honeyeater - Melithreptus brevirostris brevirostris.mp3 to C:\\Users\\pragya\\Downloads\\Iteration 3\\brown headed honeyeater\\XC104885 - Brown-headed Honeyeater - Melithreptus brevirostris brevirostris.wav...\n",
      "Converting C:\\Users\\pragya\\Downloads\\Iteration 3\\brown headed honeyeater\\XC188237 - Brown-headed Honeyeater - Melithreptus brevirostris brevirostris.mp3 to C:\\Users\\pragya\\Downloads\\Iteration 3\\brown headed honeyeater\\XC188237 - Brown-headed Honeyeater - Melithreptus brevirostris brevirostris.wav...\n",
      "Converting C:\\Users\\pragya\\Downloads\\Iteration 3\\brown headed honeyeater\\XC197377 - Brown-headed Honeyeater - Melithreptus brevirostris.mp3 to C:\\Users\\pragya\\Downloads\\Iteration 3\\brown headed honeyeater\\XC197377 - Brown-headed Honeyeater - Melithreptus brevirostris.wav...\n",
      "Converting C:\\Users\\pragya\\Downloads\\Iteration 3\\brown headed honeyeater\\XC197588 - Brown-headed Honeyeater - Melithreptus brevirostris.mp3 to C:\\Users\\pragya\\Downloads\\Iteration 3\\brown headed honeyeater\\XC197588 - Brown-headed Honeyeater - Melithreptus brevirostris.wav...\n",
      "Converting C:\\Users\\pragya\\Downloads\\Iteration 3\\brown headed honeyeater\\XC200315 - Brown-headed Honeyeater - Melithreptus brevirostris.mp3 to C:\\Users\\pragya\\Downloads\\Iteration 3\\brown headed honeyeater\\XC200315 - Brown-headed Honeyeater - Melithreptus brevirostris.wav...\n",
      "Converting C:\\Users\\pragya\\Downloads\\Iteration 3\\brown headed honeyeater\\XC203154 - Brown-headed Honeyeater - Melithreptus brevirostris pallidiceps.mp3 to C:\\Users\\pragya\\Downloads\\Iteration 3\\brown headed honeyeater\\XC203154 - Brown-headed Honeyeater - Melithreptus brevirostris pallidiceps.wav...\n",
      "Converting C:\\Users\\pragya\\Downloads\\Iteration 3\\brown headed honeyeater\\XC286940 - Brown-headed Honeyeater - Melithreptus brevirostris.mp3 to C:\\Users\\pragya\\Downloads\\Iteration 3\\brown headed honeyeater\\XC286940 - Brown-headed Honeyeater - Melithreptus brevirostris.wav...\n",
      "Converting C:\\Users\\pragya\\Downloads\\Iteration 3\\brown headed honeyeater\\XC328849 - Brown-headed Honeyeater - Melithreptus brevirostris.mp3 to C:\\Users\\pragya\\Downloads\\Iteration 3\\brown headed honeyeater\\XC328849 - Brown-headed Honeyeater - Melithreptus brevirostris.wav...\n",
      "Converting C:\\Users\\pragya\\Downloads\\Iteration 3\\brown headed honeyeater\\XC334423 - Brown-headed Honeyeater - Melithreptus brevirostris.mp3 to C:\\Users\\pragya\\Downloads\\Iteration 3\\brown headed honeyeater\\XC334423 - Brown-headed Honeyeater - Melithreptus brevirostris.wav...\n",
      "Converting C:\\Users\\pragya\\Downloads\\Iteration 3\\brown headed honeyeater\\XC334463 - Brown-headed Honeyeater - Melithreptus brevirostris.mp3 to C:\\Users\\pragya\\Downloads\\Iteration 3\\brown headed honeyeater\\XC334463 - Brown-headed Honeyeater - Melithreptus brevirostris.wav...\n",
      "Converting C:\\Users\\pragya\\Downloads\\Iteration 3\\brown headed honeyeater\\XC383185 - Brown-headed Honeyeater - Melithreptus brevirostris leucogenys.mp3 to C:\\Users\\pragya\\Downloads\\Iteration 3\\brown headed honeyeater\\XC383185 - Brown-headed Honeyeater - Melithreptus brevirostris leucogenys.wav...\n",
      "Converting C:\\Users\\pragya\\Downloads\\Iteration 3\\brown headed honeyeater\\XC393384 - Brown-headed Honeyeater - Melithreptus brevirostris.mp3 to C:\\Users\\pragya\\Downloads\\Iteration 3\\brown headed honeyeater\\XC393384 - Brown-headed Honeyeater - Melithreptus brevirostris.wav...\n",
      "Converting C:\\Users\\pragya\\Downloads\\Iteration 3\\brown headed honeyeater\\XC407727 - Brown-headed Honeyeater - Melithreptus brevirostris pallidiceps_.mp3 to C:\\Users\\pragya\\Downloads\\Iteration 3\\brown headed honeyeater\\XC407727 - Brown-headed Honeyeater - Melithreptus brevirostris pallidiceps_.wav...\n",
      "Converting C:\\Users\\pragya\\Downloads\\Iteration 3\\brown headed honeyeater\\XC407728 - Brown-headed Honeyeater - Melithreptus brevirostris pallidiceps_.mp3 to C:\\Users\\pragya\\Downloads\\Iteration 3\\brown headed honeyeater\\XC407728 - Brown-headed Honeyeater - Melithreptus brevirostris pallidiceps_.wav...\n",
      "Converting C:\\Users\\pragya\\Downloads\\Iteration 3\\brown headed honeyeater\\XC592604 - Brown-headed Honeyeater - Melithreptus brevirostris.mp3 to C:\\Users\\pragya\\Downloads\\Iteration 3\\brown headed honeyeater\\XC592604 - Brown-headed Honeyeater - Melithreptus brevirostris.wav...\n",
      "Converting C:\\Users\\pragya\\Downloads\\Iteration 3\\brown headed honeyeater\\XC729287 - Brown-headed Honeyeater - Melithreptus brevirostris.mp3 to C:\\Users\\pragya\\Downloads\\Iteration 3\\brown headed honeyeater\\XC729287 - Brown-headed Honeyeater - Melithreptus brevirostris.wav...\n"
     ]
    }
   ],
   "source": [
    "for i in brown_headed_filenames:\n",
    "    # Test the function\n",
    "    convert_to_wav(i)"
   ]
  },
  {
   "cell_type": "code",
   "execution_count": 29,
   "id": "22357a6b",
   "metadata": {},
   "outputs": [
    {
     "name": "stdout",
     "output_type": "stream",
     "text": [
      "Converting C:\\Users\\pragya\\Downloads\\Iteration 3\\new holland honeyeater\\328859.mp3 to C:\\Users\\pragya\\Downloads\\Iteration 3\\new holland honeyeater\\328859.wav...\n",
      "Converting C:\\Users\\pragya\\Downloads\\Iteration 3\\new holland honeyeater\\354735.mp3 to C:\\Users\\pragya\\Downloads\\Iteration 3\\new holland honeyeater\\354735.wav...\n",
      "Converting C:\\Users\\pragya\\Downloads\\Iteration 3\\new holland honeyeater\\370620.mp3 to C:\\Users\\pragya\\Downloads\\Iteration 3\\new holland honeyeater\\370620.wav...\n",
      "Converting C:\\Users\\pragya\\Downloads\\Iteration 3\\new holland honeyeater\\XC104917 - New Holland Honeyeater - Phylidonyris novaehollandiae novaehollandiae.mp3 to C:\\Users\\pragya\\Downloads\\Iteration 3\\new holland honeyeater\\XC104917 - New Holland Honeyeater - Phylidonyris novaehollandiae novaehollandiae.wav...\n",
      "Converting C:\\Users\\pragya\\Downloads\\Iteration 3\\new holland honeyeater\\XC104918 - New Holland Honeyeater - Phylidonyris novaehollandiae novaehollandiae.mp3 to C:\\Users\\pragya\\Downloads\\Iteration 3\\new holland honeyeater\\XC104918 - New Holland Honeyeater - Phylidonyris novaehollandiae novaehollandiae.wav...\n",
      "Converting C:\\Users\\pragya\\Downloads\\Iteration 3\\new holland honeyeater\\XC140204 - New Holland Honeyeater - Phylidonyris novaehollandiae.mp3 to C:\\Users\\pragya\\Downloads\\Iteration 3\\new holland honeyeater\\XC140204 - New Holland Honeyeater - Phylidonyris novaehollandiae.wav...\n",
      "Converting C:\\Users\\pragya\\Downloads\\Iteration 3\\new holland honeyeater\\XC146651 - New Holland Honeyeater - Phylidonyris novaehollandiae.mp3 to C:\\Users\\pragya\\Downloads\\Iteration 3\\new holland honeyeater\\XC146651 - New Holland Honeyeater - Phylidonyris novaehollandiae.wav...\n",
      "Converting C:\\Users\\pragya\\Downloads\\Iteration 3\\new holland honeyeater\\XC171959 - New Holland Honeyeater - Phylidonyris novaehollandiae.mp3 to C:\\Users\\pragya\\Downloads\\Iteration 3\\new holland honeyeater\\XC171959 - New Holland Honeyeater - Phylidonyris novaehollandiae.wav...\n",
      "Converting C:\\Users\\pragya\\Downloads\\Iteration 3\\new holland honeyeater\\XC171960 - New Holland Honeyeater - Phylidonyris novaehollandiae.mp3 to C:\\Users\\pragya\\Downloads\\Iteration 3\\new holland honeyeater\\XC171960 - New Holland Honeyeater - Phylidonyris novaehollandiae.wav...\n",
      "Converting C:\\Users\\pragya\\Downloads\\Iteration 3\\new holland honeyeater\\XC172248 - New Holland Honeyeater - Phylidonyris novaehollandiae.mp3 to C:\\Users\\pragya\\Downloads\\Iteration 3\\new holland honeyeater\\XC172248 - New Holland Honeyeater - Phylidonyris novaehollandiae.wav...\n",
      "Converting C:\\Users\\pragya\\Downloads\\Iteration 3\\new holland honeyeater\\XC172248-new-holland-mt-wilson-1.mp3 to C:\\Users\\pragya\\Downloads\\Iteration 3\\new holland honeyeater\\XC172248-new-holland-mt-wilson-1.wav...\n",
      "Converting C:\\Users\\pragya\\Downloads\\Iteration 3\\new holland honeyeater\\XC186225 - New Holland Honeyeater - Phylidonyris novaehollandiae novaehollandiae.mp3 to C:\\Users\\pragya\\Downloads\\Iteration 3\\new holland honeyeater\\XC186225 - New Holland Honeyeater - Phylidonyris novaehollandiae novaehollandiae.wav...\n",
      "Converting C:\\Users\\pragya\\Downloads\\Iteration 3\\new holland honeyeater\\XC204469 - New Holland Honeyeater - Phylidonyris novaehollandiae.mp3 to C:\\Users\\pragya\\Downloads\\Iteration 3\\new holland honeyeater\\XC204469 - New Holland Honeyeater - Phylidonyris novaehollandiae.wav...\n",
      "Converting C:\\Users\\pragya\\Downloads\\Iteration 3\\new holland honeyeater\\XC204469-new-holland-heater-tas.mp3 to C:\\Users\\pragya\\Downloads\\Iteration 3\\new holland honeyeater\\XC204469-new-holland-heater-tas.wav...\n",
      "Converting C:\\Users\\pragya\\Downloads\\Iteration 3\\new holland honeyeater\\XC241027 - New Holland Honeyeater - Phylidonyris novaehollandiae.mp3 to C:\\Users\\pragya\\Downloads\\Iteration 3\\new holland honeyeater\\XC241027 - New Holland Honeyeater - Phylidonyris novaehollandiae.wav...\n",
      "Converting C:\\Users\\pragya\\Downloads\\Iteration 3\\new holland honeyeater\\XC328854 - New Holland Honeyeater - Phylidonyris novaehollandiae.mp3 to C:\\Users\\pragya\\Downloads\\Iteration 3\\new holland honeyeater\\XC328854 - New Holland Honeyeater - Phylidonyris novaehollandiae.wav...\n",
      "Converting C:\\Users\\pragya\\Downloads\\Iteration 3\\new holland honeyeater\\XC328854-New Holland Honeyeater2016-1-11-2.mp3 to C:\\Users\\pragya\\Downloads\\Iteration 3\\new holland honeyeater\\XC328854-New Holland Honeyeater2016-1-11-2.wav...\n",
      "Converting C:\\Users\\pragya\\Downloads\\Iteration 3\\new holland honeyeater\\XC328855 - New Holland Honeyeater - Phylidonyris novaehollandiae.mp3 to C:\\Users\\pragya\\Downloads\\Iteration 3\\new holland honeyeater\\XC328855 - New Holland Honeyeater - Phylidonyris novaehollandiae.wav...\n",
      "Converting C:\\Users\\pragya\\Downloads\\Iteration 3\\new holland honeyeater\\XC328855-New Holland Honeyeater2016-1-11-3.mp3 to C:\\Users\\pragya\\Downloads\\Iteration 3\\new holland honeyeater\\XC328855-New Holland Honeyeater2016-1-11-3.wav...\n",
      "Converting C:\\Users\\pragya\\Downloads\\Iteration 3\\new holland honeyeater\\XC328856 - New Holland Honeyeater - Phylidonyris novaehollandiae.mp3 to C:\\Users\\pragya\\Downloads\\Iteration 3\\new holland honeyeater\\XC328856 - New Holland Honeyeater - Phylidonyris novaehollandiae.wav...\n",
      "Converting C:\\Users\\pragya\\Downloads\\Iteration 3\\new holland honeyeater\\XC328856-New Holland Honeyeater2016-1-11-4.mp3 to C:\\Users\\pragya\\Downloads\\Iteration 3\\new holland honeyeater\\XC328856-New Holland Honeyeater2016-1-11-4.wav...\n",
      "Converting C:\\Users\\pragya\\Downloads\\Iteration 3\\new holland honeyeater\\XC328857 - New Holland Honeyeater - Phylidonyris novaehollandiae.mp3 to C:\\Users\\pragya\\Downloads\\Iteration 3\\new holland honeyeater\\XC328857 - New Holland Honeyeater - Phylidonyris novaehollandiae.wav...\n",
      "Converting C:\\Users\\pragya\\Downloads\\Iteration 3\\new holland honeyeater\\XC328857-New Holland Honeyeater2016-1-11-5.mp3 to C:\\Users\\pragya\\Downloads\\Iteration 3\\new holland honeyeater\\XC328857-New Holland Honeyeater2016-1-11-5.wav...\n",
      "Converting C:\\Users\\pragya\\Downloads\\Iteration 3\\new holland honeyeater\\XC328858 - New Holland Honeyeater - Phylidonyris novaehollandiae.mp3 to C:\\Users\\pragya\\Downloads\\Iteration 3\\new holland honeyeater\\XC328858 - New Holland Honeyeater - Phylidonyris novaehollandiae.wav...\n",
      "Converting C:\\Users\\pragya\\Downloads\\Iteration 3\\new holland honeyeater\\XC328858-New Holland Honeyeater2016-1-19-1.mp3 to C:\\Users\\pragya\\Downloads\\Iteration 3\\new holland honeyeater\\XC328858-New Holland Honeyeater2016-1-19-1.wav...\n",
      "Converting C:\\Users\\pragya\\Downloads\\Iteration 3\\new holland honeyeater\\XC328859 - New Holland Honeyeater - Phylidonyris novaehollandiae.mp3 to C:\\Users\\pragya\\Downloads\\Iteration 3\\new holland honeyeater\\XC328859 - New Holland Honeyeater - Phylidonyris novaehollandiae.wav...\n",
      "Converting C:\\Users\\pragya\\Downloads\\Iteration 3\\new holland honeyeater\\XC354735 - New Holland Honeyeater - Phylidonyris novaehollandiae.mp3 to C:\\Users\\pragya\\Downloads\\Iteration 3\\new holland honeyeater\\XC354735 - New Holland Honeyeater - Phylidonyris novaehollandiae.wav...\n",
      "Converting C:\\Users\\pragya\\Downloads\\Iteration 3\\new holland honeyeater\\XC362977 - New Holland Honeyeater - Phylidonyris novaehollandiae.mp3 to C:\\Users\\pragya\\Downloads\\Iteration 3\\new holland honeyeater\\XC362977 - New Holland Honeyeater - Phylidonyris novaehollandiae.wav...\n",
      "Converting C:\\Users\\pragya\\Downloads\\Iteration 3\\new holland honeyeater\\XC370620 - New Holland Honeyeater - Phylidonyris novaehollandiae.mp3 to C:\\Users\\pragya\\Downloads\\Iteration 3\\new holland honeyeater\\XC370620 - New Holland Honeyeater - Phylidonyris novaehollandiae.wav...\n",
      "Converting C:\\Users\\pragya\\Downloads\\Iteration 3\\new holland honeyeater\\XC380193 - New Holland Honeyeater - Phylidonyris novaehollandiae.mp3 to C:\\Users\\pragya\\Downloads\\Iteration 3\\new holland honeyeater\\XC380193 - New Holland Honeyeater - Phylidonyris novaehollandiae.wav...\n",
      "Converting C:\\Users\\pragya\\Downloads\\Iteration 3\\new holland honeyeater\\XC382605 - New Holland Honeyeater - Phylidonyris novaehollandiae longirostris.mp3 to C:\\Users\\pragya\\Downloads\\Iteration 3\\new holland honeyeater\\XC382605 - New Holland Honeyeater - Phylidonyris novaehollandiae longirostris.wav...\n",
      "Converting C:\\Users\\pragya\\Downloads\\Iteration 3\\new holland honeyeater\\XC382676 - New Holland Honeyeater - Phylidonyris novaehollandiae longirostris.mp3 to C:\\Users\\pragya\\Downloads\\Iteration 3\\new holland honeyeater\\XC382676 - New Holland Honeyeater - Phylidonyris novaehollandiae longirostris.wav...\n"
     ]
    },
    {
     "name": "stdout",
     "output_type": "stream",
     "text": [
      "Converting C:\\Users\\pragya\\Downloads\\Iteration 3\\new holland honeyeater\\XC382703 - New Holland Honeyeater - Phylidonyris novaehollandiae longirostris.mp3 to C:\\Users\\pragya\\Downloads\\Iteration 3\\new holland honeyeater\\XC382703 - New Holland Honeyeater - Phylidonyris novaehollandiae longirostris.wav...\n",
      "Converting C:\\Users\\pragya\\Downloads\\Iteration 3\\new holland honeyeater\\XC382704 - New Holland Honeyeater - Phylidonyris novaehollandiae longirostris.mp3 to C:\\Users\\pragya\\Downloads\\Iteration 3\\new holland honeyeater\\XC382704 - New Holland Honeyeater - Phylidonyris novaehollandiae longirostris.wav...\n",
      "Converting C:\\Users\\pragya\\Downloads\\Iteration 3\\new holland honeyeater\\XC382705 - New Holland Honeyeater - Phylidonyris novaehollandiae longirostris.mp3 to C:\\Users\\pragya\\Downloads\\Iteration 3\\new holland honeyeater\\XC382705 - New Holland Honeyeater - Phylidonyris novaehollandiae longirostris.wav...\n",
      "Converting C:\\Users\\pragya\\Downloads\\Iteration 3\\new holland honeyeater\\XC40645 - New Holland Honeyeater - Phylidonyris novaehollandiae longirostris.mp3 to C:\\Users\\pragya\\Downloads\\Iteration 3\\new holland honeyeater\\XC40645 - New Holland Honeyeater - Phylidonyris novaehollandiae longirostris.wav...\n",
      "Converting C:\\Users\\pragya\\Downloads\\Iteration 3\\new holland honeyeater\\XC40686 - New Holland Honeyeater - Phylidonyris novaehollandiae longirostris.mp3 to C:\\Users\\pragya\\Downloads\\Iteration 3\\new holland honeyeater\\XC40686 - New Holland Honeyeater - Phylidonyris novaehollandiae longirostris.wav...\n",
      "Converting C:\\Users\\pragya\\Downloads\\Iteration 3\\new holland honeyeater\\XC40859 - New Holland Honeyeater - Phylidonyris novaehollandiae canescens.mp3 to C:\\Users\\pragya\\Downloads\\Iteration 3\\new holland honeyeater\\XC40859 - New Holland Honeyeater - Phylidonyris novaehollandiae canescens.wav...\n",
      "Converting C:\\Users\\pragya\\Downloads\\Iteration 3\\new holland honeyeater\\XC411590 - New Holland Honeyeater - Phylidonyris novaehollandiae.mp3 to C:\\Users\\pragya\\Downloads\\Iteration 3\\new holland honeyeater\\XC411590 - New Holland Honeyeater - Phylidonyris novaehollandiae.wav...\n",
      "Converting C:\\Users\\pragya\\Downloads\\Iteration 3\\new holland honeyeater\\XC501234 - New Holland Honeyeater - Phylidonyris novaehollandiae.mp3 to C:\\Users\\pragya\\Downloads\\Iteration 3\\new holland honeyeater\\XC501234 - New Holland Honeyeater - Phylidonyris novaehollandiae.wav...\n",
      "Converting C:\\Users\\pragya\\Downloads\\Iteration 3\\new holland honeyeater\\XC502298 - New Holland Honeyeater - Phylidonyris novaehollandiae.mp3 to C:\\Users\\pragya\\Downloads\\Iteration 3\\new holland honeyeater\\XC502298 - New Holland Honeyeater - Phylidonyris novaehollandiae.wav...\n",
      "Converting C:\\Users\\pragya\\Downloads\\Iteration 3\\new holland honeyeater\\XC503530 - New Holland Honeyeater - Phylidonyris novaehollandiae.mp3 to C:\\Users\\pragya\\Downloads\\Iteration 3\\new holland honeyeater\\XC503530 - New Holland Honeyeater - Phylidonyris novaehollandiae.wav...\n",
      "Converting C:\\Users\\pragya\\Downloads\\Iteration 3\\new holland honeyeater\\XC552284 - New Holland Honeyeater - Phylidonyris novaehollandiae novaehollandiae.mp3 to C:\\Users\\pragya\\Downloads\\Iteration 3\\new holland honeyeater\\XC552284 - New Holland Honeyeater - Phylidonyris novaehollandiae novaehollandiae.wav...\n",
      "Converting C:\\Users\\pragya\\Downloads\\Iteration 3\\new holland honeyeater\\XC608476 - New Holland Honeyeater - Phylidonyris novaehollandiae.mp3 to C:\\Users\\pragya\\Downloads\\Iteration 3\\new holland honeyeater\\XC608476 - New Holland Honeyeater - Phylidonyris novaehollandiae.wav...\n",
      "Converting C:\\Users\\pragya\\Downloads\\Iteration 3\\new holland honeyeater\\XC609040 - New Holland Honeyeater - Phylidonyris novaehollandiae.mp3 to C:\\Users\\pragya\\Downloads\\Iteration 3\\new holland honeyeater\\XC609040 - New Holland Honeyeater - Phylidonyris novaehollandiae.wav...\n",
      "Converting C:\\Users\\pragya\\Downloads\\Iteration 3\\new holland honeyeater\\XC609041 - New Holland Honeyeater - Phylidonyris novaehollandiae.mp3 to C:\\Users\\pragya\\Downloads\\Iteration 3\\new holland honeyeater\\XC609041 - New Holland Honeyeater - Phylidonyris novaehollandiae.wav...\n",
      "Converting C:\\Users\\pragya\\Downloads\\Iteration 3\\new holland honeyeater\\XC609076 - New Holland Honeyeater - Phylidonyris novaehollandiae.mp3 to C:\\Users\\pragya\\Downloads\\Iteration 3\\new holland honeyeater\\XC609076 - New Holland Honeyeater - Phylidonyris novaehollandiae.wav...\n",
      "Converting C:\\Users\\pragya\\Downloads\\Iteration 3\\new holland honeyeater\\XC612436 - New Holland Honeyeater - Phylidonyris novaehollandiae.mp3 to C:\\Users\\pragya\\Downloads\\Iteration 3\\new holland honeyeater\\XC612436 - New Holland Honeyeater - Phylidonyris novaehollandiae.wav...\n",
      "Converting C:\\Users\\pragya\\Downloads\\Iteration 3\\new holland honeyeater\\XC638396 - New Holland Honeyeater - Phylidonyris novaehollandiae.mp3 to C:\\Users\\pragya\\Downloads\\Iteration 3\\new holland honeyeater\\XC638396 - New Holland Honeyeater - Phylidonyris novaehollandiae.wav...\n",
      "Converting C:\\Users\\pragya\\Downloads\\Iteration 3\\new holland honeyeater\\XC646299 - New Holland Honeyeater - Phylidonyris novaehollandiae.mp3 to C:\\Users\\pragya\\Downloads\\Iteration 3\\new holland honeyeater\\XC646299 - New Holland Honeyeater - Phylidonyris novaehollandiae.wav...\n",
      "Converting C:\\Users\\pragya\\Downloads\\Iteration 3\\new holland honeyeater\\XC669701 - New Holland Honeyeater - Phylidonyris novaehollandiae.mp3 to C:\\Users\\pragya\\Downloads\\Iteration 3\\new holland honeyeater\\XC669701 - New Holland Honeyeater - Phylidonyris novaehollandiae.wav...\n",
      "Converting C:\\Users\\pragya\\Downloads\\Iteration 3\\new holland honeyeater\\XC673203 - New Holland Honeyeater - Phylidonyris novaehollandiae.mp3 to C:\\Users\\pragya\\Downloads\\Iteration 3\\new holland honeyeater\\XC673203 - New Holland Honeyeater - Phylidonyris novaehollandiae.wav...\n",
      "Converting C:\\Users\\pragya\\Downloads\\Iteration 3\\new holland honeyeater\\XC673204 - New Holland Honeyeater - Phylidonyris novaehollandiae.mp3 to C:\\Users\\pragya\\Downloads\\Iteration 3\\new holland honeyeater\\XC673204 - New Holland Honeyeater - Phylidonyris novaehollandiae.wav...\n",
      "Converting C:\\Users\\pragya\\Downloads\\Iteration 3\\new holland honeyeater\\XC684056 - New Holland Honeyeater - Phylidonyris novaehollandiae.mp3 to C:\\Users\\pragya\\Downloads\\Iteration 3\\new holland honeyeater\\XC684056 - New Holland Honeyeater - Phylidonyris novaehollandiae.wav...\n",
      "Converting C:\\Users\\pragya\\Downloads\\Iteration 3\\new holland honeyeater\\XC721720 - New Holland Honeyeater - Phylidonyris novaehollandiae novaehollandiae.mp3 to C:\\Users\\pragya\\Downloads\\Iteration 3\\new holland honeyeater\\XC721720 - New Holland Honeyeater - Phylidonyris novaehollandiae novaehollandiae.wav...\n",
      "Converting C:\\Users\\pragya\\Downloads\\Iteration 3\\new holland honeyeater\\XC721722 - New Holland Honeyeater - Phylidonyris novaehollandiae novaehollandiae.mp3 to C:\\Users\\pragya\\Downloads\\Iteration 3\\new holland honeyeater\\XC721722 - New Holland Honeyeater - Phylidonyris novaehollandiae novaehollandiae.wav...\n",
      "Converting C:\\Users\\pragya\\Downloads\\Iteration 3\\new holland honeyeater\\XC729342 - New Holland Honeyeater - Phylidonyris novaehollandiae.mp3 to C:\\Users\\pragya\\Downloads\\Iteration 3\\new holland honeyeater\\XC729342 - New Holland Honeyeater - Phylidonyris novaehollandiae.wav...\n",
      "Converting C:\\Users\\pragya\\Downloads\\Iteration 3\\new holland honeyeater\\XC98294 - New Holland Honeyeater - Phylidonyris novaehollandiae.mp3 to C:\\Users\\pragya\\Downloads\\Iteration 3\\new holland honeyeater\\XC98294 - New Holland Honeyeater - Phylidonyris novaehollandiae.wav...\n",
      "Converting C:\\Users\\pragya\\Downloads\\Iteration 3\\new holland honeyeater\\XC98295 - New Holland Honeyeater - Phylidonyris novaehollandiae.mp3 to C:\\Users\\pragya\\Downloads\\Iteration 3\\new holland honeyeater\\XC98295 - New Holland Honeyeater - Phylidonyris novaehollandiae.wav...\n"
     ]
    }
   ],
   "source": [
    "for i in new_holland_filenames:\n",
    "    # Test the function\n",
    "    convert_to_wav(i)"
   ]
  },
  {
   "cell_type": "code",
   "execution_count": 30,
   "id": "ea23b6ff",
   "metadata": {},
   "outputs": [
    {
     "name": "stdout",
     "output_type": "stream",
     "text": [
      "Converting C:\\Users\\pragya\\Downloads\\Iteration 3\\white naped honeyeater\\1365173943.mp3 to C:\\Users\\pragya\\Downloads\\Iteration 3\\white naped honeyeater\\1365173943.wav...\n",
      "Converting C:\\Users\\pragya\\Downloads\\Iteration 3\\white naped honeyeater\\1365183935.mp3 to C:\\Users\\pragya\\Downloads\\Iteration 3\\white naped honeyeater\\1365183935.wav...\n",
      "Converting C:\\Users\\pragya\\Downloads\\Iteration 3\\white naped honeyeater\\328852.mp3 to C:\\Users\\pragya\\Downloads\\Iteration 3\\white naped honeyeater\\328852.wav...\n",
      "Converting C:\\Users\\pragya\\Downloads\\Iteration 3\\white naped honeyeater\\328853.mp3 to C:\\Users\\pragya\\Downloads\\Iteration 3\\white naped honeyeater\\328853.wav...\n",
      "Converting C:\\Users\\pragya\\Downloads\\Iteration 3\\white naped honeyeater\\370067.mp3 to C:\\Users\\pragya\\Downloads\\Iteration 3\\white naped honeyeater\\370067.wav...\n",
      "Converting C:\\Users\\pragya\\Downloads\\Iteration 3\\white naped honeyeater\\XC140192 - White-naped Honeyeater - Melithreptus lunatus.mp3 to C:\\Users\\pragya\\Downloads\\Iteration 3\\white naped honeyeater\\XC140192 - White-naped Honeyeater - Melithreptus lunatus.wav...\n",
      "Converting C:\\Users\\pragya\\Downloads\\Iteration 3\\white naped honeyeater\\XC140192-white-naped-honeyeater1.mp3 to C:\\Users\\pragya\\Downloads\\Iteration 3\\white naped honeyeater\\XC140192-white-naped-honeyeater1.wav...\n",
      "Converting C:\\Users\\pragya\\Downloads\\Iteration 3\\white naped honeyeater\\XC140193 - White-naped Honeyeater - Melithreptus lunatus.mp3 to C:\\Users\\pragya\\Downloads\\Iteration 3\\white naped honeyeater\\XC140193 - White-naped Honeyeater - Melithreptus lunatus.wav...\n",
      "Converting C:\\Users\\pragya\\Downloads\\Iteration 3\\white naped honeyeater\\XC140193-white-naped-honeyeater2.mp3 to C:\\Users\\pragya\\Downloads\\Iteration 3\\white naped honeyeater\\XC140193-white-naped-honeyeater2.wav...\n",
      "Converting C:\\Users\\pragya\\Downloads\\Iteration 3\\white naped honeyeater\\XC146139 - White-naped Honeyeater - Melithreptus lunatus.mp3 to C:\\Users\\pragya\\Downloads\\Iteration 3\\white naped honeyeater\\XC146139 - White-naped Honeyeater - Melithreptus lunatus.wav...\n",
      "Converting C:\\Users\\pragya\\Downloads\\Iteration 3\\white naped honeyeater\\XC146139-white-naped-honeyeater3.mp3 to C:\\Users\\pragya\\Downloads\\Iteration 3\\white naped honeyeater\\XC146139-white-naped-honeyeater3.wav...\n",
      "Converting C:\\Users\\pragya\\Downloads\\Iteration 3\\white naped honeyeater\\XC172251 - White-naped Honeyeater - Melithreptus lunatus.mp3 to C:\\Users\\pragya\\Downloads\\Iteration 3\\white naped honeyeater\\XC172251 - White-naped Honeyeater - Melithreptus lunatus.wav...\n",
      "Converting C:\\Users\\pragya\\Downloads\\Iteration 3\\white naped honeyeater\\XC172251-white-naped-honeyeater-2nd-call.mp3 to C:\\Users\\pragya\\Downloads\\Iteration 3\\white naped honeyeater\\XC172251-white-naped-honeyeater-2nd-call.wav...\n",
      "Converting C:\\Users\\pragya\\Downloads\\Iteration 3\\white naped honeyeater\\XC188051 - White-naped Honeyeater - Melithreptus lunatus.mp3 to C:\\Users\\pragya\\Downloads\\Iteration 3\\white naped honeyeater\\XC188051 - White-naped Honeyeater - Melithreptus lunatus.wav...\n",
      "Converting C:\\Users\\pragya\\Downloads\\Iteration 3\\white naped honeyeater\\XC188051-White-naped Honeyeater_Kuringai-Chase.mp3 to C:\\Users\\pragya\\Downloads\\Iteration 3\\white naped honeyeater\\XC188051-White-naped Honeyeater_Kuringai-Chase.wav...\n",
      "Converting C:\\Users\\pragya\\Downloads\\Iteration 3\\white naped honeyeater\\XC188235 - White-naped Honeyeater - Melithreptus lunatus lunatus.mp3 to C:\\Users\\pragya\\Downloads\\Iteration 3\\white naped honeyeater\\XC188235 - White-naped Honeyeater - Melithreptus lunatus lunatus.wav...\n",
      "Converting C:\\Users\\pragya\\Downloads\\Iteration 3\\white naped honeyeater\\XC188235-2013_01_27 Melithreptus lunatus2.mp3 to C:\\Users\\pragya\\Downloads\\Iteration 3\\white naped honeyeater\\XC188235-2013_01_27 Melithreptus lunatus2.wav...\n",
      "Converting C:\\Users\\pragya\\Downloads\\Iteration 3\\white naped honeyeater\\XC269932-melithreptus_lunatus_cairns_queensland_11.08.2015_0946.mp3 to C:\\Users\\pragya\\Downloads\\Iteration 3\\white naped honeyeater\\XC269932-melithreptus_lunatus_cairns_queensland_11.wav...\n",
      "Converting C:\\Users\\pragya\\Downloads\\Iteration 3\\white naped honeyeater\\XC328852 - White-naped Honeyeater - Melithreptus lunatus.mp3 to C:\\Users\\pragya\\Downloads\\Iteration 3\\white naped honeyeater\\XC328852 - White-naped Honeyeater - Melithreptus lunatus.wav...\n",
      "Converting C:\\Users\\pragya\\Downloads\\Iteration 3\\white naped honeyeater\\XC328853 - White-naped Honeyeater - Melithreptus lunatus.mp3 to C:\\Users\\pragya\\Downloads\\Iteration 3\\white naped honeyeater\\XC328853 - White-naped Honeyeater - Melithreptus lunatus.wav...\n",
      "Converting C:\\Users\\pragya\\Downloads\\Iteration 3\\white naped honeyeater\\XC370067 - White-naped Honeyeater - Melithreptus lunatus.mp3 to C:\\Users\\pragya\\Downloads\\Iteration 3\\white naped honeyeater\\XC370067 - White-naped Honeyeater - Melithreptus lunatus.wav...\n",
      "Converting C:\\Users\\pragya\\Downloads\\Iteration 3\\white naped honeyeater\\XC445533 - White-naped Honeyeater - Melithreptus lunatus.mp3 to C:\\Users\\pragya\\Downloads\\Iteration 3\\white naped honeyeater\\XC445533 - White-naped Honeyeater - Melithreptus lunatus.wav...\n",
      "Converting C:\\Users\\pragya\\Downloads\\Iteration 3\\white naped honeyeater\\XC460626 - White-naped Honeyeater - Melithreptus lunatus.mp3 to C:\\Users\\pragya\\Downloads\\Iteration 3\\white naped honeyeater\\XC460626 - White-naped Honeyeater - Melithreptus lunatus.wav...\n",
      "Converting C:\\Users\\pragya\\Downloads\\Iteration 3\\white naped honeyeater\\XC460775 - White-naped Honeyeater - Melithreptus lunatus.mp3 to C:\\Users\\pragya\\Downloads\\Iteration 3\\white naped honeyeater\\XC460775 - White-naped Honeyeater - Melithreptus lunatus.wav...\n",
      "Converting C:\\Users\\pragya\\Downloads\\Iteration 3\\white naped honeyeater\\XC460778 - White-naped Honeyeater - Melithreptus lunatus.mp3 to C:\\Users\\pragya\\Downloads\\Iteration 3\\white naped honeyeater\\XC460778 - White-naped Honeyeater - Melithreptus lunatus.wav...\n",
      "Converting C:\\Users\\pragya\\Downloads\\Iteration 3\\white naped honeyeater\\XC531661 - White-naped Honeyeater - Melithreptus lunatus.mp3 to C:\\Users\\pragya\\Downloads\\Iteration 3\\white naped honeyeater\\XC531661 - White-naped Honeyeater - Melithreptus lunatus.wav...\n",
      "Converting C:\\Users\\pragya\\Downloads\\Iteration 3\\white naped honeyeater\\XC531662 - White-naped Honeyeater - Melithreptus lunatus.mp3 to C:\\Users\\pragya\\Downloads\\Iteration 3\\white naped honeyeater\\XC531662 - White-naped Honeyeater - Melithreptus lunatus.wav...\n",
      "Converting C:\\Users\\pragya\\Downloads\\Iteration 3\\white naped honeyeater\\XC609042 - White-naped Honeyeater - Melithreptus lunatus.mp3 to C:\\Users\\pragya\\Downloads\\Iteration 3\\white naped honeyeater\\XC609042 - White-naped Honeyeater - Melithreptus lunatus.wav...\n",
      "Converting C:\\Users\\pragya\\Downloads\\Iteration 3\\white naped honeyeater\\XC609077 - White-naped Honeyeater - Melithreptus lunatus.mp3 to C:\\Users\\pragya\\Downloads\\Iteration 3\\white naped honeyeater\\XC609077 - White-naped Honeyeater - Melithreptus lunatus.wav...\n",
      "Converting C:\\Users\\pragya\\Downloads\\Iteration 3\\white naped honeyeater\\XC609078 - White-naped Honeyeater - Melithreptus lunatus.mp3 to C:\\Users\\pragya\\Downloads\\Iteration 3\\white naped honeyeater\\XC609078 - White-naped Honeyeater - Melithreptus lunatus.wav...\n",
      "Converting C:\\Users\\pragya\\Downloads\\Iteration 3\\white naped honeyeater\\XC609079 - White-naped Honeyeater - Melithreptus lunatus.mp3 to C:\\Users\\pragya\\Downloads\\Iteration 3\\white naped honeyeater\\XC609079 - White-naped Honeyeater - Melithreptus lunatus.wav...\n",
      "Converting C:\\Users\\pragya\\Downloads\\Iteration 3\\white naped honeyeater\\XC609080 - White-naped Honeyeater - Melithreptus lunatus.mp3 to C:\\Users\\pragya\\Downloads\\Iteration 3\\white naped honeyeater\\XC609080 - White-naped Honeyeater - Melithreptus lunatus.wav...\n",
      "Converting C:\\Users\\pragya\\Downloads\\Iteration 3\\white naped honeyeater\\XC676777 - White-naped Honeyeater - Melithreptus lunatus.mp3 to C:\\Users\\pragya\\Downloads\\Iteration 3\\white naped honeyeater\\XC676777 - White-naped Honeyeater - Melithreptus lunatus.wav...\n",
      "Converting C:\\Users\\pragya\\Downloads\\Iteration 3\\white naped honeyeater\\XC712609 - White-naped Honeyeater - Melithreptus lunatus.mp3 to C:\\Users\\pragya\\Downloads\\Iteration 3\\white naped honeyeater\\XC712609 - White-naped Honeyeater - Melithreptus lunatus.wav...\n"
     ]
    }
   ],
   "source": [
    "for i in white_napped_filenames:\n",
    "    # Test the function\n",
    "    convert_to_wav(i)"
   ]
  },
  {
   "cell_type": "code",
   "execution_count": 31,
   "id": "bb381218",
   "metadata": {},
   "outputs": [],
   "source": [
    "# for i in random_filenames:\n",
    "#     # Test the function\n",
    "#     convert_to_wav(i)"
   ]
  },
  {
   "cell_type": "code",
   "execution_count": 32,
   "id": "317ae3a0",
   "metadata": {},
   "outputs": [
    {
     "name": "stdout",
     "output_type": "stream",
     "text": [
      "Converting C:\\Users\\pragya\\Downloads\\Iteration 3\\australian king parrot\\Alisterus scapularis - Australian King-Parrot - Mt Lewis - Nov 2010.mp3 to C:\\Users\\pragya\\Downloads\\Iteration 3\\australian king parrot\\Alisterus scapularis - Australian King-Parrot - Mt Lewis - Nov 2010.wav...\n",
      "Converting C:\\Users\\pragya\\Downloads\\Iteration 3\\australian king parrot\\King Parrot.mp3 to C:\\Users\\pragya\\Downloads\\Iteration 3\\australian king parrot\\King Parrot.wav...\n",
      "Converting C:\\Users\\pragya\\Downloads\\Iteration 3\\australian king parrot\\King-Parrot.mp3 to C:\\Users\\pragya\\Downloads\\Iteration 3\\australian king parrot\\King-Parrot.wav...\n",
      "Converting C:\\Users\\pragya\\Downloads\\Iteration 3\\australian king parrot\\XC140226-australian-king-parrot.mp3 to C:\\Users\\pragya\\Downloads\\Iteration 3\\australian king parrot\\XC140226-australian-king-parrot.wav...\n",
      "Converting C:\\Users\\pragya\\Downloads\\Iteration 3\\australian king parrot\\XC146124-king-parrot-flight.mp3 to C:\\Users\\pragya\\Downloads\\Iteration 3\\australian king parrot\\XC146124-king-parrot-flight.wav...\n",
      "Converting C:\\Users\\pragya\\Downloads\\Iteration 3\\australian king parrot\\XC171954-king-parrot5.mp3 to C:\\Users\\pragya\\Downloads\\Iteration 3\\australian king parrot\\XC171954-king-parrot5.wav...\n",
      "Converting C:\\Users\\pragya\\Downloads\\Iteration 3\\australian king parrot\\XC172017-aust-king-parrot-flight.mp3 to C:\\Users\\pragya\\Downloads\\Iteration 3\\australian king parrot\\XC172017-aust-king-parrot-flight.wav...\n",
      "Converting C:\\Users\\pragya\\Downloads\\Iteration 3\\australian king parrot\\XC234966-9-4-2015 King Parrot UNE.mp3 to C:\\Users\\pragya\\Downloads\\Iteration 3\\australian king parrot\\XC234966-9-4-2015 King Parrot UNE.wav...\n",
      "Converting C:\\Users\\pragya\\Downloads\\Iteration 3\\australian king parrot\\XC247356-king-parrot-nightcap.mp3 to C:\\Users\\pragya\\Downloads\\Iteration 3\\australian king parrot\\XC247356-king-parrot-nightcap.wav...\n",
      "Converting C:\\Users\\pragya\\Downloads\\Iteration 3\\australian king parrot\\XC287387-king-parrot-flight-call-ygr1.mp3 to C:\\Users\\pragya\\Downloads\\Iteration 3\\australian king parrot\\XC287387-king-parrot-flight-call-ygr1.wav...\n",
      "Converting C:\\Users\\pragya\\Downloads\\Iteration 3\\australian king parrot\\XC327334-2016_06_29 Alisterus scapularis.mp3 to C:\\Users\\pragya\\Downloads\\Iteration 3\\australian king parrot\\XC327334-2016_06_29 Alisterus scapularis.wav...\n",
      "Converting C:\\Users\\pragya\\Downloads\\Iteration 3\\australian king parrot\\XC329740-Australian King-Parrot2016-1-4-1.mp3 to C:\\Users\\pragya\\Downloads\\Iteration 3\\australian king parrot\\XC329740-Australian King-Parrot2016-1-4-1.wav...\n",
      "Converting C:\\Users\\pragya\\Downloads\\Iteration 3\\australian king parrot\\XC329741-Australian King-Parrot2016-1-5-1.mp3 to C:\\Users\\pragya\\Downloads\\Iteration 3\\australian king parrot\\XC329741-Australian King-Parrot2016-1-5-1.wav...\n",
      "Converting C:\\Users\\pragya\\Downloads\\Iteration 3\\australian king parrot\\XC340991-aust-king-parrot-ds2.mp3 to C:\\Users\\pragya\\Downloads\\Iteration 3\\australian king parrot\\XC340991-aust-king-parrot-ds2.wav...\n",
      "Converting C:\\Users\\pragya\\Downloads\\Iteration 3\\australian king parrot\\XC351198-GMCLAC_3428-AKParrot.mp3 to C:\\Users\\pragya\\Downloads\\Iteration 3\\australian king parrot\\XC351198-GMCLAC_3428-AKParrot.wav...\n",
      "Converting C:\\Users\\pragya\\Downloads\\Iteration 3\\australian king parrot\\XC353386-aust-king-parrot-tfnp1.mp3 to C:\\Users\\pragya\\Downloads\\Iteration 3\\australian king parrot\\XC353386-aust-king-parrot-tfnp1.wav...\n",
      "Converting C:\\Users\\pragya\\Downloads\\Iteration 3\\australian king parrot\\XC434416-Parrot_Australian_King_MX348_Benarkin_DuskA_11thSep18.mp3 to C:\\Users\\pragya\\Downloads\\Iteration 3\\australian king parrot\\XC434416-Parrot_Australian_King_MX348_Benarkin_DuskA_11thSep18.wav...\n",
      "Converting C:\\Users\\pragya\\Downloads\\Iteration 3\\australian king parrot\\XC445527-Parrot_Australian_King_SD592a_Kings_Plains_Top_Dam_AM_12thSep18.mp3 to C:\\Users\\pragya\\Downloads\\Iteration 3\\australian king parrot\\XC445527-Parrot_Australian_King_SD592a_Kings_Plains_Top_Dam_AM_12thSep18.wav...\n",
      "Converting C:\\Users\\pragya\\Downloads\\Iteration 3\\australian king parrot\\XC564263-King Parrot 10_37_08.mp3 to C:\\Users\\pragya\\Downloads\\Iteration 3\\australian king parrot\\XC564263-King Parrot 10_37_08.wav...\n",
      "Converting C:\\Users\\pragya\\Downloads\\Iteration 3\\australian king parrot\\XC580374-King Parrot 08_19_04.mp3 to C:\\Users\\pragya\\Downloads\\Iteration 3\\australian king parrot\\XC580374-King Parrot 08_19_04.wav...\n",
      "Converting C:\\Users\\pragya\\Downloads\\Iteration 3\\australian king parrot\\XC580376-King Parrot 08_23_19.mp3 to C:\\Users\\pragya\\Downloads\\Iteration 3\\australian king parrot\\XC580376-King Parrot 08_23_19.wav...\n",
      "Converting C:\\Users\\pragya\\Downloads\\Iteration 3\\australian king parrot\\XC593413-AKP-4206D01.mp3 to C:\\Users\\pragya\\Downloads\\Iteration 3\\australian king parrot\\XC593413-AKP-4206D01.wav...\n",
      "Converting C:\\Users\\pragya\\Downloads\\Iteration 3\\australian king parrot\\XC593414-AKP-4206D05.mp3 to C:\\Users\\pragya\\Downloads\\Iteration 3\\australian king parrot\\XC593414-AKP-4206D05.wav...\n",
      "Converting C:\\Users\\pragya\\Downloads\\Iteration 3\\australian king parrot\\XC609085-Parrot_Australian_King2_TELM3AK-555_070720_Mummel_Gulf.mp3 to C:\\Users\\pragya\\Downloads\\Iteration 3\\australian king parrot\\XC609085-Parrot_Australian_King2_TELM3AK-555_070720_Mummel_Gulf.wav...\n",
      "Converting C:\\Users\\pragya\\Downloads\\Iteration 3\\australian king parrot\\XC609086-Parrot_Australian_King1_TELM3AK-555_070720_Mummel_Gulf.mp3 to C:\\Users\\pragya\\Downloads\\Iteration 3\\australian king parrot\\XC609086-Parrot_Australian_King1_TELM3AK-555_070720_Mummel_Gulf.wav...\n",
      "Converting C:\\Users\\pragya\\Downloads\\Iteration 3\\australian king parrot\\XC609087-Parrot_Australian_King1_TELM3AK-554_070720_Mummel_Gulf.mp3 to C:\\Users\\pragya\\Downloads\\Iteration 3\\australian king parrot\\XC609087-Parrot_Australian_King1_TELM3AK-554_070720_Mummel_Gulf.wav...\n",
      "Converting C:\\Users\\pragya\\Downloads\\Iteration 3\\australian king parrot\\XC609088-Parrot_Australian_King1_TELM3AK-553_070720_Mummel_Gulf.mp3 to C:\\Users\\pragya\\Downloads\\Iteration 3\\australian king parrot\\XC609088-Parrot_Australian_King1_TELM3AK-553_070720_Mummel_Gulf.wav...\n",
      "Converting C:\\Users\\pragya\\Downloads\\Iteration 3\\australian king parrot\\XC609309-Parrot_Australian_King1_Dunns_Swamp_TELM3AK-606_070120.mp3 to C:\\Users\\pragya\\Downloads\\Iteration 3\\australian king parrot\\XC609309-Parrot_Australian_King1_Dunns_Swamp_TELM3AK-606_070120.wav...\n",
      "Converting C:\\Users\\pragya\\Downloads\\Iteration 3\\australian king parrot\\XC671477-2021_08_25 Alisterus scapularis1.mp3 to C:\\Users\\pragya\\Downloads\\Iteration 3\\australian king parrot\\XC671477-2021_08_25 Alisterus scapularis1.wav...\n",
      "Converting C:\\Users\\pragya\\Downloads\\Iteration 3\\australian king parrot\\XC726663-2022_05_22 Alisterus scapularis1.mp3 to C:\\Users\\pragya\\Downloads\\Iteration 3\\australian king parrot\\XC726663-2022_05_22 Alisterus scapularis1.wav...\n"
     ]
    }
   ],
   "source": [
    "for i in australian_king_parrot_filenames:\n",
    "    # Test the function\n",
    "    convert_to_wav(i)"
   ]
  },
  {
   "cell_type": "code",
   "execution_count": 33,
   "id": "0eaded57",
   "metadata": {},
   "outputs": [
    {
     "name": "stdout",
     "output_type": "stream",
     "text": [
      "Converting C:\\Users\\pragya\\Downloads\\Iteration 3\\australian magpie\\XC327864-australian-magpie-calls-grnp1.mp3 to C:\\Users\\pragya\\Downloads\\Iteration 3\\australian magpie\\XC327864-australian-magpie-calls-grnp1.wav...\n",
      "Converting C:\\Users\\pragya\\Downloads\\Iteration 3\\australian magpie\\XC335533-aust-magpie-flight-calls-mnp1.mp3 to C:\\Users\\pragya\\Downloads\\Iteration 3\\australian magpie\\XC335533-aust-magpie-flight-calls-mnp1.wav...\n",
      "Converting C:\\Users\\pragya\\Downloads\\Iteration 3\\australian magpie\\XC357317-GMCLAC_3891-AMagpie.mp3 to C:\\Users\\pragya\\Downloads\\Iteration 3\\australian magpie\\XC357317-GMCLAC_3891-AMagpie.wav...\n",
      "Converting C:\\Users\\pragya\\Downloads\\Iteration 3\\australian magpie\\XC365136-Australian Magpie carolling.mp3 to C:\\Users\\pragya\\Downloads\\Iteration 3\\australian magpie\\XC365136-Australian Magpie carolling.wav...\n",
      "Converting C:\\Users\\pragya\\Downloads\\Iteration 3\\australian magpie\\XC365138-Australian Magpie call.mp3 to C:\\Users\\pragya\\Downloads\\Iteration 3\\australian magpie\\XC365138-Australian Magpie call.wav...\n",
      "Converting C:\\Users\\pragya\\Downloads\\Iteration 3\\australian magpie\\XC382720-Magpie_Australian_DW3_MIXPRE-073.mp3 to C:\\Users\\pragya\\Downloads\\Iteration 3\\australian magpie\\XC382720-Magpie_Australian_DW3_MIXPRE-073.wav...\n",
      "Converting C:\\Users\\pragya\\Downloads\\Iteration 3\\australian magpie\\XC382769-Magpie_Australian_DW1_MIXPRE-039.mp3 to C:\\Users\\pragya\\Downloads\\Iteration 3\\australian magpie\\XC382769-Magpie_Australian_DW1_MIXPRE-039.wav...\n",
      "Converting C:\\Users\\pragya\\Downloads\\Iteration 3\\australian magpie\\XC383930-GMCLAC_6036-AMagpie.mp3 to C:\\Users\\pragya\\Downloads\\Iteration 3\\australian magpie\\XC383930-GMCLAC_6036-AMagpie.wav...\n",
      "Converting C:\\Users\\pragya\\Downloads\\Iteration 3\\australian magpie\\XC488921-2019.07.21 Magpies Singing Before Dawn (Excerpt).mp3 to C:\\Users\\pragya\\Downloads\\Iteration 3\\australian magpie\\XC488921-2019.wav...\n",
      "Converting C:\\Users\\pragya\\Downloads\\Iteration 3\\australian magpie\\XC500508-Aust Magpie imm begging 10_35_44.mp3 to C:\\Users\\pragya\\Downloads\\Iteration 3\\australian magpie\\XC500508-Aust Magpie imm begging 10_35_44.wav...\n",
      "Converting C:\\Users\\pragya\\Downloads\\Iteration 3\\australian magpie\\XC554840-Australian Magpie 07_17_40.mp3 to C:\\Users\\pragya\\Downloads\\Iteration 3\\australian magpie\\XC554840-Australian Magpie 07_17_40.wav...\n",
      "Converting C:\\Users\\pragya\\Downloads\\Iteration 3\\australian magpie\\XC554841-Australian Magpie 07_19_22.mp3 to C:\\Users\\pragya\\Downloads\\Iteration 3\\australian magpie\\XC554841-Australian Magpie 07_19_22.wav...\n",
      "Converting C:\\Users\\pragya\\Downloads\\Iteration 3\\australian magpie\\XC564335-0_MIXPRE-2570_Australian Magpie_20200531_Gowrie Park.mp3 to C:\\Users\\pragya\\Downloads\\Iteration 3\\australian magpie\\XC564335-0_MIXPRE-2570_Australian Magpie_20200531_Gowrie Park.wav...\n",
      "Converting C:\\Users\\pragya\\Downloads\\Iteration 3\\australian magpie\\XC565890-Magpie_Australia_atypical_Helen_Johnston_video-1590203592.mp3 to C:\\Users\\pragya\\Downloads\\Iteration 3\\australian magpie\\XC565890-Magpie_Australia_atypical_Helen_Johnston_video-1590203592.wav...\n",
      "Converting C:\\Users\\pragya\\Downloads\\Iteration 3\\australian magpie\\XC570371-Australian Magpie 07_07_41.mp3 to C:\\Users\\pragya\\Downloads\\Iteration 3\\australian magpie\\XC570371-Australian Magpie 07_07_41.wav...\n",
      "Converting C:\\Users\\pragya\\Downloads\\Iteration 3\\australian magpie\\XC570404-Australian Magpie 08_39_20.mp3 to C:\\Users\\pragya\\Downloads\\Iteration 3\\australian magpie\\XC570404-Australian Magpie 08_39_20.wav...\n",
      "Converting C:\\Users\\pragya\\Downloads\\Iteration 3\\australian magpie\\XC570697-Australian Magpie 07_49_52.mp3 to C:\\Users\\pragya\\Downloads\\Iteration 3\\australian magpie\\XC570697-Australian Magpie 07_49_52.wav...\n",
      "Converting C:\\Users\\pragya\\Downloads\\Iteration 3\\australian magpie\\XC589240-AMagpie3.mp3 to C:\\Users\\pragya\\Downloads\\Iteration 3\\australian magpie\\XC589240-AMagpie3.wav...\n",
      "Converting C:\\Users\\pragya\\Downloads\\Iteration 3\\australian magpie\\XC589241-AMagpie2.mp3 to C:\\Users\\pragya\\Downloads\\Iteration 3\\australian magpie\\XC589241-AMagpie2.wav...\n",
      "Converting C:\\Users\\pragya\\Downloads\\Iteration 3\\australian magpie\\XC591209-MagpieWarbleMLagoon_01.mp3 to C:\\Users\\pragya\\Downloads\\Iteration 3\\australian magpie\\XC591209-MagpieWarbleMLagoon_01.wav...\n",
      "Converting C:\\Users\\pragya\\Downloads\\Iteration 3\\australian magpie\\XC594050-Magpie_Australian1_M3TL-664_Sturt-Mt-Wood_02092020.mp3 to C:\\Users\\pragya\\Downloads\\Iteration 3\\australian magpie\\XC594050-Magpie_Australian1_M3TL-664_Sturt-Mt-Wood_02092020.wav...\n",
      "Converting C:\\Users\\pragya\\Downloads\\Iteration 3\\australian magpie\\XC597149-Magpie_Australian2_M6AK-446_Paroo_Darling_Open_Slope_Night1_30thAug20.mp3 to C:\\Users\\pragya\\Downloads\\Iteration 3\\australian magpie\\XC597149-Magpie_Australian2_M6AK-446_Paroo_Darling_Open_Slope_Night1_30thAug20.wav...\n",
      "Converting C:\\Users\\pragya\\Downloads\\Iteration 3\\australian magpie\\XC603194-Gymnorhina tibicen tibicen_iw_Akura_mp041_20200917.mp3 to C:\\Users\\pragya\\Downloads\\Iteration 3\\australian magpie\\XC603194-Gymnorhina tibicen tibicen_iw_Akura_mp041_20200917.wav...\n",
      "Converting C:\\Users\\pragya\\Downloads\\Iteration 3\\australian magpie\\XC603298-Gymnorhina tibicen tibicen_m_iw_Cape Woolamai_mp087_20201102.mp3 to C:\\Users\\pragya\\Downloads\\Iteration 3\\australian magpie\\XC603298-Gymnorhina tibicen tibicen_m_iw_Cape Woolamai_mp087_20201102.wav...\n",
      "Converting C:\\Users\\pragya\\Downloads\\Iteration 3\\australian magpie\\XC609051-Magpie_Australian1_M6AK-437_Mount_Wood_Homestead_West_Night2_28thAug20.mp3 to C:\\Users\\pragya\\Downloads\\Iteration 3\\australian magpie\\XC609051-Magpie_Australian1_M6AK-437_Mount_Wood_Homestead_West_Night2_28thAug20.wav...\n",
      "Converting C:\\Users\\pragya\\Downloads\\Iteration 3\\australian magpie\\XC638372-Australian Magpies.mp3 to C:\\Users\\pragya\\Downloads\\Iteration 3\\australian magpie\\XC638372-Australian Magpies.wav...\n",
      "Converting C:\\Users\\pragya\\Downloads\\Iteration 3\\australian magpie\\XC663449-Australian Magpie - 14Jul2021.mp3 to C:\\Users\\pragya\\Downloads\\Iteration 3\\australian magpie\\XC663449-Australian Magpie - 14Jul2021.wav...\n",
      "Converting C:\\Users\\pragya\\Downloads\\Iteration 3\\australian magpie\\XC689343-Magpie_Australian1b_M6AK397_Paroo_Darling_Stony_Ridge_AM1_3rdOct21.mp3 to C:\\Users\\pragya\\Downloads\\Iteration 3\\australian magpie\\XC689343-Magpie_Australian1b_M6AK397_Paroo_Darling_Stony_Ridge_AM1_3rdOct21.wav...\n",
      "Converting C:\\Users\\pragya\\Downloads\\Iteration 3\\australian magpie\\XC692694-Magpie_Australian1_alarm_SDEM197_Yathong_Shrubland_Far_South_AM1_6thOct21.mp3 to C:\\Users\\pragya\\Downloads\\Iteration 3\\australian magpie\\XC692694-Magpie_Australian1_alarm_SDEM197_Yathong_Shrubland_Far_South_AM1_6thOct21.wav...\n",
      "Converting C:\\Users\\pragya\\Downloads\\Iteration 3\\australian magpie\\XC692695-Magpie_Australian1_M6AK397_Paroo_Darling_Stony_Ridge_AM1_3rdOct21.mp3 to C:\\Users\\pragya\\Downloads\\Iteration 3\\australian magpie\\XC692695-Magpie_Australian1_M6AK397_Paroo_Darling_Stony_Ridge_AM1_3rdOct21.wav...\n",
      "Converting C:\\Users\\pragya\\Downloads\\Iteration 3\\australian magpie\\XC726066-03-UNK-DOWNSLUR MAGPIE LIKE.mp3 to C:\\Users\\pragya\\Downloads\\Iteration 3\\australian magpie\\XC726066-03-UNK-DOWNSLUR MAGPIE LIKE.wav...\n",
      "Converting C:\\Users\\pragya\\Downloads\\Iteration 3\\australian magpie\\XC729284-AustralianMagpie_90PrincesHwy_Littlehampton_SouthAustralia_20200704_101825.mp3 to C:\\Users\\pragya\\Downloads\\Iteration 3\\australian magpie\\XC729284-AustralianMagpie_90PrincesHwy_Littlehampton_SouthAustralia_20200704_101825.wav...\n",
      "Converting C:\\Users\\pragya\\Downloads\\Iteration 3\\australian magpie\\XC729285-AustralianMagpie_90PrincesHwy_Littlehampton_SouthAustralia_20200709_061532.mp3 to C:\\Users\\pragya\\Downloads\\Iteration 3\\australian magpie\\XC729285-AustralianMagpie_90PrincesHwy_Littlehampton_SouthAustralia_20200709_061532.wav...\n",
      "Converting C:\\Users\\pragya\\Downloads\\Iteration 3\\australian magpie\\XC729286-AustralianMagpie_Littlehampton_SouthAustralia_210406_061612.mp3 to C:\\Users\\pragya\\Downloads\\Iteration 3\\australian magpie\\XC729286-AustralianMagpie_Littlehampton_SouthAustralia_210406_061612.wav...\n",
      "Converting C:\\Users\\pragya\\Downloads\\Iteration 3\\australian magpie\\XC747690-Australian Magpie.mp3 to C:\\Users\\pragya\\Downloads\\Iteration 3\\australian magpie\\XC747690-Australian Magpie.wav...\n"
     ]
    }
   ],
   "source": [
    "for i in australian_magpie_filenames:\n",
    "    # Test the function\n",
    "    convert_to_wav(i)"
   ]
  },
  {
   "cell_type": "code",
   "execution_count": 34,
   "id": "62dbc673",
   "metadata": {},
   "outputs": [
    {
     "name": "stdout",
     "output_type": "stream",
     "text": [
      "Converting C:\\Users\\pragya\\Downloads\\Iteration 3\\australian raven\\2012-05-05_T093_Australian-Raven-Campground--Rottnest Island-09Uhr10.mp3 to C:\\Users\\pragya\\Downloads\\Iteration 3\\australian raven\\2012-05-05_T093_Australian-Raven-Campground--Rottnest Island-09Uhr10.wav...\n",
      "Converting C:\\Users\\pragya\\Downloads\\Iteration 3\\australian raven\\2012-05-05_T107_Australian-Raven-immature-Golfcourse--Rottnest Island-15Uhr45.mp3 to C:\\Users\\pragya\\Downloads\\Iteration 3\\australian raven\\2012-05-05_T107_Australian-Raven-immature-Golfcourse--Rottnest Island-15Uhr45.wav...\n",
      "Converting C:\\Users\\pragya\\Downloads\\Iteration 3\\australian raven\\AusRav-20090625_073158.mp3 to C:\\Users\\pragya\\Downloads\\Iteration 3\\australian raven\\AusRav-20090625_073158.wav...\n",
      "Converting C:\\Users\\pragya\\Downloads\\Iteration 3\\australian raven\\AustralianRaven.mp3 to C:\\Users\\pragya\\Downloads\\Iteration 3\\australian raven\\AustralianRaven.wav...\n",
      "Converting C:\\Users\\pragya\\Downloads\\Iteration 3\\australian raven\\XC146100-australian-raven3.mp3 to C:\\Users\\pragya\\Downloads\\Iteration 3\\australian raven\\XC146100-australian-raven3.wav...\n",
      "Converting C:\\Users\\pragya\\Downloads\\Iteration 3\\australian raven\\XC151591-australian-raven-funny-end.mp3 to C:\\Users\\pragya\\Downloads\\Iteration 3\\australian raven\\XC151591-australian-raven-funny-end.wav...\n",
      "Converting C:\\Users\\pragya\\Downloads\\Iteration 3\\australian raven\\XC169996-australian raven.mp3 to C:\\Users\\pragya\\Downloads\\Iteration 3\\australian raven\\XC169996-australian raven.wav...\n",
      "Converting C:\\Users\\pragya\\Downloads\\Iteration 3\\australian raven\\XC172205-australian-raven55.mp3 to C:\\Users\\pragya\\Downloads\\Iteration 3\\australian raven\\XC172205-australian-raven55.wav...\n",
      "Converting C:\\Users\\pragya\\Downloads\\Iteration 3\\australian raven\\XC183570-australian-raven-grooup-flying.mp3 to C:\\Users\\pragya\\Downloads\\Iteration 3\\australian raven\\XC183570-australian-raven-grooup-flying.wav...\n",
      "Converting C:\\Users\\pragya\\Downloads\\Iteration 3\\australian raven\\XC233852-aussie-raven-wb1.mp3 to C:\\Users\\pragya\\Downloads\\Iteration 3\\australian raven\\XC233852-aussie-raven-wb1.wav...\n",
      "Converting C:\\Users\\pragya\\Downloads\\Iteration 3\\australian raven\\XC241025-LS_50053_AustRaven.mp3 to C:\\Users\\pragya\\Downloads\\Iteration 3\\australian raven\\XC241025-LS_50053_AustRaven.wav...\n",
      "Converting C:\\Users\\pragya\\Downloads\\Iteration 3\\australian raven\\XC244307-aust-raven-ydr1.mp3 to C:\\Users\\pragya\\Downloads\\Iteration 3\\australian raven\\XC244307-aust-raven-ydr1.wav...\n",
      "Converting C:\\Users\\pragya\\Downloads\\Iteration 3\\australian raven\\XC286937-australian-raven-bowra2.mp3 to C:\\Users\\pragya\\Downloads\\Iteration 3\\australian raven\\XC286937-australian-raven-bowra2.wav...\n",
      "Converting C:\\Users\\pragya\\Downloads\\Iteration 3\\australian raven\\XC327340-2016_06_29 Corvus coronoides2.mp3 to C:\\Users\\pragya\\Downloads\\Iteration 3\\australian raven\\XC327340-2016_06_29 Corvus coronoides2.wav...\n",
      "Converting C:\\Users\\pragya\\Downloads\\Iteration 3\\australian raven\\XC334664-australian-raven-fr1.mp3 to C:\\Users\\pragya\\Downloads\\Iteration 3\\australian raven\\XC334664-australian-raven-fr1.wav...\n",
      "Converting C:\\Users\\pragya\\Downloads\\Iteration 3\\australian raven\\XC356314-GMCLAC_3787-ARaven.mp3 to C:\\Users\\pragya\\Downloads\\Iteration 3\\australian raven\\XC356314-GMCLAC_3787-ARaven.wav...\n",
      "Converting C:\\Users\\pragya\\Downloads\\Iteration 3\\australian raven\\XC368544-GMCLAC_4407-ARaven.mp3 to C:\\Users\\pragya\\Downloads\\Iteration 3\\australian raven\\XC368544-GMCLAC_4407-ARaven.wav...\n",
      "Converting C:\\Users\\pragya\\Downloads\\Iteration 3\\australian raven\\XC383175-Raven_Australian_DW1_Tomingley_RD_WW.mp3 to C:\\Users\\pragya\\Downloads\\Iteration 3\\australian raven\\XC383175-Raven_Australian_DW1_Tomingley_RD_WW.wav...\n",
      "Converting C:\\Users\\pragya\\Downloads\\Iteration 3\\australian raven\\XC383691-Raven_Australian_MGS2_Mt_Gibson_Homestead_Rd_Dawn.mp3 to C:\\Users\\pragya\\Downloads\\Iteration 3\\australian raven\\XC383691-Raven_Australian_MGS2_Mt_Gibson_Homestead_Rd_Dawn.wav...\n",
      "Converting C:\\Users\\pragya\\Downloads\\Iteration 3\\australian raven\\XC521306-Raven_Australian_S7LOM_236_Ravenshoe_DryForest_AM2_19thJan20.mp3 to C:\\Users\\pragya\\Downloads\\Iteration 3\\australian raven\\XC521306-Raven_Australian_S7LOM_236_Ravenshoe_DryForest_AM2_19thJan20.wav...\n",
      "Converting C:\\Users\\pragya\\Downloads\\Iteration 3\\australian raven\\XC521641-AustralianRaven_BackYamma12_Edwards.mp3 to C:\\Users\\pragya\\Downloads\\Iteration 3\\australian raven\\XC521641-AustralianRaven_BackYamma12_Edwards.wav...\n",
      "Converting C:\\Users\\pragya\\Downloads\\Iteration 3\\australian raven\\XC578180-Raven_Australian1_M6AK-383_Aloes_River_AM1_27thJun20.mp3 to C:\\Users\\pragya\\Downloads\\Iteration 3\\australian raven\\XC578180-Raven_Australian1_M6AK-383_Aloes_River_AM1_27thJun20.wav...\n",
      "Converting C:\\Users\\pragya\\Downloads\\Iteration 3\\australian raven\\XC578181-Raven_Australian1a_M6AK-382_Aloes_Clearing_Dawn_27thJun20.mp3 to C:\\Users\\pragya\\Downloads\\Iteration 3\\australian raven\\XC578181-Raven_Australian1a_M6AK-382_Aloes_Clearing_Dawn_27thJun20.wav...\n",
      "Converting C:\\Users\\pragya\\Downloads\\Iteration 3\\australian raven\\XC578182-Raven_Australian2_M6AK-383_Aloes_River_AM1_27thJun20.mp3 to C:\\Users\\pragya\\Downloads\\Iteration 3\\australian raven\\XC578182-Raven_Australian2_M6AK-383_Aloes_River_AM1_27thJun20.wav...\n",
      "Converting C:\\Users\\pragya\\Downloads\\Iteration 3\\australian raven\\XC595979-Raven_Australian1_M6AK-420_Olive_Downs_6kmCreek_AM1_Wind_26thAug20.mp3 to C:\\Users\\pragya\\Downloads\\Iteration 3\\australian raven\\XC595979-Raven_Australian1_M6AK-420_Olive_Downs_6kmCreek_AM1_Wind_26thAug20.wav...\n",
      "Converting C:\\Users\\pragya\\Downloads\\Iteration 3\\australian raven\\XC597639-Raven_Australian1_M6MKH-228_Paroo_Darling_Creek_Gully_AM1_30thAug20.mp3 to C:\\Users\\pragya\\Downloads\\Iteration 3\\australian raven\\XC597639-Raven_Australian1_M6MKH-228_Paroo_Darling_Creek_Gully_AM1_30thAug20.wav...\n",
      "Converting C:\\Users\\pragya\\Downloads\\Iteration 3\\australian raven\\XC597640-Raven_Australian1_M6MKH-236_Paroo_Darling_Creek_Gully_West_AM_31stAug20-tp.mp3 to C:\\Users\\pragya\\Downloads\\Iteration 3\\australian raven\\XC597640-Raven_Australian1_M6MKH-236_Paroo_Darling_Creek_Gully_West_AM_31stAug20-tp.wav...\n",
      "Converting C:\\Users\\pragya\\Downloads\\Iteration 3\\australian raven\\XC620107-2021_01_17 Corvus coronoides2.mp3 to C:\\Users\\pragya\\Downloads\\Iteration 3\\australian raven\\XC620107-2021_01_17 Corvus coronoides2.wav...\n",
      "Converting C:\\Users\\pragya\\Downloads\\Iteration 3\\australian raven\\XC637286-Australian Ravens.mp3 to C:\\Users\\pragya\\Downloads\\Iteration 3\\australian raven\\XC637286-Australian Ravens.wav...\n",
      "Converting C:\\Users\\pragya\\Downloads\\Iteration 3\\australian raven\\XC689342-Raven_Australian1_M6AK388_Paroo_Darling_Stony_Gully_AM_2ndOct21.mp3 to C:\\Users\\pragya\\Downloads\\Iteration 3\\australian raven\\XC689342-Raven_Australian1_M6AK388_Paroo_Darling_Stony_Gully_AM_2ndOct21.wav...\n",
      "Converting C:\\Users\\pragya\\Downloads\\Iteration 3\\australian raven\\XC696209-2020.09.12 MixPre-759 Raven Bark Excerpt.mp3 to C:\\Users\\pragya\\Downloads\\Iteration 3\\australian raven\\XC696209-2020.wav...\n",
      "Converting C:\\Users\\pragya\\Downloads\\Iteration 3\\australian raven\\XC696210-2020.09.12 MixPre-759 Raven Bark Excerpt.mp3 to C:\\Users\\pragya\\Downloads\\Iteration 3\\australian raven\\XC696210-2020.wav...\n",
      "Converting C:\\Users\\pragya\\Downloads\\Iteration 3\\australian raven\\XC696211-2021.08.08 MixPre-1436 Raven Calls Excerpt.mp3 to C:\\Users\\pragya\\Downloads\\Iteration 3\\australian raven\\XC696211-2021.wav...\n",
      "Converting C:\\Users\\pragya\\Downloads\\Iteration 3\\australian raven\\XC721718-Australian Raven 10_41_32.mp3 to C:\\Users\\pragya\\Downloads\\Iteration 3\\australian raven\\XC721718-Australian Raven 10_41_32.wav...\n",
      "Converting C:\\Users\\pragya\\Downloads\\Iteration 3\\australian raven\\XC733297-Raven_Australian1_M6AK413_Nombinnie_Railway_Corner_Dusk2_6thOct21.mp3 to C:\\Users\\pragya\\Downloads\\Iteration 3\\australian raven\\XC733297-Raven_Australian1_M6AK413_Nombinnie_Railway_Corner_Dusk2_6thOct21.wav...\n"
     ]
    }
   ],
   "source": [
    "for i in australian_raven_filenames:\n",
    "    # Test the function\n",
    "    convert_to_wav(i)"
   ]
  },
  {
   "cell_type": "code",
   "execution_count": 35,
   "id": "935f848c",
   "metadata": {},
   "outputs": [
    {
     "name": "stdout",
     "output_type": "stream",
     "text": [
      "Converting C:\\Users\\pragya\\Downloads\\Iteration 3\\crested pigeon\\CrePig-20100605_072516.mp3 to C:\\Users\\pragya\\Downloads\\Iteration 3\\crested pigeon\\CrePig-20100605_072516.wav...\n",
      "Converting C:\\Users\\pragya\\Downloads\\Iteration 3\\crested pigeon\\XC121537-sppi_wnsw1.mp3 to C:\\Users\\pragya\\Downloads\\Iteration 3\\crested pigeon\\XC121537-sppi_wnsw1.wav...\n",
      "Converting C:\\Users\\pragya\\Downloads\\Iteration 3\\crested pigeon\\XC141397-crested-pigeon.mp3 to C:\\Users\\pragya\\Downloads\\Iteration 3\\crested pigeon\\XC141397-crested-pigeon.wav...\n",
      "Converting C:\\Users\\pragya\\Downloads\\Iteration 3\\crested pigeon\\XC172270-crested-pigeon1.mp3 to C:\\Users\\pragya\\Downloads\\Iteration 3\\crested pigeon\\XC172270-crested-pigeon1.wav...\n",
      "Converting C:\\Users\\pragya\\Downloads\\Iteration 3\\crested pigeon\\XC186556-2014_01_21 Ocyphaps lophotes1.mp3 to C:\\Users\\pragya\\Downloads\\Iteration 3\\crested pigeon\\XC186556-2014_01_21 Ocyphaps lophotes1.wav...\n",
      "Converting C:\\Users\\pragya\\Downloads\\Iteration 3\\crested pigeon\\XC236374-DSCN2467- Crested Pigeon @ Home.mp3 to C:\\Users\\pragya\\Downloads\\Iteration 3\\crested pigeon\\XC236374-DSCN2467- Crested Pigeon @ Home.wav...\n",
      "Converting C:\\Users\\pragya\\Downloads\\Iteration 3\\crested pigeon\\XC281884-2015_09_18 Ocyphaps lophotes.mp3 to C:\\Users\\pragya\\Downloads\\Iteration 3\\crested pigeon\\XC281884-2015_09_18 Ocyphaps lophotes.wav...\n",
      "Converting C:\\Users\\pragya\\Downloads\\Iteration 3\\crested pigeon\\XC334906-crested-pigeon-snp1.mp3 to C:\\Users\\pragya\\Downloads\\Iteration 3\\crested pigeon\\XC334906-crested-pigeon-snp1.wav...\n",
      "Converting C:\\Users\\pragya\\Downloads\\Iteration 3\\crested pigeon\\XC334907-crested-pigeon-display-snp2.mp3 to C:\\Users\\pragya\\Downloads\\Iteration 3\\crested pigeon\\XC334907-crested-pigeon-display-snp2.wav...\n",
      "Converting C:\\Users\\pragya\\Downloads\\Iteration 3\\crested pigeon\\XC354626-GMCLAC_1663-CrestedPigeon.mp3 to C:\\Users\\pragya\\Downloads\\Iteration 3\\crested pigeon\\XC354626-GMCLAC_1663-CrestedPigeon.wav...\n",
      "Converting C:\\Users\\pragya\\Downloads\\Iteration 3\\crested pigeon\\XC443064-crested_p_2018-11-16_145253534.mp3 to C:\\Users\\pragya\\Downloads\\Iteration 3\\crested pigeon\\XC443064-crested_p_2018-11-16_145253534.wav...\n",
      "Converting C:\\Users\\pragya\\Downloads\\Iteration 3\\crested pigeon\\XC496697-Crested Pigeon 1.mp3 to C:\\Users\\pragya\\Downloads\\Iteration 3\\crested pigeon\\XC496697-Crested Pigeon 1.wav...\n",
      "Converting C:\\Users\\pragya\\Downloads\\Iteration 3\\crested pigeon\\XC578177-Pigeon_Crested1_M6AK-396_Aloes_River_Dawn_29thJun20.mp3 to C:\\Users\\pragya\\Downloads\\Iteration 3\\crested pigeon\\XC578177-Pigeon_Crested1_M6AK-396_Aloes_River_Dawn_29thJun20.wav...\n",
      "Converting C:\\Users\\pragya\\Downloads\\Iteration 3\\crested pigeon\\XC578178-Pigeon_Crested2_M6AK-396_Aloes_River_Dawn_29thJun20.mp3 to C:\\Users\\pragya\\Downloads\\Iteration 3\\crested pigeon\\XC578178-Pigeon_Crested2_M6AK-396_Aloes_River_Dawn_29thJun20.wav...\n",
      "Converting C:\\Users\\pragya\\Downloads\\Iteration 3\\crested pigeon\\XC593952-Crested Pigeon 07_07_53.mp3 to C:\\Users\\pragya\\Downloads\\Iteration 3\\crested pigeon\\XC593952-Crested Pigeon 07_07_53.wav...\n",
      "Converting C:\\Users\\pragya\\Downloads\\Iteration 3\\crested pigeon\\XC595115-Pigeon_Crested2_M6AK-410_ReolaRd_Small_Waterhole_PM_24thAug20.mp3 to C:\\Users\\pragya\\Downloads\\Iteration 3\\crested pigeon\\XC595115-Pigeon_Crested2_M6AK-410_ReolaRd_Small_Waterhole_PM_24thAug20.wav...\n",
      "Converting C:\\Users\\pragya\\Downloads\\Iteration 3\\crested pigeon\\XC596011-Pigeon_Crested2_M6AK-418_ReolaRd_ThreeTrees_AM1_25thAug20.mp3 to C:\\Users\\pragya\\Downloads\\Iteration 3\\crested pigeon\\XC596011-Pigeon_Crested2_M6AK-418_ReolaRd_ThreeTrees_AM1_25thAug20.wav...\n",
      "Converting C:\\Users\\pragya\\Downloads\\Iteration 3\\crested pigeon\\XC600056-Pigeon_Crested1_M3TL-625_GlenHopeStn_02092020.mp3 to C:\\Users\\pragya\\Downloads\\Iteration 3\\crested pigeon\\XC600056-Pigeon_Crested1_M3TL-625_GlenHopeStn_02092020.wav...\n",
      "Converting C:\\Users\\pragya\\Downloads\\Iteration 3\\crested pigeon\\XC600057-Pigeon_Crested1_M6AK-410_ReolaRd_Small_Waterhole_PM_24thAug20 (1).mp3 to C:\\Users\\pragya\\Downloads\\Iteration 3\\crested pigeon\\XC600057-Pigeon_Crested1_M6AK-410_ReolaRd_Small_Waterhole_PM_24thAug20 (1).wav...\n",
      "Converting C:\\Users\\pragya\\Downloads\\Iteration 3\\crested pigeon\\XC600057-Pigeon_Crested1_M6AK-410_ReolaRd_Small_Waterhole_PM_24thAug20.mp3 to C:\\Users\\pragya\\Downloads\\Iteration 3\\crested pigeon\\XC600057-Pigeon_Crested1_M6AK-410_ReolaRd_Small_Waterhole_PM_24thAug20.wav...\n",
      "Converting C:\\Users\\pragya\\Downloads\\Iteration 3\\crested pigeon\\XC600059-Pigeon_Crested1_M6AK-418_ReolaRd_ThreeTrees_AM1_25thAug20.mp3 to C:\\Users\\pragya\\Downloads\\Iteration 3\\crested pigeon\\XC600059-Pigeon_Crested1_M6AK-418_ReolaRd_ThreeTrees_AM1_25thAug20.wav...\n",
      "Converting C:\\Users\\pragya\\Downloads\\Iteration 3\\crested pigeon\\XC600061-Pigeon_Crested2_SDLOM_100_Paroo_Darling_River_Woodland_AM1_30thAug20-tp.mp3 to C:\\Users\\pragya\\Downloads\\Iteration 3\\crested pigeon\\XC600061-Pigeon_Crested2_SDLOM_100_Paroo_Darling_River_Woodland_AM1_30thAug20-tp.wav...\n",
      "Converting C:\\Users\\pragya\\Downloads\\Iteration 3\\crested pigeon\\XC604351-Crested Pigeon 06_16_06.mp3 to C:\\Users\\pragya\\Downloads\\Iteration 3\\crested pigeon\\XC604351-Crested Pigeon 06_16_06.wav...\n",
      "Converting C:\\Users\\pragya\\Downloads\\Iteration 3\\crested pigeon\\XC609283-Pigeon_Crested1_M6AK-425_Mount_Wood_Stud_Creek_Sth_Dusk_27thAug20.mp3 to C:\\Users\\pragya\\Downloads\\Iteration 3\\crested pigeon\\XC609283-Pigeon_Crested1_M6AK-425_Mount_Wood_Stud_Creek_Sth_Dusk_27thAug20.wav...\n",
      "Converting C:\\Users\\pragya\\Downloads\\Iteration 3\\crested pigeon\\XC609348-Pigeon_Crested1_M6AK-433_Mount_Wood_Campground_AM1_28thAug20.mp3 to C:\\Users\\pragya\\Downloads\\Iteration 3\\crested pigeon\\XC609348-Pigeon_Crested1_M6AK-433_Mount_Wood_Campground_AM1_28thAug20.wav...\n",
      "Converting C:\\Users\\pragya\\Downloads\\Iteration 3\\crested pigeon\\XC641425-Ocylop_HannRg_16-5-2017-0812.mp3 to C:\\Users\\pragya\\Downloads\\Iteration 3\\crested pigeon\\XC641425-Ocylop_HannRg_16-5-2017-0812.wav...\n",
      "Converting C:\\Users\\pragya\\Downloads\\Iteration 3\\crested pigeon\\XC666740-CrestedPigeonAlarmFlight_Littlehampton_20210723_134638.mp3 to C:\\Users\\pragya\\Downloads\\Iteration 3\\crested pigeon\\XC666740-CrestedPigeonAlarmFlight_Littlehampton_20210723_134638.wav...\n",
      "Converting C:\\Users\\pragya\\Downloads\\Iteration 3\\crested pigeon\\XC673037-Pigeon_Crested1_M6MKH-244_Nyngan_Duck_Creek_AM2_31stAug20.mp3 to C:\\Users\\pragya\\Downloads\\Iteration 3\\crested pigeon\\XC673037-Pigeon_Crested1_M6MKH-244_Nyngan_Duck_Creek_AM2_31stAug20.wav...\n",
      "Converting C:\\Users\\pragya\\Downloads\\Iteration 3\\crested pigeon\\XC692682-Pigeon_Crested1_flight_SDEM178_Paroo_Darling_Top_Road_Dawn2_2ndOct21.mp3 to C:\\Users\\pragya\\Downloads\\Iteration 3\\crested pigeon\\XC692682-Pigeon_Crested1_flight_SDEM178_Paroo_Darling_Top_Road_Dawn2_2ndOct21.wav...\n",
      "Converting C:\\Users\\pragya\\Downloads\\Iteration 3\\crested pigeon\\XC692683-Pigeon_Crested1_M6MKH638_Paroo_Darling_Shrubby_Creek_AM1_3rdOct21.mp3 to C:\\Users\\pragya\\Downloads\\Iteration 3\\crested pigeon\\XC692683-Pigeon_Crested1_M6MKH638_Paroo_Darling_Shrubby_Creek_AM1_3rdOct21.wav...\n",
      "Converting C:\\Users\\pragya\\Downloads\\Iteration 3\\crested pigeon\\XC87426-Crested Pigeon.mp3 to C:\\Users\\pragya\\Downloads\\Iteration 3\\crested pigeon\\XC87426-Crested Pigeon.wav...\n"
     ]
    }
   ],
   "source": [
    "for i in crested_pigeon_filenames:\n",
    "    # Test the function\n",
    "    convert_to_wav(i)"
   ]
  },
  {
   "cell_type": "code",
   "execution_count": 36,
   "id": "eb9f64a9",
   "metadata": {},
   "outputs": [
    {
     "name": "stdout",
     "output_type": "stream",
     "text": [
      "Converting C:\\Users\\pragya\\Downloads\\Iteration 3\\eastern spinebill\\XC146133-eastern-spinebill-long-flight-song.mp3 to C:\\Users\\pragya\\Downloads\\Iteration 3\\eastern spinebill\\XC146133-eastern-spinebill-long-flight-song.wav...\n",
      "Converting C:\\Users\\pragya\\Downloads\\Iteration 3\\eastern spinebill\\XC146633-eastern-spinebill3.mp3 to C:\\Users\\pragya\\Downloads\\Iteration 3\\eastern spinebill\\XC146633-eastern-spinebill3.wav...\n",
      "Converting C:\\Users\\pragya\\Downloads\\Iteration 3\\eastern spinebill\\XC171970-spinebill-short-call.mp3 to C:\\Users\\pragya\\Downloads\\Iteration 3\\eastern spinebill\\XC171970-spinebill-short-call.wav...\n",
      "Converting C:\\Users\\pragya\\Downloads\\Iteration 3\\eastern spinebill\\XC171971-spinebill-song.mp3 to C:\\Users\\pragya\\Downloads\\Iteration 3\\eastern spinebill\\XC171971-spinebill-song.wav...\n",
      "Converting C:\\Users\\pragya\\Downloads\\Iteration 3\\eastern spinebill\\XC171972-spinebill-song2.mp3 to C:\\Users\\pragya\\Downloads\\Iteration 3\\eastern spinebill\\XC171972-spinebill-song2.wav...\n",
      "Converting C:\\Users\\pragya\\Downloads\\Iteration 3\\eastern spinebill\\XC172033-spinebill-fast-piping.mp3 to C:\\Users\\pragya\\Downloads\\Iteration 3\\eastern spinebill\\XC172033-spinebill-fast-piping.wav...\n",
      "Converting C:\\Users\\pragya\\Downloads\\Iteration 3\\eastern spinebill\\XC172264-spinebill-dispaly-flight.mp3 to C:\\Users\\pragya\\Downloads\\Iteration 3\\eastern spinebill\\XC172264-spinebill-dispaly-flight.wav...\n",
      "Converting C:\\Users\\pragya\\Downloads\\Iteration 3\\eastern spinebill\\XC269691-eastern-spinebill-song-cnp1.mp3 to C:\\Users\\pragya\\Downloads\\Iteration 3\\eastern spinebill\\XC269691-eastern-spinebill-song-cnp1.wav...\n",
      "Converting C:\\Users\\pragya\\Downloads\\Iteration 3\\eastern spinebill\\XC305909-Gympie National Park20150926_641.mp3 to C:\\Users\\pragya\\Downloads\\Iteration 3\\eastern spinebill\\XC305909-Gympie National Park20150926_641.wav...\n",
      "Converting C:\\Users\\pragya\\Downloads\\Iteration 3\\eastern spinebill\\XC340220-eastern-spinebill-ds1.mp3 to C:\\Users\\pragya\\Downloads\\Iteration 3\\eastern spinebill\\XC340220-eastern-spinebill-ds1.wav...\n",
      "Converting C:\\Users\\pragya\\Downloads\\Iteration 3\\eastern spinebill\\XC340221-eastern-spinebill-ds2.mp3 to C:\\Users\\pragya\\Downloads\\Iteration 3\\eastern spinebill\\XC340221-eastern-spinebill-ds2.wav...\n",
      "Converting C:\\Users\\pragya\\Downloads\\Iteration 3\\eastern spinebill\\XC357302-GMCLAC_3876-ESpinebill.mp3 to C:\\Users\\pragya\\Downloads\\Iteration 3\\eastern spinebill\\XC357302-GMCLAC_3876-ESpinebill.wav...\n",
      "Converting C:\\Users\\pragya\\Downloads\\Iteration 3\\eastern spinebill\\XC375294-GMCLAC_5015-ESpinebill.mp3 to C:\\Users\\pragya\\Downloads\\Iteration 3\\eastern spinebill\\XC375294-GMCLAC_5015-ESpinebill.wav...\n",
      "Converting C:\\Users\\pragya\\Downloads\\Iteration 3\\eastern spinebill\\XC380191-eastern-spinebill-sopng-bgnr1.mp3 to C:\\Users\\pragya\\Downloads\\Iteration 3\\eastern spinebill\\XC380191-eastern-spinebill-sopng-bgnr1.wav...\n",
      "Converting C:\\Users\\pragya\\Downloads\\Iteration 3\\eastern spinebill\\XC390576-Spinebill_Eastern_BurralowNth_Forest1.mp3 to C:\\Users\\pragya\\Downloads\\Iteration 3\\eastern spinebill\\XC390576-Spinebill_Eastern_BurralowNth_Forest1.wav...\n",
      "Converting C:\\Users\\pragya\\Downloads\\Iteration 3\\eastern spinebill\\XC434421-Spinebill_Eastern_MX351_Benarkin_DawnA_12thSep18.mp3 to C:\\Users\\pragya\\Downloads\\Iteration 3\\eastern spinebill\\XC434421-Spinebill_Eastern_MX351_Benarkin_DawnA_12thSep18.wav...\n",
      "Converting C:\\Users\\pragya\\Downloads\\Iteration 3\\eastern spinebill\\XC470612-Australia1992_1126_EasternSpinebill_07_song.mp3 to C:\\Users\\pragya\\Downloads\\Iteration 3\\eastern spinebill\\XC470612-Australia1992_1126_EasternSpinebill_07_song.wav...\n",
      "Converting C:\\Users\\pragya\\Downloads\\Iteration 3\\eastern spinebill\\XC490800-Spinebill_Eastern_SD_005a_Dharawal_5thAug19.mp3 to C:\\Users\\pragya\\Downloads\\Iteration 3\\eastern spinebill\\XC490800-Spinebill_Eastern_SD_005a_Dharawal_5thAug19.wav...\n",
      "Converting C:\\Users\\pragya\\Downloads\\Iteration 3\\eastern spinebill\\XC495651-MIXPRE-1330_Eastern Spinebill_20190824_Ambleside.mp3 to C:\\Users\\pragya\\Downloads\\Iteration 3\\eastern spinebill\\XC495651-MIXPRE-1330_Eastern Spinebill_20190824_Ambleside.wav...\n",
      "Converting C:\\Users\\pragya\\Downloads\\Iteration 3\\eastern spinebill\\XC495684-MIXPRE-1299_Eastern Spinebill_20190813_Warrawee.mp3 to C:\\Users\\pragya\\Downloads\\Iteration 3\\eastern spinebill\\XC495684-MIXPRE-1299_Eastern Spinebill_20190813_Warrawee.wav...\n",
      "Converting C:\\Users\\pragya\\Downloads\\Iteration 3\\eastern spinebill\\XC567413-0_MIXPRE-2669_Eastern Sprinebill_20200611_Tasmanian Arboretum.mp3 to C:\\Users\\pragya\\Downloads\\Iteration 3\\eastern spinebill\\XC567413-0_MIXPRE-2669_Eastern Sprinebill_20200611_Tasmanian Arboretum.wav...\n",
      "Converting C:\\Users\\pragya\\Downloads\\Iteration 3\\eastern spinebill\\XC602958-Eastern Spinebill Boonjie Nov 14 2020 edit PG1263.mp3 to C:\\Users\\pragya\\Downloads\\Iteration 3\\eastern spinebill\\XC602958-Eastern Spinebill Boonjie Nov 14 2020 edit PG1263.wav...\n",
      "Converting C:\\Users\\pragya\\Downloads\\Iteration 3\\eastern spinebill\\XC609098-Spinebill_Eastern1_M6AK-366_NewCountrySwamp_North_AM1_25thJun20.mp3 to C:\\Users\\pragya\\Downloads\\Iteration 3\\eastern spinebill\\XC609098-Spinebill_Eastern1_M6AK-366_NewCountrySwamp_North_AM1_25thJun20.wav...\n",
      "Converting C:\\Users\\pragya\\Downloads\\Iteration 3\\eastern spinebill\\XC669089-2021_08_19 Acanthorhynchus tenuirostris1.mp3 to C:\\Users\\pragya\\Downloads\\Iteration 3\\eastern spinebill\\XC669089-2021_08_19 Acanthorhynchus tenuirostris1.wav...\n",
      "Converting C:\\Users\\pragya\\Downloads\\Iteration 3\\eastern spinebill\\XC669149-2021_08_19 Acanthorhynchus tenuirostris4.mp3 to C:\\Users\\pragya\\Downloads\\Iteration 3\\eastern spinebill\\XC669149-2021_08_19 Acanthorhynchus tenuirostris4.wav...\n",
      "Converting C:\\Users\\pragya\\Downloads\\Iteration 3\\eastern spinebill\\XC673212-Spinebill_Eastern1_M6AK-479_Ansons_Bay_Lagoon_Heath_AM1_22Nov20.mp3 to C:\\Users\\pragya\\Downloads\\Iteration 3\\eastern spinebill\\XC673212-Spinebill_Eastern1_M6AK-479_Ansons_Bay_Lagoon_Heath_AM1_22Nov20.wav...\n",
      "Converting C:\\Users\\pragya\\Downloads\\Iteration 3\\eastern spinebill\\XC673213-Spinebill_Eastern2_M6AK-479_Ansons_Bay_Lagoon_Heath_AM1_22Nov20.mp3 to C:\\Users\\pragya\\Downloads\\Iteration 3\\eastern spinebill\\XC673213-Spinebill_Eastern2_M6AK-479_Ansons_Bay_Lagoon_Heath_AM1_22Nov20.wav...\n",
      "Converting C:\\Users\\pragya\\Downloads\\Iteration 3\\eastern spinebill\\XC676469-EASTERN SPINEBILL Old Boonjie Road, Topaz, Sept 23 edit PG1529.mp3 to C:\\Users\\pragya\\Downloads\\Iteration 3\\eastern spinebill\\XC676469-EASTERN SPINEBILL Old Boonjie Road, Topaz, Sept 23 edit PG1529.wav...\n",
      "Converting C:\\Users\\pragya\\Downloads\\Iteration 3\\eastern spinebill\\XC678500-Eastern Spinebill Boonjie Oct 3 edit PG1542.mp3 to C:\\Users\\pragya\\Downloads\\Iteration 3\\eastern spinebill\\XC678500-Eastern Spinebill Boonjie Oct 3 edit PG1542.wav...\n",
      "Converting C:\\Users\\pragya\\Downloads\\Iteration 3\\eastern spinebill\\XC748912-ZOOM0008_TrLR eastern spinebill.mp3 to C:\\Users\\pragya\\Downloads\\Iteration 3\\eastern spinebill\\XC748912-ZOOM0008_TrLR eastern spinebill.wav...\n"
     ]
    }
   ],
   "source": [
    "for i in eastern_spinebill_filenames:\n",
    "    # Test the function\n",
    "    convert_to_wav(i)"
   ]
  },
  {
   "cell_type": "code",
   "execution_count": 37,
   "id": "3f2c0d7a",
   "metadata": {},
   "outputs": [
    {
     "name": "stdout",
     "output_type": "stream",
     "text": [
      "Converting C:\\Users\\pragya\\Downloads\\Iteration 3\\grey butcherbird\\XC269686-grey-butcherbird-song-call-cnp2.mp3 to C:\\Users\\pragya\\Downloads\\Iteration 3\\grey butcherbird\\XC269686-grey-butcherbird-song-call-cnp2.wav...\n",
      "Converting C:\\Users\\pragya\\Downloads\\Iteration 3\\grey butcherbird\\XC295034-R05_0011.mp3 to C:\\Users\\pragya\\Downloads\\Iteration 3\\grey butcherbird\\XC295034-R05_0011.wav...\n",
      "Converting C:\\Users\\pragya\\Downloads\\Iteration 3\\grey butcherbird\\XC334454-grey-butcherbird-song-gp1.mp3 to C:\\Users\\pragya\\Downloads\\Iteration 3\\grey butcherbird\\XC334454-grey-butcherbird-song-gp1.wav...\n",
      "Converting C:\\Users\\pragya\\Downloads\\Iteration 3\\grey butcherbird\\XC352038-GMCLAC_2925-GButcherbird.mp3 to C:\\Users\\pragya\\Downloads\\Iteration 3\\grey butcherbird\\XC352038-GMCLAC_2925-GButcherbird.wav...\n",
      "Converting C:\\Users\\pragya\\Downloads\\Iteration 3\\grey butcherbird\\XC355534-GMCLAC_3757-GButcherbird.mp3 to C:\\Users\\pragya\\Downloads\\Iteration 3\\grey butcherbird\\XC355534-GMCLAC_3757-GButcherbird.wav...\n",
      "Converting C:\\Users\\pragya\\Downloads\\Iteration 3\\grey butcherbird\\XC434537-Butcherbird_Grey_MX274_Carnarvon_AMb_22ndAug18.mp3 to C:\\Users\\pragya\\Downloads\\Iteration 3\\grey butcherbird\\XC434537-Butcherbird_Grey_MX274_Carnarvon_AMb_22ndAug18.wav...\n",
      "Converting C:\\Users\\pragya\\Downloads\\Iteration 3\\grey butcherbird\\XC434538-Butcherbird_Grey_MX274_Carnarvon_AMc_22ndAug18.mp3 to C:\\Users\\pragya\\Downloads\\Iteration 3\\grey butcherbird\\XC434538-Butcherbird_Grey_MX274_Carnarvon_AMc_22ndAug18.wav...\n",
      "Converting C:\\Users\\pragya\\Downloads\\Iteration 3\\grey butcherbird\\XC434539-Butcherbird_Grey_MX274_Carnarvon_AMd_22ndAug18.mp3 to C:\\Users\\pragya\\Downloads\\Iteration 3\\grey butcherbird\\XC434539-Butcherbird_Grey_MX274_Carnarvon_AMd_22ndAug18.wav...\n",
      "Converting C:\\Users\\pragya\\Downloads\\Iteration 3\\grey butcherbird\\XC460763-Butcherbird_Grey_SD593a_Coorongooba_4thMarch19.mp3 to C:\\Users\\pragya\\Downloads\\Iteration 3\\grey butcherbird\\XC460763-Butcherbird_Grey_SD593a_Coorongooba_4thMarch19.wav...\n",
      "Converting C:\\Users\\pragya\\Downloads\\Iteration 3\\grey butcherbird\\XC500675-Grey Butcherbird 06_30_17.mp3 to C:\\Users\\pragya\\Downloads\\Iteration 3\\grey butcherbird\\XC500675-Grey Butcherbird 06_30_17.wav...\n",
      "Converting C:\\Users\\pragya\\Downloads\\Iteration 3\\grey butcherbird\\XC500676-Grey Butcherbird 06_31_23.mp3 to C:\\Users\\pragya\\Downloads\\Iteration 3\\grey butcherbird\\XC500676-Grey Butcherbird 06_31_23.wav...\n",
      "Converting C:\\Users\\pragya\\Downloads\\Iteration 3\\grey butcherbird\\XC531082-Grey Butcherbird 13_14_05.mp3 to C:\\Users\\pragya\\Downloads\\Iteration 3\\grey butcherbird\\XC531082-Grey Butcherbird 13_14_05.wav...\n",
      "Converting C:\\Users\\pragya\\Downloads\\Iteration 3\\grey butcherbird\\XC554838-Grey Butcherbird 07_08_23.mp3 to C:\\Users\\pragya\\Downloads\\Iteration 3\\grey butcherbird\\XC554838-Grey Butcherbird 07_08_23.wav...\n",
      "Converting C:\\Users\\pragya\\Downloads\\Iteration 3\\grey butcherbird\\XC570698-Grey Butcherbird 09_03_49.mp3 to C:\\Users\\pragya\\Downloads\\Iteration 3\\grey butcherbird\\XC570698-Grey Butcherbird 09_03_49.wav...\n",
      "Converting C:\\Users\\pragya\\Downloads\\Iteration 3\\grey butcherbird\\XC580384-Grey Butcherbird duet 09_49_18.mp3 to C:\\Users\\pragya\\Downloads\\Iteration 3\\grey butcherbird\\XC580384-Grey Butcherbird duet 09_49_18.wav...\n",
      "Converting C:\\Users\\pragya\\Downloads\\Iteration 3\\grey butcherbird\\XC588147-Grey Butcherbird 08_56_32.mp3 to C:\\Users\\pragya\\Downloads\\Iteration 3\\grey butcherbird\\XC588147-Grey Butcherbird 08_56_32.wav...\n",
      "Converting C:\\Users\\pragya\\Downloads\\Iteration 3\\grey butcherbird\\XC597365-Grey Butcherbird 04_47_02.mp3 to C:\\Users\\pragya\\Downloads\\Iteration 3\\grey butcherbird\\XC597365-Grey Butcherbird 04_47_02.wav...\n",
      "Converting C:\\Users\\pragya\\Downloads\\Iteration 3\\grey butcherbird\\XC605645-gb.mp3 to C:\\Users\\pragya\\Downloads\\Iteration 3\\grey butcherbird\\XC605645-gb.wav...\n",
      "Converting C:\\Users\\pragya\\Downloads\\Iteration 3\\grey butcherbird\\XC615692-2021_01_18_08_11_51 bird call trimmed.mp3 to C:\\Users\\pragya\\Downloads\\Iteration 3\\grey butcherbird\\XC615692-2021_01_18_08_11_51 bird call trimmed.wav...\n",
      "Converting C:\\Users\\pragya\\Downloads\\Iteration 3\\grey butcherbird\\XC619628-2021_02_05_09_26_32 grey butcherbirds calling to each other trim 1.mp3 to C:\\Users\\pragya\\Downloads\\Iteration 3\\grey butcherbird\\XC619628-2021_02_05_09_26_32 grey butcherbirds calling to each other trim 1.wav...\n",
      "Converting C:\\Users\\pragya\\Downloads\\Iteration 3\\grey butcherbird\\XC621093-Cracticus torquatus torquatus_iw_Bournda_mp129_20201228.mp3 to C:\\Users\\pragya\\Downloads\\Iteration 3\\grey butcherbird\\XC621093-Cracticus torquatus torquatus_iw_Bournda_mp129_20201228.wav...\n",
      "Converting C:\\Users\\pragya\\Downloads\\Iteration 3\\grey butcherbird\\XC628251-Grey Butcherbird Oxley Q 3A.mp3 to C:\\Users\\pragya\\Downloads\\Iteration 3\\grey butcherbird\\XC628251-Grey Butcherbird Oxley Q 3A.wav...\n",
      "Converting C:\\Users\\pragya\\Downloads\\Iteration 3\\grey butcherbird\\XC628838-Grey Butcherbird subsong 15_20_59.mp3 to C:\\Users\\pragya\\Downloads\\Iteration 3\\grey butcherbird\\XC628838-Grey Butcherbird subsong 15_20_59.wav...\n",
      "Converting C:\\Users\\pragya\\Downloads\\Iteration 3\\grey butcherbird\\XC635936-Grey Butcherbird 11_25_33.mp3 to C:\\Users\\pragya\\Downloads\\Iteration 3\\grey butcherbird\\XC635936-Grey Butcherbird 11_25_33.wav...\n",
      "Converting C:\\Users\\pragya\\Downloads\\Iteration 3\\grey butcherbird\\XC638870-Grey Butcherbird.mp3 to C:\\Users\\pragya\\Downloads\\Iteration 3\\grey butcherbird\\XC638870-Grey Butcherbird.wav...\n",
      "Converting C:\\Users\\pragya\\Downloads\\Iteration 3\\grey butcherbird\\XC640428-Grey Butcherbird 11_25_33.mp3 to C:\\Users\\pragya\\Downloads\\Iteration 3\\grey butcherbird\\XC640428-Grey Butcherbird 11_25_33.wav...\n",
      "Converting C:\\Users\\pragya\\Downloads\\Iteration 3\\grey butcherbird\\XC640438-Grey Butcherbird duet 07_36_38.mp3 to C:\\Users\\pragya\\Downloads\\Iteration 3\\grey butcherbird\\XC640438-Grey Butcherbird duet 07_36_38.wav...\n",
      "Converting C:\\Users\\pragya\\Downloads\\Iteration 3\\grey butcherbird\\XC669085-2021_08_19 Cracticus torquatus1.mp3 to C:\\Users\\pragya\\Downloads\\Iteration 3\\grey butcherbird\\XC669085-2021_08_19 Cracticus torquatus1.wav...\n",
      "Converting C:\\Users\\pragya\\Downloads\\Iteration 3\\grey butcherbird\\XC688910-Butcherbird_Grey1_M6MKH649_Yathong_Shrubland_North_AM1_6thOct21.mp3 to C:\\Users\\pragya\\Downloads\\Iteration 3\\grey butcherbird\\XC688910-Butcherbird_Grey1_M6MKH649_Yathong_Shrubland_North_AM1_6thOct21.wav...\n",
      "Converting C:\\Users\\pragya\\Downloads\\Iteration 3\\grey butcherbird\\XC688911-Butcherbird_Grey1_M6MKH650_Yathong_Shrubland_North_AM2_6thOct21.mp3 to C:\\Users\\pragya\\Downloads\\Iteration 3\\grey butcherbird\\XC688911-Butcherbird_Grey1_M6MKH650_Yathong_Shrubland_North_AM2_6thOct21.wav...\n",
      "Converting C:\\Users\\pragya\\Downloads\\Iteration 3\\grey butcherbird\\XC695193-Butcherbird_Grey1_M6AK429_Weddin_Seatons_Dam_AM1_9thOct21.mp3 to C:\\Users\\pragya\\Downloads\\Iteration 3\\grey butcherbird\\XC695193-Butcherbird_Grey1_M6AK429_Weddin_Seatons_Dam_AM1_9thOct21.wav...\n",
      "Converting C:\\Users\\pragya\\Downloads\\Iteration 3\\grey butcherbird\\XC695194-Butcherbird_Grey1_M6MKH670_Weddin_Seaton_Farm_Forest1_Dawn_9thOct21.mp3 to C:\\Users\\pragya\\Downloads\\Iteration 3\\grey butcherbird\\XC695194-Butcherbird_Grey1_M6MKH670_Weddin_Seaton_Farm_Forest1_Dawn_9thOct21.wav...\n",
      "Converting C:\\Users\\pragya\\Downloads\\Iteration 3\\grey butcherbird\\XC715559-2022_04_15 Cracticus torquatus1.mp3 to C:\\Users\\pragya\\Downloads\\Iteration 3\\grey butcherbird\\XC715559-2022_04_15 Cracticus torquatus1.wav...\n"
     ]
    }
   ],
   "source": [
    "for i in grey_butcherbird_filenames:\n",
    "    # Test the function\n",
    "    convert_to_wav(i)"
   ]
  },
  {
   "cell_type": "code",
   "execution_count": 38,
   "id": "7e987092",
   "metadata": {},
   "outputs": [
    {
     "name": "stdout",
     "output_type": "stream",
     "text": [
      "Converting C:\\Users\\pragya\\Downloads\\Iteration 3\\grey fantail\\XC334917-Grey Fantail Mt Lewis Sept 12 2016 PG1051.mp3 to C:\\Users\\pragya\\Downloads\\Iteration 3\\grey fantail\\XC334917-Grey Fantail Mt Lewis Sept 12 2016 PG1051.wav...\n",
      "Converting C:\\Users\\pragya\\Downloads\\Iteration 3\\grey fantail\\XC340218-grey-fantail-song-ds1.mp3 to C:\\Users\\pragya\\Downloads\\Iteration 3\\grey fantail\\XC340218-grey-fantail-song-ds1.wav...\n",
      "Converting C:\\Users\\pragya\\Downloads\\Iteration 3\\grey fantail\\XC340219-grey-fantail-song-ds2.mp3 to C:\\Users\\pragya\\Downloads\\Iteration 3\\grey fantail\\XC340219-grey-fantail-song-ds2.wav...\n",
      "Converting C:\\Users\\pragya\\Downloads\\Iteration 3\\grey fantail\\XC382918-Fantail_Grey_DW1_Old_Mill_Dam_Dawn.mp3 to C:\\Users\\pragya\\Downloads\\Iteration 3\\grey fantail\\XC382918-Fantail_Grey_DW1_Old_Mill_Dam_Dawn.wav...\n",
      "Converting C:\\Users\\pragya\\Downloads\\Iteration 3\\grey fantail\\XC384137-GMCLAC_6206-GFantail.mp3 to C:\\Users\\pragya\\Downloads\\Iteration 3\\grey fantail\\XC384137-GMCLAC_6206-GFantail.wav...\n",
      "Converting C:\\Users\\pragya\\Downloads\\Iteration 3\\grey fantail\\XC431414-Fantail Grey (pelzelni) MT BATES NI AUS pair song [A] ETSJ_LS_71920 (edit).mp3 to C:\\Users\\pragya\\Downloads\\Iteration 3\\grey fantail\\XC431414-Fantail Grey (pelzelni) MT BATES NI AUS pair song [A] ETSJ_LS_71920 (edit).wav...\n",
      "Converting C:\\Users\\pragya\\Downloads\\Iteration 3\\grey fantail\\XC500572-MIXPRE-1488_Grey Fantail_20191003_Warrawee.mp3 to C:\\Users\\pragya\\Downloads\\Iteration 3\\grey fantail\\XC500572-MIXPRE-1488_Grey Fantail_20191003_Warrawee.wav...\n",
      "Converting C:\\Users\\pragya\\Downloads\\Iteration 3\\grey fantail\\XC501240-MIXPRE-1526_Grey Fantail_20191007_Kelcey Tier.mp3 to C:\\Users\\pragya\\Downloads\\Iteration 3\\grey fantail\\XC501240-MIXPRE-1526_Grey Fantail_20191007_Kelcey Tier.wav...\n",
      "Converting C:\\Users\\pragya\\Downloads\\Iteration 3\\grey fantail\\XC503664-MIXPRE-1699_Grey Fantail_20191023_Pardoe.mp3 to C:\\Users\\pragya\\Downloads\\Iteration 3\\grey fantail\\XC503664-MIXPRE-1699_Grey Fantail_20191023_Pardoe.wav...\n",
      "Converting C:\\Users\\pragya\\Downloads\\Iteration 3\\grey fantail\\XC560834-Grey Fantail 12_19_44.mp3 to C:\\Users\\pragya\\Downloads\\Iteration 3\\grey fantail\\XC560834-Grey Fantail 12_19_44.wav...\n",
      "Converting C:\\Users\\pragya\\Downloads\\Iteration 3\\grey fantail\\XC567406-0_MIXPRE-2654_Grey Fantail_20200610_Redwater Creek.mp3 to C:\\Users\\pragya\\Downloads\\Iteration 3\\grey fantail\\XC567406-0_MIXPRE-2654_Grey Fantail_20200610_Redwater Creek.wav...\n",
      "Converting C:\\Users\\pragya\\Downloads\\Iteration 3\\grey fantail\\XC573870-Grey Fantail 10_16_08.mp3 to C:\\Users\\pragya\\Downloads\\Iteration 3\\grey fantail\\XC573870-Grey Fantail 10_16_08.wav...\n",
      "Converting C:\\Users\\pragya\\Downloads\\Iteration 3\\grey fantail\\XC574542-0_MIXPRE-2884_Grey Fantail_20200702_KImberley's Lookout.mp3 to C:\\Users\\pragya\\Downloads\\Iteration 3\\grey fantail\\XC574542-0_MIXPRE-2884_Grey Fantail_20200702_KImberley's Lookout.wav...\n",
      "Converting C:\\Users\\pragya\\Downloads\\Iteration 3\\grey fantail\\XC577212-Fantail_Grey1_M6LOM-185_Coggers_Waterhole_Dusk_27thJun20.mp3 to C:\\Users\\pragya\\Downloads\\Iteration 3\\grey fantail\\XC577212-Fantail_Grey1_M6LOM-185_Coggers_Waterhole_Dusk_27thJun20.wav...\n",
      "Converting C:\\Users\\pragya\\Downloads\\Iteration 3\\grey fantail\\XC593082-2020-09-12 Rhipidura albiscapa.mp3 to C:\\Users\\pragya\\Downloads\\Iteration 3\\grey fantail\\XC593082-2020-09-12 Rhipidura albiscapa.wav...\n",
      "Converting C:\\Users\\pragya\\Downloads\\Iteration 3\\grey fantail\\XC597349-Grey fantail 16_21_31.mp3 to C:\\Users\\pragya\\Downloads\\Iteration 3\\grey fantail\\XC597349-Grey fantail 16_21_31.wav...\n",
      "Converting C:\\Users\\pragya\\Downloads\\Iteration 3\\grey fantail\\XC599868-2020-10-25 Gray fantail.mp3 to C:\\Users\\pragya\\Downloads\\Iteration 3\\grey fantail\\XC599868-2020-10-25 Gray fantail.wav...\n",
      "Converting C:\\Users\\pragya\\Downloads\\Iteration 3\\grey fantail\\XC603208-Rhipidura albiscapa alisteri_iw_Akura_mp040_20200910.mp3 to C:\\Users\\pragya\\Downloads\\Iteration 3\\grey fantail\\XC603208-Rhipidura albiscapa alisteri_iw_Akura_mp040_20200910.wav...\n",
      "Converting C:\\Users\\pragya\\Downloads\\Iteration 3\\grey fantail\\XC613026-201212-144822 Rhipidura albiscapa brenchleyi QA T[song].mp3 to C:\\Users\\pragya\\Downloads\\Iteration 3\\grey fantail\\XC613026-201212-144822 Rhipidura albiscapa brenchleyi QA T[song].wav...\n",
      "Converting C:\\Users\\pragya\\Downloads\\Iteration 3\\grey fantail\\XC613027-201214-105517 Rhipidura albiscapa brenchleyi QA T[call].mp3 to C:\\Users\\pragya\\Downloads\\Iteration 3\\grey fantail\\XC613027-201214-105517 Rhipidura albiscapa brenchleyi QA T[call].wav...\n",
      "Converting C:\\Users\\pragya\\Downloads\\Iteration 3\\grey fantail\\XC613071-201227-143416 Rhipidura albiscapa brenchleyi QA T[call].mp3 to C:\\Users\\pragya\\Downloads\\Iteration 3\\grey fantail\\XC613071-201227-143416 Rhipidura albiscapa brenchleyi QA T[call].wav...\n",
      "Converting C:\\Users\\pragya\\Downloads\\Iteration 3\\grey fantail\\XC613083-201227-053522 Rhipidura albiscapa brenchleyi QA T[song].mp3 to C:\\Users\\pragya\\Downloads\\Iteration 3\\grey fantail\\XC613083-201227-053522 Rhipidura albiscapa brenchleyi QA T[song].wav...\n",
      "Converting C:\\Users\\pragya\\Downloads\\Iteration 3\\grey fantail\\XC613087-201227-055158 Rhipidura albiscapa brenchleyi QA T[song] B[Coracina caledonica seiuncta,Trichoglossus haematodus massena].mp3 to C:\\Users\\pragya\\Downloads\\Iteration 3\\grey fantail\\XC613087-201227-055158 Rhipidura albiscapa brenchleyi QA T[song] B[Coracina caledonica seiuncta,Trichoglossus haematodus massena].wav...\n",
      "Converting C:\\Users\\pragya\\Downloads\\Iteration 3\\grey fantail\\XC641700-101007_11flowerpeckerthornbillandelseupperbarron.mp3 to C:\\Users\\pragya\\Downloads\\Iteration 3\\grey fantail\\XC641700-101007_11flowerpeckerthornbillandelseupperbarron.wav...\n",
      "Converting C:\\Users\\pragya\\Downloads\\Iteration 3\\grey fantail\\XC642929-Grey fan Kuyunba 16 May 2014 01.mp3 to C:\\Users\\pragya\\Downloads\\Iteration 3\\grey fantail\\XC642929-Grey fan Kuyunba 16 May 2014 01.wav...\n",
      "Converting C:\\Users\\pragya\\Downloads\\Iteration 3\\grey fantail\\XC642931-Grey Fan Kuyunba 16 May 2014 02.mp3 to C:\\Users\\pragya\\Downloads\\Iteration 3\\grey fantail\\XC642931-Grey Fan Kuyunba 16 May 2014 02.wav...\n",
      "Converting C:\\Users\\pragya\\Downloads\\Iteration 3\\grey fantail\\XC673207-Fantail_Grey1_M6AK-479_Ansons_Bay_Lagoon_Heath_AM1_22Nov20.mp3 to C:\\Users\\pragya\\Downloads\\Iteration 3\\grey fantail\\XC673207-Fantail_Grey1_M6AK-479_Ansons_Bay_Lagoon_Heath_AM1_22Nov20.wav...\n",
      "Converting C:\\Users\\pragya\\Downloads\\Iteration 3\\grey fantail\\XC673208-Fantail_Grey2_M6AK-479_Ansons_Bay_Lagoon_Heath_AM1_22Nov20.mp3 to C:\\Users\\pragya\\Downloads\\Iteration 3\\grey fantail\\XC673208-Fantail_Grey2_M6AK-479_Ansons_Bay_Lagoon_Heath_AM1_22Nov20.wav...\n",
      "Converting C:\\Users\\pragya\\Downloads\\Iteration 3\\grey fantail\\XC674019-Fantail_Grey1_M6MKH-255_Lune_Plain_Woodland_Dusk_18thNov20.mp3 to C:\\Users\\pragya\\Downloads\\Iteration 3\\grey fantail\\XC674019-Fantail_Grey1_M6MKH-255_Lune_Plain_Woodland_Dusk_18thNov20.wav...\n",
      "Converting C:\\Users\\pragya\\Downloads\\Iteration 3\\grey fantail\\XC674020-Fantail_Grey1_SDCY_144_Leven_Valley_PA_AM1_24Nov20.mp3 to C:\\Users\\pragya\\Downloads\\Iteration 3\\grey fantail\\XC674020-Fantail_Grey1_SDCY_144_Leven_Valley_PA_AM1_24Nov20.wav...\n",
      "Converting C:\\Users\\pragya\\Downloads\\Iteration 3\\grey fantail\\XC683419-2021_10_16 Rhipidura albsicapa1.mp3 to C:\\Users\\pragya\\Downloads\\Iteration 3\\grey fantail\\XC683419-2021_10_16 Rhipidura albsicapa1.wav...\n",
      "Converting C:\\Users\\pragya\\Downloads\\Iteration 3\\grey fantail\\XC691695-07Dec2021 Grey Fantail.mp3 to C:\\Users\\pragya\\Downloads\\Iteration 3\\grey fantail\\XC691695-07Dec2021 Grey Fantail.wav...\n",
      "Converting C:\\Users\\pragya\\Downloads\\Iteration 3\\grey fantail\\XC726966-Gray Fan.mp3 to C:\\Users\\pragya\\Downloads\\Iteration 3\\grey fantail\\XC726966-Gray Fan.wav...\n"
     ]
    }
   ],
   "source": [
    "for i in grey_fantail_filenames:\n",
    "    # Test the function\n",
    "    convert_to_wav(i)"
   ]
  },
  {
   "cell_type": "code",
   "execution_count": 39,
   "id": "a42625e4",
   "metadata": {},
   "outputs": [
    {
     "name": "stdout",
     "output_type": "stream",
     "text": [
      "Converting C:\\Users\\pragya\\Downloads\\Iteration 3\\noisy miner\\XC206629-noisy-miner-weddin1.mp3 to C:\\Users\\pragya\\Downloads\\Iteration 3\\noisy miner\\XC206629-noisy-miner-weddin1.wav...\n",
      "Converting C:\\Users\\pragya\\Downloads\\Iteration 3\\noisy miner\\XC233837-noisy-miner-calls-wb.mp3 to C:\\Users\\pragya\\Downloads\\Iteration 3\\noisy miner\\XC233837-noisy-miner-calls-wb.wav...\n",
      "Converting C:\\Users\\pragya\\Downloads\\Iteration 3\\noisy miner\\XC241028-LS_50055_NoisyMiner.mp3 to C:\\Users\\pragya\\Downloads\\Iteration 3\\noisy miner\\XC241028-LS_50055_NoisyMiner.wav...\n",
      "Converting C:\\Users\\pragya\\Downloads\\Iteration 3\\noisy miner\\XC269670-noisy-miner-CNP-2.mp3 to C:\\Users\\pragya\\Downloads\\Iteration 3\\noisy miner\\XC269670-noisy-miner-CNP-2.wav...\n",
      "Converting C:\\Users\\pragya\\Downloads\\Iteration 3\\noisy miner\\XC269671-noisy-miner-dawn-song-cnp5.mp3 to C:\\Users\\pragya\\Downloads\\Iteration 3\\noisy miner\\XC269671-noisy-miner-dawn-song-cnp5.wav...\n",
      "Converting C:\\Users\\pragya\\Downloads\\Iteration 3\\noisy miner\\XC269672-noisy-miner-CNP-1.mp3 to C:\\Users\\pragya\\Downloads\\Iteration 3\\noisy miner\\XC269672-noisy-miner-CNP-1.wav...\n",
      "Converting C:\\Users\\pragya\\Downloads\\Iteration 3\\noisy miner\\XC290092-bird call.mp3 to C:\\Users\\pragya\\Downloads\\Iteration 3\\noisy miner\\XC290092-bird call.wav...\n",
      "Converting C:\\Users\\pragya\\Downloads\\Iteration 3\\noisy miner\\XC327859-noisy-miner-calls-grnp2.mp3 to C:\\Users\\pragya\\Downloads\\Iteration 3\\noisy miner\\XC327859-noisy-miner-calls-grnp2.wav...\n",
      "Converting C:\\Users\\pragya\\Downloads\\Iteration 3\\noisy miner\\XC327860-noisy-miner-calls-grnp1.mp3 to C:\\Users\\pragya\\Downloads\\Iteration 3\\noisy miner\\XC327860-noisy-miner-calls-grnp1.wav...\n",
      "Converting C:\\Users\\pragya\\Downloads\\Iteration 3\\noisy miner\\XC355030-GMCLAC_2330-NoisyMiner-dawn-chorus.mp3 to C:\\Users\\pragya\\Downloads\\Iteration 3\\noisy miner\\XC355030-GMCLAC_2330-NoisyMiner-dawn-chorus.wav...\n",
      "Converting C:\\Users\\pragya\\Downloads\\Iteration 3\\noisy miner\\XC387136-NoisyMiner_WombeyAUS_161128_01.mp3 to C:\\Users\\pragya\\Downloads\\Iteration 3\\noisy miner\\XC387136-NoisyMiner_WombeyAUS_161128_01.wav...\n",
      "Converting C:\\Users\\pragya\\Downloads\\Iteration 3\\noisy miner\\XC434550-Miner_Noisy_MX274_Carnarvon_AMa_22ndAug18.mp3 to C:\\Users\\pragya\\Downloads\\Iteration 3\\noisy miner\\XC434550-Miner_Noisy_MX274_Carnarvon_AMa_22ndAug18.wav...\n",
      "Converting C:\\Users\\pragya\\Downloads\\Iteration 3\\noisy miner\\XC434551-Miner_Noisy_MX274_Carnarvon_AMb_22ndAug18.mp3 to C:\\Users\\pragya\\Downloads\\Iteration 3\\noisy miner\\XC434551-Miner_Noisy_MX274_Carnarvon_AMb_22ndAug18.wav...\n",
      "Converting C:\\Users\\pragya\\Downloads\\Iteration 3\\noisy miner\\XC434554-Miner_Noisy_MX274_Carnarvon_AMc_22ndAug18.mp3 to C:\\Users\\pragya\\Downloads\\Iteration 3\\noisy miner\\XC434554-Miner_Noisy_MX274_Carnarvon_AMc_22ndAug18.wav...\n",
      "Converting C:\\Users\\pragya\\Downloads\\Iteration 3\\noisy miner\\XC434555-Miner_Noisy_MX274_Carnarvon_AMd_22ndAug18.mp3 to C:\\Users\\pragya\\Downloads\\Iteration 3\\noisy miner\\XC434555-Miner_Noisy_MX274_Carnarvon_AMd_22ndAug18.wav...\n",
      "Converting C:\\Users\\pragya\\Downloads\\Iteration 3\\noisy miner\\XC459075-nmS_mp_pc_rl_arav_2019-02-25_070341431.mp3 to C:\\Users\\pragya\\Downloads\\Iteration 3\\noisy miner\\XC459075-nmS_mp_pc_rl_arav_2019-02-25_070341431.wav...\n",
      "Converting C:\\Users\\pragya\\Downloads\\Iteration 3\\noisy miner\\XC495756-MIXPRE-1277_Noisy Miner_20190811_Winspears.mp3 to C:\\Users\\pragya\\Downloads\\Iteration 3\\noisy miner\\XC495756-MIXPRE-1277_Noisy Miner_20190811_Winspears.wav...\n",
      "Converting C:\\Users\\pragya\\Downloads\\Iteration 3\\noisy miner\\XC501425-Noisy Miner begging 06_53_16.mp3 to C:\\Users\\pragya\\Downloads\\Iteration 3\\noisy miner\\XC501425-Noisy Miner begging 06_53_16.wav...\n",
      "Converting C:\\Users\\pragya\\Downloads\\Iteration 3\\noisy miner\\XC504336-2019.10.27 Noisy Miner Dawn (Excerpt).mp3 to C:\\Users\\pragya\\Downloads\\Iteration 3\\noisy miner\\XC504336-2019.wav...\n",
      "Converting C:\\Users\\pragya\\Downloads\\Iteration 3\\noisy miner\\XC560843-Noisy Miner and Blue-faced Honeyeater 13_52_26.mp3 to C:\\Users\\pragya\\Downloads\\Iteration 3\\noisy miner\\XC560843-Noisy Miner and Blue-faced Honeyeater 13_52_26.wav...\n",
      "Converting C:\\Users\\pragya\\Downloads\\Iteration 3\\noisy miner\\XC560844-Noisy Miner 13_52_26.mp3 to C:\\Users\\pragya\\Downloads\\Iteration 3\\noisy miner\\XC560844-Noisy Miner 13_52_26.wav...\n",
      "Converting C:\\Users\\pragya\\Downloads\\Iteration 3\\noisy miner\\XC564267-Noisy Miner 10_44_41.mp3 to C:\\Users\\pragya\\Downloads\\Iteration 3\\noisy miner\\XC564267-Noisy Miner 10_44_41.wav...\n",
      "Converting C:\\Users\\pragya\\Downloads\\Iteration 3\\noisy miner\\XC587000-Noisy Miner 11_09_27.mp3 to C:\\Users\\pragya\\Downloads\\Iteration 3\\noisy miner\\XC587000-Noisy Miner 11_09_27.wav...\n",
      "Converting C:\\Users\\pragya\\Downloads\\Iteration 3\\noisy miner\\XC593936-Noisy Miner 08_35_03.mp3 to C:\\Users\\pragya\\Downloads\\Iteration 3\\noisy miner\\XC593936-Noisy Miner 08_35_03.wav...\n",
      "Converting C:\\Users\\pragya\\Downloads\\Iteration 3\\noisy miner\\XC593937-Noisy Miner 09_02_40.mp3 to C:\\Users\\pragya\\Downloads\\Iteration 3\\noisy miner\\XC593937-Noisy Miner 09_02_40.wav...\n",
      "Converting C:\\Users\\pragya\\Downloads\\Iteration 3\\noisy miner\\XC626786-Noisy Miner Minnippi Q 1A (NR & Amp appl).mp3 to C:\\Users\\pragya\\Downloads\\Iteration 3\\noisy miner\\XC626786-Noisy Miner Minnippi Q 1A (NR & Amp appl).wav...\n",
      "Converting C:\\Users\\pragya\\Downloads\\Iteration 3\\noisy miner\\XC695203-Miner_Noisy1_M6AK422_Weddin_Seatons_Dam_Dusk_8thOct21.mp3 to C:\\Users\\pragya\\Downloads\\Iteration 3\\noisy miner\\XC695203-Miner_Noisy1_M6AK422_Weddin_Seatons_Dam_Dusk_8thOct21.wav...\n",
      "Converting C:\\Users\\pragya\\Downloads\\Iteration 3\\noisy miner\\XC695204-Miner_Noisy1_M6AK429_Weddin_Seatons_Dam_AM1_9thOct21.mp3 to C:\\Users\\pragya\\Downloads\\Iteration 3\\noisy miner\\XC695204-Miner_Noisy1_M6AK429_Weddin_Seatons_Dam_AM1_9thOct21.wav...\n",
      "Converting C:\\Users\\pragya\\Downloads\\Iteration 3\\noisy miner\\XC695205-Miner_Noisy1_M6MKH672_Weddin_Seaton_Farm_Butchebirds_AM_9thOct21.mp3 to C:\\Users\\pragya\\Downloads\\Iteration 3\\noisy miner\\XC695205-Miner_Noisy1_M6MKH672_Weddin_Seaton_Farm_Butchebirds_AM_9thOct21.wav...\n",
      "Converting C:\\Users\\pragya\\Downloads\\Iteration 3\\noisy miner\\XC695206-Miner_Noisy2_M6AK429_Weddin_Seatons_Dam_AM1_9thOct21.mp3 to C:\\Users\\pragya\\Downloads\\Iteration 3\\noisy miner\\XC695206-Miner_Noisy2_M6AK429_Weddin_Seatons_Dam_AM1_9thOct21.wav...\n",
      "Converting C:\\Users\\pragya\\Downloads\\Iteration 3\\noisy miner\\XC695207-Miner_Noisy4_M6AK429_Weddin_Seatons_Dam_AM1_9thOct21.mp3 to C:\\Users\\pragya\\Downloads\\Iteration 3\\noisy miner\\XC695207-Miner_Noisy4_M6AK429_Weddin_Seatons_Dam_AM1_9thOct21.wav...\n",
      "Converting C:\\Users\\pragya\\Downloads\\Iteration 3\\noisy miner\\XC695209-Miner_Noisy1_M6MKH670_Weddin_Seaton_Farm_Forest1_Dawn_9thOct21.mp3 to C:\\Users\\pragya\\Downloads\\Iteration 3\\noisy miner\\XC695209-Miner_Noisy1_M6MKH670_Weddin_Seaton_Farm_Forest1_Dawn_9thOct21.wav...\n",
      "Converting C:\\Users\\pragya\\Downloads\\Iteration 3\\noisy miner\\XC695211-Miner_Noisy1_SDEM219_Weddin_Seaton_Farm_Forest2_AM1_9thOct21.mp3 to C:\\Users\\pragya\\Downloads\\Iteration 3\\noisy miner\\XC695211-Miner_Noisy1_SDEM219_Weddin_Seaton_Farm_Forest2_AM1_9thOct21.wav...\n",
      "Converting C:\\Users\\pragya\\Downloads\\Iteration 3\\noisy miner\\XC722524-noisy miner juv 07_30_33.mp3 to C:\\Users\\pragya\\Downloads\\Iteration 3\\noisy miner\\XC722524-noisy miner juv 07_30_33.wav...\n",
      "Converting C:\\Users\\pragya\\Downloads\\Iteration 3\\noisy miner\\XC740464-noisy minermp3 XC.mp3 to C:\\Users\\pragya\\Downloads\\Iteration 3\\noisy miner\\XC740464-noisy minermp3 XC.wav...\n"
     ]
    }
   ],
   "source": [
    "for i in noisy_miner_filenames:\n",
    "    # Test the function\n",
    "    convert_to_wav(i)"
   ]
  },
  {
   "cell_type": "code",
   "execution_count": 40,
   "id": "e3cbd424",
   "metadata": {},
   "outputs": [
    {
     "name": "stdout",
     "output_type": "stream",
     "text": [
      "Converting C:\\Users\\pragya\\Downloads\\Iteration 3\\silvereye\\XC395990-1249_Silvereye_22-11-2017_Campbell.mp3 to C:\\Users\\pragya\\Downloads\\Iteration 3\\silvereye\\XC395990-1249_Silvereye_22-11-2017_Campbell.wav...\n",
      "Converting C:\\Users\\pragya\\Downloads\\Iteration 3\\silvereye\\XC405671-180202_0167_Silvereye.mp3 to C:\\Users\\pragya\\Downloads\\Iteration 3\\silvereye\\XC405671-180202_0167_Silvereye.wav...\n",
      "Converting C:\\Users\\pragya\\Downloads\\Iteration 3\\silvereye\\XC405672-180202_0168_Fantail.mp3 to C:\\Users\\pragya\\Downloads\\Iteration 3\\silvereye\\XC405672-180202_0168_Fantail.wav...\n",
      "Converting C:\\Users\\pragya\\Downloads\\Iteration 3\\silvereye\\XC436144-Silvereye_SD525_Rainforest_Campground_DawnA_28thAug18.mp3 to C:\\Users\\pragya\\Downloads\\Iteration 3\\silvereye\\XC436144-Silvereye_SD525_Rainforest_Campground_DawnA_28thAug18.wav...\n",
      "Converting C:\\Users\\pragya\\Downloads\\Iteration 3\\silvereye\\XC460814-Silvereye_MX376_Coorongooba1_5thMarch19.mp3 to C:\\Users\\pragya\\Downloads\\Iteration 3\\silvereye\\XC460814-Silvereye_MX376_Coorongooba1_5thMarch19.wav...\n",
      "Converting C:\\Users\\pragya\\Downloads\\Iteration 3\\silvereye\\XC490799-Silvereye_Tasmanian_SD_006a_Dharawal_5thAug19.mp3 to C:\\Users\\pragya\\Downloads\\Iteration 3\\silvereye\\XC490799-Silvereye_Tasmanian_SD_006a_Dharawal_5thAug19.wav...\n",
      "Converting C:\\Users\\pragya\\Downloads\\Iteration 3\\silvereye\\XC501659-MIXPRE-1545_Silver Eye_20191009_Waterhouse.mp3 to C:\\Users\\pragya\\Downloads\\Iteration 3\\silvereye\\XC501659-MIXPRE-1545_Silver Eye_20191009_Waterhouse.wav...\n",
      "Converting C:\\Users\\pragya\\Downloads\\Iteration 3\\silvereye\\XC502716-MIXPRE-1624_Silvereye_20191016_Warrawee.mp3 to C:\\Users\\pragya\\Downloads\\Iteration 3\\silvereye\\XC502716-MIXPRE-1624_Silvereye_20191016_Warrawee.wav...\n",
      "Converting C:\\Users\\pragya\\Downloads\\Iteration 3\\silvereye\\XC503535-MIXPRE-1640_Silver eye_20191018_Don Heads.mp3 to C:\\Users\\pragya\\Downloads\\Iteration 3\\silvereye\\XC503535-MIXPRE-1640_Silver eye_20191018_Don Heads.wav...\n",
      "Converting C:\\Users\\pragya\\Downloads\\Iteration 3\\silvereye\\XC504651-MIXPRE-1780_Silvereye_20191029_Narawntapu.mp3 to C:\\Users\\pragya\\Downloads\\Iteration 3\\silvereye\\XC504651-MIXPRE-1780_Silvereye_20191029_Narawntapu.wav...\n",
      "Converting C:\\Users\\pragya\\Downloads\\Iteration 3\\silvereye\\XC516470-Silvereye 06_13_48.mp3 to C:\\Users\\pragya\\Downloads\\Iteration 3\\silvereye\\XC516470-Silvereye 06_13_48.wav...\n",
      "Converting C:\\Users\\pragya\\Downloads\\Iteration 3\\silvereye\\XC525989-Silvereye_FFCottage_MixPre-230_14thJan20.mp3 to C:\\Users\\pragya\\Downloads\\Iteration 3\\silvereye\\XC525989-Silvereye_FFCottage_MixPre-230_14thJan20.wav...\n",
      "Converting C:\\Users\\pragya\\Downloads\\Iteration 3\\silvereye\\XC526619-Silvereye Pureora 20200121 0700u MixPre-252.mp3 to C:\\Users\\pragya\\Downloads\\Iteration 3\\silvereye\\XC526619-Silvereye Pureora 20200121 0700u MixPre-252.wav...\n",
      "Converting C:\\Users\\pragya\\Downloads\\Iteration 3\\silvereye\\XC537896-R05_0207_Silvereye call_20190324_Mangere.mp3 to C:\\Users\\pragya\\Downloads\\Iteration 3\\silvereye\\XC537896-R05_0207_Silvereye call_20190324_Mangere.wav...\n",
      "Converting C:\\Users\\pragya\\Downloads\\Iteration 3\\silvereye\\XC562518-NZ-180923-204753_MN_Silvereye.mp3 to C:\\Users\\pragya\\Downloads\\Iteration 3\\silvereye\\XC562518-NZ-180923-204753_MN_Silvereye.wav...\n",
      "Converting C:\\Users\\pragya\\Downloads\\Iteration 3\\silvereye\\XC580383-Silvereye 12_12_18.mp3 to C:\\Users\\pragya\\Downloads\\Iteration 3\\silvereye\\XC580383-Silvereye 12_12_18.wav...\n",
      "Converting C:\\Users\\pragya\\Downloads\\Iteration 3\\silvereye\\XC594826-201009-050740 Zosterops lateralis.mp3 to C:\\Users\\pragya\\Downloads\\Iteration 3\\silvereye\\XC594826-201009-050740 Zosterops lateralis.wav...\n",
      "Converting C:\\Users\\pragya\\Downloads\\Iteration 3\\silvereye\\XC599379-Silvereye 06_29_27.mp3 to C:\\Users\\pragya\\Downloads\\Iteration 3\\silvereye\\XC599379-Silvereye 06_29_27.wav...\n",
      "Converting C:\\Users\\pragya\\Downloads\\Iteration 3\\silvereye\\XC603330-Zosterops lateralis westernensis_iw_Churchill Is_mp089_20201103.mp3 to C:\\Users\\pragya\\Downloads\\Iteration 3\\silvereye\\XC603330-Zosterops lateralis westernensis_iw_Churchill Is_mp089_20201103.wav...\n",
      "Converting C:\\Users\\pragya\\Downloads\\Iteration 3\\silvereye\\XC608459-Silvereye1_M3TL-718_Tas_Lune_Area_17thNov20.mp3 to C:\\Users\\pragya\\Downloads\\Iteration 3\\silvereye\\XC608459-Silvereye1_M3TL-718_Tas_Lune_Area_17thNov20.wav...\n",
      "Converting C:\\Users\\pragya\\Downloads\\Iteration 3\\silvereye\\XC612997-201209-125034 Zosterops lateralis vatensis QA T[call].mp3 to C:\\Users\\pragya\\Downloads\\Iteration 3\\silvereye\\XC612997-201209-125034 Zosterops lateralis vatensis QA T[call].wav...\n",
      "Converting C:\\Users\\pragya\\Downloads\\Iteration 3\\silvereye\\XC613007-201210-110310 Zosterops lateralis vatensis QA T[call].mp3 to C:\\Users\\pragya\\Downloads\\Iteration 3\\silvereye\\XC613007-201210-110310 Zosterops lateralis vatensis QA T[call].wav...\n",
      "Converting C:\\Users\\pragya\\Downloads\\Iteration 3\\silvereye\\XC613012-201210-123925 Zosterops lateralis vatensis QA T[song].mp3 to C:\\Users\\pragya\\Downloads\\Iteration 3\\silvereye\\XC613012-201210-123925 Zosterops lateralis vatensis QA T[song].wav...\n",
      "Converting C:\\Users\\pragya\\Downloads\\Iteration 3\\silvereye\\XC613025-201211-112759 Zosterops lateralis vatensis QA T[alarm call].mp3 to C:\\Users\\pragya\\Downloads\\Iteration 3\\silvereye\\XC613025-201211-112759 Zosterops lateralis vatensis QA T[alarm call].wav...\n",
      "Converting C:\\Users\\pragya\\Downloads\\Iteration 3\\silvereye\\XC613047-201217-060315 Zosterops lateralis vatensis QA T[flight call].mp3 to C:\\Users\\pragya\\Downloads\\Iteration 3\\silvereye\\XC613047-201217-060315 Zosterops lateralis vatensis QA T[flight call].wav...\n",
      "Converting C:\\Users\\pragya\\Downloads\\Iteration 3\\silvereye\\XC613057-201224-045514 Zosterops lateralis vatensis QA T[song].mp3 to C:\\Users\\pragya\\Downloads\\Iteration 3\\silvereye\\XC613057-201224-045514 Zosterops lateralis vatensis QA T[song].wav...\n",
      "Converting C:\\Users\\pragya\\Downloads\\Iteration 3\\silvereye\\XC629347-101012_08posmistoebird.mp3 to C:\\Users\\pragya\\Downloads\\Iteration 3\\silvereye\\XC629347-101012_08posmistoebird.wav...\n",
      "Converting C:\\Users\\pragya\\Downloads\\Iteration 3\\silvereye\\XC673197-Silvereye1_M6AK-480_Ansons_Bay_Lagoon_Heath_AM2_22Nov20.mp3 to C:\\Users\\pragya\\Downloads\\Iteration 3\\silvereye\\XC673197-Silvereye1_M6AK-480_Ansons_Bay_Lagoon_Heath_AM2_22Nov20.wav...\n",
      "Converting C:\\Users\\pragya\\Downloads\\Iteration 3\\silvereye\\XC674038-Silvereye1_SDCY_125_Lune_Plain_Woodland_Dawn_18thNov20.mp3 to C:\\Users\\pragya\\Downloads\\Iteration 3\\silvereye\\XC674038-Silvereye1_SDCY_125_Lune_Plain_Woodland_Dawn_18thNov20.wav...\n",
      "Converting C:\\Users\\pragya\\Downloads\\Iteration 3\\silvereye\\XC674039-Silvereye1_SDCY_136_Ida_Bay_Woodland_AM2_19thNov20.mp3 to C:\\Users\\pragya\\Downloads\\Iteration 3\\silvereye\\XC674039-Silvereye1_SDCY_136_Ida_Bay_Woodland_AM2_19thNov20.wav...\n",
      "Converting C:\\Users\\pragya\\Downloads\\Iteration 3\\silvereye\\XC674040-Silvereye2_SDCY_137_Ida_Bay_Woodland_AM3_19thNov20.mp3 to C:\\Users\\pragya\\Downloads\\Iteration 3\\silvereye\\XC674040-Silvereye2_SDCY_137_Ida_Bay_Woodland_AM3_19thNov20.wav...\n",
      "Converting C:\\Users\\pragya\\Downloads\\Iteration 3\\silvereye\\XC717687-15-Silvereye.mp3 to C:\\Users\\pragya\\Downloads\\Iteration 3\\silvereye\\XC717687-15-Silvereye.wav...\n",
      "Converting C:\\Users\\pragya\\Downloads\\Iteration 3\\silvereye\\XC727881-210205_0052 Silvereye Green Is.mp3 to C:\\Users\\pragya\\Downloads\\Iteration 3\\silvereye\\XC727881-210205_0052 Silvereye Green Is.wav...\n",
      "Converting C:\\Users\\pragya\\Downloads\\Iteration 3\\silvereye\\XC748850-ZOOM0007_TrLR silvereye.mp3 to C:\\Users\\pragya\\Downloads\\Iteration 3\\silvereye\\XC748850-ZOOM0007_TrLR silvereye.wav...\n"
     ]
    }
   ],
   "source": [
    "for i in silvereye_filenames:\n",
    "    # Test the function\n",
    "    convert_to_wav(i)"
   ]
  },
  {
   "cell_type": "code",
   "execution_count": 41,
   "id": "b6891465",
   "metadata": {},
   "outputs": [
    {
     "name": "stdout",
     "output_type": "stream",
     "text": [
      "Converting C:\\Users\\pragya\\Downloads\\Iteration 3\\sulphur crested cockatoo\\XC529187-Cockatoo_Sulphur-crested2_M6MKH-163_Pond_Cottage_Dawn_20thJan20.mp3 to C:\\Users\\pragya\\Downloads\\Iteration 3\\sulphur crested cockatoo\\XC529187-Cockatoo_Sulphur-crested2_M6MKH-163_Pond_Cottage_Dawn_20thJan20.wav...\n",
      "Converting C:\\Users\\pragya\\Downloads\\Iteration 3\\sulphur crested cockatoo\\XC557637-Cacatua galerita triton_iw_100603_08.mp3 to C:\\Users\\pragya\\Downloads\\Iteration 3\\sulphur crested cockatoo\\XC557637-Cacatua galerita triton_iw_100603_08.wav...\n",
      "Converting C:\\Users\\pragya\\Downloads\\Iteration 3\\sulphur crested cockatoo\\XC558578-Cacatua galerita triton_iw_110225_02.mp3 to C:\\Users\\pragya\\Downloads\\Iteration 3\\sulphur crested cockatoo\\XC558578-Cacatua galerita triton_iw_110225_02.wav...\n",
      "Converting C:\\Users\\pragya\\Downloads\\Iteration 3\\sulphur crested cockatoo\\XC566246-0_MIXPRE-2630_Sulphur Crested Cuckatoo_20200607_Paton Park Ulverstone.mp3 to C:\\Users\\pragya\\Downloads\\Iteration 3\\sulphur crested cockatoo\\XC566246-0_MIXPRE-2630_Sulphur Crested Cuckatoo_20200607_Paton Park Ulverstone.wav...\n",
      "Converting C:\\Users\\pragya\\Downloads\\Iteration 3\\sulphur crested cockatoo\\XC566248-0_MIXPRE-2631_Sulphur Crested Cockatoo_20200607_Paton Park Ulverstone.mp3 to C:\\Users\\pragya\\Downloads\\Iteration 3\\sulphur crested cockatoo\\XC566248-0_MIXPRE-2631_Sulphur Crested Cockatoo_20200607_Paton Park Ulverstone.wav...\n",
      "Converting C:\\Users\\pragya\\Downloads\\Iteration 3\\sulphur crested cockatoo\\XC569773-0_MIXPRE-2714_Sulphur-crested Cockatoo_20200618_Ferndene.mp3 to C:\\Users\\pragya\\Downloads\\Iteration 3\\sulphur crested cockatoo\\XC569773-0_MIXPRE-2714_Sulphur-crested Cockatoo_20200618_Ferndene.wav...\n",
      "Converting C:\\Users\\pragya\\Downloads\\Iteration 3\\sulphur crested cockatoo\\XC569774-0_MIXPRE-2715_Sulphur-crested Cockatoo_20200618_Ferndene.mp3 to C:\\Users\\pragya\\Downloads\\Iteration 3\\sulphur crested cockatoo\\XC569774-0_MIXPRE-2715_Sulphur-crested Cockatoo_20200618_Ferndene.wav...\n",
      "Converting C:\\Users\\pragya\\Downloads\\Iteration 3\\sulphur crested cockatoo\\XC569801-0_MIXPRE-2716_Sulphur-crested Cockatoo_20200618_Ferndene.mp3 to C:\\Users\\pragya\\Downloads\\Iteration 3\\sulphur crested cockatoo\\XC569801-0_MIXPRE-2716_Sulphur-crested Cockatoo_20200618_Ferndene.wav...\n",
      "Converting C:\\Users\\pragya\\Downloads\\Iteration 3\\sulphur crested cockatoo\\XC569803-0_MIXPRE-2717_Sulphur-crested Cockatoo_20200618_Ferndene.mp3 to C:\\Users\\pragya\\Downloads\\Iteration 3\\sulphur crested cockatoo\\XC569803-0_MIXPRE-2717_Sulphur-crested Cockatoo_20200618_Ferndene.wav...\n",
      "Converting C:\\Users\\pragya\\Downloads\\Iteration 3\\sulphur crested cockatoo\\XC569805-0_MIXPRE-2718_Sulphur-crested Cockatoo_20200618_Ferndene.mp3 to C:\\Users\\pragya\\Downloads\\Iteration 3\\sulphur crested cockatoo\\XC569805-0_MIXPRE-2718_Sulphur-crested Cockatoo_20200618_Ferndene.wav...\n",
      "Converting C:\\Users\\pragya\\Downloads\\Iteration 3\\sulphur crested cockatoo\\XC577214-Cockatoo_Sulphur-crested1_M6AK-389_Aloes_River_Dawn_28thJun20_Good.mp3 to C:\\Users\\pragya\\Downloads\\Iteration 3\\sulphur crested cockatoo\\XC577214-Cockatoo_Sulphur-crested1_M6AK-389_Aloes_River_Dawn_28thJun20_Good.wav...\n",
      "Converting C:\\Users\\pragya\\Downloads\\Iteration 3\\sulphur crested cockatoo\\XC577215-Cockatoo_Sulphur-crested2_M6AK-389_Aloes_River_Dawn_28thJun20_Good.mp3 to C:\\Users\\pragya\\Downloads\\Iteration 3\\sulphur crested cockatoo\\XC577215-Cockatoo_Sulphur-crested2_M6AK-389_Aloes_River_Dawn_28thJun20_Good.wav...\n",
      "Converting C:\\Users\\pragya\\Downloads\\Iteration 3\\sulphur crested cockatoo\\XC577216-Cockatoo_Sulphur-crested7_M6LOM-185_Coggers_Waterhole_Dusk_27thJun20.mp3 to C:\\Users\\pragya\\Downloads\\Iteration 3\\sulphur crested cockatoo\\XC577216-Cockatoo_Sulphur-crested7_M6LOM-185_Coggers_Waterhole_Dusk_27thJun20.wav...\n",
      "Converting C:\\Users\\pragya\\Downloads\\Iteration 3\\sulphur crested cockatoo\\XC582479-VOC_190827-0861 Sulphur-crested Cockatoo EDITED BIG.mp3 to C:\\Users\\pragya\\Downloads\\Iteration 3\\sulphur crested cockatoo\\XC582479-VOC_190827-0861 Sulphur-crested Cockatoo EDITED BIG.wav...\n",
      "Converting C:\\Users\\pragya\\Downloads\\Iteration 3\\sulphur crested cockatoo\\XC586987-Sulphur-crested Cockatoo 16_08_14.mp3 to C:\\Users\\pragya\\Downloads\\Iteration 3\\sulphur crested cockatoo\\XC586987-Sulphur-crested Cockatoo 16_08_14.wav...\n",
      "Converting C:\\Users\\pragya\\Downloads\\Iteration 3\\sulphur crested cockatoo\\XC589235-Sulphur-crested-Cockatoo-Victoria-CR.mp3 to C:\\Users\\pragya\\Downloads\\Iteration 3\\sulphur crested cockatoo\\XC589235-Sulphur-crested-Cockatoo-Victoria-CR.wav...\n",
      "Converting C:\\Users\\pragya\\Downloads\\Iteration 3\\sulphur crested cockatoo\\XC594995-S-CC-4211d01.mp3 to C:\\Users\\pragya\\Downloads\\Iteration 3\\sulphur crested cockatoo\\XC594995-S-CC-4211d01.wav...\n",
      "Converting C:\\Users\\pragya\\Downloads\\Iteration 3\\sulphur crested cockatoo\\XC609285-Cockatoo_Sulphur-crested1_M6AK-400_Dunns_Swamp_South_Edge_AM2_30thJun20.mp3 to C:\\Users\\pragya\\Downloads\\Iteration 3\\sulphur crested cockatoo\\XC609285-Cockatoo_Sulphur-crested1_M6AK-400_Dunns_Swamp_South_Edge_AM2_30thJun20.wav...\n",
      "Converting C:\\Users\\pragya\\Downloads\\Iteration 3\\sulphur crested cockatoo\\XC626778-101005_16 scco heading to roost.mp3 to C:\\Users\\pragya\\Downloads\\Iteration 3\\sulphur crested cockatoo\\XC626778-101005_16 scco heading to roost.wav...\n",
      "Converting C:\\Users\\pragya\\Downloads\\Iteration 3\\sulphur crested cockatoo\\XC630010-101006_07 parrot.mp3 to C:\\Users\\pragya\\Downloads\\Iteration 3\\sulphur crested cockatoo\\XC630010-101006_07 parrot.wav...\n",
      "Converting C:\\Users\\pragya\\Downloads\\Iteration 3\\sulphur crested cockatoo\\XC631317-Cockatoo_Triton1_M3AK-432_Waigeo_BOP_Trail_Dawn_27thAug19.mp3 to C:\\Users\\pragya\\Downloads\\Iteration 3\\sulphur crested cockatoo\\XC631317-Cockatoo_Triton1_M3AK-432_Waigeo_BOP_Trail_Dawn_27thAug19.wav...\n",
      "Converting C:\\Users\\pragya\\Downloads\\Iteration 3\\sulphur crested cockatoo\\XC631318-Cockatoo_Triton2_M6MKH-349_Waigeo_WilsonsBOP_Hide_AM_27thAug19.mp3 to C:\\Users\\pragya\\Downloads\\Iteration 3\\sulphur crested cockatoo\\XC631318-Cockatoo_Triton2_M6MKH-349_Waigeo_WilsonsBOP_Hide_AM_27thAug19.wav...\n",
      "Converting C:\\Users\\pragya\\Downloads\\Iteration 3\\sulphur crested cockatoo\\XC634319-101006_20scco .mp3 to C:\\Users\\pragya\\Downloads\\Iteration 3\\sulphur crested cockatoo\\XC634319-101006_20scco .wav...\n",
      "Converting C:\\Users\\pragya\\Downloads\\Iteration 3\\sulphur crested cockatoo\\XC634694-Cockatoo_Sulphur-crested1_M6MKH-330_Malagufuk_Main_Trail_Mound_AM_20thAug19.mp3 to C:\\Users\\pragya\\Downloads\\Iteration 3\\sulphur crested cockatoo\\XC634694-Cockatoo_Sulphur-crested1_M6MKH-330_Malagufuk_Main_Trail_Mound_AM_20thAug19.wav...\n",
      "Converting C:\\Users\\pragya\\Downloads\\Iteration 3\\sulphur crested cockatoo\\XC641518-SCC 07_14_22.mp3 to C:\\Users\\pragya\\Downloads\\Iteration 3\\sulphur crested cockatoo\\XC641518-SCC 07_14_22.wav...\n",
      "Converting C:\\Users\\pragya\\Downloads\\Iteration 3\\sulphur crested cockatoo\\XC646140-scc 06_55_56.mp3 to C:\\Users\\pragya\\Downloads\\Iteration 3\\sulphur crested cockatoo\\XC646140-scc 06_55_56.wav...\n",
      "Converting C:\\Users\\pragya\\Downloads\\Iteration 3\\sulphur crested cockatoo\\XC647197-Sulphur-crested Cockatoo.mp3 to C:\\Users\\pragya\\Downloads\\Iteration 3\\sulphur crested cockatoo\\XC647197-Sulphur-crested Cockatoo.wav...\n",
      "Converting C:\\Users\\pragya\\Downloads\\Iteration 3\\sulphur crested cockatoo\\XC658929-sulphur-crested cockatoo 07_49_26.mp3 to C:\\Users\\pragya\\Downloads\\Iteration 3\\sulphur crested cockatoo\\XC658929-sulphur-crested cockatoo 07_49_26.wav...\n",
      "Converting C:\\Users\\pragya\\Downloads\\Iteration 3\\sulphur crested cockatoo\\XC658941-sulphur-crested cockatoo 18_21_27.mp3 to C:\\Users\\pragya\\Downloads\\Iteration 3\\sulphur crested cockatoo\\XC658941-sulphur-crested cockatoo 18_21_27.wav...\n",
      "Converting C:\\Users\\pragya\\Downloads\\Iteration 3\\sulphur crested cockatoo\\XC663325-sulphur-crested cockatoo 06_56_05.mp3 to C:\\Users\\pragya\\Downloads\\Iteration 3\\sulphur crested cockatoo\\XC663325-sulphur-crested cockatoo 06_56_05.wav...\n",
      "Converting C:\\Users\\pragya\\Downloads\\Iteration 3\\sulphur crested cockatoo\\XC663326-sulphur-crested cockatoo 07_29_43.mp3 to C:\\Users\\pragya\\Downloads\\Iteration 3\\sulphur crested cockatoo\\XC663326-sulphur-crested cockatoo 07_29_43.wav...\n",
      "Converting C:\\Users\\pragya\\Downloads\\Iteration 3\\sulphur crested cockatoo\\XC669123-scc 07_54_14.mp3 to C:\\Users\\pragya\\Downloads\\Iteration 3\\sulphur crested cockatoo\\XC669123-scc 07_54_14.wav...\n"
     ]
    },
    {
     "name": "stdout",
     "output_type": "stream",
     "text": [
      "Converting C:\\Users\\pragya\\Downloads\\Iteration 3\\sulphur crested cockatoo\\XC677314-2021_09_29 Cactua galerita2.mp3 to C:\\Users\\pragya\\Downloads\\Iteration 3\\sulphur crested cockatoo\\XC677314-2021_09_29 Cactua galerita2.wav...\n",
      "Converting C:\\Users\\pragya\\Downloads\\Iteration 3\\sulphur crested cockatoo\\XC682850-scc 07_35_15.mp3 to C:\\Users\\pragya\\Downloads\\Iteration 3\\sulphur crested cockatoo\\XC682850-scc 07_35_15.wav...\n",
      "Converting C:\\Users\\pragya\\Downloads\\Iteration 3\\sulphur crested cockatoo\\XC692379-sulphur-crested cockatoo 07_21_05.mp3 to C:\\Users\\pragya\\Downloads\\Iteration 3\\sulphur crested cockatoo\\XC692379-sulphur-crested cockatoo 07_21_05.wav...\n"
     ]
    }
   ],
   "source": [
    "for i in sulphur_crested_cockatoo_filenames:\n",
    "    # Test the function\n",
    "    convert_to_wav(i)"
   ]
  },
  {
   "cell_type": "code",
   "execution_count": 42,
   "id": "931c6431",
   "metadata": {},
   "outputs": [
    {
     "name": "stdout",
     "output_type": "stream",
     "text": [
      "Converting C:\\Users\\pragya\\Downloads\\Iteration 3\\cats\\8d82b5_Cat_Purring_Sound_FX.mp3 to C:\\Users\\pragya\\Downloads\\Iteration 3\\cats\\8d82b5_Cat_Purring_Sound_FX.wav...\n",
      "Converting C:\\Users\\pragya\\Downloads\\Iteration 3\\cats\\a1.mp3 to C:\\Users\\pragya\\Downloads\\Iteration 3\\cats\\a1.wav...\n",
      "Converting C:\\Users\\pragya\\Downloads\\Iteration 3\\cats\\Cat-Meow-1.mp3 to C:\\Users\\pragya\\Downloads\\Iteration 3\\cats\\Cat-Meow-1.wav...\n",
      "Converting C:\\Users\\pragya\\Downloads\\Iteration 3\\cats\\ltlp_012.mp3 to C:\\Users\\pragya\\Downloads\\Iteration 3\\cats\\ltlp_012.wav...\n",
      "Converting C:\\Users\\pragya\\Downloads\\Iteration 3\\cats\\Quick-fight.mp3 to C:\\Users\\pragya\\Downloads\\Iteration 3\\cats\\Quick-fight.wav...\n"
     ]
    }
   ],
   "source": [
    "for i in cat_filenames:\n",
    "    # Test the function\n",
    "    convert_to_wav(i)"
   ]
  },
  {
   "cell_type": "code",
   "execution_count": 43,
   "id": "f1b33b1f",
   "metadata": {},
   "outputs": [
    {
     "name": "stdout",
     "output_type": "stream",
     "text": [
      "Converting C:\\Users\\pragya\\Downloads\\Iteration 3\\dogs\\5-1.mp3 to C:\\Users\\pragya\\Downloads\\Iteration 3\\dogs\\5-1.wav...\n",
      "Converting C:\\Users\\pragya\\Downloads\\Iteration 3\\dogs\\ernie1.mp3 to C:\\Users\\pragya\\Downloads\\Iteration 3\\dogs\\ernie1.wav...\n",
      "Converting C:\\Users\\pragya\\Downloads\\Iteration 3\\dogs\\growl.mp3 to C:\\Users\\pragya\\Downloads\\Iteration 3\\dogs\\growl.wav...\n",
      "Converting C:\\Users\\pragya\\Downloads\\Iteration 3\\dogs\\nightdog.mp3 to C:\\Users\\pragya\\Downloads\\Iteration 3\\dogs\\nightdog.wav...\n"
     ]
    }
   ],
   "source": [
    "for i in dog_filenames:\n",
    "    # Test the function\n",
    "    convert_to_wav(i)"
   ]
  },
  {
   "cell_type": "markdown",
   "id": "f3ccbebb",
   "metadata": {},
   "source": [
    "_______________________________________________________________________________________________________________________________"
   ]
  },
  {
   "cell_type": "markdown",
   "id": "f63fa76f",
   "metadata": {},
   "source": [
    "## CLEANING AND MERGING DATA"
   ]
  },
  {
   "cell_type": "code",
   "execution_count": 44,
   "id": "5022b582",
   "metadata": {},
   "outputs": [],
   "source": [
    "import glob\n",
    "new_holland_df = pd.DataFrame()\n",
    "new_holland_df['links'] = glob.glob('C:\\\\Users\\\\pragya\\\\Downloads\\\\Iteration 3\\\\new holland honeyeater\\\\*.wav')\n",
    "new_holland_df['specie'] = \"New Holland Honeyeater\"\n",
    "\n",
    "brown_headed_df = pd.DataFrame()\n",
    "brown_headed_df['links'] = glob.glob('C:\\\\Users\\\\pragya\\\\Downloads\\\\Iteration 3\\\\brown headed honeyeater\\\\*.wav')\n",
    "brown_headed_df['specie'] = \"Brown Headed Honeyeater\"\n",
    "\n",
    "white_napped_df = pd.DataFrame()\n",
    "white_napped_df['links'] = glob.glob('C:\\\\Users\\\\pragya\\\\Downloads\\\\Iteration 3\\\\white naped honeyeater\\\\*.wav')\n",
    "white_napped_df['specie'] = \"White Napped Honeyeater\"\n",
    "\n",
    "# random_df = pd.DataFrame()\n",
    "# random_df['links'] = glob.glob('C:\\\\Users\\\\pragya\\\\Downloads\\\\Iteration 2\\\\Random Honeyeaters\\\\*.wav')\n",
    "# random_df['specie'] = \"Not Specified\"\n",
    "\n",
    "australian_king_parrot_df = pd.DataFrame()\n",
    "australian_king_parrot_df['links'] = glob.glob(\"C:\\\\Users\\\\pragya\\\\Downloads\\\\Iteration 3\\\\australian king parrot\\\\*.wav\")\n",
    "australian_king_parrot_df['specie'] = \"Australian King Parrot\"\n",
    "\n",
    "australian_magpie_df = pd.DataFrame()\n",
    "australian_magpie_df['links'] = glob.glob(\"C:\\\\Users\\\\pragya\\\\Downloads\\\\Iteration 3\\\\australian magpie\\\\*.wav\")\n",
    "australian_magpie_df['specie'] = \"Australian Magpie\"\n",
    "\n",
    "australian_raven_df = pd.DataFrame()\n",
    "australian_raven_df['links'] = glob.glob(\"C:\\\\Users\\\\pragya\\\\Downloads\\\\Iteration 3\\\\australian raven\\\\*.wav\")\n",
    "australian_raven_df['specie'] = \"Australian Raven\"\n",
    "\n",
    "crested_pigeon_df = pd.DataFrame()\n",
    "crested_pigeon_df['links'] = glob.glob(\"C:\\\\Users\\\\pragya\\\\Downloads\\\\Iteration 3\\\\crested pigeon\\\\*.wav\")\n",
    "crested_pigeon_df['specie'] = \"Crested Pigeon\"\n",
    "\n",
    "eastern_spinebill_df = pd.DataFrame()\n",
    "eastern_spinebill_df['links'] = glob.glob(\"C:\\\\Users\\\\pragya\\\\Downloads\\\\Iteration 3\\\\eastern spinebill\\\\*.wav\")\n",
    "eastern_spinebill_df['specie'] = \"Eastern Spinebill\"\n",
    "\n",
    "grey_butcherbird_df = pd.DataFrame()\n",
    "grey_butcherbird_df['links'] = glob.glob(\"C:\\\\Users\\\\pragya\\\\Downloads\\\\Iteration 3\\\\grey butcherbird\\\\*.wav\")\n",
    "grey_butcherbird_df['specie'] = \"Grey Butcherbird\"\n",
    "\n",
    "grey_fantail_df = pd.DataFrame()\n",
    "grey_fantail_df['links'] = glob.glob(\"C:\\\\Users\\\\pragya\\\\Downloads\\\\Iteration 3\\\\grey fantail\\\\*.wav\")\n",
    "grey_fantail_df['specie'] = \"Grey Fantail\"\n",
    "\n",
    "noisy_miner_df = pd.DataFrame()\n",
    "noisy_miner_df['links'] = glob.glob(\"C:\\\\Users\\\\pragya\\\\Downloads\\\\Iteration 3\\\\noisy miner\\\\*.wav\")\n",
    "noisy_miner_df['specie'] = \"Noisy Miner\"\n",
    "\n",
    "silvereye_df = pd.DataFrame()\n",
    "silvereye_df['links'] = glob.glob(\"C:\\\\Users\\\\pragya\\\\Downloads\\\\Iteration 3\\\\silvereye\\\\*.wav\")\n",
    "silvereye_df['specie'] = \"Silvereye\"\n",
    "\n",
    "sulphur_crested_cockatoo_df = pd.DataFrame()\n",
    "sulphur_crested_cockatoo_df['links'] = glob.glob(\"C:\\\\Users\\\\pragya\\\\Downloads\\\\Iteration 3\\\\sulphur crested cockatoo\\\\*.wav\")\n",
    "sulphur_crested_cockatoo_df['specie'] = \"Sulphur Crested Cockatoo\"\n",
    "\n",
    "cat_df = pd.DataFrame()\n",
    "cat_df['links'] = glob.glob(\"C:\\\\Users\\\\pragya\\\\Downloads\\\\Iteration 3\\\\cats\\\\*.wav\")\n",
    "cat_df['specie'] = \"Cats\"\n",
    "\n",
    "dog_df = pd.DataFrame()\n",
    "dog_df['links'] = glob.glob(\"C:\\\\Users\\\\pragya\\\\Downloads\\\\Iteration 3\\\\dogs\\\\*.wav\")\n",
    "dog_df['specie'] = \"Dogs\""
   ]
  },
  {
   "cell_type": "code",
   "execution_count": 45,
   "id": "31a473de",
   "metadata": {},
   "outputs": [],
   "source": [
    "# frames = [australian_king_parrot_df, australian_magpie_df, australian_raven_df, crested_pigeon_df, eastern_spinebill_df, grey_butcherbird_df, grey_fantail_df, noisy_miner_df, silvereye_df, sulphur_crested_cockatoo_df]"
   ]
  },
  {
   "cell_type": "code",
   "execution_count": 46,
   "id": "f661660a",
   "metadata": {},
   "outputs": [],
   "source": [
    "# result = pd.concat(frames)"
   ]
  },
  {
   "cell_type": "code",
   "execution_count": 47,
   "id": "c8307a6a",
   "metadata": {},
   "outputs": [],
   "source": [
    "df = pd.concat([new_holland_df, brown_headed_df, white_napped_df, australian_king_parrot_df, australian_magpie_df, australian_raven_df, \n",
    "                crested_pigeon_df, eastern_spinebill_df, grey_butcherbird_df, grey_fantail_df, noisy_miner_df, silvereye_df, \n",
    "                sulphur_crested_cockatoo_df, cat_df, dog_df])"
   ]
  },
  {
   "cell_type": "code",
   "execution_count": 48,
   "id": "66aeedc9",
   "metadata": {},
   "outputs": [
    {
     "data": {
      "text/plain": [
       "New Holland Honeyeater      59\n",
       "Australian Magpie           35\n",
       "Australian Raven            35\n",
       "Grey Butcherbird            35\n",
       "Noisy Miner                 35\n",
       "Sulphur Crested Cockatoo    35\n",
       "White Napped Honeyeater     34\n",
       "Silvereye                   34\n",
       "Grey Fantail                33\n",
       "Crested Pigeon              31\n",
       "Australian King Parrot      30\n",
       "Eastern Spinebill           30\n",
       "Cats                        29\n",
       "Dogs                        19\n",
       "Brown Headed Honeyeater     18\n",
       "Name: specie, dtype: int64"
      ]
     },
     "execution_count": 48,
     "metadata": {},
     "output_type": "execute_result"
    }
   ],
   "source": [
    "df.specie.value_counts()"
   ]
  },
  {
   "cell_type": "code",
   "execution_count": 49,
   "id": "b81cb622",
   "metadata": {},
   "outputs": [],
   "source": [
    "# len(new_holland_df), len(brown_headed_df), len(white_napped_df)"
   ]
  },
  {
   "cell_type": "code",
   "execution_count": 52,
   "id": "d9929c40",
   "metadata": {},
   "outputs": [],
   "source": [
    "df.to_csv('specie_sound.csv', index = False)"
   ]
  },
  {
   "cell_type": "markdown",
   "id": "cf996fff",
   "metadata": {},
   "source": [
    "_______________________________________________________________________________________________________________________________"
   ]
  }
 ],
 "metadata": {
  "kernelspec": {
   "display_name": "Python 3",
   "language": "python",
   "name": "python3"
  },
  "language_info": {
   "codemirror_mode": {
    "name": "ipython",
    "version": 3
   },
   "file_extension": ".py",
   "mimetype": "text/x-python",
   "name": "python",
   "nbconvert_exporter": "python",
   "pygments_lexer": "ipython3",
   "version": "3.7.4"
  }
 },
 "nbformat": 4,
 "nbformat_minor": 5
}
